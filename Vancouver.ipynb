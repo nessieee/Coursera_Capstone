{
 "cells": [
  {
   "cell_type": "markdown",
   "metadata": {},
   "source": [
    "# IBM Data Science Professional Certificate\n",
    "## Capstone Project"
   ]
  },
  {
   "cell_type": "code",
   "execution_count": 1,
   "metadata": {},
   "outputs": [
    {
     "name": "stdout",
     "output_type": "stream",
     "text": [
      "Libraries imported.\n"
     ]
    }
   ],
   "source": [
    "# importing relevant libraries\n",
    "\n",
    "import pandas as pd\n",
    "\n",
    "import requests # library to handle requests\n",
    "import numpy as np\n",
    "# Matplotlib and associated plotting modules\n",
    "import matplotlib.cm as cm\n",
    "import matplotlib.colors as colors\n",
    "\n",
    "from pandas.io.json import json_normalize # tranform JSON file into a pandas dataframe\n",
    "\n",
    "\n",
    "from geopy.geocoders import Nominatim\n",
    "from IPython.display import JSON\n",
    "\n",
    "# import k-means from clustering stage\n",
    "from sklearn.cluster import KMeans\n",
    "\n",
    "#!conda install -c conda-forge folium=0.5.0 --yes # uncomment this line if you haven't completed the Foursquare API lab\n",
    "import folium # map rendering library\n",
    "# Pretty print\n",
    "from pprint import pprint\n",
    "\n",
    "print('Libraries imported.')"
   ]
  },
  {
   "cell_type": "code",
   "execution_count": 2,
   "metadata": {},
   "outputs": [],
   "source": [
    "data = pd.read_csv('https://raw.githubusercontent.com/nessieee/Coursera_Capstone/master/VA_PostalCodes.csv', sep=\";\", header=None)"
   ]
  },
  {
   "cell_type": "code",
   "execution_count": 3,
   "metadata": {},
   "outputs": [
    {
     "data": {
      "text/html": [
       "<div>\n",
       "<style scoped>\n",
       "    .dataframe tbody tr th:only-of-type {\n",
       "        vertical-align: middle;\n",
       "    }\n",
       "\n",
       "    .dataframe tbody tr th {\n",
       "        vertical-align: top;\n",
       "    }\n",
       "\n",
       "    .dataframe thead th {\n",
       "        text-align: right;\n",
       "    }\n",
       "</style>\n",
       "<table border=\"1\" class=\"dataframe\">\n",
       "  <thead>\n",
       "    <tr style=\"text-align: right;\">\n",
       "      <th></th>\n",
       "      <th>0</th>\n",
       "      <th>1</th>\n",
       "      <th>2</th>\n",
       "      <th>3</th>\n",
       "      <th>4</th>\n",
       "      <th>5</th>\n",
       "    </tr>\n",
       "  </thead>\n",
       "  <tbody>\n",
       "    <tr>\n",
       "      <th>0</th>\n",
       "      <td>CA</td>\n",
       "      <td>V5K</td>\n",
       "      <td>Vancouver (North Hastings-Sunrise)</td>\n",
       "      <td>British Columbia</td>\n",
       "      <td>49.2807</td>\n",
       "      <td>-123.0397</td>\n",
       "    </tr>\n",
       "    <tr>\n",
       "      <th>1</th>\n",
       "      <td>CA</td>\n",
       "      <td>V5L</td>\n",
       "      <td>Vancouver (North Grandview-Woodlands)</td>\n",
       "      <td>British Columbia</td>\n",
       "      <td>49.2795</td>\n",
       "      <td>-123.0667</td>\n",
       "    </tr>\n",
       "    <tr>\n",
       "      <th>2</th>\n",
       "      <td>CA</td>\n",
       "      <td>V5M</td>\n",
       "      <td>Vancouver (South Hastings-Sunrise / North Renf...</td>\n",
       "      <td>British Columbia</td>\n",
       "      <td>49.2600</td>\n",
       "      <td>-123.0398</td>\n",
       "    </tr>\n",
       "    <tr>\n",
       "      <th>3</th>\n",
       "      <td>CA</td>\n",
       "      <td>V5N</td>\n",
       "      <td>Vancouver (South Grandview-Woodlands / NE Kens...</td>\n",
       "      <td>British Columbia</td>\n",
       "      <td>49.2551</td>\n",
       "      <td>-123.0667</td>\n",
       "    </tr>\n",
       "    <tr>\n",
       "      <th>4</th>\n",
       "      <td>CA</td>\n",
       "      <td>V5P</td>\n",
       "      <td>Vancouver (SE Kensington / Victoria-Fraserview)</td>\n",
       "      <td>British Columbia</td>\n",
       "      <td>49.2220</td>\n",
       "      <td>-123.0683</td>\n",
       "    </tr>\n",
       "  </tbody>\n",
       "</table>\n",
       "</div>"
      ],
      "text/plain": [
       "    0    1                                                  2  \\\n",
       "0  CA  V5K                 Vancouver (North Hastings-Sunrise)   \n",
       "1  CA  V5L              Vancouver (North Grandview-Woodlands)   \n",
       "2  CA  V5M  Vancouver (South Hastings-Sunrise / North Renf...   \n",
       "3  CA  V5N  Vancouver (South Grandview-Woodlands / NE Kens...   \n",
       "4  CA  V5P    Vancouver (SE Kensington / Victoria-Fraserview)   \n",
       "\n",
       "                  3        4         5  \n",
       "0  British Columbia  49.2807 -123.0397  \n",
       "1  British Columbia  49.2795 -123.0667  \n",
       "2  British Columbia  49.2600 -123.0398  \n",
       "3  British Columbia  49.2551 -123.0667  \n",
       "4  British Columbia  49.2220 -123.0683  "
      ]
     },
     "execution_count": 3,
     "metadata": {},
     "output_type": "execute_result"
    }
   ],
   "source": [
    "data.head()"
   ]
  },
  {
   "cell_type": "code",
   "execution_count": 4,
   "metadata": {},
   "outputs": [
    {
     "data": {
      "text/plain": [
       "0     object\n",
       "1     object\n",
       "2     object\n",
       "3     object\n",
       "4    float64\n",
       "5    float64\n",
       "dtype: object"
      ]
     },
     "execution_count": 4,
     "metadata": {},
     "output_type": "execute_result"
    }
   ],
   "source": [
    "data.dtypes"
   ]
  },
  {
   "cell_type": "code",
   "execution_count": 5,
   "metadata": {},
   "outputs": [
    {
     "data": {
      "text/html": [
       "<div>\n",
       "<style scoped>\n",
       "    .dataframe tbody tr th:only-of-type {\n",
       "        vertical-align: middle;\n",
       "    }\n",
       "\n",
       "    .dataframe tbody tr th {\n",
       "        vertical-align: top;\n",
       "    }\n",
       "\n",
       "    .dataframe thead th {\n",
       "        text-align: right;\n",
       "    }\n",
       "</style>\n",
       "<table border=\"1\" class=\"dataframe\">\n",
       "  <thead>\n",
       "    <tr style=\"text-align: right;\">\n",
       "      <th></th>\n",
       "      <th>CountryCode</th>\n",
       "      <th>FSA</th>\n",
       "      <th>Neighbourhoods</th>\n",
       "      <th>Province</th>\n",
       "      <th>Latitude</th>\n",
       "      <th>Longitude</th>\n",
       "    </tr>\n",
       "  </thead>\n",
       "  <tbody>\n",
       "    <tr>\n",
       "      <th>0</th>\n",
       "      <td>CA</td>\n",
       "      <td>V5K</td>\n",
       "      <td>Vancouver (North Hastings-Sunrise)</td>\n",
       "      <td>British Columbia</td>\n",
       "      <td>49.2807</td>\n",
       "      <td>-123.0397</td>\n",
       "    </tr>\n",
       "    <tr>\n",
       "      <th>1</th>\n",
       "      <td>CA</td>\n",
       "      <td>V5L</td>\n",
       "      <td>Vancouver (North Grandview-Woodlands)</td>\n",
       "      <td>British Columbia</td>\n",
       "      <td>49.2795</td>\n",
       "      <td>-123.0667</td>\n",
       "    </tr>\n",
       "    <tr>\n",
       "      <th>2</th>\n",
       "      <td>CA</td>\n",
       "      <td>V5M</td>\n",
       "      <td>Vancouver (South Hastings-Sunrise / North Renf...</td>\n",
       "      <td>British Columbia</td>\n",
       "      <td>49.2600</td>\n",
       "      <td>-123.0398</td>\n",
       "    </tr>\n",
       "    <tr>\n",
       "      <th>3</th>\n",
       "      <td>CA</td>\n",
       "      <td>V5N</td>\n",
       "      <td>Vancouver (South Grandview-Woodlands / NE Kens...</td>\n",
       "      <td>British Columbia</td>\n",
       "      <td>49.2551</td>\n",
       "      <td>-123.0667</td>\n",
       "    </tr>\n",
       "    <tr>\n",
       "      <th>4</th>\n",
       "      <td>CA</td>\n",
       "      <td>V5P</td>\n",
       "      <td>Vancouver (SE Kensington / Victoria-Fraserview)</td>\n",
       "      <td>British Columbia</td>\n",
       "      <td>49.2220</td>\n",
       "      <td>-123.0683</td>\n",
       "    </tr>\n",
       "  </tbody>\n",
       "</table>\n",
       "</div>"
      ],
      "text/plain": [
       "  CountryCode  FSA                                     Neighbourhoods  \\\n",
       "0          CA  V5K                 Vancouver (North Hastings-Sunrise)   \n",
       "1          CA  V5L              Vancouver (North Grandview-Woodlands)   \n",
       "2          CA  V5M  Vancouver (South Hastings-Sunrise / North Renf...   \n",
       "3          CA  V5N  Vancouver (South Grandview-Woodlands / NE Kens...   \n",
       "4          CA  V5P    Vancouver (SE Kensington / Victoria-Fraserview)   \n",
       "\n",
       "           Province  Latitude  Longitude  \n",
       "0  British Columbia   49.2807  -123.0397  \n",
       "1  British Columbia   49.2795  -123.0667  \n",
       "2  British Columbia   49.2600  -123.0398  \n",
       "3  British Columbia   49.2551  -123.0667  \n",
       "4  British Columbia   49.2220  -123.0683  "
      ]
     },
     "execution_count": 5,
     "metadata": {},
     "output_type": "execute_result"
    }
   ],
   "source": [
    "data.columns= [\"CountryCode\", \"FSA\", \"Neighbourhoods\", \"Province\", \"Latitude\",\"Longitude\"]\n",
    "data.head()"
   ]
  },
  {
   "cell_type": "code",
   "execution_count": 6,
   "metadata": {},
   "outputs": [
    {
     "data": {
      "text/plain": [
       "(44, 6)"
      ]
     },
     "execution_count": 6,
     "metadata": {},
     "output_type": "execute_result"
    }
   ],
   "source": [
    "data.shape"
   ]
  },
  {
   "cell_type": "code",
   "execution_count": 7,
   "metadata": {},
   "outputs": [
    {
     "name": "stdout",
     "output_type": "stream",
     "text": [
      "The geograpical coordinate of Vancouver are 49.2608724, -123.1139529.\n"
     ]
    }
   ],
   "source": [
    "address = 'Vancouver, British Colombia'\n",
    "\n",
    "geolocator = Nominatim(user_agent=\"vancouver_explorer\")\n",
    "location = geolocator.geocode(address)\n",
    "latitude = location.latitude\n",
    "longitude = location.longitude\n",
    "print('The geograpical coordinate of Vancouver are {}, {}.'.format(latitude, longitude))"
   ]
  },
  {
   "cell_type": "code",
   "execution_count": 8,
   "metadata": {},
   "outputs": [
    {
     "data": {
      "text/html": [
       "<div style=\"width:100%;\"><div style=\"position:relative;width:100%;height:0;padding-bottom:60%;\"><span style=\"color:#565656\">Make this Notebook Trusted to load map: File -> Trust Notebook</span><iframe src=\"about:blank\" style=\"position:absolute;width:100%;height:100%;left:0;top:0;border:none !important;\" data-html=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 onload=\"this.contentDocument.open();this.contentDocument.write(atob(this.getAttribute('data-html')));this.contentDocument.close();\" allowfullscreen webkitallowfullscreen mozallowfullscreen></iframe></div></div>"
      ],
      "text/plain": [
       "<folium.folium.Map at 0x21f430e6470>"
      ]
     },
     "execution_count": 8,
     "metadata": {},
     "output_type": "execute_result"
    }
   ],
   "source": [
    "# create map of hyderabad using latitude and longitude values\n",
    "map_vanc = folium.Map(location=[latitude, longitude], zoom_start=11)\n",
    "\n",
    "# add markers to map\n",
    "for lat, lng, neighbourhood in zip(data['Latitude'], data['Longitude'], data['Neighbourhoods']):\n",
    "    label = '{}'.format(neighbourhood)\n",
    "    label = folium.Popup(label, parse_html=True)\n",
    "    folium.CircleMarker(\n",
    "        [lat, lng],\n",
    "        radius=5,\n",
    "        popup=label,\n",
    "        color='blue',\n",
    "        fill=True,\n",
    "        fill_color='#3186cc',\n",
    "        fill_opacity=0.7).add_to(map_vanc)  \n",
    "    \n",
    "map_vanc"
   ]
  },
  {
   "cell_type": "code",
   "execution_count": 9,
   "metadata": {},
   "outputs": [
    {
     "name": "stdout",
     "output_type": "stream",
     "text": [
      "Your credentails:\n",
      "CLIENT_ID: IZFNLD5OADUQ0VKMNCGDB4PAKRTAKFIZTTXIN2Y2R534Q4SA\n",
      "CLIENT_SECRET:KNFWLYA5SQAHVSRBOKMXJ4B4HEGJTOPO4ACGN3NEI30VRH4E\n"
     ]
    }
   ],
   "source": [
    "CLIENT_ID = 'IZFNLD5OADUQ0VKMNCGDB4PAKRTAKFIZTTXIN2Y2R534Q4SA' # your Foursquare ID\n",
    "CLIENT_SECRET = 'KNFWLYA5SQAHVSRBOKMXJ4B4HEGJTOPO4ACGN3NEI30VRH4E' # your Foursquare Secret\n",
    "VERSION = '20180605' # Foursquare API version\n",
    "\n",
    "print('Your credentails:')\n",
    "print('CLIENT_ID: ' + CLIENT_ID)\n",
    "print('CLIENT_SECRET:' + CLIENT_SECRET)"
   ]
  },
  {
   "cell_type": "code",
   "execution_count": 10,
   "metadata": {},
   "outputs": [],
   "source": [
    "latitude = data['Latitude'][14]\n",
    "longitude = data['Longitude'][14]\n",
    "radius = 1500\n",
    "LIMIT = 100"
   ]
  },
  {
   "cell_type": "code",
   "execution_count": 11,
   "metadata": {},
   "outputs": [
    {
     "name": "stdout",
     "output_type": "stream",
     "text": [
      "There are 100 recommended venues.\n"
     ]
    },
    {
     "data": {
      "application/json": {
       "meta": {
        "code": 200,
        "requestId": "5f1eb4e45b9a415352a1184e"
       },
       "response": {
        "groups": [
         {
          "items": [
           {
            "reasons": {
             "count": 0,
             "items": [
              {
               "reasonName": "globalInteractionReason",
               "summary": "This spot is popular",
               "type": "general"
              }
             ]
            },
            "referralId": "e-0-4b23212bf964a520a75324e3-0",
            "venue": {
             "categories": [
              {
               "icon": {
                "prefix": "https://ss3.4sqi.net/img/categories_v2/arts_entertainment/performingarts_theater_",
                "suffix": ".png"
               },
               "id": "4bf58dd8d48988d137941735",
               "name": "Theater",
               "pluralName": "Theaters",
               "primary": true,
               "shortName": "Theater"
              }
             ],
             "id": "4b23212bf964a520a75324e3",
             "location": {
              "address": "649 Cambie St",
              "cc": "CA",
              "city": "Vancouver",
              "country": "Canada",
              "crossStreet": "at W Georgia St",
              "distance": 180,
              "formattedAddress": [
               "649 Cambie St (at W Georgia St)",
               "Vancouver BC V6B 2P1",
               "Canada"
              ],
              "labeledLatLngs": [
               {
                "label": "display",
                "lat": 49.280228950296475,
                "lng": -123.11273011968323
               }
              ],
              "lat": 49.280228950296475,
              "lng": -123.11273011968323,
              "postalCode": "V6B 2P1",
              "state": "BC"
             },
             "name": "Queen Elizabeth Theatre",
             "photos": {
              "count": 0,
              "groups": []
             }
            }
           },
           {
            "reasons": {
             "count": 0,
             "items": [
              {
               "reasonName": "globalInteractionReason",
               "summary": "This spot is popular",
               "type": "general"
              }
             ]
            },
            "referralId": "e-0-4aa6f277f964a520964b20e3-1",
            "venue": {
             "categories": [
              {
               "icon": {
                "prefix": "https://ss3.4sqi.net/img/categories_v2/arts_entertainment/stadium_",
                "suffix": ".png"
               },
               "id": "4bf58dd8d48988d184941735",
               "name": "Stadium",
               "pluralName": "Stadiums",
               "primary": true,
               "shortName": "Stadium"
              }
             ],
             "id": "4aa6f277f964a520964b20e3",
             "location": {
              "address": "777 Pacific Blvd.",
              "cc": "CA",
              "city": "Vancouver",
              "country": "Canada",
              "crossStreet": "at Expo Blvd.",
              "distance": 243,
              "formattedAddress": [
               "777 Pacific Blvd. (at Expo Blvd.)",
               "Vancouver BC V6B 4Y8",
               "Canada"
              ],
              "lat": 49.27688607587165,
              "lng": -123.11227637637286,
              "postalCode": "V6B 4Y8",
              "state": "BC"
             },
             "name": "BC Place",
             "photos": {
              "count": 0,
              "groups": []
             },
             "venuePage": {
              "id": "33267581"
             }
            }
           },
           {
            "reasons": {
             "count": 0,
             "items": [
              {
               "reasonName": "globalInteractionReason",
               "summary": "This spot is popular",
               "type": "general"
              }
             ]
            },
            "referralId": "e-0-4b7235fef964a52010742de3-2",
            "venue": {
             "categories": [
              {
               "icon": {
                "prefix": "https://ss3.4sqi.net/img/categories_v2/travel/hotel_",
                "suffix": ".png"
               },
               "id": "4bf58dd8d48988d1fa931735",
               "name": "Hotel",
               "pluralName": "Hotels",
               "primary": true,
               "shortName": "Hotel"
              }
             ],
             "id": "4b7235fef964a52010742de3",
             "location": {
              "address": "788 Richard St",
              "cc": "CA",
              "city": "Vancouver",
              "country": "Canada",
              "distance": 299,
              "formattedAddress": [
               "788 Richard St",
               "Vancouver BC V6B 3A4",
               "Canada"
              ],
              "labeledLatLngs": [
               {
                "label": "display",
                "lat": 49.2801392339119,
                "lng": -123.11748032945334
               }
              ],
              "lat": 49.2801392339119,
              "lng": -123.11748032945334,
              "postalCode": "V6B 3A4",
              "state": "BC"
             },
             "name": "L'Hermitage",
             "photos": {
              "count": 0,
              "groups": []
             }
            }
           },
           {
            "reasons": {
             "count": 0,
             "items": [
              {
               "reasonName": "globalInteractionReason",
               "summary": "This spot is popular",
               "type": "general"
              }
             ]
            },
            "referralId": "e-0-4b75918bf964a520d4142ee3-3",
            "venue": {
             "categories": [
              {
               "icon": {
                "prefix": "https://ss3.4sqi.net/img/categories_v2/food/coffeeshop_",
                "suffix": ".png"
               },
               "id": "4bf58dd8d48988d1e0931735",
               "name": "Coffee Shop",
               "pluralName": "Coffee Shops",
               "primary": true,
               "shortName": "Coffee Shop"
              }
             ],
             "id": "4b75918bf964a520d4142ee3",
             "location": {
              "address": "740 Hamilton St.",
              "cc": "CA",
              "city": "Vancouver",
              "country": "Canada",
              "crossStreet": "btwn Robson & Georgia",
              "distance": 113,
              "formattedAddress": [
               "740 Hamilton St. (btwn Robson & Georgia)",
               "Vancouver BC V6B 2R5",
               "Canada"
              ],
              "labeledLatLngs": [
               {
                "label": "display",
                "lat": 49.27938179808702,
                "lng": -123.11518086597503
               }
              ],
              "lat": 49.27938179808702,
              "lng": -123.11518086597503,
              "postalCode": "V6B 2R5",
              "state": "BC"
             },
             "name": "JJ Bean",
             "photos": {
              "count": 0,
              "groups": []
             }
            }
           },
           {
            "reasons": {
             "count": 0,
             "items": [
              {
               "reasonName": "globalInteractionReason",
               "summary": "This spot is popular",
               "type": "general"
              }
             ]
            },
            "referralId": "e-0-4aa7dce2f964a520ad4d20e3-4",
            "venue": {
             "categories": [
              {
               "icon": {
                "prefix": "https://ss3.4sqi.net/img/categories_v2/food/breakfast_",
                "suffix": ".png"
               },
               "id": "4bf58dd8d48988d143941735",
               "name": "Breakfast Spot",
               "pluralName": "Breakfast Spots",
               "primary": true,
               "shortName": "Breakfast"
              }
             ],
             "id": "4aa7dce2f964a520ad4d20e3",
             "location": {
              "address": "780 Richards St",
              "cc": "CA",
              "city": "Vancouver",
              "country": "Canada",
              "crossStreet": "btwn W Georgia & Robson",
              "distance": 291,
              "formattedAddress": [
               "780 Richards St (btwn W Georgia & Robson)",
               "Vancouver BC V6B 2L3",
               "Canada"
              ],
              "labeledLatLngs": [
               {
                "label": "display",
                "lat": 49.28056540642322,
                "lng": -123.11685919761656
               }
              ],
              "lat": 49.28056540642322,
              "lng": -123.11685919761656,
              "postalCode": "V6B 2L3",
              "state": "BC"
             },
             "name": "Medina Café",
             "photos": {
              "count": 0,
              "groups": []
             },
             "venuePage": {
              "id": "88939542"
             }
            }
           },
           {
            "reasons": {
             "count": 0,
             "items": [
              {
               "reasonName": "globalInteractionReason",
               "summary": "This spot is popular",
               "type": "general"
              }
             ]
            },
            "referralId": "e-0-4aa8005bf964a520a24e20e3-5",
            "venue": {
             "categories": [
              {
               "icon": {
                "prefix": "https://ss3.4sqi.net/img/categories_v2/food/default_",
                "suffix": ".png"
               },
               "id": "52e81612bcbc57f1066b7a02",
               "name": "Belgian Restaurant",
               "pluralName": "Belgian Restaurants",
               "primary": true,
               "shortName": "Belgian"
              }
             ],
             "id": "4aa8005bf964a520a24e20e3",
             "location": {
              "address": "568 Beatty St",
              "cc": "CA",
              "city": "Vancouver",
              "country": "Canada",
              "crossStreet": "btwn W Pender & Dunsmuir",
              "distance": 304,
              "formattedAddress": [
               "568 Beatty St (btwn W Pender & Dunsmuir)",
               "Vancouver BC V6B 2L3",
               "Canada"
              ],
              "labeledLatLngs": [
               {
                "label": "display",
                "lat": 49.279925416078164,
                "lng": -123.1100781115385
               }
              ],
              "lat": 49.279925416078164,
              "lng": -123.1100781115385,
              "postalCode": "V6B 2L3",
              "state": "BC"
             },
             "name": "Chambar",
             "photos": {
              "count": 0,
              "groups": []
             },
             "venuePage": {
              "id": "49016298"
             }
            }
           },
           {
            "reasons": {
             "count": 0,
             "items": [
              {
               "reasonName": "globalInteractionReason",
               "summary": "This spot is popular",
               "type": "general"
              }
             ]
            },
            "referralId": "e-0-5790281f498e75e0454bf0a9-6",
            "venue": {
             "categories": [
              {
               "icon": {
                "prefix": "https://ss3.4sqi.net/img/categories_v2/food/seafood_",
                "suffix": ".png"
               },
               "id": "4bf58dd8d48988d1ce941735",
               "name": "Seafood Restaurant",
               "pluralName": "Seafood Restaurants",
               "primary": true,
               "shortName": "Seafood"
              }
             ],
             "id": "5790281f498e75e0454bf0a9",
             "location": {
              "address": "762 Cambie St",
              "cc": "CA",
              "city": "Vancouver",
              "country": "Canada",
              "distance": 43,
              "formattedAddress": [
               "762 Cambie St",
               "Vancouver BC V6B 2P2",
               "Canada"
              ],
              "labeledLatLngs": [
               {
                "label": "display",
                "lat": 49.27860106769942,
                "lng": -123.1144109990253
               }
              ],
              "lat": 49.27860106769942,
              "lng": -123.1144109990253,
              "postalCode": "V6B 2P2",
              "state": "BC"
             },
             "name": "Fanny Bay Oyster Bar",
             "photos": {
              "count": 0,
              "groups": []
             }
            }
           },
           {
            "reasons": {
             "count": 0,
             "items": [
              {
               "reasonName": "globalInteractionReason",
               "summary": "This spot is popular",
               "type": "general"
              }
             ]
            },
            "referralId": "e-0-51a7a349454a2b1f0e2449f8-7",
            "venue": {
             "categories": [
              {
               "icon": {
                "prefix": "https://ss3.4sqi.net/img/categories_v2/food/default_",
                "suffix": ".png"
               },
               "id": "4bf58dd8d48988d1c4941735",
               "name": "Restaurant",
               "pluralName": "Restaurants",
               "primary": true,
               "shortName": "Restaurant"
              }
             ],
             "id": "51a7a349454a2b1f0e2449f8",
             "location": {
              "address": "898 Homer St.",
              "cc": "CA",
              "city": "Vancouver",
              "country": "Canada",
              "crossStreet": "at Smithe St.",
              "distance": 326,
              "formattedAddress": [
               "898 Homer St. (at Smithe St.)",
               "Vancouver BC V6B 2W5",
               "Canada"
              ],
              "labeledLatLngs": [
               {
                "label": "display",
                "lat": 49.278591060474405,
                "lng": -123.11838476992322
               }
              ],
              "lat": 49.278591060474405,
              "lng": -123.11838476992322,
              "postalCode": "V6B 2W5",
              "state": "BC"
             },
             "name": "Homer St. Cafe and Bar",
             "photos": {
              "count": 0,
              "groups": []
             }
            }
           },
           {
            "reasons": {
             "count": 0,
             "items": [
              {
               "reasonName": "globalInteractionReason",
               "summary": "This spot is popular",
               "type": "general"
              }
             ]
            },
            "referralId": "e-0-4ac00474f964a520779320e3-8",
            "venue": {
             "categories": [
              {
               "icon": {
                "prefix": "https://ss3.4sqi.net/img/categories_v2/education/tradeschool_",
                "suffix": ".png"
               },
               "id": "4bf58dd8d48988d1ad941735",
               "name": "Trade School",
               "pluralName": "Trade Schools",
               "primary": true,
               "shortName": "Trade School"
              }
             ],
             "id": "4ac00474f964a520779320e3",
             "location": {
              "address": "540 Beatty St",
              "cc": "CA",
              "city": "Vancouver",
              "country": "Canada",
              "crossStreet": "btwn Dunsmuir & Pender",
              "distance": 389,
              "formattedAddress": [
               "540 Beatty St (btwn Dunsmuir & Pender)",
               "Vancouver BC V6B 2L3",
               "Canada"
              ],
              "labeledLatLngs": [
               {
                "label": "display",
                "lat": 49.28069252156226,
                "lng": -123.1093934542754
               }
              ],
              "lat": 49.28069252156226,
              "lng": -123.1093934542754,
              "postalCode": "V6B 2L3",
              "state": "BC"
             },
             "name": "The Dirty Apron Cooking School",
             "photos": {
              "count": 0,
              "groups": []
             }
            }
           },
           {
            "reasons": {
             "count": 0,
             "items": [
              {
               "reasonName": "globalInteractionReason",
               "summary": "This spot is popular",
               "type": "general"
              }
             ]
            },
            "referralId": "e-0-4aa6f23df964a520954b20e3-9",
            "venue": {
             "categories": [
              {
               "icon": {
                "prefix": "https://ss3.4sqi.net/img/categories_v2/arts_entertainment/stadium_hockey_",
                "suffix": ".png"
               },
               "id": "4bf58dd8d48988d185941735",
               "name": "Hockey Arena",
               "pluralName": "Hockey Arenas",
               "primary": true,
               "shortName": "Hockey"
              }
             ],
             "id": "4aa6f23df964a520954b20e3",
             "location": {
              "address": "800 Griffiths Way",
              "cc": "CA",
              "city": "Vancouver",
              "country": "Canada",
              "crossStreet": "at Abbott St",
              "distance": 388,
              "formattedAddress": [
               "800 Griffiths Way (at Abbott St)",
               "Vancouver BC V6B 6G1",
               "Canada"
              ],
              "labeledLatLngs": [
               {
                "label": "display",
                "lat": 49.277922968833245,
                "lng": -123.10872265722732
               }
              ],
              "lat": 49.277922968833245,
              "lng": -123.10872265722732,
              "postalCode": "V6B 6G1",
              "state": "BC"
             },
             "name": "Rogers Arena",
             "photos": {
              "count": 0,
              "groups": []
             },
             "venuePage": {
              "id": "39506302"
             }
            }
           },
           {
            "reasons": {
             "count": 0,
             "items": [
              {
               "reasonName": "globalInteractionReason",
               "summary": "This spot is popular",
               "type": "general"
              }
             ]
            },
            "referralId": "e-0-4b6d04bcf964a52041632ce3-10",
            "venue": {
             "categories": [
              {
               "icon": {
                "prefix": "https://ss3.4sqi.net/img/categories_v2/food/italian_",
                "suffix": ".png"
               },
               "id": "4bf58dd8d48988d110941735",
               "name": "Italian Restaurant",
               "pluralName": "Italian Restaurants",
               "primary": true,
               "shortName": "Italian"
              }
             ],
             "id": "4b6d04bcf964a52041632ce3",
             "location": {
              "address": "869 Hamilton St",
              "cc": "CA",
              "city": "Vancouver",
              "country": "Canada",
              "crossStreet": "btwn Smithe & Robson",
              "distance": 266,
              "formattedAddress": [
               "869 Hamilton St (btwn Smithe & Robson)",
               "Vancouver BC V6B 2R7",
               "Canada"
              ],
              "labeledLatLngs": [
               {
                "label": "display",
                "lat": 49.27810818125747,
                "lng": -123.11741981940112
               }
              ],
              "lat": 49.27810818125747,
              "lng": -123.11741981940112,
              "postalCode": "V6B 2R7",
              "state": "BC"
             },
             "name": "Lupo",
             "photos": {
              "count": 0,
              "groups": []
             }
            }
           },
           {
            "reasons": {
             "count": 0,
             "items": [
              {
               "reasonName": "globalInteractionReason",
               "summary": "This spot is popular",
               "type": "general"
              }
             ]
            },
            "referralId": "e-0-4aa7f22bf964a520214e20e3-11",
            "venue": {
             "categories": [
              {
               "icon": {
                "prefix": "https://ss3.4sqi.net/img/categories_v2/food/steakhouse_",
                "suffix": ".png"
               },
               "id": "4bf58dd8d48988d1cc941735",
               "name": "Steakhouse",
               "pluralName": "Steakhouses",
               "primary": true,
               "shortName": "Steakhouse"
              }
             ],
             "id": "4aa7f22bf964a520214e20e3",
             "location": {
              "address": "615 Seymour St.",
              "cc": "CA",
              "city": "Vancouver",
              "country": "Canada",
              "crossStreet": "btwn Dunsmuir & W Georgia",
              "distance": 470,
              "formattedAddress": [
               "615 Seymour St. (btwn Dunsmuir & W Georgia)",
               "Vancouver BC V6B 3K3",
               "Canada"
              ],
              "labeledLatLngs": [
               {
                "label": "display",
                "lat": 49.28283023000359,
                "lng": -123.11586538996016
               }
              ],
              "lat": 49.28283023000359,
              "lng": -123.11586538996016,
              "postalCode": "V6B 3K3",
              "state": "BC"
             },
             "name": "Gotham Steakhouse & Cocktail Bar",
             "photos": {
              "count": 0,
              "groups": []
             }
            }
           },
           {
            "reasons": {
             "count": 0,
             "items": [
              {
               "reasonName": "globalInteractionReason",
               "summary": "This spot is popular",
               "type": "general"
              }
             ]
            },
            "referralId": "e-0-571f842a498e10fa3180d4cd-12",
            "venue": {
             "categories": [
              {
               "icon": {
                "prefix": "https://ss3.4sqi.net/img/categories_v2/food/breakfast_",
                "suffix": ".png"
               },
               "id": "4bf58dd8d48988d143941735",
               "name": "Breakfast Spot",
               "pluralName": "Breakfast Spots",
               "primary": true,
               "shortName": "Breakfast"
              }
             ],
             "id": "571f842a498e10fa3180d4cd",
             "location": {
              "address": "556 Beatty St.",
              "cc": "CA",
              "city": "Vancouver",
              "country": "Canada",
              "distance": 344,
              "formattedAddress": [
               "556 Beatty St.",
               "Vancouver BC",
               "Canada"
              ],
              "labeledLatLngs": [
               {
                "label": "display",
                "lat": 49.280398288146756,
                "lng": -123.10983626871001
               }
              ],
              "lat": 49.280398288146756,
              "lng": -123.10983626871001,
              "state": "BC"
             },
             "name": "Jam Cafe",
             "photos": {
              "count": 0,
              "groups": []
             }
            }
           },
           {
            "reasons": {
             "count": 0,
             "items": [
              {
               "reasonName": "globalInteractionReason",
               "summary": "This spot is popular",
               "type": "general"
              }
             ]
            },
            "referralId": "e-0-56e71692498e78e8143f679d-13",
            "venue": {
             "categories": [
              {
               "icon": {
                "prefix": "https://ss3.4sqi.net/img/categories_v2/food/taco_",
                "suffix": ".png"
               },
               "id": "4bf58dd8d48988d151941735",
               "name": "Taco Place",
               "pluralName": "Taco Places",
               "primary": true,
               "shortName": "Tacos"
              }
             ],
             "id": "56e71692498e78e8143f679d",
             "location": {
              "address": "1025 Mainland St",
              "cc": "CA",
              "city": "Vancouver",
              "country": "Canada",
              "crossStreet": "Nelson",
              "distance": 477,
              "formattedAddress": [
               "1025 Mainland St (Nelson)",
               "Vancouver BC",
               "Canada"
              ],
              "labeledLatLngs": [
               {
                "label": "display",
                "lat": 49.276433,
                "lng": -123.119389
               }
              ],
              "lat": 49.276433,
              "lng": -123.119389,
              "state": "BC"
             },
             "name": "Tacofino",
             "photos": {
              "count": 0,
              "groups": []
             }
            }
           },
           {
            "reasons": {
             "count": 0,
             "items": [
              {
               "reasonName": "globalInteractionReason",
               "summary": "This spot is popular",
               "type": "general"
              }
             ]
            },
            "referralId": "e-0-4cc72e8b01fb236a8d70bbba-14",
            "venue": {
             "categories": [
              {
               "icon": {
                "prefix": "https://ss3.4sqi.net/img/categories_v2/food/deli_",
                "suffix": ".png"
               },
               "id": "4bf58dd8d48988d1c5941735",
               "name": "Sandwich Place",
               "pluralName": "Sandwich Places",
               "primary": true,
               "shortName": "Sandwiches"
              }
             ],
             "id": "4cc72e8b01fb236a8d70bbba",
             "location": {
              "address": "370 Cambie St",
              "cc": "CA",
              "city": "Vancouver",
              "country": "Canada",
              "crossStreet": "btwn Cordova & Hastings",
              "distance": 534,
              "formattedAddress": [
               "370 Cambie St (btwn Cordova & Hastings)",
               "Vancouver BC V6B 2N3",
               "Canada"
              ],
              "labeledLatLngs": [
               {
                "label": "display",
                "lat": 49.2826459299748,
                "lng": -123.10949864447797
               }
              ],
              "lat": 49.2826459299748,
              "lng": -123.10949864447797,
              "postalCode": "V6B 2N3",
              "state": "BC"
             },
             "name": "Meat & Bread",
             "photos": {
              "count": 0,
              "groups": []
             }
            }
           },
           {
            "reasons": {
             "count": 0,
             "items": [
              {
               "reasonName": "globalInteractionReason",
               "summary": "This spot is popular",
               "type": "general"
              }
             ]
            },
            "referralId": "e-0-4ac17919f964a520479720e3-15",
            "venue": {
             "categories": [
              {
               "icon": {
                "prefix": "https://ss3.4sqi.net/img/categories_v2/arts_entertainment/musicvenue_",
                "suffix": ".png"
               },
               "id": "5032792091d4c4b30a586d5c",
               "name": "Concert Hall",
               "pluralName": "Concert Halls",
               "primary": true,
               "shortName": "Concert Hall"
              }
             ],
             "id": "4ac17919f964a520479720e3",
             "location": {
              "address": "884 Granville St",
              "cc": "CA",
              "city": "Vancouver",
              "country": "Canada",
              "crossStreet": "btwn Smithe & Robson",
              "distance": 478,
              "formattedAddress": [
               "884 Granville St (btwn Smithe & Robson)",
               "Vancouver BC",
               "Canada"
              ],
              "labeledLatLngs": [
               {
                "label": "display",
                "lat": 49.28010297415788,
                "lng": -123.12018430593969
               }
              ],
              "lat": 49.28010297415788,
              "lng": -123.12018430593969,
              "state": "BC"
             },
             "name": "Orpheum Theatre",
             "photos": {
              "count": 0,
              "groups": []
             }
            }
           },
           {
            "reasons": {
             "count": 0,
             "items": [
              {
               "reasonName": "globalInteractionReason",
               "summary": "This spot is popular",
               "type": "general"
              }
             ]
            },
            "referralId": "e-0-4aa73d64f964a520734c20e3-16",
            "venue": {
             "categories": [
              {
               "icon": {
                "prefix": "https://ss3.4sqi.net/img/categories_v2/food/deli_",
                "suffix": ".png"
               },
               "id": "4bf58dd8d48988d1c5941735",
               "name": "Sandwich Place",
               "pluralName": "Sandwich Places",
               "primary": true,
               "shortName": "Sandwiches"
              }
             ],
             "id": "4aa73d64f964a520734c20e3",
             "location": {
              "address": "353 W Pender St",
              "cc": "CA",
              "city": "Vancouver",
              "country": "Canada",
              "crossStreet": "at Homer St",
              "distance": 459,
              "formattedAddress": [
               "353 W Pender St (at Homer St)",
               "Vancouver BC V6B 1T3",
               "Canada"
              ],
              "labeledLatLngs": [
               {
                "label": "display",
                "lat": 49.28272404338896,
                "lng": -123.11194051344484
               }
              ],
              "lat": 49.28272404338896,
              "lng": -123.11194051344484,
              "postalCode": "V6B 1T3",
              "state": "BC"
             },
             "name": "Finch’s Tea & Coffee House",
             "photos": {
              "count": 0,
              "groups": []
             }
            }
           },
           {
            "reasons": {
             "count": 0,
             "items": [
              {
               "reasonName": "globalInteractionReason",
               "summary": "This spot is popular",
               "type": "general"
              }
             ]
            },
            "referralId": "e-0-4ab67ab9f964a520507720e3-17",
            "venue": {
             "categories": [
              {
               "icon": {
                "prefix": "https://ss3.4sqi.net/img/categories_v2/shops/spa_",
                "suffix": ".png"
               },
               "id": "4bf58dd8d48988d1ed941735",
               "name": "Spa",
               "pluralName": "Spas",
               "primary": true,
               "shortName": "Spa"
              }
             ],
             "id": "4ab67ab9f964a520507720e3",
             "location": {
              "address": "1007 Hamilton St",
              "cc": "CA",
              "city": "Vancouver",
              "country": "Canada",
              "crossStreet": "at Nelson St",
              "distance": 487,
              "formattedAddress": [
               "1007 Hamilton St (at Nelson St)",
               "Vancouver BC V6B 5T4",
               "Canada"
              ],
              "labeledLatLngs": [
               {
                "label": "display",
                "lat": 49.27687025872982,
                "lng": -123.1199196210468
               }
              ],
              "lat": 49.27687025872982,
              "lng": -123.1199196210468,
              "postalCode": "V6B 5T4",
              "state": "BC"
             },
             "name": "Skoah",
             "photos": {
              "count": 0,
              "groups": []
             },
             "venuePage": {
              "id": "587627793"
             }
            }
           },
           {
            "reasons": {
             "count": 0,
             "items": [
              {
               "reasonName": "globalInteractionReason",
               "summary": "This spot is popular",
               "type": "general"
              }
             ]
            },
            "referralId": "e-0-54356181498e90773594c52f-18",
            "venue": {
             "categories": [
              {
               "icon": {
                "prefix": "https://ss3.4sqi.net/img/categories_v2/food/bakery_",
                "suffix": ".png"
               },
               "id": "4bf58dd8d48988d16a941735",
               "name": "Bakery",
               "pluralName": "Bakeries",
               "primary": true,
               "shortName": "Bakery"
              }
             ],
             "id": "54356181498e90773594c52f",
             "location": {
              "address": "159 W. Hastings DT",
              "cc": "CA",
              "city": "Vancouver",
              "country": "Canada",
              "crossStreet": "btwn Cambie & Abbott",
              "distance": 528,
              "formattedAddress": [
               "159 W. Hastings DT (btwn Cambie & Abbott)",
               "Vancouver BC",
               "Canada"
              ],
              "labeledLatLngs": [
               {
                "label": "display",
                "lat": 49.282422416796415,
                "lng": -123.10920307592875
               }
              ],
              "lat": 49.282422416796415,
              "lng": -123.10920307592875,
              "state": "BC"
             },
             "name": "PureBread",
             "photos": {
              "count": 0,
              "groups": []
             }
            }
           },
           {
            "reasons": {
             "count": 0,
             "items": [
              {
               "reasonName": "globalInteractionReason",
               "summary": "This spot is popular",
               "type": "general"
              }
             ]
            },
            "referralId": "e-0-4fcbf990e4b09ba63c216a21-19",
            "venue": {
             "categories": [
              {
               "icon": {
                "prefix": "https://ss3.4sqi.net/img/categories_v2/shops/apparel_",
                "suffix": ".png"
               },
               "id": "4bf58dd8d48988d103951735",
               "name": "Clothing Store",
               "pluralName": "Clothing Stores",
               "primary": true,
               "shortName": "Apparel"
              }
             ],
             "id": "4fcbf990e4b09ba63c216a21",
             "location": {
              "address": "701 W Georgia Street",
              "cc": "CA",
              "city": "Vancouver",
              "country": "Canada",
              "distance": 519,
              "formattedAddress": [
               "701 W Georgia Street",
               "Vancouver BC V7Y 1G5",
               "Canada"
              ],
              "labeledLatLngs": [
               {
                "label": "display",
                "lat": 49.282273835204236,
                "lng": -123.11868545380594
               }
              ],
              "lat": 49.282273835204236,
              "lng": -123.11868545380594,
              "postalCode": "V7Y 1G5",
              "state": "BC"
             },
             "name": "Abercrombie & Fitch",
             "photos": {
              "count": 0,
              "groups": []
             }
            }
           },
           {
            "reasons": {
             "count": 0,
             "items": [
              {
               "reasonName": "globalInteractionReason",
               "summary": "This spot is popular",
               "type": "general"
              }
             ]
            },
            "referralId": "e-0-5827c3091dbf6c7dd8ddfd6c-20",
            "venue": {
             "categories": [
              {
               "icon": {
                "prefix": "https://ss3.4sqi.net/img/categories_v2/food/coffeeshop_",
                "suffix": ".png"
               },
               "id": "4bf58dd8d48988d1e0931735",
               "name": "Coffee Shop",
               "pluralName": "Coffee Shops",
               "primary": true,
               "shortName": "Coffee Shop"
              }
             ],
             "id": "5827c3091dbf6c7dd8ddfd6c",
             "location": {
              "address": "302 W Hastings",
              "cc": "CA",
              "city": "Vancouver",
              "country": "Canada",
              "crossStreet": "Hamilton",
              "distance": 503,
              "formattedAddress": [
               "302 W Hastings (Hamilton)",
               "Vancouver BC V6B 2N4",
               "Canada"
              ],
              "labeledLatLngs": [
               {
                "label": "display",
                "lat": 49.28259043571836,
                "lng": -123.11011993958962
               }
              ],
              "lat": 49.28259043571836,
              "lng": -123.11011993958962,
              "postalCode": "V6B 2N4",
              "state": "BC"
             },
             "name": "Nemesis Coffee",
             "photos": {
              "count": 0,
              "groups": []
             }
            }
           },
           {
            "reasons": {
             "count": 0,
             "items": [
              {
               "reasonName": "globalInteractionReason",
               "summary": "This spot is popular",
               "type": "general"
              }
             ]
            },
            "referralId": "e-0-55dfb29a498e25aa1af89152-21",
            "venue": {
             "categories": [
              {
               "icon": {
                "prefix": "https://ss3.4sqi.net/img/categories_v2/shops/toys_",
                "suffix": ".png"
               },
               "id": "4bf58dd8d48988d1f3941735",
               "name": "Toy / Game Store",
               "pluralName": "Toy / Game Stores",
               "primary": true,
               "shortName": "Toys & Games"
              }
             ],
             "id": "55dfb29a498e25aa1af89152",
             "location": {
              "address": "701 West Georgia Street",
              "cc": "CA",
              "city": "Vancouver",
              "country": "Canada",
              "crossStreet": "Granville Street",
              "distance": 538,
              "formattedAddress": [
               "701 West Georgia Street (Granville Street)",
               "Vancouver BC V7Y 1G5",
               "Canada"
              ],
              "labeledLatLngs": [
               {
                "label": "display",
                "lat": 49.281689,
                "lng": -123.11985
               }
              ],
              "lat": 49.281689,
              "lng": -123.11985,
              "postalCode": "V7Y 1G5",
              "state": "BC"
             },
             "name": "Disney store",
             "photos": {
              "count": 0,
              "groups": []
             }
            }
           },
           {
            "reasons": {
             "count": 0,
             "items": [
              {
               "reasonName": "globalInteractionReason",
               "summary": "This spot is popular",
               "type": "general"
              }
             ]
            },
            "referralId": "e-0-4d9b41359298b1f7635b5338-22",
            "venue": {
             "categories": [
              {
               "icon": {
                "prefix": "https://ss3.4sqi.net/img/categories_v2/food/coffeeshop_",
                "suffix": ".png"
               },
               "id": "4bf58dd8d48988d1e0931735",
               "name": "Coffee Shop",
               "pluralName": "Coffee Shops",
               "primary": true,
               "shortName": "Coffee Shop"
              }
             ],
             "id": "4d9b41359298b1f7635b5338",
             "location": {
              "address": "325 Cambie St",
              "cc": "CA",
              "city": "Vancouver",
              "country": "Canada",
              "crossStreet": "btwn Hastings & Cordova",
              "distance": 592,
              "formattedAddress": [
               "325 Cambie St (btwn Hastings & Cordova)",
               "Vancouver BC V6B 1H7",
               "Canada"
              ],
              "labeledLatLngs": [
               {
                "label": "display",
                "lat": 49.2831867506594,
                "lng": -123.10928769992123
               }
              ],
              "lat": 49.2831867506594,
              "lng": -123.10928769992123,
              "neighborhood": "Gastown",
              "postalCode": "V6B 1H7",
              "state": "BC"
             },
             "name": "Revolver",
             "photos": {
              "count": 0,
              "groups": []
             }
            }
           },
           {
            "reasons": {
             "count": 0,
             "items": [
              {
               "reasonName": "globalInteractionReason",
               "summary": "This spot is popular",
               "type": "general"
              }
             ]
            },
            "referralId": "e-0-4aa733fbf964a520444c20e3-23",
            "venue": {
             "categories": [
              {
               "icon": {
                "prefix": "https://ss3.4sqi.net/img/categories_v2/arts_entertainment/musicvenue_",
                "suffix": ".png"
               },
               "id": "5032792091d4c4b30a586d5c",
               "name": "Concert Hall",
               "pluralName": "Concert Halls",
               "primary": true,
               "shortName": "Concert Hall"
              }
             ],
             "id": "4aa733fbf964a520444c20e3",
             "location": {
              "address": "868 Granville St",
              "cc": "CA",
              "city": "Vancouver",
              "country": "Canada",
              "crossStreet": "Btw Robson & Smithe",
              "distance": 523,
              "formattedAddress": [
               "868 Granville St (Btw Robson & Smithe)",
               "Vancouver BC",
               "Canada"
              ],
              "labeledLatLngs": [
               {
                "label": "display",
                "lat": 49.28068562197917,
                "lng": -123.12050972144668
               }
              ],
              "lat": 49.28068562197917,
              "lng": -123.12050972144668,
              "state": "BC"
             },
             "name": "Commodore Ballroom",
             "photos": {
              "count": 0,
              "groups": []
             },
             "venuePage": {
              "id": "39507997"
             }
            }
           },
           {
            "reasons": {
             "count": 0,
             "items": [
              {
               "reasonName": "globalInteractionReason",
               "summary": "This spot is popular",
               "type": "general"
              }
             ]
            },
            "referralId": "e-0-591782f22bf9a936de28c8d1-24",
            "venue": {
             "categories": [
              {
               "icon": {
                "prefix": "https://ss3.4sqi.net/img/categories_v2/food/middleeastern_",
                "suffix": ".png"
               },
               "id": "58daa1558bbb0b01f18ec1cd",
               "name": "Lebanese Restaurant",
               "pluralName": "Lebanese Restaurants",
               "primary": true,
               "shortName": "Lebanese"
              }
             ],
             "id": "591782f22bf9a936de28c8d1",
             "location": {
              "address": "560 Robson St",
              "cc": "CA",
              "city": "Vancouver",
              "country": "Canada",
              "crossStreet": "at Seymour St",
              "distance": 386,
              "formattedAddress": [
               "560 Robson St (at Seymour St)",
               "Vancouver BC V6B 2B7",
               "Canada"
              ],
              "labeledLatLngs": [
               {
                "label": "display",
                "lat": 49.280451539138795,
                "lng": -123.11858600825325
               }
              ],
              "lat": 49.280451539138795,
              "lng": -123.11858600825325,
              "postalCode": "V6B 2B7",
              "state": "BC"
             },
             "name": "Paramount Fine Foods",
             "photos": {
              "count": 0,
              "groups": []
             }
            }
           },
           {
            "reasons": {
             "count": 0,
             "items": [
              {
               "reasonName": "globalInteractionReason",
               "summary": "This spot is popular",
               "type": "general"
              }
             ]
            },
            "referralId": "e-0-524646a411d25e42600a0877-25",
            "venue": {
             "categories": [
              {
               "icon": {
                "prefix": "https://ss3.4sqi.net/img/categories_v2/food/pizza_",
                "suffix": ".png"
               },
               "id": "4bf58dd8d48988d1ca941735",
               "name": "Pizza Place",
               "pluralName": "Pizza Places",
               "primary": true,
               "shortName": "Pizza"
              }
             ],
             "id": "524646a411d25e42600a0877",
             "location": {
              "address": "189 Keefer Place",
              "cc": "CA",
              "city": "Vancouver",
              "country": "Canada",
              "distance": 411,
              "formattedAddress": [
               "189 Keefer Place",
               "Vancouver BC",
               "Canada"
              ],
              "labeledLatLngs": [
               {
                "label": "display",
                "lat": 49.279695405260796,
                "lng": -123.10839660012886
               }
              ],
              "lat": 49.279695405260796,
              "lng": -123.10839660012886,
              "state": "BC"
             },
             "name": "Pizzeria Ludica",
             "photos": {
              "count": 0,
              "groups": []
             }
            }
           },
           {
            "reasons": {
             "count": 0,
             "items": [
              {
               "reasonName": "globalInteractionReason",
               "summary": "This spot is popular",
               "type": "general"
              }
             ]
            },
            "referralId": "e-0-57e351fe498ea398546051b6-26",
            "venue": {
             "categories": [
              {
               "icon": {
                "prefix": "https://ss3.4sqi.net/img/categories_v2/food/dessert_",
                "suffix": ".png"
               },
               "id": "4bf58dd8d48988d1d0941735",
               "name": "Dessert Shop",
               "pluralName": "Dessert Shops",
               "primary": true,
               "shortName": "Desserts"
              }
             ],
             "id": "57e351fe498ea398546051b6",
             "location": {
              "address": "1002 Seymour St.",
              "cc": "CA",
              "city": "Vancouver",
              "country": "Canada",
              "crossStreet": "Seymour and Nelson",
              "distance": 591,
              "formattedAddress": [
               "1002 Seymour St. (Seymour and Nelson)",
               "Vancouver BC V6B",
               "Canada"
              ],
              "labeledLatLngs": [
               {
                "label": "display",
                "lat": 49.278451,
                "lng": -123.122024
               }
              ],
              "lat": 49.278451,
              "lng": -123.122024,
              "neighborhood": "Financial District",
              "postalCode": "V6B",
              "state": "BC"
             },
             "name": "Nero Belgian Waffle Bar",
             "photos": {
              "count": 0,
              "groups": []
             }
            }
           },
           {
            "reasons": {
             "count": 0,
             "items": [
              {
               "reasonName": "globalInteractionReason",
               "summary": "This spot is popular",
               "type": "general"
              }
             ]
            },
            "referralId": "e-0-4aa7ec7cf964a520064e20e3-27",
            "venue": {
             "categories": [
              {
               "icon": {
                "prefix": "https://ss3.4sqi.net/img/categories_v2/food/italian_",
                "suffix": ".png"
               },
               "id": "4bf58dd8d48988d110941735",
               "name": "Italian Restaurant",
               "pluralName": "Italian Restaurants",
               "primary": true,
               "shortName": "Italian"
              }
             ],
             "id": "4aa7ec7cf964a520064e20e3",
             "location": {
              "address": "1088 Cambie St.",
              "cc": "CA",
              "city": "Vancouver",
              "country": "Canada",
              "crossStreet": "at Pacific Blvd.",
              "distance": 564,
              "formattedAddress": [
               "1088 Cambie St. (at Pacific Blvd.)",
               "Vancouver BC V6B 6J5",
               "Canada"
              ],
              "labeledLatLngs": [
               {
                "label": "display",
                "lat": 49.27484877745373,
                "lng": -123.11877379671792
               }
              ],
              "lat": 49.27484877745373,
              "lng": -123.11877379671792,
              "postalCode": "V6B 6J5",
              "state": "BC"
             },
             "name": "La Terrazza Restaurant",
             "photos": {
              "count": 0,
              "groups": []
             }
            }
           },
           {
            "reasons": {
             "count": 0,
             "items": [
              {
               "reasonName": "globalInteractionReason",
               "summary": "This spot is popular",
               "type": "general"
              }
             ]
            },
            "referralId": "e-0-4d5ec8ce29ef236ae0cb9059-28",
            "venue": {
             "categories": [
              {
               "icon": {
                "prefix": "https://ss3.4sqi.net/img/categories_v2/travel/hotel_",
                "suffix": ".png"
               },
               "id": "4bf58dd8d48988d1fa931735",
               "name": "Hotel",
               "pluralName": "Hotels",
               "primary": true,
               "shortName": "Hotel"
              }
             ],
             "id": "4d5ec8ce29ef236ae0cb9059",
             "location": {
              "address": "801 W Georgia St",
              "cc": "CA",
              "city": "Vancouver",
              "country": "Canada",
              "crossStreet": "at Howe St",
              "distance": 630,
              "formattedAddress": [
               "801 W Georgia St (at Howe St)",
               "Vancouver BC V6C 1P7",
               "Canada"
              ],
              "labeledLatLngs": [
               {
                "label": "display",
                "lat": 49.28342914255638,
                "lng": -123.1189107326352
               }
              ],
              "lat": 49.28342914255638,
              "lng": -123.1189107326352,
              "postalCode": "V6C 1P7",
              "state": "BC"
             },
             "name": "Rosewood Hotel Georgia",
             "photos": {
              "count": 0,
              "groups": []
             },
             "venuePage": {
              "id": "37012938"
             }
            }
           },
           {
            "reasons": {
             "count": 0,
             "items": [
              {
               "reasonName": "globalInteractionReason",
               "summary": "This spot is popular",
               "type": "general"
              }
             ]
            },
            "referralId": "e-0-4aa942d5f964a520ba5220e3-29",
            "venue": {
             "categories": [
              {
               "icon": {
                "prefix": "https://ss3.4sqi.net/img/categories_v2/food/seafood_",
                "suffix": ".png"
               },
               "id": "4bf58dd8d48988d1ce941735",
               "name": "Seafood Restaurant",
               "pluralName": "Seafood Restaurants",
               "primary": true,
               "shortName": "Seafood"
              }
             ],
             "id": "4aa942d5f964a520ba5220e3",
             "location": {
              "address": "1095 Hamilton St",
              "cc": "CA",
              "city": "Vancouver",
              "country": "Canada",
              "crossStreet": "at Helmcken St",
              "distance": 599,
              "formattedAddress": [
               "1095 Hamilton St (at Helmcken St)",
               "Vancouver BC V6B 5T4",
               "Canada"
              ],
              "labeledLatLngs": [
               {
                "label": "display",
                "lat": 49.27616536589696,
                "lng": -123.12110447015738
               }
              ],
              "lat": 49.27616536589696,
              "lng": -123.12110447015738,
              "postalCode": "V6B 5T4",
              "state": "BC"
             },
             "name": "Blue Water Cafe + Raw Bar",
             "photos": {
              "count": 0,
              "groups": []
             }
            }
           },
           {
            "reasons": {
             "count": 0,
             "items": [
              {
               "reasonName": "globalInteractionReason",
               "summary": "This spot is popular",
               "type": "general"
              }
             ]
            },
            "referralId": "e-0-4ac63a19f964a52046b320e3-30",
            "venue": {
             "categories": [
              {
               "icon": {
                "prefix": "https://ss3.4sqi.net/img/categories_v2/food/cafe_",
                "suffix": ".png"
               },
               "id": "4bf58dd8d48988d16d941735",
               "name": "Café",
               "pluralName": "Cafés",
               "primary": true,
               "shortName": "Café"
              }
             ],
             "id": "4ac63a19f964a52046b320e3",
             "location": {
              "address": "301 W Hastings",
              "cc": "CA",
              "city": "Vancouver",
              "country": "Canada",
              "crossStreet": "at Cambie St",
              "distance": 534,
              "formattedAddress": [
               "301 W Hastings (at Cambie St)",
               "Vancouver BC V6B 1G2",
               "Canada"
              ],
              "labeledLatLngs": [
               {
                "label": "display",
                "lat": 49.28289691979302,
                "lng": -123.11006472134046
               }
              ],
              "lat": 49.28289691979302,
              "lng": -123.11006472134046,
              "postalCode": "V6B 1G2",
              "state": "BC"
             },
             "name": "New Amsterdam Cafe",
             "photos": {
              "count": 0,
              "groups": []
             },
             "venuePage": {
              "id": "35602681"
             }
            }
           },
           {
            "reasons": {
             "count": 0,
             "items": [
              {
               "reasonName": "globalInteractionReason",
               "summary": "This spot is popular",
               "type": "general"
              }
             ]
            },
            "referralId": "e-0-5170656ae4b029a050dd8a49-31",
            "venue": {
             "categories": [
              {
               "icon": {
                "prefix": "https://ss3.4sqi.net/img/categories_v2/food/default_",
                "suffix": ".png"
               },
               "id": "4bf58dd8d48988d1c4941735",
               "name": "Restaurant",
               "pluralName": "Restaurants",
               "primary": true,
               "shortName": "Restaurant"
              }
             ],
             "id": "5170656ae4b029a050dd8a49",
             "location": {
              "address": "688 Dunsmuir Street",
              "cc": "CA",
              "city": "Vancouver",
              "country": "Canada",
              "distance": 546,
              "formattedAddress": [
               "688 Dunsmuir Street",
               "Vancouver BC V6B 1N3",
               "Canada"
              ],
              "labeledLatLngs": [
               {
                "label": "display",
                "lat": 49.28343784084837,
                "lng": -123.11636252876394
               }
              ],
              "lat": 49.28343784084837,
              "lng": -123.11636252876394,
              "postalCode": "V6B 1N3",
              "state": "BC"
             },
             "name": "The Keg Steakhouse + Bar - Dunsmuir",
             "photos": {
              "count": 0,
              "groups": []
             }
            }
           },
           {
            "reasons": {
             "count": 0,
             "items": [
              {
               "reasonName": "globalInteractionReason",
               "summary": "This spot is popular",
               "type": "general"
              }
             ]
            },
            "referralId": "e-0-50574432e4b0e7a978f3c474-32",
            "venue": {
             "categories": [
              {
               "icon": {
                "prefix": "https://ss3.4sqi.net/img/categories_v2/food/italian_",
                "suffix": ".png"
               },
               "id": "4bf58dd8d48988d110941735",
               "name": "Italian Restaurant",
               "pluralName": "Italian Restaurants",
               "primary": true,
               "shortName": "Italian"
              }
             ],
             "id": "50574432e4b0e7a978f3c474",
             "location": {
              "address": "1011 Hamilton St.",
              "cc": "CA",
              "city": "Vancouver",
              "country": "Canada",
              "crossStreet": "btwn Nelson & Helmcken",
              "distance": 507,
              "formattedAddress": [
               "1011 Hamilton St. (btwn Nelson & Helmcken)",
               "Vancouver BC V6B 5T4",
               "Canada"
              ],
              "labeledLatLngs": [
               {
                "label": "display",
                "lat": 49.27673436926522,
                "lng": -123.12012815066782
               }
              ],
              "lat": 49.27673436926522,
              "lng": -123.12012815066782,
              "postalCode": "V6B 5T4",
              "state": "BC"
             },
             "name": "The Parlour",
             "photos": {
              "count": 0,
              "groups": []
             }
            }
           },
           {
            "reasons": {
             "count": 0,
             "items": [
              {
               "reasonName": "globalInteractionReason",
               "summary": "This spot is popular",
               "type": "general"
              }
             ]
            },
            "referralId": "e-0-4aa84f03f964a520c15020e3-33",
            "venue": {
             "categories": [
              {
               "icon": {
                "prefix": "https://ss3.4sqi.net/img/categories_v2/food/taco_",
                "suffix": ".png"
               },
               "id": "4bf58dd8d48988d151941735",
               "name": "Taco Place",
               "pluralName": "Taco Places",
               "primary": true,
               "shortName": "Tacos"
              }
             ],
             "id": "4aa84f03f964a520c15020e3",
             "location": {
              "address": "322 W Hastings St",
              "cc": "CA",
              "city": "Vancouver",
              "country": "Canada",
              "crossStreet": "btwn Homer & Hamilton",
              "distance": 533,
              "formattedAddress": [
               "322 W Hastings St (btwn Homer & Hamilton)",
               "Vancouver BC V6B 1K6",
               "Canada"
              ],
              "labeledLatLngs": [
               {
                "label": "display",
                "lat": 49.2830218479258,
                "lng": -123.11042386683688
               }
              ],
              "lat": 49.2830218479258,
              "lng": -123.11042386683688,
              "postalCode": "V6B 1K6",
              "state": "BC"
             },
             "name": "La Taqueria",
             "photos": {
              "count": 0,
              "groups": []
             }
            }
           },
           {
            "reasons": {
             "count": 0,
             "items": [
              {
               "reasonName": "globalInteractionReason",
               "summary": "This spot is popular",
               "type": "general"
              }
             ]
            },
            "referralId": "e-0-5af8880a838e59002ce2d728-34",
            "venue": {
             "categories": [
              {
               "icon": {
                "prefix": "https://ss3.4sqi.net/img/categories_v2/food/bakery_",
                "suffix": ".png"
               },
               "id": "4bf58dd8d48988d16a941735",
               "name": "Bakery",
               "pluralName": "Bakeries",
               "primary": true,
               "shortName": "Bakery"
              }
             ],
             "id": "5af8880a838e59002ce2d728",
             "location": {
              "address": "1036 Mainland Street",
              "cc": "CA",
              "city": "Vancouver",
              "country": "Canada",
              "distance": 537,
              "formattedAddress": [
               "1036 Mainland Street",
               "Vancouver BC V6B 2T4",
               "Canada"
              ],
              "labeledLatLngs": [
               {
                "label": "display",
                "lat": 49.275967,
                "lng": -123.119894
               }
              ],
              "lat": 49.275967,
              "lng": -123.119894,
              "neighborhood": "Yaletown",
              "postalCode": "V6B 2T4",
              "state": "BC"
             },
             "name": "Angus T",
             "photos": {
              "count": 0,
              "groups": []
             }
            }
           },
           {
            "reasons": {
             "count": 0,
             "items": [
              {
               "reasonName": "globalInteractionReason",
               "summary": "This spot is popular",
               "type": "general"
              }
             ]
            },
            "referralId": "e-0-5baffb6598fbfc002c5153b2-35",
            "venue": {
             "categories": [
              {
               "icon": {
                "prefix": "https://ss3.4sqi.net/img/categories_v2/food/ramen_",
                "suffix": ".png"
               },
               "id": "4bf58dd8d48988d1d1941735",
               "name": "Noodle House",
               "pluralName": "Noodle Houses",
               "primary": true,
               "shortName": "Noodles"
              }
             ],
             "id": "5baffb6598fbfc002c5153b2",
             "location": {
              "address": "551 Seymore St",
              "cc": "CA",
              "city": "Vancouver",
              "country": "Canada",
              "distance": 519,
              "formattedAddress": [
               "551 Seymore St",
               "Vancouver BC V6B 3H6",
               "Canada"
              ],
              "labeledLatLngs": [
               {
                "label": "display",
                "lat": 49.28339141050529,
                "lng": -123.11516030750509
               }
              ],
              "lat": 49.28339141050529,
              "lng": -123.11516030750509,
              "postalCode": "V6B 3H6",
              "state": "BC"
             },
             "name": "Kokoro Tokyo Mazesoba",
             "photos": {
              "count": 0,
              "groups": []
             }
            }
           },
           {
            "reasons": {
             "count": 0,
             "items": [
              {
               "reasonName": "globalInteractionReason",
               "summary": "This spot is popular",
               "type": "general"
              }
             ]
            },
            "referralId": "e-0-4b5fa47ff964a52000c629e3-36",
            "venue": {
             "categories": [
              {
               "icon": {
                "prefix": "https://ss3.4sqi.net/img/categories_v2/food/hotdog_",
                "suffix": ".png"
               },
               "id": "4bf58dd8d48988d16f941735",
               "name": "Hot Dog Joint",
               "pluralName": "Hot Dog Joints",
               "primary": true,
               "shortName": "Hot Dogs"
              }
             ],
             "id": "4b5fa47ff964a52000c629e3",
             "location": {
              "address": "530 Robson St",
              "cc": "CA",
              "city": "Vancouver",
              "country": "Canada",
              "crossStreet": "btwn Seymour & Richards St.",
              "distance": 356,
              "formattedAddress": [
               "530 Robson St (btwn Seymour & Richards St.)",
               "Vancouver BC V6B 2B7",
               "Canada"
              ],
              "labeledLatLngs": [
               {
                "label": "display",
                "lat": 49.280271906961346,
                "lng": -123.11825983307145
               }
              ],
              "lat": 49.280271906961346,
              "lng": -123.11825983307145,
              "neighborhood": "Financial District",
              "postalCode": "V6B 2B7",
              "state": "BC"
             },
             "name": "Japadog",
             "photos": {
              "count": 0,
              "groups": []
             }
            }
           },
           {
            "reasons": {
             "count": 0,
             "items": [
              {
               "reasonName": "globalInteractionReason",
               "summary": "This spot is popular",
               "type": "general"
              }
             ]
            },
            "referralId": "e-0-57d05c9c498e185ed0205e5a-37",
            "venue": {
             "categories": [
              {
               "icon": {
                "prefix": "https://ss3.4sqi.net/img/categories_v2/food/default_",
                "suffix": ".png"
               },
               "id": "5bae9231bedf3950379f89d4",
               "name": "Poke Place",
               "pluralName": "Poke Places",
               "primary": true,
               "shortName": "Poke Place"
              }
             ],
             "id": "57d05c9c498e185ed0205e5a",
             "location": {
              "address": "420 Richards St",
              "cc": "CA",
              "city": "Vancouver",
              "country": "Canada",
              "crossStreet": "at W Hastings St",
              "distance": 585,
              "formattedAddress": [
               "420 Richards St (at W Hastings St)",
               "Vancouver BC V6B",
               "Canada"
              ],
              "labeledLatLngs": [
               {
                "label": "display",
                "lat": 49.28393736225851,
                "lng": -123.11216716613504
               }
              ],
              "lat": 49.28393736225851,
              "lng": -123.11216716613504,
              "postalCode": "V6B",
              "state": "BC"
             },
             "name": "The Poke Guy",
             "photos": {
              "count": 0,
              "groups": []
             }
            }
           },
           {
            "reasons": {
             "count": 0,
             "items": [
              {
               "reasonName": "globalInteractionReason",
               "summary": "This spot is popular",
               "type": "general"
              }
             ]
            },
            "referralId": "e-0-4aa9d826f964a5206b5520e3-38",
            "venue": {
             "categories": [
              {
               "icon": {
                "prefix": "https://ss3.4sqi.net/img/categories_v2/parks_outdoors/dogrun_",
                "suffix": ".png"
               },
               "id": "4bf58dd8d48988d1e5941735",
               "name": "Dog Run",
               "pluralName": "Dog Runs",
               "primary": true,
               "shortName": "Dog Run"
              }
             ],
             "id": "4aa9d826f964a5206b5520e3",
             "location": {
              "address": "1020 Marinaside Crescent",
              "cc": "CA",
              "city": "Vancouver",
              "country": "Canada",
              "crossStreet": "Cambie Bridge",
              "distance": 584,
              "formattedAddress": [
               "1020 Marinaside Crescent (Cambie Bridge)",
               "Vancouver BC",
               "Canada"
              ],
              "labeledLatLngs": [
               {
                "label": "display",
                "lat": 49.27354702489317,
                "lng": -123.11375106435273
               }
              ],
              "lat": 49.27354702489317,
              "lng": -123.11375106435273,
              "state": "BC"
             },
             "name": "Cooper's Park",
             "photos": {
              "count": 0,
              "groups": []
             }
            }
           },
           {
            "reasons": {
             "count": 0,
             "items": [
              {
               "reasonName": "globalInteractionReason",
               "summary": "This spot is popular",
               "type": "general"
              }
             ]
            },
            "referralId": "e-0-4aa850b7f964a520cf5020e3-39",
            "venue": {
             "categories": [
              {
               "icon": {
                "prefix": "https://ss3.4sqi.net/img/categories_v2/food/default_",
                "suffix": ".png"
               },
               "id": "4bf58dd8d48988d1c4941735",
               "name": "Restaurant",
               "pluralName": "Restaurants",
               "primary": true,
               "shortName": "Restaurant"
              }
             ],
             "id": "4aa850b7f964a520cf5020e3",
             "location": {
              "address": "590 West Georgia St",
              "cc": "CA",
              "city": "Vancouver",
              "country": "Canada",
              "crossStreet": "at Seymour St",
              "distance": 383,
              "formattedAddress": [
               "590 West Georgia St (at Seymour St)",
               "Vancouver BC V6B 5P9",
               "Canada"
              ],
              "labeledLatLngs": [
               {
                "label": "display",
                "lat": 49.28160784713172,
                "lng": -123.11695431743689
               }
              ],
              "lat": 49.28160784713172,
              "lng": -123.11695431743689,
              "postalCode": "V6B 5P9",
              "state": "BC"
             },
             "name": "Glowbal",
             "photos": {
              "count": 0,
              "groups": []
             }
            }
           },
           {
            "reasons": {
             "count": 0,
             "items": [
              {
               "reasonName": "globalInteractionReason",
               "summary": "This spot is popular",
               "type": "general"
              }
             ]
            },
            "referralId": "e-0-4fac04c2e4b0685b5b224d9d-40",
            "venue": {
             "categories": [
              {
               "icon": {
                "prefix": "https://ss3.4sqi.net/img/categories_v2/food/japanese_",
                "suffix": ".png"
               },
               "id": "4bf58dd8d48988d111941735",
               "name": "Japanese Restaurant",
               "pluralName": "Japanese Restaurants",
               "primary": true,
               "shortName": "Japanese"
              }
             ],
             "id": "4fac04c2e4b0685b5b224d9d",
             "location": {
              "address": "1118 Mainland St",
              "cc": "CA",
              "city": "Vancouver",
              "country": "Canada",
              "crossStreet": "at Helmcken St.",
              "distance": 635,
              "formattedAddress": [
               "1118 Mainland St (at Helmcken St.)",
               "Vancouver BC V6B 2T9",
               "Canada"
              ],
              "labeledLatLngs": [
               {
                "label": "display",
                "lat": 49.275341077987406,
                "lng": -123.12085632170566
               }
              ],
              "lat": 49.275341077987406,
              "lng": -123.12085632170566,
              "postalCode": "V6B 2T9",
              "state": "BC"
             },
             "name": "Minami",
             "photos": {
              "count": 0,
              "groups": []
             }
            }
           },
           {
            "reasons": {
             "count": 0,
             "items": [
              {
               "reasonName": "globalInteractionReason",
               "summary": "This spot is popular",
               "type": "general"
              }
             ]
            },
            "referralId": "e-0-546cfab4498e31fa52b38545-41",
            "venue": {
             "categories": [
              {
               "icon": {
                "prefix": "https://ss3.4sqi.net/img/categories_v2/food/bakery_",
                "suffix": ".png"
               },
               "id": "4bf58dd8d48988d16a941735",
               "name": "Bakery",
               "pluralName": "Bakeries",
               "primary": true,
               "shortName": "Bakery"
              }
             ],
             "id": "546cfab4498e31fa52b38545",
             "location": {
              "address": "1088 Homer St",
              "cc": "CA",
              "city": "Vancouver",
              "country": "Canada",
              "crossStreet": "btwn Helmcken & Nelson",
              "distance": 597,
              "formattedAddress": [
               "1088 Homer St (btwn Helmcken & Nelson)",
               "Vancouver BC",
               "Canada"
              ],
              "labeledLatLngs": [
               {
                "label": "display",
                "lat": 49.27651218171028,
                "lng": -123.12133631376243
               }
              ],
              "lat": 49.27651218171028,
              "lng": -123.12133631376243,
              "state": "BC"
             },
             "name": "Small Victory Bakery",
             "photos": {
              "count": 0,
              "groups": []
             }
            }
           },
           {
            "reasons": {
             "count": 0,
             "items": [
              {
               "reasonName": "globalInteractionReason",
               "summary": "This spot is popular",
               "type": "general"
              }
             ]
            },
            "referralId": "e-0-5261ea7111d2cc4cf26712e3-42",
            "venue": {
             "categories": [
              {
               "icon": {
                "prefix": "https://ss3.4sqi.net/img/categories_v2/food/donuts_",
                "suffix": ".png"
               },
               "id": "4bf58dd8d48988d148941735",
               "name": "Donut Shop",
               "pluralName": "Donut Shops",
               "primary": true,
               "shortName": "Donuts"
              }
             ],
             "id": "5261ea7111d2cc4cf26712e3",
             "location": {
              "address": "534 W Pender St",
              "cc": "CA",
              "city": "Vancouver",
              "country": "Canada",
              "crossStreet": "at Seymour St",
              "distance": 560,
              "formattedAddress": [
               "534 W Pender St (at Seymour St)",
               "Vancouver BC V6B 1V3",
               "Canada"
              ],
              "labeledLatLngs": [
               {
                "label": "display",
                "lat": 49.283833446719726,
                "lng": -123.1135544398471
               }
              ],
              "lat": 49.283833446719726,
              "lng": -123.1135544398471,
              "postalCode": "V6B 1V3",
              "state": "BC"
             },
             "name": "Cartems Donuterie",
             "photos": {
              "count": 0,
              "groups": []
             }
            }
           },
           {
            "reasons": {
             "count": 0,
             "items": [
              {
               "reasonName": "globalInteractionReason",
               "summary": "This spot is popular",
               "type": "general"
              }
             ]
            },
            "referralId": "e-0-4d2cce46ae3a8cfa4067bf70-43",
            "venue": {
             "categories": [
              {
               "icon": {
                "prefix": "https://ss3.4sqi.net/img/categories_v2/nightlife/default_",
                "suffix": ".png"
               },
               "id": "4bf58dd8d48988d121941735",
               "name": "Lounge",
               "pluralName": "Lounges",
               "primary": true,
               "shortName": "Lounge"
              }
             ],
             "id": "4d2cce46ae3a8cfa4067bf70",
             "location": {
              "address": "801 W Georgia St",
              "cc": "CA",
              "city": "Vancouver",
              "country": "Canada",
              "crossStreet": "at Howe St",
              "distance": 648,
              "formattedAddress": [
               "801 W Georgia St (at Howe St)",
               "Vancouver BC V6P 1C7",
               "Canada"
              ],
              "labeledLatLngs": [
               {
                "label": "display",
                "lat": 49.28336228267866,
                "lng": -123.11946181255522
               }
              ],
              "lat": 49.28336228267866,
              "lng": -123.11946181255522,
              "postalCode": "V6P 1C7",
              "state": "BC"
             },
             "name": "Hawksworth Restaurant",
             "photos": {
              "count": 0,
              "groups": []
             },
             "venuePage": {
              "id": "77577037"
             }
            }
           },
           {
            "reasons": {
             "count": 0,
             "items": [
              {
               "reasonName": "globalInteractionReason",
               "summary": "This spot is popular",
               "type": "general"
              }
             ]
            },
            "referralId": "e-0-4aa73bb9f964a5206b4c20e3-44",
            "venue": {
             "categories": [
              {
               "icon": {
                "prefix": "https://ss3.4sqi.net/img/categories_v2/shops/beauty_cosmetic_",
                "suffix": ".png"
               },
               "id": "4bf58dd8d48988d10c951735",
               "name": "Cosmetics Shop",
               "pluralName": "Cosmetics Shops",
               "primary": true,
               "shortName": "Cosmetics"
              }
             ],
             "id": "4aa73bb9f964a5206b4c20e3",
             "location": {
              "address": "701 Georgia St E",
              "cc": "CA",
              "city": "Vancouver",
              "country": "Canada",
              "crossStreet": "at Howe St.",
              "distance": 636,
              "formattedAddress": [
               "701 Georgia St E (at Howe St.)",
               "Vancouver BC V6A 1Z9",
               "Canada"
              ],
              "labeledLatLngs": [
               {
                "label": "display",
                "lat": 49.284091751548736,
                "lng": -123.11720430855082
               }
              ],
              "lat": 49.284091751548736,
              "lng": -123.11720430855082,
              "postalCode": "V6A 1Z9",
              "state": "BC"
             },
             "name": "SEPHORA",
             "photos": {
              "count": 0,
              "groups": []
             }
            }
           },
           {
            "reasons": {
             "count": 0,
             "items": [
              {
               "reasonName": "globalInteractionReason",
               "summary": "This spot is popular",
               "type": "general"
              }
             ]
            },
            "referralId": "e-0-4ae7a4f4f964a52002ad21e3-45",
            "venue": {
             "categories": [
              {
               "icon": {
                "prefix": "https://ss3.4sqi.net/img/categories_v2/shops/apparel_",
                "suffix": ".png"
               },
               "id": "4bf58dd8d48988d103951735",
               "name": "Clothing Store",
               "pluralName": "Clothing Stores",
               "primary": true,
               "shortName": "Apparel"
              }
             ],
             "id": "4ae7a4f4f964a52002ad21e3",
             "location": {
              "address": "800 Griffiths Way",
              "cc": "CA",
              "city": "Vancouver",
              "country": "Canada",
              "crossStreet": "at Rogers Arena",
              "distance": 469,
              "formattedAddress": [
               "800 Griffiths Way (at Rogers Arena)",
               "Vancouver BC V6B 6G1",
               "Canada"
              ],
              "labeledLatLngs": [
               {
                "label": "display",
                "lat": 49.27741375872482,
                "lng": -123.10779588339813
               }
              ],
              "lat": 49.27741375872482,
              "lng": -123.10779588339813,
              "postalCode": "V6B 6G1",
              "state": "BC"
             },
             "name": "Canucks Team Store",
             "photos": {
              "count": 0,
              "groups": []
             },
             "venuePage": {
              "id": "39506299"
             }
            }
           },
           {
            "reasons": {
             "count": 0,
             "items": [
              {
               "reasonName": "globalInteractionReason",
               "summary": "This spot is popular",
               "type": "general"
              }
             ]
            },
            "referralId": "e-0-4aa7fe08f964a520914e20e3-46",
            "venue": {
             "categories": [
              {
               "icon": {
                "prefix": "https://ss3.4sqi.net/img/categories_v2/food/middleeastern_",
                "suffix": ".png"
               },
               "id": "4bf58dd8d48988d115941735",
               "name": "Middle Eastern Restaurant",
               "pluralName": "Middle Eastern Restaurants",
               "primary": true,
               "shortName": "Middle Eastern"
              }
             ],
             "id": "4aa7fe08f964a520914e20e3",
             "location": {
              "address": "207 W Hastings St",
              "cc": "CA",
              "city": "Vancouver",
              "country": "Canada",
              "crossStreet": "at Cambie St",
              "distance": 545,
              "formattedAddress": [
               "207 W Hastings St (at Cambie St)",
               "Vancouver BC V6B 2N4",
               "Canada"
              ],
              "labeledLatLngs": [
               {
                "label": "display",
                "lat": 49.28281170120566,
                "lng": -123.10958233142155
               }
              ],
              "lat": 49.28281170120566,
              "lng": -123.10958233142155,
              "postalCode": "V6B 2N4",
              "state": "BC"
             },
             "name": "Nuba",
             "photos": {
              "count": 0,
              "groups": []
             }
            }
           },
           {
            "reasons": {
             "count": 0,
             "items": [
              {
               "reasonName": "globalInteractionReason",
               "summary": "This spot is popular",
               "type": "general"
              }
             ]
            },
            "referralId": "e-0-57a4edd9498e9e263c99455c-47",
            "venue": {
             "categories": [
              {
               "icon": {
                "prefix": "https://ss3.4sqi.net/img/categories_v2/food/taco_",
                "suffix": ".png"
               },
               "id": "4bf58dd8d48988d151941735",
               "name": "Taco Place",
               "pluralName": "Taco Places",
               "primary": true,
               "shortName": "Tacos"
              }
             ],
             "id": "57a4edd9498e9e263c99455c",
             "location": {
              "address": "601 Expo Boulevard",
              "cc": "CA",
              "city": "Vancouver",
              "country": "Canada",
              "distance": 411,
              "formattedAddress": [
               "601 Expo Boulevard",
               "Vancouver BC V6B 6B8",
               "Canada"
              ],
              "labeledLatLngs": [
               {
                "label": "display",
                "lat": 49.27876737323125,
                "lng": -123.1082397723312
               }
              ],
              "lat": 49.27876737323125,
              "lng": -123.1082397723312,
              "postalCode": "V6B 6B8",
              "state": "BC"
             },
             "name": "Tako",
             "photos": {
              "count": 0,
              "groups": []
             }
            }
           },
           {
            "reasons": {
             "count": 0,
             "items": [
              {
               "reasonName": "globalInteractionReason",
               "summary": "This spot is popular",
               "type": "general"
              }
             ]
            },
            "referralId": "e-0-4bea1ec762c0c9280691e0d4-48",
            "venue": {
             "categories": [
              {
               "icon": {
                "prefix": "https://ss3.4sqi.net/img/categories_v2/shops/gym_yogastudio_",
                "suffix": ".png"
               },
               "id": "4bf58dd8d48988d102941735",
               "name": "Yoga Studio",
               "pluralName": "Yoga Studios",
               "primary": true,
               "shortName": "Yoga Studio"
              }
             ],
             "id": "4bea1ec762c0c9280691e0d4",
             "location": {
              "address": "1083 Cambie Street",
              "cc": "CA",
              "city": "Vancouver",
              "country": "Canada",
              "crossStreet": "entrance in the ally",
              "distance": 518,
              "formattedAddress": [
               "1083 Cambie Street (entrance in the ally)",
               "Vancouver BC",
               "Canada"
              ],
              "labeledLatLngs": [
               {
                "label": "display",
                "lat": 49.275451086772094,
                "lng": -123.11885361053963
               }
              ],
              "lat": 49.275451086772094,
              "lng": -123.11885361053963,
              "state": "BC"
             },
             "name": "Exhale Yoga Pilates and Dance Studio",
             "photos": {
              "count": 0,
              "groups": []
             }
            }
           },
           {
            "reasons": {
             "count": 0,
             "items": [
              {
               "reasonName": "globalInteractionReason",
               "summary": "This spot is popular",
               "type": "general"
              }
             ]
            },
            "referralId": "e-0-5751fda3498e4f21436b3b09-49",
            "venue": {
             "categories": [
              {
               "icon": {
                "prefix": "https://ss3.4sqi.net/img/categories_v2/food/icecream_",
                "suffix": ".png"
               },
               "id": "4bf58dd8d48988d1c9941735",
               "name": "Ice Cream Shop",
               "pluralName": "Ice Cream Shops",
               "primary": true,
               "shortName": "Ice Cream"
              }
             ],
             "id": "5751fda3498e4f21436b3b09",
             "location": {
              "address": "1141 Mainland St",
              "cc": "CA",
              "city": "Vancouver",
              "country": "Canada",
              "crossStreet": "btwn Davie & Helmcken",
              "distance": 680,
              "formattedAddress": [
               "1141 Mainland St (btwn Davie & Helmcken)",
               "Vancouver BC",
               "Canada"
              ],
              "labeledLatLngs": [
               {
                "label": "display",
                "lat": 49.2750619179467,
                "lng": -123.12131599593184
               }
              ],
              "lat": 49.2750619179467,
              "lng": -123.12131599593184,
              "neighborhood": "Yaletown",
              "state": "BC"
             },
             "name": "Mister",
             "photos": {
              "count": 0,
              "groups": []
             }
            }
           },
           {
            "reasons": {
             "count": 0,
             "items": [
              {
               "reasonName": "globalInteractionReason",
               "summary": "This spot is popular",
               "type": "general"
              }
             ]
            },
            "referralId": "e-0-4aa6f2c7f964a5209b4b20e3-50",
            "venue": {
             "categories": [
              {
               "icon": {
                "prefix": "https://ss3.4sqi.net/img/categories_v2/arts_entertainment/artgallery_",
                "suffix": ".png"
               },
               "id": "4bf58dd8d48988d1e2931735",
               "name": "Art Gallery",
               "pluralName": "Art Galleries",
               "primary": true,
               "shortName": "Art Gallery"
              }
             ],
             "id": "4aa6f2c7f964a5209b4b20e3",
             "location": {
              "address": "750 Hornby St.",
              "cc": "CA",
              "city": "Vancouver",
              "country": "Canada",
              "crossStreet": "btwn Robson & W Georgia St.",
              "distance": 653,
              "formattedAddress": [
               "750 Hornby St. (btwn Robson & W Georgia St.)",
               "Vancouver BC V6Z 2H7",
               "Canada"
              ],
              "labeledLatLngs": [
               {
                "label": "display",
                "lat": 49.28282718363111,
                "lng": -123.12045708766203
               }
              ],
              "lat": 49.28282718363111,
              "lng": -123.12045708766203,
              "postalCode": "V6Z 2H7",
              "state": "BC"
             },
             "name": "Vancouver Art Gallery",
             "photos": {
              "count": 0,
              "groups": []
             },
             "venuePage": {
              "id": "38131995"
             }
            }
           },
           {
            "reasons": {
             "count": 0,
             "items": [
              {
               "reasonName": "globalInteractionReason",
               "summary": "This spot is popular",
               "type": "general"
              }
             ]
            },
            "referralId": "e-0-4aaed4f6f964a520796320e3-51",
            "venue": {
             "categories": [
              {
               "icon": {
                "prefix": "https://ss3.4sqi.net/img/categories_v2/arts_entertainment/performingarts_dancestudio_",
                "suffix": ".png"
               },
               "id": "4bf58dd8d48988d134941735",
               "name": "Dance Studio",
               "pluralName": "Dance Studios",
               "primary": true,
               "shortName": "Dance Studio"
              }
             ],
             "id": "4aaed4f6f964a520796320e3",
             "location": {
              "address": "927 Granville St.",
              "cc": "CA",
              "city": "Vancouver",
              "country": "Canada",
              "crossStreet": "Smithe St.",
              "distance": 595,
              "formattedAddress": [
               "927 Granville St. (Smithe St.)",
               "Vancouver BC V6Z 1L3",
               "Canada"
              ],
              "labeledLatLngs": [
               {
                "label": "display",
                "lat": 49.2800743967742,
                "lng": -123.12186000799825
               }
              ],
              "lat": 49.2800743967742,
              "lng": -123.12186000799825,
              "postalCode": "V6Z 1L3",
              "state": "BC"
             },
             "name": "Harbour Dance Centre",
             "photos": {
              "count": 0,
              "groups": []
             }
            }
           },
           {
            "reasons": {
             "count": 0,
             "items": [
              {
               "reasonName": "globalInteractionReason",
               "summary": "This spot is popular",
               "type": "general"
              }
             ]
            },
            "referralId": "e-0-4aa7d47ff964a520714d20e3-52",
            "venue": {
             "categories": [
              {
               "icon": {
                "prefix": "https://ss3.4sqi.net/img/categories_v2/food/default_",
                "suffix": ".png"
               },
               "id": "4bf58dd8d48988d1c4941735",
               "name": "Restaurant",
               "pluralName": "Restaurants",
               "primary": true,
               "shortName": "Restaurant"
              }
             ],
             "id": "4aa7d47ff964a520714d20e3",
             "location": {
              "address": "1011 Mainland St",
              "cc": "CA",
              "city": "Vancouver",
              "country": "Canada",
              "crossStreet": "at Nelson St",
              "distance": 469,
              "formattedAddress": [
               "1011 Mainland St (at Nelson St)",
               "Vancouver BC V6B 5P9",
               "Canada"
              ],
              "labeledLatLngs": [
               {
                "label": "display",
                "lat": 49.276623062726536,
                "lng": -123.11944195607948
               }
              ],
              "lat": 49.276623062726536,
              "lng": -123.11944195607948,
              "postalCode": "V6B 5P9",
              "state": "BC"
             },
             "name": "The Keg Steakhouse + Bar - Yaletown",
             "photos": {
              "count": 0,
              "groups": []
             }
            }
           },
           {
            "reasons": {
             "count": 0,
             "items": [
              {
               "reasonName": "globalInteractionReason",
               "summary": "This spot is popular",
               "type": "general"
              }
             ]
            },
            "referralId": "e-0-52dec1e1498e71f308720349-53",
            "venue": {
             "categories": [
              {
               "icon": {
                "prefix": "https://ss3.4sqi.net/img/categories_v2/food/coffeeshop_",
                "suffix": ".png"
               },
               "id": "4bf58dd8d48988d1e0931735",
               "name": "Coffee Shop",
               "pluralName": "Coffee Shops",
               "primary": true,
               "shortName": "Coffee Shop"
              }
             ],
             "id": "52dec1e1498e71f308720349",
             "location": {
              "address": "311 W Cordova St",
              "cc": "CA",
              "city": "Vancouver",
              "country": "Canada",
              "crossStreet": "btwn Homer & Cambie",
              "distance": 643,
              "formattedAddress": [
               "311 W Cordova St (btwn Homer & Cambie)",
               "Vancouver BC V6B 4K2",
               "Canada"
              ],
              "labeledLatLngs": [
               {
                "label": "display",
                "lat": 49.28385800135924,
                "lng": -123.10962180383702
               }
              ],
              "lat": 49.28385800135924,
              "lng": -123.10962180383702,
              "postalCode": "V6B 4K2",
              "state": "BC"
             },
             "name": "Timbertrain Coffee Roasters",
             "photos": {
              "count": 0,
              "groups": []
             }
            }
           },
           {
            "reasons": {
             "count": 0,
             "items": [
              {
               "reasonName": "globalInteractionReason",
               "summary": "This spot is popular",
               "type": "general"
              }
             ]
            },
            "referralId": "e-0-4c5c3034bfa5952127826eff-54",
            "venue": {
             "categories": [
              {
               "icon": {
                "prefix": "https://ss3.4sqi.net/img/categories_v2/shops/gym_yogastudio_",
                "suffix": ".png"
               },
               "id": "4bf58dd8d48988d102941735",
               "name": "Yoga Studio",
               "pluralName": "Yoga Studios",
               "primary": true,
               "shortName": "Yoga Studio"
              }
             ],
             "id": "4c5c3034bfa5952127826eff",
             "location": {
              "address": "1038 Mainland St.",
              "cc": "CA",
              "city": "Vancouver",
              "country": "Canada",
              "crossStreet": "btwn Helmcken St. & Nelson St.",
              "distance": 539,
              "formattedAddress": [
               "1038 Mainland St. (btwn Helmcken St. & Nelson St.)",
               "Vancouver BC V6B 2T4",
               "Canada"
              ],
              "labeledLatLngs": [
               {
                "label": "display",
                "lat": 49.27595804901435,
                "lng": -123.1199110557957
               }
              ],
              "lat": 49.27595804901435,
              "lng": -123.1199110557957,
              "postalCode": "V6B 2T4",
              "state": "BC"
             },
             "name": "Barre Fitness",
             "photos": {
              "count": 0,
              "groups": []
             }
            }
           },
           {
            "reasons": {
             "count": 0,
             "items": [
              {
               "reasonName": "globalInteractionReason",
               "summary": "This spot is popular",
               "type": "general"
              }
             ]
            },
            "referralId": "e-0-4aa73a1af964a5205f4c20e3-55",
            "venue": {
             "categories": [
              {
               "icon": {
                "prefix": "https://ss3.4sqi.net/img/categories_v2/shops/bookstore_",
                "suffix": ".png"
               },
               "id": "4bf58dd8d48988d114951735",
               "name": "Bookstore",
               "pluralName": "Bookstores",
               "primary": true,
               "shortName": "Bookstore"
              }
             ],
             "id": "4aa73a1af964a5205f4c20e3",
             "location": {
              "address": "455 Pender St W",
              "cc": "CA",
              "city": "Vancouver",
              "country": "Canada",
              "crossStreet": "at Richards St.",
              "distance": 528,
              "formattedAddress": [
               "455 Pender St W (at Richards St.)",
               "Vancouver BC V6B 1V2",
               "Canada"
              ],
              "labeledLatLngs": [
               {
                "label": "display",
                "lat": 49.28349534177548,
                "lng": -123.1128127453969
               }
              ],
              "lat": 49.28349534177548,
              "lng": -123.1128127453969,
              "postalCode": "V6B 1V2",
              "state": "BC"
             },
             "name": "MacLeod's Books",
             "photos": {
              "count": 0,
              "groups": []
             }
            }
           },
           {
            "reasons": {
             "count": 0,
             "items": [
              {
               "reasonName": "globalInteractionReason",
               "summary": "This spot is popular",
               "type": "general"
              }
             ]
            },
            "referralId": "e-0-4ba59d68f964a520bd1639e3-56",
            "venue": {
             "categories": [
              {
               "icon": {
                "prefix": "https://ss3.4sqi.net/img/categories_v2/travel/hotel_",
                "suffix": ".png"
               },
               "id": "4bf58dd8d48988d1fa931735",
               "name": "Hotel",
               "pluralName": "Hotels",
               "primary": true,
               "shortName": "Hotel"
              }
             ],
             "id": "4ba59d68f964a520bd1639e3",
             "location": {
              "address": "845 Hornby St.",
              "cc": "CA",
              "city": "Vancouver",
              "country": "Canada",
              "crossStreet": "btwn Robson & Smithe",
              "distance": 711,
              "formattedAddress": [
               "845 Hornby St. (btwn Robson & Smithe)",
               "Vancouver BC V6Z 1V1",
               "Canada"
              ],
              "labeledLatLngs": [
               {
                "label": "display",
                "lat": 49.28216333727451,
                "lng": -123.12223713622552
               }
              ],
              "lat": 49.28216333727451,
              "lng": -123.12223713622552,
              "postalCode": "V6Z 1V1",
              "state": "BC"
             },
             "name": "Wedgewood Hotel",
             "photos": {
              "count": 0,
              "groups": []
             }
            }
           },
           {
            "reasons": {
             "count": 0,
             "items": [
              {
               "reasonName": "globalInteractionReason",
               "summary": "This spot is popular",
               "type": "general"
              }
             ]
            },
            "referralId": "e-0-556564b2498e48d633bfe169-57",
            "venue": {
             "categories": [
              {
               "icon": {
                "prefix": "https://ss3.4sqi.net/img/categories_v2/food/seafood_",
                "suffix": ".png"
               },
               "id": "4bf58dd8d48988d1ce941735",
               "name": "Seafood Restaurant",
               "pluralName": "Seafood Restaurants",
               "primary": true,
               "shortName": "Seafood"
              }
             ],
             "id": "556564b2498e48d633bfe169",
             "location": {
              "address": "1079 Mainland",
              "cc": "CA",
              "city": "Vancouver",
              "country": "Canada",
              "distance": 564,
              "formattedAddress": [
               "1079 Mainland",
               "Vancouver BC",
               "Canada"
              ],
              "labeledLatLngs": [
               {
                "label": "display",
                "lat": 49.2758477539772,
                "lng": -123.12022129538646
               }
              ],
              "lat": 49.2758477539772,
              "lng": -123.12022129538646,
              "state": "BC"
             },
             "name": "WildTale Coastal Grill",
             "photos": {
              "count": 0,
              "groups": []
             }
            }
           },
           {
            "reasons": {
             "count": 0,
             "items": [
              {
               "reasonName": "globalInteractionReason",
               "summary": "This spot is popular",
               "type": "general"
              }
             ]
            },
            "referralId": "e-0-51742960498e908f74206e41-58",
            "venue": {
             "categories": [
              {
               "icon": {
                "prefix": "https://ss3.4sqi.net/img/categories_v2/food/burger_",
                "suffix": ".png"
               },
               "id": "4bf58dd8d48988d16c941735",
               "name": "Burger Joint",
               "pluralName": "Burger Joints",
               "primary": true,
               "shortName": "Burgers"
              }
             ],
             "id": "51742960498e908f74206e41",
             "location": {
              "address": "635 Robson Street",
              "cc": "CA",
              "city": "Vancouver",
              "country": "Canada",
              "crossStreet": "btwn Seymour & Granville",
              "distance": 445,
              "formattedAddress": [
               "635 Robson Street (btwn Seymour & Granville)",
               "Vancouver BC V6B 5J3",
               "Canada"
              ],
              "labeledLatLngs": [
               {
                "label": "display",
                "lat": 49.28107849735972,
                "lng": -123.11894014307133
               }
              ],
              "lat": 49.28107849735972,
              "lng": -123.11894014307133,
              "postalCode": "V6B 5J3",
              "state": "BC"
             },
             "name": "Five Guys",
             "photos": {
              "count": 0,
              "groups": []
             }
            }
           },
           {
            "reasons": {
             "count": 0,
             "items": [
              {
               "reasonName": "globalInteractionReason",
               "summary": "This spot is popular",
               "type": "general"
              }
             ]
            },
            "referralId": "e-0-4abea310f964a520ff8e20e3-59",
            "venue": {
             "categories": [
              {
               "icon": {
                "prefix": "https://ss3.4sqi.net/img/categories_v2/food/default_",
                "suffix": ".png"
               },
               "id": "4bf58dd8d48988d1c4941735",
               "name": "Restaurant",
               "pluralName": "Restaurants",
               "primary": true,
               "shortName": "Restaurant"
              }
             ],
             "id": "4abea310f964a520ff8e20e3",
             "location": {
              "address": "162 Water St",
              "cc": "CA",
              "city": "Vancouver",
              "country": "Canada",
              "crossStreet": "btwn Cambie & Abbott",
              "distance": 726,
              "formattedAddress": [
               "162 Water St (btwn Cambie & Abbott)",
               "Vancouver BC V6B 2M9",
               "Canada"
              ],
              "labeledLatLngs": [
               {
                "label": "display",
                "lat": 49.284221965846754,
                "lng": -123.1083297558511
               }
              ],
              "lat": 49.284221965846754,
              "lng": -123.1083297558511,
              "postalCode": "V6B 2M9",
              "state": "BC"
             },
             "name": "Pourhouse",
             "photos": {
              "count": 0,
              "groups": []
             }
            }
           },
           {
            "reasons": {
             "count": 0,
             "items": [
              {
               "reasonName": "globalInteractionReason",
               "summary": "This spot is popular",
               "type": "general"
              }
             ]
            },
            "referralId": "e-0-4ac7b374f964a52033b920e3-60",
            "venue": {
             "categories": [
              {
               "icon": {
                "prefix": "https://ss3.4sqi.net/img/categories_v2/shops/furniture_",
                "suffix": ".png"
               },
               "id": "4bf58dd8d48988d1f8941735",
               "name": "Furniture / Home Store",
               "pluralName": "Furniture / Home Stores",
               "primary": true,
               "shortName": "Furniture / Home"
              }
             ],
             "id": "4ac7b374f964a52033b920e3",
             "location": {
              "address": "1198 Homer St",
              "cc": "CA",
              "city": "Vancouver",
              "country": "Canada",
              "crossStreet": "at Davie St",
              "distance": 775,
              "formattedAddress": [
               "1198 Homer St (at Davie St)",
               "Vancouver BC V6B 2X6",
               "Canada"
              ],
              "labeledLatLngs": [
               {
                "label": "display",
                "lat": 49.27515993670403,
                "lng": -123.12301047546282
               }
              ],
              "lat": 49.27515993670403,
              "lng": -123.12301047546282,
              "postalCode": "V6B 2X6",
              "state": "BC"
             },
             "name": "The Cross Decor & Design",
             "photos": {
              "count": 0,
              "groups": []
             },
             "venuePage": {
              "id": "50011101"
             }
            }
           },
           {
            "reasons": {
             "count": 0,
             "items": [
              {
               "reasonName": "globalInteractionReason",
               "summary": "This spot is popular",
               "type": "general"
              }
             ]
            },
            "referralId": "e-0-4ac8e0f8f964a52006bd20e3-61",
            "venue": {
             "categories": [
              {
               "icon": {
                "prefix": "https://ss3.4sqi.net/img/categories_v2/parks_outdoors/hikingtrail_",
                "suffix": ".png"
               },
               "id": "4bf58dd8d48988d159941735",
               "name": "Trail",
               "pluralName": "Trails",
               "primary": true,
               "shortName": "Trail"
              }
             ],
             "id": "4ac8e0f8f964a52006bd20e3",
             "location": {
              "address": "1177 Marinaside Crescent",
              "cc": "CA",
              "city": "Vancouver",
              "country": "Canada",
              "crossStreet": "at Davie St",
              "distance": 777,
              "formattedAddress": [
               "1177 Marinaside Crescent (at Davie St)",
               "Vancouver BC V6Z 2Y3",
               "Canada"
              ],
              "labeledLatLngs": [
               {
                "label": "display",
                "lat": 49.272912,
                "lng": -123.119653
               }
              ],
              "lat": 49.272912,
              "lng": -123.119653,
              "postalCode": "V6Z 2Y3",
              "state": "BC"
             },
             "name": "Marinaside Seawall",
             "photos": {
              "count": 0,
              "groups": []
             }
            }
           },
           {
            "reasons": {
             "count": 0,
             "items": [
              {
               "reasonName": "globalInteractionReason",
               "summary": "This spot is popular",
               "type": "general"
              }
             ]
            },
            "referralId": "e-0-4aac074af964a520b85b20e3-62",
            "venue": {
             "categories": [
              {
               "icon": {
                "prefix": "https://ss3.4sqi.net/img/categories_v2/shops/apparel_boutique_",
                "suffix": ".png"
               },
               "id": "4bf58dd8d48988d104951735",
               "name": "Boutique",
               "pluralName": "Boutiques",
               "primary": true,
               "shortName": "Boutique"
              }
             ],
             "id": "4aac074af964a520b85b20e3",
             "location": {
              "address": "303 W. Cordova St.",
              "cc": "CA",
              "city": "Vancouver",
              "country": "Canada",
              "crossStreet": "at Cambie St.",
              "distance": 644,
              "formattedAddress": [
               "303 W. Cordova St. (at Cambie St.)",
               "Vancouver BC V6B 1E5",
               "Canada"
              ],
              "labeledLatLngs": [
               {
                "label": "display",
                "lat": 49.28373098438669,
                "lng": -123.10924095520078
               }
              ],
              "lat": 49.28373098438669,
              "lng": -123.10924095520078,
              "postalCode": "V6B 1E5",
              "state": "BC"
             },
             "name": "Dutil Denim",
             "photos": {
              "count": 0,
              "groups": []
             }
            }
           },
           {
            "reasons": {
             "count": 0,
             "items": [
              {
               "reasonName": "globalInteractionReason",
               "summary": "This spot is popular",
               "type": "general"
              }
             ]
            },
            "referralId": "e-0-5106fafce4b08b6e9833b1fd-63",
            "venue": {
             "categories": [
              {
               "icon": {
                "prefix": "https://ss3.4sqi.net/img/categories_v2/food/cafe_",
                "suffix": ".png"
               },
               "id": "4bf58dd8d48988d16d941735",
               "name": "Café",
               "pluralName": "Cafés",
               "primary": true,
               "shortName": "Café"
              }
             ],
             "id": "5106fafce4b08b6e9833b1fd",
             "location": {
              "address": "33 W Hastings St",
              "cc": "CA",
              "city": "Vancouver",
              "country": "Canada",
              "crossStreet": "btwn Abbott & Carrall",
              "distance": 670,
              "formattedAddress": [
               "33 W Hastings St (btwn Abbott & Carrall)",
               "Vancouver BC V6B 1G4",
               "Canada"
              ],
              "labeledLatLngs": [
               {
                "label": "display",
                "lat": 49.281765358874814,
                "lng": -123.10586088485758
               }
              ],
              "lat": 49.281765358874814,
              "lng": -123.10586088485758,
              "postalCode": "V6B 1G4",
              "state": "BC"
             },
             "name": "Lost + Found",
             "photos": {
              "count": 0,
              "groups": []
             }
            }
           },
           {
            "reasons": {
             "count": 0,
             "items": [
              {
               "reasonName": "globalInteractionReason",
               "summary": "This spot is popular",
               "type": "general"
              }
             ]
            },
            "referralId": "e-0-502412a1e4b065daa51edf5c-64",
            "venue": {
             "categories": [
              {
               "icon": {
                "prefix": "https://ss3.4sqi.net/img/categories_v2/food/streetfood_",
                "suffix": ".png"
               },
               "id": "4bf58dd8d48988d1cb941735",
               "name": "Food Truck",
               "pluralName": "Food Trucks",
               "primary": true,
               "shortName": "Food Truck"
              }
             ],
             "id": "502412a1e4b065daa51edf5c",
             "location": {
              "address": "Howe Street",
              "cc": "CA",
              "city": "Vancouver",
              "country": "Canada",
              "crossStreet": "Dunsmuir",
              "distance": 648,
              "formattedAddress": [
               "Howe Street (Dunsmuir)",
               "Vancouver BC",
               "Canada"
              ],
              "labeledLatLngs": [
               {
                "label": "display",
                "lat": 49.284118445905925,
                "lng": -123.11753137922082
               }
              ],
              "lat": 49.284118445905925,
              "lng": -123.11753137922082,
              "state": "BC"
             },
             "name": "Mogu: Japanese Street Eats",
             "photos": {
              "count": 0,
              "groups": []
             }
            }
           },
           {
            "reasons": {
             "count": 0,
             "items": [
              {
               "reasonName": "globalInteractionReason",
               "summary": "This spot is popular",
               "type": "general"
              }
             ]
            },
            "referralId": "e-0-4e2901b5b61c41a2f8a38ab3-65",
            "venue": {
             "categories": [
              {
               "icon": {
                "prefix": "https://ss3.4sqi.net/img/categories_v2/food/default_",
                "suffix": ".png"
               },
               "id": "4bf58dd8d48988d1c4941735",
               "name": "Restaurant",
               "pluralName": "Restaurants",
               "primary": true,
               "shortName": "Restaurant"
              }
             ],
             "id": "4e2901b5b61c41a2f8a38ab3",
             "location": {
              "address": "1168 Hamilton St",
              "cc": "CA",
              "city": "Vancouver",
              "country": "Canada",
              "crossStreet": "btwn Davie & Helmcken St",
              "distance": 720,
              "formattedAddress": [
               "1168 Hamilton St (btwn Davie & Helmcken St)",
               "Vancouver BC V6B 2S2",
               "Canada"
              ],
              "labeledLatLngs": [
               {
                "label": "display",
                "lat": 49.27526846272362,
                "lng": -123.12221995760233
               }
              ],
              "lat": 49.27526846272362,
              "lng": -123.12221995760233,
              "postalCode": "V6B 2S2",
              "state": "BC"
             },
             "name": "The Flying Pig Yaletown",
             "photos": {
              "count": 0,
              "groups": []
             }
            }
           },
           {
            "reasons": {
             "count": 0,
             "items": [
              {
               "reasonName": "globalInteractionReason",
               "summary": "This spot is popular",
               "type": "general"
              }
             ]
            },
            "referralId": "e-0-4c8acacc3dc2a1cdad5bb032-66",
            "venue": {
             "categories": [
              {
               "icon": {
                "prefix": "https://ss3.4sqi.net/img/categories_v2/shops/default_",
                "suffix": ".png"
               },
               "id": "52f2ab2ebcbc57f1066b8b2b",
               "name": "Leather Goods Store",
               "pluralName": "Leather Goods Stores",
               "primary": true,
               "shortName": "Leather Goods"
              }
             ],
             "id": "4c8acacc3dc2a1cdad5bb032",
             "location": {
              "address": "737 Dunsmuir St., Holt Renfrew",
              "cc": "CA",
              "city": "Vancouver",
              "country": "Canada",
              "crossStreet": "Granville St",
              "distance": 619,
              "formattedAddress": [
               "737 Dunsmuir St., Holt Renfrew (Granville St)",
               "Vancouver BC V7Y 1E4",
               "Canada"
              ],
              "labeledLatLngs": [
               {
                "label": "display",
                "lat": 49.2841369,
                "lng": -123.1163123
               }
              ],
              "lat": 49.2841369,
              "lng": -123.1163123,
              "postalCode": "V7Y 1E4",
              "state": "BC"
             },
             "name": "Louis Vuitton Holt Renfrew Vancouver",
             "photos": {
              "count": 0,
              "groups": []
             }
            }
           },
           {
            "reasons": {
             "count": 0,
             "items": [
              {
               "reasonName": "globalInteractionReason",
               "summary": "This spot is popular",
               "type": "general"
              }
             ]
            },
            "referralId": "e-0-4d524496529dcbff4ab3e4c4-67",
            "venue": {
             "categories": [
              {
               "icon": {
                "prefix": "https://ss3.4sqi.net/img/categories_v2/food/deli_",
                "suffix": ".png"
               },
               "id": "4bf58dd8d48988d1c5941735",
               "name": "Sandwich Place",
               "pluralName": "Sandwich Places",
               "primary": true,
               "shortName": "Sandwiches"
              }
             ],
             "id": "4d524496529dcbff4ab3e4c4",
             "location": {
              "address": "859 Hornby St",
              "cc": "CA",
              "city": "Vancouver",
              "country": "Canada",
              "crossStreet": "btwn Robson & Smithe",
              "distance": 746,
              "formattedAddress": [
               "859 Hornby St (btwn Robson & Smithe)",
               "Vancouver BC V6Z 1T9",
               "Canada"
              ],
              "labeledLatLngs": [
               {
                "label": "display",
                "lat": 49.282078,
                "lng": -123.12287
               }
              ],
              "lat": 49.282078,
              "lng": -123.12287,
              "postalCode": "V6Z 1T9",
              "state": "BC"
             },
             "name": "Hubbub Sandwiches",
             "photos": {
              "count": 0,
              "groups": []
             }
            }
           },
           {
            "reasons": {
             "count": 0,
             "items": [
              {
               "reasonName": "globalInteractionReason",
               "summary": "This spot is popular",
               "type": "general"
              }
             ]
            },
            "referralId": "e-0-4aa7b152f964a520fa4c20e3-68",
            "venue": {
             "categories": [
              {
               "icon": {
                "prefix": "https://ss3.4sqi.net/img/categories_v2/travel/hotel_",
                "suffix": ".png"
               },
               "id": "4bf58dd8d48988d1fa931735",
               "name": "Hotel",
               "pluralName": "Hotels",
               "primary": true,
               "shortName": "Hotel"
              }
             ],
             "id": "4aa7b152f964a520fa4c20e3",
             "location": {
              "address": "655 Burrard St",
              "cc": "CA",
              "city": "Vancouver",
              "country": "Canada",
              "crossStreet": "at Melville St",
              "distance": 830,
              "formattedAddress": [
               "655 Burrard St (at Melville St)",
               "Vancouver BC V6C 2R7",
               "Canada"
              ],
              "labeledLatLngs": [
               {
                "label": "display",
                "lat": 49.284933576325365,
                "lng": -123.12040717326492
               }
              ],
              "lat": 49.284933576325365,
              "lng": -123.12040717326492,
              "neighborhood": "Downtown",
              "postalCode": "V6C 2R7",
              "state": "BC"
             },
             "name": "Hyatt Regency Vancouver",
             "photos": {
              "count": 0,
              "groups": []
             }
            }
           },
           {
            "reasons": {
             "count": 0,
             "items": [
              {
               "reasonName": "globalInteractionReason",
               "summary": "This spot is popular",
               "type": "general"
              }
             ]
            },
            "referralId": "e-0-507f01b790e746e865f024c3-69",
            "venue": {
             "categories": [
              {
               "icon": {
                "prefix": "https://ss3.4sqi.net/img/categories_v2/shops/apparel_lingerie_",
                "suffix": ".png"
               },
               "id": "4bf58dd8d48988d109951735",
               "name": "Lingerie Store",
               "pluralName": "Lingerie Stores",
               "primary": true,
               "shortName": "Lingerie"
              }
             ],
             "id": "507f01b790e746e865f024c3",
             "location": {
              "address": "750 Burrard St",
              "cc": "CA",
              "city": "Vancouver",
              "country": "Canada",
              "crossStreet": "at Robson St",
              "distance": 805,
              "formattedAddress": [
               "750 Burrard St (at Robson St)",
               "Vancouver BC V6Z 1X5",
               "Canada"
              ],
              "labeledLatLngs": [
               {
                "label": "display",
                "lat": 49.28337166041721,
                "lng": -123.12249106575216
               }
              ],
              "lat": 49.28337166041721,
              "lng": -123.12249106575216,
              "postalCode": "V6Z 1X5",
              "state": "BC"
             },
             "name": "Victoria's Secret",
             "photos": {
              "count": 0,
              "groups": []
             }
            }
           },
           {
            "reasons": {
             "count": 0,
             "items": [
              {
               "reasonName": "globalInteractionReason",
               "summary": "This spot is popular",
               "type": "general"
              }
             ]
            },
            "referralId": "e-0-56bd4b6b498e49bd59cacab0-70",
            "venue": {
             "categories": [
              {
               "icon": {
                "prefix": "https://ss3.4sqi.net/img/categories_v2/food/vegetarian_",
                "suffix": ".png"
               },
               "id": "4bf58dd8d48988d1d3941735",
               "name": "Vegetarian / Vegan Restaurant",
               "pluralName": "Vegetarian / Vegan Restaurants",
               "primary": true,
               "shortName": "Vegetarian / Vegan"
              }
             ],
             "id": "56bd4b6b498e49bd59cacab0",
             "location": {
              "address": "12 Water St",
              "cc": "CA",
              "city": "Vancouver",
              "country": "Canada",
              "crossStreet": "btwn Abbott St & Carrall St",
              "distance": 827,
              "formattedAddress": [
               "12 Water St (btwn Abbott St & Carrall St)",
               "Vancouver BC",
               "Canada"
              ],
              "labeledLatLngs": [
               {
                "label": "display",
                "lat": 49.28330851123337,
                "lng": -123.10484811523834
               }
              ],
              "lat": 49.28330851123337,
              "lng": -123.10484811523834,
              "state": "BC"
             },
             "name": "Meet in Gastown",
             "photos": {
              "count": 0,
              "groups": []
             }
            }
           },
           {
            "reasons": {
             "count": 0,
             "items": [
              {
               "reasonName": "globalInteractionReason",
               "summary": "This spot is popular",
               "type": "general"
              }
             ]
            },
            "referralId": "e-0-5b1aebbd4a7aae002cb1b99d-71",
            "venue": {
             "categories": [
              {
               "icon": {
                "prefix": "https://ss3.4sqi.net/img/categories_v2/shops/apparel_accessories_",
                "suffix": ".png"
               },
               "id": "4bf58dd8d48988d102951735",
               "name": "Accessories Store",
               "pluralName": "Accessories Stores",
               "primary": true,
               "shortName": "Accessories"
              }
             ],
             "id": "5b1aebbd4a7aae002cb1b99d",
             "location": {
              "address": "347 Water St",
              "cc": "CA",
              "city": "Vancouver",
              "country": "Canada",
              "distance": 699,
              "formattedAddress": [
               "347 Water St",
               "Vancouver BC V6B 1B8",
               "Canada"
              ],
              "labeledLatLngs": [
               {
                "label": "display",
                "lat": 49.28455676573688,
                "lng": -123.11005463899691
               }
              ],
              "lat": 49.28455676573688,
              "lng": -123.11005463899691,
              "postalCode": "V6B 1B8",
              "state": "BC"
             },
             "name": "Herschel Supply Co. Gastown",
             "photos": {
              "count": 0,
              "groups": []
             }
            }
           },
           {
            "reasons": {
             "count": 0,
             "items": [
              {
               "reasonName": "globalInteractionReason",
               "summary": "This spot is popular",
               "type": "general"
              }
             ]
            },
            "referralId": "e-0-4aad3bc3f964a520255f20e3-72",
            "venue": {
             "categories": [
              {
               "icon": {
                "prefix": "https://ss3.4sqi.net/img/categories_v2/food/french_",
                "suffix": ".png"
               },
               "id": "4bf58dd8d48988d10c941735",
               "name": "French Restaurant",
               "pluralName": "French Restaurants",
               "primary": true,
               "shortName": "French"
              }
             ],
             "id": "4aad3bc3f964a520255f20e3",
             "location": {
              "address": "1177 Marinaside Crescent",
              "cc": "CA",
              "city": "Vancouver",
              "country": "Canada",
              "crossStreet": "at Davie St.",
              "distance": 757,
              "formattedAddress": [
               "1177 Marinaside Crescent (at Davie St.)",
               "Vancouver BC V6Z 2Y3",
               "Canada"
              ],
              "labeledLatLngs": [
               {
                "label": "display",
                "lat": 49.27312298947182,
                "lng": -123.1196503464242
               }
              ],
              "lat": 49.27312298947182,
              "lng": -123.1196503464242,
              "postalCode": "V6Z 2Y3",
              "state": "BC"
             },
             "name": "Provence Marinaside Seafood Restaurant Bar & Grill",
             "photos": {
              "count": 0,
              "groups": []
             }
            }
           },
           {
            "reasons": {
             "count": 0,
             "items": [
              {
               "reasonName": "globalInteractionReason",
               "summary": "This spot is popular",
               "type": "general"
              }
             ]
            },
            "referralId": "e-0-55831809498eb7238a4bd305-73",
            "venue": {
             "categories": [
              {
               "icon": {
                "prefix": "https://ss3.4sqi.net/img/categories_v2/food/vietnamese_",
                "suffix": ".png"
               },
               "id": "4bf58dd8d48988d14a941735",
               "name": "Vietnamese Restaurant",
               "pluralName": "Vietnamese Restaurants",
               "primary": true,
               "shortName": "Vietnamese"
              }
             ],
             "id": "55831809498eb7238a4bd305",
             "location": {
              "address": "550 W Hastings St",
              "cc": "CA",
              "city": "Vancouver",
              "country": "Canada",
              "distance": 624,
              "formattedAddress": [
               "550 W Hastings St",
               "Vancouver BC V6B 1L6",
               "Canada"
              ],
              "labeledLatLngs": [
               {
                "label": "display",
                "lat": 49.284309027597644,
                "lng": -123.11228960276179
               }
              ],
              "lat": 49.284309027597644,
              "lng": -123.11228960276179,
              "postalCode": "V6B 1L6",
              "state": "BC"
             },
             "name": "Pholicious",
             "photos": {
              "count": 0,
              "groups": []
             }
            }
           },
           {
            "reasons": {
             "count": 0,
             "items": [
              {
               "reasonName": "globalInteractionReason",
               "summary": "This spot is popular",
               "type": "general"
              }
             ]
            },
            "referralId": "e-0-551045fe498e2de04c7cc1b7-74",
            "venue": {
             "categories": [
              {
               "icon": {
                "prefix": "https://ss3.4sqi.net/img/categories_v2/food/vegetarian_",
                "suffix": ".png"
               },
               "id": "4bf58dd8d48988d1d3941735",
               "name": "Vegetarian / Vegan Restaurant",
               "pluralName": "Vegetarian / Vegan Restaurants",
               "primary": true,
               "shortName": "Vegetarian / Vegan"
              }
             ],
             "id": "551045fe498e2de04c7cc1b7",
             "location": {
              "address": "436 Richard St",
              "cc": "CA",
              "city": "Vancouver",
              "country": "Canada",
              "crossStreet": "Hastings St",
              "distance": 537,
              "formattedAddress": [
               "436 Richard St (Hastings St)",
               "Vancouver BC V6B 2Z3",
               "Canada"
              ],
              "labeledLatLngs": [
               {
                "label": "display",
                "lat": 49.28356580138236,
                "lng": -123.11269883375374
               }
              ],
              "lat": 49.28356580138236,
              "lng": -123.11269883375374,
              "neighborhood": "Financial District",
              "postalCode": "V6B 2Z3",
              "state": "BC"
             },
             "name": "Indigo Age",
             "photos": {
              "count": 0,
              "groups": []
             }
            }
           },
           {
            "reasons": {
             "count": 0,
             "items": [
              {
               "reasonName": "globalInteractionReason",
               "summary": "This spot is popular",
               "type": "general"
              }
             ]
            },
            "referralId": "e-0-4dc9a94cd22d2af63302269c-75",
            "venue": {
             "categories": [
              {
               "icon": {
                "prefix": "https://ss3.4sqi.net/img/categories_v2/food/breakfast_",
                "suffix": ".png"
               },
               "id": "4bf58dd8d48988d143941735",
               "name": "Breakfast Spot",
               "pluralName": "Breakfast Spots",
               "primary": true,
               "shortName": "Breakfast"
              }
             ],
             "id": "4dc9a94cd22d2af63302269c",
             "location": {
              "address": "315 Carrall St",
              "cc": "CA",
              "city": "Vancouver",
              "country": "Canada",
              "crossStreet": "btwn Cordova & Hastings",
              "distance": 794,
              "formattedAddress": [
               "315 Carrall St (btwn Cordova & Hastings)",
               "Vancouver BC V6A 0A7",
               "Canada"
              ],
              "labeledLatLngs": [
               {
                "label": "display",
                "lat": 49.28219993734314,
                "lng": -123.10427727194941
               }
              ],
              "lat": 49.28219993734314,
              "lng": -123.10427727194941,
              "postalCode": "V6A 0A7",
              "state": "BC"
             },
             "name": "Nelson the Seagull",
             "photos": {
              "count": 0,
              "groups": []
             }
            }
           },
           {
            "reasons": {
             "count": 0,
             "items": [
              {
               "reasonName": "globalInteractionReason",
               "summary": "This spot is popular",
               "type": "general"
              }
             ]
            },
            "referralId": "e-0-4af0f4e4f964a5204ae021e3-76",
            "venue": {
             "categories": [
              {
               "icon": {
                "prefix": "https://ss3.4sqi.net/img/categories_v2/travel/hotel_",
                "suffix": ".png"
               },
               "id": "4bf58dd8d48988d1fa931735",
               "name": "Hotel",
               "pluralName": "Hotels",
               "primary": true,
               "shortName": "Hotel"
              }
             ],
             "id": "4af0f4e4f964a5204ae021e3",
             "location": {
              "address": "900 W Georgia St",
              "cc": "CA",
              "city": "Vancouver",
              "country": "Canada",
              "crossStreet": "btwn Burrard & Hornby",
              "distance": 753,
              "formattedAddress": [
               "900 W Georgia St (btwn Burrard & Hornby)",
               "Vancouver BC V6C 2W6",
               "Canada"
              ],
              "labeledLatLngs": [
               {
                "label": "display",
                "lat": 49.2839753036525,
                "lng": -123.12059786677693
               }
              ],
              "lat": 49.2839753036525,
              "lng": -123.12059786677693,
              "postalCode": "V6C 2W6",
              "state": "BC"
             },
             "name": "The Fairmont Hotel Vancouver",
             "photos": {
              "count": 0,
              "groups": []
             }
            }
           },
           {
            "reasons": {
             "count": 0,
             "items": [
              {
               "reasonName": "globalInteractionReason",
               "summary": "This spot is popular",
               "type": "general"
              }
             ]
            },
            "referralId": "e-0-4aa7fb69f964a5207e4e20e3-77",
            "venue": {
             "categories": [
              {
               "icon": {
                "prefix": "https://ss3.4sqi.net/img/categories_v2/food/sushi_",
                "suffix": ".png"
               },
               "id": "4bf58dd8d48988d1d2941735",
               "name": "Sushi Restaurant",
               "pluralName": "Sushi Restaurants",
               "primary": true,
               "shortName": "Sushi"
              }
             ],
             "id": "4aa7fb69f964a5207e4e20e3",
             "location": {
              "address": "101-1123 Mainland St.",
              "cc": "CA",
              "city": "Vancouver",
              "country": "Canada",
              "crossStreet": "Helmcken St",
              "distance": 647,
              "formattedAddress": [
               "101-1123 Mainland St. (Helmcken St)",
               "Vancouver BC V6B 5P2",
               "Canada"
              ],
              "labeledLatLngs": [
               {
                "label": "display",
                "lat": 49.27528982955787,
                "lng": -123.12100240903841
               }
              ],
              "lat": 49.27528982955787,
              "lng": -123.12100240903841,
              "postalCode": "V6B 5P2",
              "state": "BC"
             },
             "name": "Bistro Sakana",
             "photos": {
              "count": 0,
              "groups": []
             }
            }
           },
           {
            "reasons": {
             "count": 0,
             "items": [
              {
               "reasonName": "globalInteractionReason",
               "summary": "This spot is popular",
               "type": "general"
              }
             ]
            },
            "referralId": "e-0-4adbc696f964a5208f2a21e3-78",
            "venue": {
             "categories": [
              {
               "icon": {
                "prefix": "https://ss3.4sqi.net/img/categories_v2/food/dessert_",
                "suffix": ".png"
               },
               "id": "4bf58dd8d48988d1d0941735",
               "name": "Dessert Shop",
               "pluralName": "Dessert Shops",
               "primary": true,
               "shortName": "Desserts"
              }
             ],
             "id": "4adbc696f964a5208f2a21e3",
             "location": {
              "address": "1017 Robson St.",
              "cc": "CA",
              "city": "Vancouver",
              "country": "Canada",
              "crossStreet": "at Burrard St.",
              "distance": 868,
              "formattedAddress": [
               "1017 Robson St. (at Burrard St.)",
               "Vancouver BC V6E 1A9",
               "Canada"
              ],
              "labeledLatLngs": [
               {
                "label": "display",
                "lat": 49.28362580682297,
                "lng": -123.12330593304087
               }
              ],
              "lat": 49.28362580682297,
              "lng": -123.12330593304087,
              "postalCode": "V6E 1A9",
              "state": "BC"
             },
             "name": "Rocky Mountain Chocolate Factory",
             "photos": {
              "count": 0,
              "groups": []
             }
            }
           },
           {
            "reasons": {
             "count": 0,
             "items": [
              {
               "reasonName": "globalInteractionReason",
               "summary": "This spot is popular",
               "type": "general"
              }
             ]
            },
            "referralId": "e-0-4da94ba44b22f071ea9b959d-79",
            "venue": {
             "categories": [
              {
               "icon": {
                "prefix": "https://ss3.4sqi.net/img/categories_v2/food/mexican_",
                "suffix": ".png"
               },
               "id": "4bf58dd8d48988d1c1941735",
               "name": "Mexican Restaurant",
               "pluralName": "Mexican Restaurants",
               "primary": true,
               "shortName": "Mexican"
              }
             ],
             "id": "4da94ba44b22f071ea9b959d",
             "location": {
              "address": "1049 Granville St",
              "cc": "CA",
              "city": "Vancouver",
              "country": "Canada",
              "crossStreet": "btwn Nelson & Helmcken",
              "distance": 730,
              "formattedAddress": [
               "1049 Granville St (btwn Nelson & Helmcken)",
               "Vancouver BC V6Z 1L4",
               "Canada"
              ],
              "labeledLatLngs": [
               {
                "label": "display",
                "lat": 49.27877806840367,
                "lng": -123.12395347847574
               }
              ],
              "lat": 49.27877806840367,
              "lng": -123.12395347847574,
              "postalCode": "V6Z 1L4",
              "state": "BC"
             },
             "name": "The Mexican",
             "photos": {
              "count": 0,
              "groups": []
             }
            }
           },
           {
            "reasons": {
             "count": 0,
             "items": [
              {
               "reasonName": "globalInteractionReason",
               "summary": "This spot is popular",
               "type": "general"
              }
             ]
            },
            "referralId": "e-0-4b4be83af964a520fdaa26e3-80",
            "venue": {
             "categories": [
              {
               "icon": {
                "prefix": "https://ss3.4sqi.net/img/categories_v2/food/japanese_",
                "suffix": ".png"
               },
               "id": "4bf58dd8d48988d111941735",
               "name": "Japanese Restaurant",
               "pluralName": "Japanese Restaurants",
               "primary": true,
               "shortName": "Japanese"
              }
             ],
             "id": "4b4be83af964a520fdaa26e3",
             "location": {
              "address": "985 Hornby St",
              "cc": "CA",
              "city": "Vancouver",
              "country": "Canada",
              "crossStreet": "Nelson Street",
              "distance": 807,
              "formattedAddress": [
               "985 Hornby St (Nelson Street)",
               "Vancouver BC V6Z 1V3",
               "Canada"
              ],
              "labeledLatLngs": [
               {
                "label": "display",
                "lat": 49.28088036111347,
                "lng": -123.12455177307127
               }
              ],
              "lat": 49.28088036111347,
              "lng": -123.12455177307127,
              "neighborhood": "Financial District",
              "postalCode": "V6Z 1V3",
              "state": "BC"
             },
             "name": "Shizen Ya",
             "photos": {
              "count": 0,
              "groups": []
             }
            }
           },
           {
            "reasons": {
             "count": 0,
             "items": [
              {
               "reasonName": "globalInteractionReason",
               "summary": "This spot is popular",
               "type": "general"
              }
             ]
            },
            "referralId": "e-0-4b109f96f964a520f07323e3-81",
            "venue": {
             "categories": [
              {
               "icon": {
                "prefix": "https://ss3.4sqi.net/img/categories_v2/parks_outdoors/plaza_",
                "suffix": ".png"
               },
               "id": "4bf58dd8d48988d164941735",
               "name": "Plaza",
               "pluralName": "Plazas",
               "primary": true,
               "shortName": "Plaza"
              }
             ],
             "id": "4b109f96f964a520f07323e3",
             "location": {
              "address": "800 Robson St",
              "cc": "CA",
              "city": "Vancouver",
              "country": "Canada",
              "crossStreet": "Btw Hornby And Howe",
              "distance": 788,
              "formattedAddress": [
               "800 Robson St (Btw Hornby And Howe)",
               "Vancouver BC V6Z 3B7",
               "Canada"
              ],
              "labeledLatLngs": [
               {
                "label": "display",
                "lat": 49.281880886701984,
                "lng": -123.12367137102376
               }
              ],
              "lat": 49.281880886701984,
              "lng": -123.12367137102376,
              "postalCode": "V6Z 3B7",
              "state": "BC"
             },
             "name": "Robson Square",
             "photos": {
              "count": 0,
              "groups": []
             }
            }
           },
           {
            "reasons": {
             "count": 0,
             "items": [
              {
               "reasonName": "globalInteractionReason",
               "summary": "This spot is popular",
               "type": "general"
              }
             ]
            },
            "referralId": "e-0-5d01961c57a537002c8794da-82",
            "venue": {
             "categories": [
              {
               "icon": {
                "prefix": "https://ss3.4sqi.net/img/categories_v2/nightlife/pub_",
                "suffix": ".png"
               },
               "id": "4bf58dd8d48988d116941735",
               "name": "Bar",
               "pluralName": "Bars",
               "primary": true,
               "shortName": "Bar"
              }
             ],
             "id": "5d01961c57a537002c8794da",
             "location": {
              "address": "965 Granville Street",
              "cc": "CA",
              "city": "Vancouver",
              "country": "Canada",
              "distance": 649,
              "formattedAddress": [
               "965 Granville Street",
               "Vancouver BC V6Z 1L3",
               "Canada"
              ],
              "labeledLatLngs": [
               {
                "label": "display",
                "lat": 49.27965,
                "lng": -123.12275
               }
              ],
              "lat": 49.27965,
              "lng": -123.12275,
              "postalCode": "V6Z 1L3",
              "state": "BC"
             },
             "name": "Colony Bar Granville",
             "photos": {
              "count": 0,
              "groups": []
             }
            }
           },
           {
            "reasons": {
             "count": 0,
             "items": [
              {
               "reasonName": "globalInteractionReason",
               "summary": "This spot is popular",
               "type": "general"
              }
             ]
            },
            "referralId": "e-0-52f53570498ee24640cf0d17-83",
            "venue": {
             "categories": [
              {
               "icon": {
                "prefix": "https://ss3.4sqi.net/img/categories_v2/food/taco_",
                "suffix": ".png"
               },
               "id": "4bf58dd8d48988d151941735",
               "name": "Taco Place",
               "pluralName": "Taco Places",
               "primary": true,
               "shortName": "Tacos"
              }
             ],
             "id": "52f53570498ee24640cf0d17",
             "location": {
              "address": "15 W Cordova St",
              "cc": "CA",
              "city": "Vancouver",
              "country": "Canada",
              "crossStreet": "btwn Abbott & Carrall",
              "distance": 805,
              "formattedAddress": [
               "15 W Cordova St (btwn Abbott & Carrall)",
               "Vancouver BC",
               "Canada"
              ],
              "labeledLatLngs": [
               {
                "label": "display",
                "lat": 49.282875148011186,
                "lng": -123.10473548656498
               }
              ],
              "lat": 49.282875148011186,
              "lng": -123.10473548656498,
              "state": "BC"
             },
             "name": "Tacofino Taco Bar",
             "photos": {
              "count": 0,
              "groups": []
             }
            }
           },
           {
            "reasons": {
             "count": 0,
             "items": [
              {
               "reasonName": "globalInteractionReason",
               "summary": "This spot is popular",
               "type": "general"
              }
             ]
            },
            "referralId": "e-0-5a0fd58f1b0ea50e677fd1a2-84",
            "venue": {
             "categories": [
              {
               "icon": {
                "prefix": "https://ss3.4sqi.net/img/categories_v2/nightlife/pub_",
                "suffix": ".png"
               },
               "id": "4bf58dd8d48988d11b941735",
               "name": "Pub",
               "pluralName": "Pubs",
               "primary": true,
               "shortName": "Pub"
              }
             ],
             "id": "5a0fd58f1b0ea50e677fd1a2",
             "location": {
              "cc": "CA",
              "city": "Vancouver",
              "country": "Canada",
              "distance": 561,
              "formattedAddress": [
               "Vancouver BC V6B 2C9",
               "Canada"
              ],
              "labeledLatLngs": [
               {
                "label": "display",
                "lat": 49.28024548406235,
                "lng": -123.1213076549563
               }
              ],
              "lat": 49.28024548406235,
              "lng": -123.1213076549563,
              "postalCode": "V6B 2C9",
              "state": "BC"
             },
             "name": "Dublin Calling",
             "photos": {
              "count": 0,
              "groups": []
             }
            }
           },
           {
            "reasons": {
             "count": 0,
             "items": [
              {
               "reasonName": "globalInteractionReason",
               "summary": "This spot is popular",
               "type": "general"
              }
             ]
            },
            "referralId": "e-0-4bd9db982a3a0f474b90a8b6-85",
            "venue": {
             "categories": [
              {
               "icon": {
                "prefix": "https://ss3.4sqi.net/img/categories_v2/building/gym_",
                "suffix": ".png"
               },
               "id": "4bf58dd8d48988d176941735",
               "name": "Gym",
               "pluralName": "Gyms",
               "primary": true,
               "shortName": "Gym"
              }
             ],
             "id": "4bd9db982a3a0f474b90a8b6",
             "location": {
              "address": "955 Burrard St",
              "cc": "CA",
              "city": "Vancouver",
              "country": "Canada",
              "crossStreet": "Barclay St",
              "distance": 883,
              "formattedAddress": [
               "955 Burrard St (Barclay St)",
               "Vancouver BC V6Z 1Y2",
               "Canada"
              ],
              "labeledLatLngs": [
               {
                "label": "display",
                "lat": 49.28175183686333,
                "lng": -123.12519293179268
               }
              ],
              "lat": 49.28175183686333,
              "lng": -123.12519293179268,
              "postalCode": "V6Z 1Y2",
              "state": "BC"
             },
             "name": "Robert Lee YMCA",
             "photos": {
              "count": 0,
              "groups": []
             }
            }
           },
           {
            "reasons": {
             "count": 0,
             "items": [
              {
               "reasonName": "globalInteractionReason",
               "summary": "This spot is popular",
               "type": "general"
              }
             ]
            },
            "referralId": "e-0-4bc75ff22f94d13a5bcd117f-86",
            "venue": {
             "categories": [
              {
               "icon": {
                "prefix": "https://ss3.4sqi.net/img/categories_v2/shops/beauty_cosmetic_",
                "suffix": ".png"
               },
               "id": "4bf58dd8d48988d10c951735",
               "name": "Cosmetics Shop",
               "pluralName": "Cosmetics Shops",
               "primary": true,
               "shortName": "Cosmetics"
              }
             ],
             "id": "4bc75ff22f94d13a5bcd117f",
             "location": {
              "address": "433 Davie St.",
              "cc": "CA",
              "city": "Vancouver",
              "country": "Canada",
              "crossStreet": "at Homer St.",
              "distance": 791,
              "formattedAddress": [
               "433 Davie St. (at Homer St.)",
               "Vancouver BC V6B 2G2",
               "Canada"
              ],
              "labeledLatLngs": [
               {
                "label": "display",
                "lat": 49.27539839370647,
                "lng": -123.12347161939577
               }
              ],
              "lat": 49.27539839370647,
              "lng": -123.12347161939577,
              "postalCode": "V6B 2G2",
              "state": "BC"
             },
             "name": "MASC",
             "photos": {
              "count": 0,
              "groups": []
             },
             "venuePage": {
              "id": "481914944"
             }
            }
           },
           {
            "reasons": {
             "count": 0,
             "items": [
              {
               "reasonName": "globalInteractionReason",
               "summary": "This spot is popular",
               "type": "general"
              }
             ]
            },
            "referralId": "e-0-4aa6bc27f964a520df4a20e3-87",
            "venue": {
             "categories": [
              {
               "icon": {
                "prefix": "https://ss3.4sqi.net/img/categories_v2/food/brewery_",
                "suffix": ".png"
               },
               "id": "50327c8591d4c4b30a586d5d",
               "name": "Brewery",
               "pluralName": "Breweries",
               "primary": true,
               "shortName": "Brewery"
              }
             ],
             "id": "4aa6bc27f964a520df4a20e3",
             "location": {
              "address": "375 Water St",
              "cc": "CA",
              "city": "Vancouver",
              "country": "Canada",
              "crossStreet": "at Richards St",
              "distance": 724,
              "formattedAddress": [
               "375 Water St (at Richards St)",
               "Vancouver BC V6B 5C6",
               "Canada"
              ],
              "labeledLatLngs": [
               {
                "label": "display",
                "lat": 49.28510690657561,
                "lng": -123.11144729314218
               }
              ],
              "lat": 49.28510690657561,
              "lng": -123.11144729314218,
              "postalCode": "V6B 5C6",
              "state": "BC"
             },
             "name": "Steamworks Brewing Company",
             "photos": {
              "count": 0,
              "groups": []
             },
             "venuePage": {
              "id": "33268697"
             }
            }
           },
           {
            "reasons": {
             "count": 0,
             "items": [
              {
               "reasonName": "globalInteractionReason",
               "summary": "This spot is popular",
               "type": "general"
              }
             ]
            },
            "referralId": "e-0-5509ef63498e9ecb263777ab-88",
            "venue": {
             "categories": [
              {
               "icon": {
                "prefix": "https://ss3.4sqi.net/img/categories_v2/food/coffeeshop_",
                "suffix": ".png"
               },
               "id": "4bf58dd8d48988d1e0931735",
               "name": "Coffee Shop",
               "pluralName": "Coffee Shops",
               "primary": true,
               "shortName": "Coffee Shop"
              }
             ],
             "id": "5509ef63498e9ecb263777ab",
             "location": {
              "address": "100 W. Hastings St.",
              "cc": "CA",
              "city": "Vancouver",
              "country": "Canada",
              "crossStreet": "Abbott St.",
              "distance": 591,
              "formattedAddress": [
               "100 W. Hastings St. (Abbott St.)",
               "Vancouver BC",
               "Canada"
              ],
              "labeledLatLngs": [
               {
                "label": "display",
                "lat": 49.28190806572192,
                "lng": -123.10729506582126
               }
              ],
              "lat": 49.28190806572192,
              "lng": -123.10729506582126,
              "neighborhood": "Downtown Vancouver",
              "state": "BC"
             },
             "name": "PRADO Cafe",
             "photos": {
              "count": 0,
              "groups": []
             }
            }
           },
           {
            "reasons": {
             "count": 0,
             "items": [
              {
               "reasonName": "globalInteractionReason",
               "summary": "This spot is popular",
               "type": "general"
              }
             ]
            },
            "referralId": "e-0-4b7cb1d8f964a5209ea12fe3-89",
            "venue": {
             "categories": [
              {
               "icon": {
                "prefix": "https://ss3.4sqi.net/img/categories_v2/parks_outdoors/park_",
                "suffix": ".png"
               },
               "id": "4bf58dd8d48988d163941735",
               "name": "Park",
               "pluralName": "Parks",
               "primary": true,
               "shortName": "Park"
              }
             ],
             "id": "4b7cb1d8f964a5209ea12fe3",
             "location": {
              "address": "Marinaside Crescent",
              "cc": "CA",
              "city": "Vancouver",
              "country": "Canada",
              "crossStreet": "at Davie St",
              "distance": 592,
              "formattedAddress": [
               "Marinaside Crescent (at Davie St)",
               "Vancouver BC",
               "Canada"
              ],
              "labeledLatLngs": [
               {
                "label": "display",
                "lat": 49.2741304933315,
                "lng": -123.11780999484027
               }
              ],
              "lat": 49.2741304933315,
              "lng": -123.11780999484027,
              "state": "BC"
             },
             "name": "Marinaside Crescent",
             "photos": {
              "count": 0,
              "groups": []
             }
            }
           },
           {
            "reasons": {
             "count": 0,
             "items": [
              {
               "reasonName": "globalInteractionReason",
               "summary": "This spot is popular",
               "type": "general"
              }
             ]
            },
            "referralId": "e-0-4b6781b4f964a520f3522be3-90",
            "venue": {
             "categories": [
              {
               "icon": {
                "prefix": "https://ss3.4sqi.net/img/categories_v2/building/gym_",
                "suffix": ".png"
               },
               "id": "4bf58dd8d48988d175941735",
               "name": "Gym / Fitness Center",
               "pluralName": "Gyms or Fitness Centers",
               "primary": true,
               "shortName": "Gym / Fitness"
              }
             ],
             "id": "4b6781b4f964a520f3522be3",
             "location": {
              "address": "746 Davie Street",
              "cc": "CA",
              "city": "Vancouver",
              "country": "Canada",
              "crossStreet": "Howe Street",
              "distance": 951,
              "formattedAddress": [
               "746 Davie Street (Howe Street)",
               "Vancouver BC V6Z 1B6",
               "Canada"
              ],
              "labeledLatLngs": [
               {
                "label": "display",
                "lat": 49.27768162347979,
                "lng": -123.12689361484894
               }
              ],
              "lat": 49.27768162347979,
              "lng": -123.12689361484894,
              "postalCode": "V6Z 1B6",
              "state": "BC"
             },
             "name": "Body Energy Club",
             "photos": {
              "count": 0,
              "groups": []
             },
             "venuePage": {
              "id": "44209772"
             }
            }
           },
           {
            "reasons": {
             "count": 0,
             "items": [
              {
               "reasonName": "globalInteractionReason",
               "summary": "This spot is popular",
               "type": "general"
              }
             ]
            },
            "referralId": "e-0-4aa7d627f964a520784d20e3-91",
            "venue": {
             "categories": [
              {
               "icon": {
                "prefix": "https://ss3.4sqi.net/img/categories_v2/shops/technology_",
                "suffix": ".png"
               },
               "id": "4bf58dd8d48988d125941735",
               "name": "Tech Startup",
               "pluralName": "Tech Startups",
               "primary": true,
               "shortName": "Tech Startup"
              }
             ],
             "id": "4aa7d627f964a520784d20e3",
             "location": {
              "address": "#313 - 1 Alexander Street",
              "cc": "CA",
              "city": "Vancouver",
              "country": "Canada",
              "distance": 887,
              "formattedAddress": [
               "#313 - 1 Alexander Street",
               "Vancouver BC V6A 1B2",
               "Canada"
              ],
              "labeledLatLngs": [
               {
                "label": "display",
                "lat": 49.28354728357562,
                "lng": -123.10407783343894
               }
              ],
              "lat": 49.28354728357562,
              "lng": -123.10407783343894,
              "postalCode": "V6A 1B2",
              "state": "BC"
             },
             "name": "Invoke Media",
             "photos": {
              "count": 0,
              "groups": []
             },
             "venuePage": {
              "id": "51351338"
             }
            }
           },
           {
            "reasons": {
             "count": 0,
             "items": [
              {
               "reasonName": "globalInteractionReason",
               "summary": "This spot is popular",
               "type": "general"
              }
             ]
            },
            "referralId": "e-0-4aa7f561f964a520384e20e3-92",
            "venue": {
             "categories": [
              {
               "icon": {
                "prefix": "https://ss3.4sqi.net/img/categories_v2/food/japanese_",
                "suffix": ".png"
               },
               "id": "4bf58dd8d48988d111941735",
               "name": "Japanese Restaurant",
               "pluralName": "Japanese Restaurants",
               "primary": true,
               "shortName": "Japanese"
              }
             ],
             "id": "4aa7f561f964a520384e20e3",
             "location": {
              "address": "200 Granville Street",
              "cc": "CA",
              "city": "Vancouver",
              "country": "Canada",
              "crossStreet": "West Cordova Street",
              "distance": 891,
              "formattedAddress": [
               "200 Granville Street (West Cordova Street)",
               "Vancouver BC V6C 1S4",
               "Canada"
              ],
              "labeledLatLngs": [
               {
                "label": "display",
                "lat": 49.28671261,
                "lng": -123.11204401
               }
              ],
              "lat": 49.28671261,
              "lng": -123.11204401,
              "neighborhood": "Downtown Vancouver, Vancouver, BC",
              "postalCode": "V6C 1S4",
              "state": "BC"
             },
             "name": "Miku Restaurant",
             "photos": {
              "count": 0,
              "groups": []
             }
            }
           },
           {
            "reasons": {
             "count": 0,
             "items": [
              {
               "reasonName": "globalInteractionReason",
               "summary": "This spot is popular",
               "type": "general"
              }
             ]
            },
            "referralId": "e-0-4aa74bb8f964a520a14c20e3-93",
            "venue": {
             "categories": [
              {
               "icon": {
                "prefix": "https://ss3.4sqi.net/img/categories_v2/food/seafood_",
                "suffix": ".png"
               },
               "id": "4bf58dd8d48988d1ce941735",
               "name": "Seafood Restaurant",
               "pluralName": "Seafood Restaurants",
               "primary": true,
               "shortName": "Seafood"
              }
             ],
             "id": "4aa74bb8f964a520a14c20e3",
             "location": {
              "address": "1228 Hamilton St",
              "cc": "CA",
              "city": "Vancouver",
              "country": "Canada",
              "crossStreet": "at Drake St",
              "distance": 842,
              "formattedAddress": [
               "1228 Hamilton St (at Drake St)",
               "Vancouver BC V6B 6L2",
               "Canada"
              ],
              "labeledLatLngs": [
               {
                "label": "display",
                "lat": 49.27443610411226,
                "lng": -123.12337936574245
               }
              ],
              "lat": 49.27443610411226,
              "lng": -123.12337936574245,
              "postalCode": "V6B 6L2",
              "state": "BC"
             },
             "name": "Rodney's Oyster House",
             "photos": {
              "count": 0,
              "groups": []
             }
            }
           },
           {
            "reasons": {
             "count": 0,
             "items": [
              {
               "reasonName": "globalInteractionReason",
               "summary": "This spot is popular",
               "type": "general"
              }
             ]
            },
            "referralId": "e-0-4df90ab7a809df9984eb9beb-94",
            "venue": {
             "categories": [
              {
               "icon": {
                "prefix": "https://ss3.4sqi.net/img/categories_v2/food/streetfood_",
                "suffix": ".png"
               },
               "id": "4bf58dd8d48988d1cb941735",
               "name": "Food Truck",
               "pluralName": "Food Trucks",
               "primary": true,
               "shortName": "Food Truck"
              }
             ],
             "id": "4df90ab7a809df9984eb9beb",
             "location": {
              "address": "Howe St.",
              "cc": "CA",
              "city": "Vancouver",
              "country": "Canada",
              "crossStreet": "at Robson St.",
              "distance": 770,
              "formattedAddress": [
               "Howe St. (at Robson St.)",
               "Vancouver BC",
               "Canada"
              ],
              "labeledLatLngs": [
               {
                "label": "display",
                "lat": 49.28131269250214,
                "lng": -123.1237845478392
               }
              ],
              "lat": 49.28131269250214,
              "lng": -123.1237845478392,
              "state": "BC"
             },
             "name": "Tacofino Cantina",
             "photos": {
              "count": 0,
              "groups": []
             }
            }
           },
           {
            "reasons": {
             "count": 0,
             "items": [
              {
               "reasonName": "globalInteractionReason",
               "summary": "This spot is popular",
               "type": "general"
              }
             ]
            },
            "referralId": "e-0-5165db75e4b09027efef5d80-95",
            "venue": {
             "categories": [
              {
               "icon": {
                "prefix": "https://ss3.4sqi.net/img/categories_v2/food/coffeeshop_",
                "suffix": ".png"
               },
               "id": "4bf58dd8d48988d1e0931735",
               "name": "Coffee Shop",
               "pluralName": "Coffee Shops",
               "primary": true,
               "shortName": "Coffee Shop"
              }
             ],
             "id": "5165db75e4b09027efef5d80",
             "location": {
              "address": "319 Carrall St",
              "cc": "CA",
              "city": "Vancouver",
              "country": "Canada",
              "crossStreet": "btwn Cordova & Hastings",
              "distance": 784,
              "formattedAddress": [
               "319 Carrall St (btwn Cordova & Hastings)",
               "Vancouver BC V6B 2J4",
               "Canada"
              ],
              "labeledLatLngs": [
               {
                "label": "display",
                "lat": 49.282178,
                "lng": -123.104417
               }
              ],
              "lat": 49.282178,
              "lng": -123.104417,
              "postalCode": "V6B 2J4",
              "state": "BC"
             },
             "name": "East Van Roasters",
             "photos": {
              "count": 0,
              "groups": []
             }
            }
           },
           {
            "reasons": {
             "count": 0,
             "items": [
              {
               "reasonName": "globalInteractionReason",
               "summary": "This spot is popular",
               "type": "general"
              }
             ]
            },
            "referralId": "e-0-4cbf956eacd48cfaf2cf443f-96",
            "venue": {
             "categories": [
              {
               "icon": {
                "prefix": "https://ss3.4sqi.net/img/categories_v2/food/indian_",
                "suffix": ".png"
               },
               "id": "4bf58dd8d48988d10f941735",
               "name": "Indian Restaurant",
               "pluralName": "Indian Restaurants",
               "primary": true,
               "shortName": "Indian"
              }
             ],
             "id": "4cbf956eacd48cfaf2cf443f",
             "location": {
              "address": "1019 Granville St.",
              "cc": "CA",
              "city": "Vancouver",
              "country": "Canada",
              "distance": 688,
              "formattedAddress": [
               "1019 Granville St.",
               "Vancouver BC",
               "Canada"
              ],
              "labeledLatLngs": [
               {
                "label": "display",
                "lat": 49.279056094357585,
                "lng": -123.12336785897038
               }
              ],
              "lat": 49.279056094357585,
              "lng": -123.12336785897038,
              "state": "BC"
             },
             "name": "Crave India",
             "photos": {
              "count": 0,
              "groups": []
             }
            }
           },
           {
            "reasons": {
             "count": 0,
             "items": [
              {
               "reasonName": "globalInteractionReason",
               "summary": "This spot is popular",
               "type": "general"
              }
             ]
            },
            "referralId": "e-0-4ab3e5c2f964a520016f20e3-97",
            "venue": {
             "categories": [
              {
               "icon": {
                "prefix": "https://ss3.4sqi.net/img/categories_v2/shops/jewelry_",
                "suffix": ".png"
               },
               "id": "4bf58dd8d48988d111951735",
               "name": "Jewelry Store",
               "pluralName": "Jewelry Stores",
               "primary": true,
               "shortName": "Jewelry"
              }
             ],
             "id": "4ab3e5c2f964a520016f20e3",
             "location": {
              "address": "723 Burrard Street",
              "cc": "CA",
              "city": "Vancouver",
              "country": "Canada",
              "crossStreet": "at Alberni St.",
              "distance": 835,
              "formattedAddress": [
               "723 Burrard Street (at Alberni St.)",
               "Vancouver BC V6Z 2P1",
               "Canada"
              ],
              "labeledLatLngs": [
               {
                "label": "display",
                "lat": 49.2842568,
                "lng": -123.1217898
               }
              ],
              "lat": 49.2842568,
              "lng": -123.1217898,
              "postalCode": "V6Z 2P1",
              "state": "BC"
             },
             "name": "Tiffany & Co.",
             "photos": {
              "count": 0,
              "groups": []
             }
            }
           },
           {
            "reasons": {
             "count": 0,
             "items": [
              {
               "reasonName": "globalInteractionReason",
               "summary": "This spot is popular",
               "type": "general"
              }
             ]
            },
            "referralId": "e-0-4aaec434f964a520346320e3-98",
            "venue": {
             "categories": [
              {
               "icon": {
                "prefix": "https://ss3.4sqi.net/img/categories_v2/food/french_",
                "suffix": ".png"
               },
               "id": "4bf58dd8d48988d10c941735",
               "name": "French Restaurant",
               "pluralName": "French Restaurants",
               "primary": true,
               "shortName": "French"
              }
             ],
             "id": "4aaec434f964a520346320e3",
             "location": {
              "address": "909 Burrard St",
              "cc": "CA",
              "city": "Vancouver",
              "country": "Canada",
              "crossStreet": "Smithe St",
              "distance": 931,
              "formattedAddress": [
               "909 Burrard St (Smithe St)",
               "Vancouver BC V6Z 2N2",
               "Canada"
              ],
              "labeledLatLngs": [
               {
                "label": "display",
                "lat": 49.28265806764619,
                "lng": -123.12528669834137
               }
              ],
              "lat": 49.28265806764619,
              "lng": -123.12528669834137,
              "postalCode": "V6Z 2N2",
              "state": "BC"
             },
             "name": "Le Crocodile Restaurant",
             "photos": {
              "count": 0,
              "groups": []
             }
            }
           },
           {
            "reasons": {
             "count": 0,
             "items": [
              {
               "reasonName": "globalInteractionReason",
               "summary": "This spot is popular",
               "type": "general"
              }
             ]
            },
            "referralId": "e-0-4b77ba28f964a52064a82ee3-99",
            "venue": {
             "categories": [
              {
               "icon": {
                "prefix": "https://ss3.4sqi.net/img/categories_v2/nightlife/cocktails_",
                "suffix": ".png"
               },
               "id": "4bf58dd8d48988d11e941735",
               "name": "Cocktail Bar",
               "pluralName": "Cocktail Bars",
               "primary": true,
               "shortName": "Cocktail"
              }
             ],
             "id": "4b77ba28f964a52064a82ee3",
             "location": {
              "address": "135 Keefer St",
              "cc": "CA",
              "city": "Vancouver",
              "country": "Canada",
              "crossStreet": "btwn Columbia & Main",
              "distance": 903,
              "formattedAddress": [
               "135 Keefer St (btwn Columbia & Main)",
               "Vancouver BC V6A 1X3",
               "Canada"
              ],
              "labeledLatLngs": [
               {
                "label": "display",
                "lat": 49.27952838897546,
                "lng": -123.10151373745491
               }
              ],
              "lat": 49.27952838897546,
              "lng": -123.10151373745491,
              "postalCode": "V6A 1X3",
              "state": "BC"
             },
             "name": "Keefer Bar",
             "photos": {
              "count": 0,
              "groups": []
             }
            }
           }
          ],
          "name": "recommended",
          "type": "Recommended Places"
         }
        ],
        "headerFullLocation": "Downtown Vancouver, Vancouver",
        "headerLocation": "Downtown Vancouver",
        "headerLocationGranularity": "neighborhood",
        "suggestedBounds": {
         "ne": {
          "lat": 49.29230001350001,
          "lng": -123.09324511996151
         },
         "sw": {
          "lat": 49.26529998649998,
          "lng": -123.1345548800385
         }
        },
        "suggestedFilters": {
         "filters": [
          {
           "key": "openNow",
           "name": "Open now"
          }
         ],
         "header": "Tap to show:"
        },
        "totalResults": 236
       }
      },
      "text/plain": [
       "<IPython.core.display.JSON object>"
      ]
     },
     "execution_count": 11,
     "metadata": {
      "application/json": {
       "expanded": false,
       "root": "root"
      }
     },
     "output_type": "execute_result"
    }
   ],
   "source": [
    "from IPython.display import JSON\n",
    "\n",
    "# define URL\n",
    "url = 'https://api.foursquare.com/v2/venues/explore?&client_id={}&client_secret={}&v={}&ll={},{}&radius={}&limit={}'.format(\n",
    "    CLIENT_ID, \n",
    "    CLIENT_SECRET, \n",
    "    VERSION, \n",
    "    latitude, \n",
    "    longitude, \n",
    "    radius, \n",
    "    LIMIT)\n",
    "\n",
    "# send GET request and get recommended venues\n",
    "results = requests.get(url).json()\n",
    "print('There are {} recommended venues.'.format(len(results['response']['groups'][0]['items'])))\n",
    "\n",
    "JSON(results)"
   ]
  },
  {
   "cell_type": "code",
   "execution_count": 12,
   "metadata": {},
   "outputs": [
    {
     "data": {
      "text/html": [
       "<div>\n",
       "<style scoped>\n",
       "    .dataframe tbody tr th:only-of-type {\n",
       "        vertical-align: middle;\n",
       "    }\n",
       "\n",
       "    .dataframe tbody tr th {\n",
       "        vertical-align: top;\n",
       "    }\n",
       "\n",
       "    .dataframe thead th {\n",
       "        text-align: right;\n",
       "    }\n",
       "</style>\n",
       "<table border=\"1\" class=\"dataframe\">\n",
       "  <thead>\n",
       "    <tr style=\"text-align: right;\">\n",
       "      <th></th>\n",
       "      <th>name</th>\n",
       "      <th>categories</th>\n",
       "      <th>address</th>\n",
       "      <th>cc</th>\n",
       "      <th>city</th>\n",
       "      <th>country</th>\n",
       "      <th>crossStreet</th>\n",
       "      <th>distance</th>\n",
       "      <th>formattedAddress</th>\n",
       "      <th>labeledLatLngs</th>\n",
       "      <th>lat</th>\n",
       "      <th>lng</th>\n",
       "      <th>neighborhood</th>\n",
       "      <th>postalCode</th>\n",
       "      <th>state</th>\n",
       "      <th>id</th>\n",
       "    </tr>\n",
       "  </thead>\n",
       "  <tbody>\n",
       "    <tr>\n",
       "      <th>0</th>\n",
       "      <td>Queen Elizabeth Theatre</td>\n",
       "      <td>Theater</td>\n",
       "      <td>649 Cambie St</td>\n",
       "      <td>CA</td>\n",
       "      <td>Vancouver</td>\n",
       "      <td>Canada</td>\n",
       "      <td>at W Georgia St</td>\n",
       "      <td>180</td>\n",
       "      <td>[649 Cambie St (at W Georgia St), Vancouver BC...</td>\n",
       "      <td>[{'label': 'display', 'lat': 49.28022895029647...</td>\n",
       "      <td>49.280229</td>\n",
       "      <td>-123.112730</td>\n",
       "      <td>NaN</td>\n",
       "      <td>V6B 2P1</td>\n",
       "      <td>BC</td>\n",
       "      <td>4b23212bf964a520a75324e3</td>\n",
       "    </tr>\n",
       "    <tr>\n",
       "      <th>1</th>\n",
       "      <td>BC Place</td>\n",
       "      <td>Stadium</td>\n",
       "      <td>777 Pacific Blvd.</td>\n",
       "      <td>CA</td>\n",
       "      <td>Vancouver</td>\n",
       "      <td>Canada</td>\n",
       "      <td>at Expo Blvd.</td>\n",
       "      <td>243</td>\n",
       "      <td>[777 Pacific Blvd. (at Expo Blvd.), Vancouver ...</td>\n",
       "      <td>NaN</td>\n",
       "      <td>49.276886</td>\n",
       "      <td>-123.112276</td>\n",
       "      <td>NaN</td>\n",
       "      <td>V6B 4Y8</td>\n",
       "      <td>BC</td>\n",
       "      <td>4aa6f277f964a520964b20e3</td>\n",
       "    </tr>\n",
       "    <tr>\n",
       "      <th>2</th>\n",
       "      <td>L'Hermitage</td>\n",
       "      <td>Hotel</td>\n",
       "      <td>788 Richard St</td>\n",
       "      <td>CA</td>\n",
       "      <td>Vancouver</td>\n",
       "      <td>Canada</td>\n",
       "      <td>NaN</td>\n",
       "      <td>299</td>\n",
       "      <td>[788 Richard St, Vancouver BC V6B 3A4, Canada]</td>\n",
       "      <td>[{'label': 'display', 'lat': 49.2801392339119,...</td>\n",
       "      <td>49.280139</td>\n",
       "      <td>-123.117480</td>\n",
       "      <td>NaN</td>\n",
       "      <td>V6B 3A4</td>\n",
       "      <td>BC</td>\n",
       "      <td>4b7235fef964a52010742de3</td>\n",
       "    </tr>\n",
       "    <tr>\n",
       "      <th>3</th>\n",
       "      <td>JJ Bean</td>\n",
       "      <td>Coffee Shop</td>\n",
       "      <td>740 Hamilton St.</td>\n",
       "      <td>CA</td>\n",
       "      <td>Vancouver</td>\n",
       "      <td>Canada</td>\n",
       "      <td>btwn Robson &amp; Georgia</td>\n",
       "      <td>113</td>\n",
       "      <td>[740 Hamilton St. (btwn Robson &amp; Georgia), Van...</td>\n",
       "      <td>[{'label': 'display', 'lat': 49.27938179808702...</td>\n",
       "      <td>49.279382</td>\n",
       "      <td>-123.115181</td>\n",
       "      <td>NaN</td>\n",
       "      <td>V6B 2R5</td>\n",
       "      <td>BC</td>\n",
       "      <td>4b75918bf964a520d4142ee3</td>\n",
       "    </tr>\n",
       "    <tr>\n",
       "      <th>4</th>\n",
       "      <td>Medina Café</td>\n",
       "      <td>Breakfast Spot</td>\n",
       "      <td>780 Richards St</td>\n",
       "      <td>CA</td>\n",
       "      <td>Vancouver</td>\n",
       "      <td>Canada</td>\n",
       "      <td>btwn W Georgia &amp; Robson</td>\n",
       "      <td>291</td>\n",
       "      <td>[780 Richards St (btwn W Georgia &amp; Robson), Va...</td>\n",
       "      <td>[{'label': 'display', 'lat': 49.28056540642322...</td>\n",
       "      <td>49.280565</td>\n",
       "      <td>-123.116859</td>\n",
       "      <td>NaN</td>\n",
       "      <td>V6B 2L3</td>\n",
       "      <td>BC</td>\n",
       "      <td>4aa7dce2f964a520ad4d20e3</td>\n",
       "    </tr>\n",
       "    <tr>\n",
       "      <th>5</th>\n",
       "      <td>Chambar</td>\n",
       "      <td>Belgian Restaurant</td>\n",
       "      <td>568 Beatty St</td>\n",
       "      <td>CA</td>\n",
       "      <td>Vancouver</td>\n",
       "      <td>Canada</td>\n",
       "      <td>btwn W Pender &amp; Dunsmuir</td>\n",
       "      <td>304</td>\n",
       "      <td>[568 Beatty St (btwn W Pender &amp; Dunsmuir), Van...</td>\n",
       "      <td>[{'label': 'display', 'lat': 49.27992541607816...</td>\n",
       "      <td>49.279925</td>\n",
       "      <td>-123.110078</td>\n",
       "      <td>NaN</td>\n",
       "      <td>V6B 2L3</td>\n",
       "      <td>BC</td>\n",
       "      <td>4aa8005bf964a520a24e20e3</td>\n",
       "    </tr>\n",
       "    <tr>\n",
       "      <th>6</th>\n",
       "      <td>Fanny Bay Oyster Bar</td>\n",
       "      <td>Seafood Restaurant</td>\n",
       "      <td>762 Cambie St</td>\n",
       "      <td>CA</td>\n",
       "      <td>Vancouver</td>\n",
       "      <td>Canada</td>\n",
       "      <td>NaN</td>\n",
       "      <td>43</td>\n",
       "      <td>[762 Cambie St, Vancouver BC V6B 2P2, Canada]</td>\n",
       "      <td>[{'label': 'display', 'lat': 49.27860106769942...</td>\n",
       "      <td>49.278601</td>\n",
       "      <td>-123.114411</td>\n",
       "      <td>NaN</td>\n",
       "      <td>V6B 2P2</td>\n",
       "      <td>BC</td>\n",
       "      <td>5790281f498e75e0454bf0a9</td>\n",
       "    </tr>\n",
       "    <tr>\n",
       "      <th>7</th>\n",
       "      <td>Homer St. Cafe and Bar</td>\n",
       "      <td>Restaurant</td>\n",
       "      <td>898 Homer St.</td>\n",
       "      <td>CA</td>\n",
       "      <td>Vancouver</td>\n",
       "      <td>Canada</td>\n",
       "      <td>at Smithe St.</td>\n",
       "      <td>326</td>\n",
       "      <td>[898 Homer St. (at Smithe St.), Vancouver BC V...</td>\n",
       "      <td>[{'label': 'display', 'lat': 49.27859106047440...</td>\n",
       "      <td>49.278591</td>\n",
       "      <td>-123.118385</td>\n",
       "      <td>NaN</td>\n",
       "      <td>V6B 2W5</td>\n",
       "      <td>BC</td>\n",
       "      <td>51a7a349454a2b1f0e2449f8</td>\n",
       "    </tr>\n",
       "    <tr>\n",
       "      <th>8</th>\n",
       "      <td>The Dirty Apron Cooking School</td>\n",
       "      <td>Trade School</td>\n",
       "      <td>540 Beatty St</td>\n",
       "      <td>CA</td>\n",
       "      <td>Vancouver</td>\n",
       "      <td>Canada</td>\n",
       "      <td>btwn Dunsmuir &amp; Pender</td>\n",
       "      <td>389</td>\n",
       "      <td>[540 Beatty St (btwn Dunsmuir &amp; Pender), Vanco...</td>\n",
       "      <td>[{'label': 'display', 'lat': 49.28069252156226...</td>\n",
       "      <td>49.280693</td>\n",
       "      <td>-123.109393</td>\n",
       "      <td>NaN</td>\n",
       "      <td>V6B 2L3</td>\n",
       "      <td>BC</td>\n",
       "      <td>4ac00474f964a520779320e3</td>\n",
       "    </tr>\n",
       "    <tr>\n",
       "      <th>9</th>\n",
       "      <td>Rogers Arena</td>\n",
       "      <td>Hockey Arena</td>\n",
       "      <td>800 Griffiths Way</td>\n",
       "      <td>CA</td>\n",
       "      <td>Vancouver</td>\n",
       "      <td>Canada</td>\n",
       "      <td>at Abbott St</td>\n",
       "      <td>388</td>\n",
       "      <td>[800 Griffiths Way (at Abbott St), Vancouver B...</td>\n",
       "      <td>[{'label': 'display', 'lat': 49.27792296883324...</td>\n",
       "      <td>49.277923</td>\n",
       "      <td>-123.108723</td>\n",
       "      <td>NaN</td>\n",
       "      <td>V6B 6G1</td>\n",
       "      <td>BC</td>\n",
       "      <td>4aa6f23df964a520954b20e3</td>\n",
       "    </tr>\n",
       "    <tr>\n",
       "      <th>10</th>\n",
       "      <td>Lupo</td>\n",
       "      <td>Italian Restaurant</td>\n",
       "      <td>869 Hamilton St</td>\n",
       "      <td>CA</td>\n",
       "      <td>Vancouver</td>\n",
       "      <td>Canada</td>\n",
       "      <td>btwn Smithe &amp; Robson</td>\n",
       "      <td>266</td>\n",
       "      <td>[869 Hamilton St (btwn Smithe &amp; Robson), Vanco...</td>\n",
       "      <td>[{'label': 'display', 'lat': 49.27810818125747...</td>\n",
       "      <td>49.278108</td>\n",
       "      <td>-123.117420</td>\n",
       "      <td>NaN</td>\n",
       "      <td>V6B 2R7</td>\n",
       "      <td>BC</td>\n",
       "      <td>4b6d04bcf964a52041632ce3</td>\n",
       "    </tr>\n",
       "    <tr>\n",
       "      <th>11</th>\n",
       "      <td>Gotham Steakhouse &amp; Cocktail Bar</td>\n",
       "      <td>Steakhouse</td>\n",
       "      <td>615 Seymour St.</td>\n",
       "      <td>CA</td>\n",
       "      <td>Vancouver</td>\n",
       "      <td>Canada</td>\n",
       "      <td>btwn Dunsmuir &amp; W Georgia</td>\n",
       "      <td>470</td>\n",
       "      <td>[615 Seymour St. (btwn Dunsmuir &amp; W Georgia), ...</td>\n",
       "      <td>[{'label': 'display', 'lat': 49.28283023000359...</td>\n",
       "      <td>49.282830</td>\n",
       "      <td>-123.115865</td>\n",
       "      <td>NaN</td>\n",
       "      <td>V6B 3K3</td>\n",
       "      <td>BC</td>\n",
       "      <td>4aa7f22bf964a520214e20e3</td>\n",
       "    </tr>\n",
       "    <tr>\n",
       "      <th>12</th>\n",
       "      <td>Jam Cafe</td>\n",
       "      <td>Breakfast Spot</td>\n",
       "      <td>556 Beatty St.</td>\n",
       "      <td>CA</td>\n",
       "      <td>Vancouver</td>\n",
       "      <td>Canada</td>\n",
       "      <td>NaN</td>\n",
       "      <td>344</td>\n",
       "      <td>[556 Beatty St., Vancouver BC, Canada]</td>\n",
       "      <td>[{'label': 'display', 'lat': 49.28039828814675...</td>\n",
       "      <td>49.280398</td>\n",
       "      <td>-123.109836</td>\n",
       "      <td>NaN</td>\n",
       "      <td>NaN</td>\n",
       "      <td>BC</td>\n",
       "      <td>571f842a498e10fa3180d4cd</td>\n",
       "    </tr>\n",
       "    <tr>\n",
       "      <th>13</th>\n",
       "      <td>Tacofino</td>\n",
       "      <td>Taco Place</td>\n",
       "      <td>1025 Mainland St</td>\n",
       "      <td>CA</td>\n",
       "      <td>Vancouver</td>\n",
       "      <td>Canada</td>\n",
       "      <td>Nelson</td>\n",
       "      <td>477</td>\n",
       "      <td>[1025 Mainland St (Nelson), Vancouver BC, Canada]</td>\n",
       "      <td>[{'label': 'display', 'lat': 49.276433, 'lng':...</td>\n",
       "      <td>49.276433</td>\n",
       "      <td>-123.119389</td>\n",
       "      <td>NaN</td>\n",
       "      <td>NaN</td>\n",
       "      <td>BC</td>\n",
       "      <td>56e71692498e78e8143f679d</td>\n",
       "    </tr>\n",
       "    <tr>\n",
       "      <th>14</th>\n",
       "      <td>Meat &amp; Bread</td>\n",
       "      <td>Sandwich Place</td>\n",
       "      <td>370 Cambie St</td>\n",
       "      <td>CA</td>\n",
       "      <td>Vancouver</td>\n",
       "      <td>Canada</td>\n",
       "      <td>btwn Cordova &amp; Hastings</td>\n",
       "      <td>534</td>\n",
       "      <td>[370 Cambie St (btwn Cordova &amp; Hastings), Vanc...</td>\n",
       "      <td>[{'label': 'display', 'lat': 49.2826459299748,...</td>\n",
       "      <td>49.282646</td>\n",
       "      <td>-123.109499</td>\n",
       "      <td>NaN</td>\n",
       "      <td>V6B 2N3</td>\n",
       "      <td>BC</td>\n",
       "      <td>4cc72e8b01fb236a8d70bbba</td>\n",
       "    </tr>\n",
       "  </tbody>\n",
       "</table>\n",
       "</div>"
      ],
      "text/plain": [
       "                                name          categories            address  \\\n",
       "0            Queen Elizabeth Theatre             Theater      649 Cambie St   \n",
       "1                           BC Place             Stadium  777 Pacific Blvd.   \n",
       "2                        L'Hermitage               Hotel     788 Richard St   \n",
       "3                            JJ Bean         Coffee Shop   740 Hamilton St.   \n",
       "4                        Medina Café      Breakfast Spot    780 Richards St   \n",
       "5                            Chambar  Belgian Restaurant      568 Beatty St   \n",
       "6               Fanny Bay Oyster Bar  Seafood Restaurant      762 Cambie St   \n",
       "7             Homer St. Cafe and Bar          Restaurant      898 Homer St.   \n",
       "8     The Dirty Apron Cooking School        Trade School      540 Beatty St   \n",
       "9                       Rogers Arena        Hockey Arena  800 Griffiths Way   \n",
       "10                              Lupo  Italian Restaurant    869 Hamilton St   \n",
       "11  Gotham Steakhouse & Cocktail Bar          Steakhouse    615 Seymour St.   \n",
       "12                          Jam Cafe      Breakfast Spot     556 Beatty St.   \n",
       "13                          Tacofino          Taco Place   1025 Mainland St   \n",
       "14                      Meat & Bread      Sandwich Place      370 Cambie St   \n",
       "\n",
       "    cc       city country                crossStreet  distance  \\\n",
       "0   CA  Vancouver  Canada            at W Georgia St       180   \n",
       "1   CA  Vancouver  Canada              at Expo Blvd.       243   \n",
       "2   CA  Vancouver  Canada                        NaN       299   \n",
       "3   CA  Vancouver  Canada      btwn Robson & Georgia       113   \n",
       "4   CA  Vancouver  Canada    btwn W Georgia & Robson       291   \n",
       "5   CA  Vancouver  Canada   btwn W Pender & Dunsmuir       304   \n",
       "6   CA  Vancouver  Canada                        NaN        43   \n",
       "7   CA  Vancouver  Canada              at Smithe St.       326   \n",
       "8   CA  Vancouver  Canada     btwn Dunsmuir & Pender       389   \n",
       "9   CA  Vancouver  Canada               at Abbott St       388   \n",
       "10  CA  Vancouver  Canada       btwn Smithe & Robson       266   \n",
       "11  CA  Vancouver  Canada  btwn Dunsmuir & W Georgia       470   \n",
       "12  CA  Vancouver  Canada                        NaN       344   \n",
       "13  CA  Vancouver  Canada                     Nelson       477   \n",
       "14  CA  Vancouver  Canada    btwn Cordova & Hastings       534   \n",
       "\n",
       "                                     formattedAddress  \\\n",
       "0   [649 Cambie St (at W Georgia St), Vancouver BC...   \n",
       "1   [777 Pacific Blvd. (at Expo Blvd.), Vancouver ...   \n",
       "2      [788 Richard St, Vancouver BC V6B 3A4, Canada]   \n",
       "3   [740 Hamilton St. (btwn Robson & Georgia), Van...   \n",
       "4   [780 Richards St (btwn W Georgia & Robson), Va...   \n",
       "5   [568 Beatty St (btwn W Pender & Dunsmuir), Van...   \n",
       "6       [762 Cambie St, Vancouver BC V6B 2P2, Canada]   \n",
       "7   [898 Homer St. (at Smithe St.), Vancouver BC V...   \n",
       "8   [540 Beatty St (btwn Dunsmuir & Pender), Vanco...   \n",
       "9   [800 Griffiths Way (at Abbott St), Vancouver B...   \n",
       "10  [869 Hamilton St (btwn Smithe & Robson), Vanco...   \n",
       "11  [615 Seymour St. (btwn Dunsmuir & W Georgia), ...   \n",
       "12             [556 Beatty St., Vancouver BC, Canada]   \n",
       "13  [1025 Mainland St (Nelson), Vancouver BC, Canada]   \n",
       "14  [370 Cambie St (btwn Cordova & Hastings), Vanc...   \n",
       "\n",
       "                                       labeledLatLngs        lat         lng  \\\n",
       "0   [{'label': 'display', 'lat': 49.28022895029647...  49.280229 -123.112730   \n",
       "1                                                 NaN  49.276886 -123.112276   \n",
       "2   [{'label': 'display', 'lat': 49.2801392339119,...  49.280139 -123.117480   \n",
       "3   [{'label': 'display', 'lat': 49.27938179808702...  49.279382 -123.115181   \n",
       "4   [{'label': 'display', 'lat': 49.28056540642322...  49.280565 -123.116859   \n",
       "5   [{'label': 'display', 'lat': 49.27992541607816...  49.279925 -123.110078   \n",
       "6   [{'label': 'display', 'lat': 49.27860106769942...  49.278601 -123.114411   \n",
       "7   [{'label': 'display', 'lat': 49.27859106047440...  49.278591 -123.118385   \n",
       "8   [{'label': 'display', 'lat': 49.28069252156226...  49.280693 -123.109393   \n",
       "9   [{'label': 'display', 'lat': 49.27792296883324...  49.277923 -123.108723   \n",
       "10  [{'label': 'display', 'lat': 49.27810818125747...  49.278108 -123.117420   \n",
       "11  [{'label': 'display', 'lat': 49.28283023000359...  49.282830 -123.115865   \n",
       "12  [{'label': 'display', 'lat': 49.28039828814675...  49.280398 -123.109836   \n",
       "13  [{'label': 'display', 'lat': 49.276433, 'lng':...  49.276433 -123.119389   \n",
       "14  [{'label': 'display', 'lat': 49.2826459299748,...  49.282646 -123.109499   \n",
       "\n",
       "   neighborhood postalCode state                        id  \n",
       "0           NaN    V6B 2P1    BC  4b23212bf964a520a75324e3  \n",
       "1           NaN    V6B 4Y8    BC  4aa6f277f964a520964b20e3  \n",
       "2           NaN    V6B 3A4    BC  4b7235fef964a52010742de3  \n",
       "3           NaN    V6B 2R5    BC  4b75918bf964a520d4142ee3  \n",
       "4           NaN    V6B 2L3    BC  4aa7dce2f964a520ad4d20e3  \n",
       "5           NaN    V6B 2L3    BC  4aa8005bf964a520a24e20e3  \n",
       "6           NaN    V6B 2P2    BC  5790281f498e75e0454bf0a9  \n",
       "7           NaN    V6B 2W5    BC  51a7a349454a2b1f0e2449f8  \n",
       "8           NaN    V6B 2L3    BC  4ac00474f964a520779320e3  \n",
       "9           NaN    V6B 6G1    BC  4aa6f23df964a520954b20e3  \n",
       "10          NaN    V6B 2R7    BC  4b6d04bcf964a52041632ce3  \n",
       "11          NaN    V6B 3K3    BC  4aa7f22bf964a520214e20e3  \n",
       "12          NaN        NaN    BC  571f842a498e10fa3180d4cd  \n",
       "13          NaN        NaN    BC  56e71692498e78e8143f679d  \n",
       "14          NaN    V6B 2N3    BC  4cc72e8b01fb236a8d70bbba  "
      ]
     },
     "execution_count": 12,
     "metadata": {},
     "output_type": "execute_result"
    }
   ],
   "source": [
    "# Part adapted from example exercise\n",
    "def get_category_type(row):\n",
    "    'A function that extracts the category of the venue in FourSquare JSON'\n",
    "    try:\n",
    "        categories_list = row['categories']\n",
    "    except:\n",
    "        categories_list = row['venue.categories']\n",
    "        \n",
    "    if len(categories_list) == 0:\n",
    "        return None\n",
    "    else:\n",
    "        return categories_list[0]['name']\n",
    "\n",
    "\n",
    "# Get relevant part of FourSquare's explore call JSON\n",
    "items = results['response']['groups'][0]['items']\n",
    "\n",
    "dataframe = json_normalize(items) # flatten JSON\n",
    "\n",
    "# Filter columns\n",
    "filtered_columns = ['venue.name', 'venue.categories'] + [col for col in dataframe.columns if col.startswith('venue.location.')] + ['venue.id']\n",
    "dataframe_filtered = dataframe.loc[:, filtered_columns]\n",
    "\n",
    "# Filter the category for each row\n",
    "dataframe_filtered['venue.categories'] = dataframe_filtered.apply(get_category_type, axis=1)\n",
    "\n",
    "# Clean columns\n",
    "dataframe_filtered.columns = [col.split('.')[-1] for col in dataframe_filtered.columns]\n",
    "\n",
    "dataframe_filtered.head(15)"
   ]
  },
  {
   "cell_type": "code",
   "execution_count": 13,
   "metadata": {},
   "outputs": [],
   "source": [
    "radius = 2000\n",
    "LIMIT = 100\n",
    "\n",
    "venues = []\n",
    "\n",
    "    \n",
    "for lat, long, neighbourhood in zip(data['Latitude'], data['Longitude'], data['Neighbourhoods']):\n",
    "    \n",
    "    # create the API request URL\n",
    "    url = \"https://api.foursquare.com/v2/venues/explore?client_id={}&client_secret={}&v={}&ll={},{}&radius={}&limit={}\".format(\n",
    "        CLIENT_ID,\n",
    "        CLIENT_SECRET,\n",
    "        VERSION,\n",
    "        lat,\n",
    "        long,\n",
    "        radius, \n",
    "        LIMIT)\n",
    "    \n",
    "    # make the GET request\n",
    "    results = requests.get(url).json()[\"response\"]['groups'][0]['items']\n",
    "    \n",
    "    # return only relevant information for each nearby venue\n",
    "    for venue in results:\n",
    "        venues.append((\n",
    "            neighbourhood,\n",
    "            lat, \n",
    "            long, \n",
    "            venue['venue']['name'], \n",
    "            venue['venue']['location']['lat'], \n",
    "            venue['venue']['location']['lng'],  \n",
    "            venue['venue']['categories'][0]['name']))"
   ]
  },
  {
   "cell_type": "code",
   "execution_count": 14,
   "metadata": {},
   "outputs": [
    {
     "name": "stdout",
     "output_type": "stream",
     "text": [
      "(3325, 7)\n"
     ]
    },
    {
     "data": {
      "text/html": [
       "<div>\n",
       "<style scoped>\n",
       "    .dataframe tbody tr th:only-of-type {\n",
       "        vertical-align: middle;\n",
       "    }\n",
       "\n",
       "    .dataframe tbody tr th {\n",
       "        vertical-align: top;\n",
       "    }\n",
       "\n",
       "    .dataframe thead th {\n",
       "        text-align: right;\n",
       "    }\n",
       "</style>\n",
       "<table border=\"1\" class=\"dataframe\">\n",
       "  <thead>\n",
       "    <tr style=\"text-align: right;\">\n",
       "      <th></th>\n",
       "      <th>Neighbourhoods</th>\n",
       "      <th>Latitude</th>\n",
       "      <th>Longitude</th>\n",
       "      <th>VenueName</th>\n",
       "      <th>VenueLatitude</th>\n",
       "      <th>VenueLongitude</th>\n",
       "      <th>VenueCategory</th>\n",
       "    </tr>\n",
       "  </thead>\n",
       "  <tbody>\n",
       "    <tr>\n",
       "      <th>0</th>\n",
       "      <td>Vancouver (North Hastings-Sunrise)</td>\n",
       "      <td>49.2807</td>\n",
       "      <td>-123.0397</td>\n",
       "      <td>The Fair at the PNE</td>\n",
       "      <td>49.282971</td>\n",
       "      <td>-123.042109</td>\n",
       "      <td>Fair</td>\n",
       "    </tr>\n",
       "    <tr>\n",
       "      <th>1</th>\n",
       "      <td>Vancouver (North Hastings-Sunrise)</td>\n",
       "      <td>49.2807</td>\n",
       "      <td>-123.0397</td>\n",
       "      <td>Wooden Roller Coaster</td>\n",
       "      <td>49.281744</td>\n",
       "      <td>-123.035128</td>\n",
       "      <td>Theme Park Ride / Attraction</td>\n",
       "    </tr>\n",
       "    <tr>\n",
       "      <th>2</th>\n",
       "      <td>Vancouver (North Hastings-Sunrise)</td>\n",
       "      <td>49.2807</td>\n",
       "      <td>-123.0397</td>\n",
       "      <td>Livestock Barns</td>\n",
       "      <td>49.284037</td>\n",
       "      <td>-123.039278</td>\n",
       "      <td>Farm</td>\n",
       "    </tr>\n",
       "    <tr>\n",
       "      <th>3</th>\n",
       "      <td>Vancouver (North Hastings-Sunrise)</td>\n",
       "      <td>49.2807</td>\n",
       "      <td>-123.0397</td>\n",
       "      <td>Tamam Fine Palestinian Cuisine</td>\n",
       "      <td>49.281070</td>\n",
       "      <td>-123.051438</td>\n",
       "      <td>Middle Eastern Restaurant</td>\n",
       "    </tr>\n",
       "    <tr>\n",
       "      <th>4</th>\n",
       "      <td>Vancouver (North Hastings-Sunrise)</td>\n",
       "      <td>49.2807</td>\n",
       "      <td>-123.0397</td>\n",
       "      <td>New Brighton Park</td>\n",
       "      <td>49.289614</td>\n",
       "      <td>-123.038484</td>\n",
       "      <td>Park</td>\n",
       "    </tr>\n",
       "    <tr>\n",
       "      <th>5</th>\n",
       "      <td>Vancouver (North Hastings-Sunrise)</td>\n",
       "      <td>49.2807</td>\n",
       "      <td>-123.0397</td>\n",
       "      <td>What's Up? Hot Dog!</td>\n",
       "      <td>49.281252</td>\n",
       "      <td>-123.055060</td>\n",
       "      <td>Hot Dog Joint</td>\n",
       "    </tr>\n",
       "    <tr>\n",
       "      <th>6</th>\n",
       "      <td>Vancouver (North Hastings-Sunrise)</td>\n",
       "      <td>49.2807</td>\n",
       "      <td>-123.0397</td>\n",
       "      <td>Bao Chau</td>\n",
       "      <td>49.281232</td>\n",
       "      <td>-123.048971</td>\n",
       "      <td>Vietnamese Restaurant</td>\n",
       "    </tr>\n",
       "    <tr>\n",
       "      <th>7</th>\n",
       "      <td>Vancouver (North Hastings-Sunrise)</td>\n",
       "      <td>49.2807</td>\n",
       "      <td>-123.0397</td>\n",
       "      <td>Tacofino Commissary</td>\n",
       "      <td>49.281281</td>\n",
       "      <td>-123.057509</td>\n",
       "      <td>Mexican Restaurant</td>\n",
       "    </tr>\n",
       "    <tr>\n",
       "      <th>8</th>\n",
       "      <td>Vancouver (North Hastings-Sunrise)</td>\n",
       "      <td>49.2807</td>\n",
       "      <td>-123.0397</td>\n",
       "      <td>Platform 7 Coffee</td>\n",
       "      <td>49.281269</td>\n",
       "      <td>-123.057445</td>\n",
       "      <td>Coffee Shop</td>\n",
       "    </tr>\n",
       "    <tr>\n",
       "      <th>9</th>\n",
       "      <td>Vancouver (North Hastings-Sunrise)</td>\n",
       "      <td>49.2807</td>\n",
       "      <td>-123.0397</td>\n",
       "      <td>The Red Wagon</td>\n",
       "      <td>49.281155</td>\n",
       "      <td>-123.057997</td>\n",
       "      <td>Breakfast Spot</td>\n",
       "    </tr>\n",
       "    <tr>\n",
       "      <th>10</th>\n",
       "      <td>Vancouver (North Hastings-Sunrise)</td>\n",
       "      <td>49.2807</td>\n",
       "      <td>-123.0397</td>\n",
       "      <td>Donald’s Market</td>\n",
       "      <td>49.281091</td>\n",
       "      <td>-123.057225</td>\n",
       "      <td>Grocery Store</td>\n",
       "    </tr>\n",
       "    <tr>\n",
       "      <th>11</th>\n",
       "      <td>Vancouver (North Hastings-Sunrise)</td>\n",
       "      <td>49.2807</td>\n",
       "      <td>-123.0397</td>\n",
       "      <td>Mr. Red Cafe</td>\n",
       "      <td>49.281204</td>\n",
       "      <td>-123.059053</td>\n",
       "      <td>Vietnamese Restaurant</td>\n",
       "    </tr>\n",
       "    <tr>\n",
       "      <th>12</th>\n",
       "      <td>Vancouver (North Hastings-Sunrise)</td>\n",
       "      <td>49.2807</td>\n",
       "      <td>-123.0397</td>\n",
       "      <td>Curry Zone</td>\n",
       "      <td>49.281237</td>\n",
       "      <td>-123.050169</td>\n",
       "      <td>Indian Restaurant</td>\n",
       "    </tr>\n",
       "    <tr>\n",
       "      <th>13</th>\n",
       "      <td>Vancouver (North Hastings-Sunrise)</td>\n",
       "      <td>49.2807</td>\n",
       "      <td>-123.0397</td>\n",
       "      <td>Pig on the Street</td>\n",
       "      <td>49.273590</td>\n",
       "      <td>-123.044116</td>\n",
       "      <td>Food Truck</td>\n",
       "    </tr>\n",
       "    <tr>\n",
       "      <th>14</th>\n",
       "      <td>Vancouver (North Hastings-Sunrise)</td>\n",
       "      <td>49.2807</td>\n",
       "      <td>-123.0397</td>\n",
       "      <td>Pacific Coliseum</td>\n",
       "      <td>49.285823</td>\n",
       "      <td>-123.042727</td>\n",
       "      <td>Hockey Arena</td>\n",
       "    </tr>\n",
       "    <tr>\n",
       "      <th>15</th>\n",
       "      <td>Vancouver (North Hastings-Sunrise)</td>\n",
       "      <td>49.2807</td>\n",
       "      <td>-123.0397</td>\n",
       "      <td>East Cafe</td>\n",
       "      <td>49.281288</td>\n",
       "      <td>-123.056351</td>\n",
       "      <td>Café</td>\n",
       "    </tr>\n",
       "    <tr>\n",
       "      <th>16</th>\n",
       "      <td>Vancouver (North Hastings-Sunrise)</td>\n",
       "      <td>49.2807</td>\n",
       "      <td>-123.0397</td>\n",
       "      <td>Italia Bakery</td>\n",
       "      <td>49.280940</td>\n",
       "      <td>-123.045885</td>\n",
       "      <td>Bakery</td>\n",
       "    </tr>\n",
       "    <tr>\n",
       "      <th>17</th>\n",
       "      <td>Vancouver (North Hastings-Sunrise)</td>\n",
       "      <td>49.2807</td>\n",
       "      <td>-123.0397</td>\n",
       "      <td>Le Petit Saigon</td>\n",
       "      <td>49.281181</td>\n",
       "      <td>-123.047309</td>\n",
       "      <td>Vietnamese Restaurant</td>\n",
       "    </tr>\n",
       "    <tr>\n",
       "      <th>18</th>\n",
       "      <td>Vancouver (North Hastings-Sunrise)</td>\n",
       "      <td>49.2807</td>\n",
       "      <td>-123.0397</td>\n",
       "      <td>Roundel Cafe</td>\n",
       "      <td>49.281229</td>\n",
       "      <td>-123.055365</td>\n",
       "      <td>Café</td>\n",
       "    </tr>\n",
       "    <tr>\n",
       "      <th>19</th>\n",
       "      <td>Vancouver (North Hastings-Sunrise)</td>\n",
       "      <td>49.2807</td>\n",
       "      <td>-123.0397</td>\n",
       "      <td>Playland</td>\n",
       "      <td>49.281924</td>\n",
       "      <td>-123.036258</td>\n",
       "      <td>Theme Park</td>\n",
       "    </tr>\n",
       "  </tbody>\n",
       "</table>\n",
       "</div>"
      ],
      "text/plain": [
       "                        Neighbourhoods  Latitude  Longitude  \\\n",
       "0   Vancouver (North Hastings-Sunrise)   49.2807  -123.0397   \n",
       "1   Vancouver (North Hastings-Sunrise)   49.2807  -123.0397   \n",
       "2   Vancouver (North Hastings-Sunrise)   49.2807  -123.0397   \n",
       "3   Vancouver (North Hastings-Sunrise)   49.2807  -123.0397   \n",
       "4   Vancouver (North Hastings-Sunrise)   49.2807  -123.0397   \n",
       "5   Vancouver (North Hastings-Sunrise)   49.2807  -123.0397   \n",
       "6   Vancouver (North Hastings-Sunrise)   49.2807  -123.0397   \n",
       "7   Vancouver (North Hastings-Sunrise)   49.2807  -123.0397   \n",
       "8   Vancouver (North Hastings-Sunrise)   49.2807  -123.0397   \n",
       "9   Vancouver (North Hastings-Sunrise)   49.2807  -123.0397   \n",
       "10  Vancouver (North Hastings-Sunrise)   49.2807  -123.0397   \n",
       "11  Vancouver (North Hastings-Sunrise)   49.2807  -123.0397   \n",
       "12  Vancouver (North Hastings-Sunrise)   49.2807  -123.0397   \n",
       "13  Vancouver (North Hastings-Sunrise)   49.2807  -123.0397   \n",
       "14  Vancouver (North Hastings-Sunrise)   49.2807  -123.0397   \n",
       "15  Vancouver (North Hastings-Sunrise)   49.2807  -123.0397   \n",
       "16  Vancouver (North Hastings-Sunrise)   49.2807  -123.0397   \n",
       "17  Vancouver (North Hastings-Sunrise)   49.2807  -123.0397   \n",
       "18  Vancouver (North Hastings-Sunrise)   49.2807  -123.0397   \n",
       "19  Vancouver (North Hastings-Sunrise)   49.2807  -123.0397   \n",
       "\n",
       "                         VenueName  VenueLatitude  VenueLongitude  \\\n",
       "0              The Fair at the PNE      49.282971     -123.042109   \n",
       "1            Wooden Roller Coaster      49.281744     -123.035128   \n",
       "2                  Livestock Barns      49.284037     -123.039278   \n",
       "3   Tamam Fine Palestinian Cuisine      49.281070     -123.051438   \n",
       "4                New Brighton Park      49.289614     -123.038484   \n",
       "5              What's Up? Hot Dog!      49.281252     -123.055060   \n",
       "6                         Bao Chau      49.281232     -123.048971   \n",
       "7              Tacofino Commissary      49.281281     -123.057509   \n",
       "8                Platform 7 Coffee      49.281269     -123.057445   \n",
       "9                    The Red Wagon      49.281155     -123.057997   \n",
       "10                 Donald’s Market      49.281091     -123.057225   \n",
       "11                    Mr. Red Cafe      49.281204     -123.059053   \n",
       "12                      Curry Zone      49.281237     -123.050169   \n",
       "13               Pig on the Street      49.273590     -123.044116   \n",
       "14                Pacific Coliseum      49.285823     -123.042727   \n",
       "15                       East Cafe      49.281288     -123.056351   \n",
       "16                   Italia Bakery      49.280940     -123.045885   \n",
       "17                 Le Petit Saigon      49.281181     -123.047309   \n",
       "18                    Roundel Cafe      49.281229     -123.055365   \n",
       "19                        Playland      49.281924     -123.036258   \n",
       "\n",
       "                   VenueCategory  \n",
       "0                           Fair  \n",
       "1   Theme Park Ride / Attraction  \n",
       "2                           Farm  \n",
       "3      Middle Eastern Restaurant  \n",
       "4                           Park  \n",
       "5                  Hot Dog Joint  \n",
       "6          Vietnamese Restaurant  \n",
       "7             Mexican Restaurant  \n",
       "8                    Coffee Shop  \n",
       "9                 Breakfast Spot  \n",
       "10                 Grocery Store  \n",
       "11         Vietnamese Restaurant  \n",
       "12             Indian Restaurant  \n",
       "13                    Food Truck  \n",
       "14                  Hockey Arena  \n",
       "15                          Café  \n",
       "16                        Bakery  \n",
       "17         Vietnamese Restaurant  \n",
       "18                          Café  \n",
       "19                    Theme Park  "
      ]
     },
     "execution_count": 14,
     "metadata": {},
     "output_type": "execute_result"
    }
   ],
   "source": [
    "venues_df = pd.DataFrame(venues)\n",
    "\n",
    "# define the column names\n",
    "venues_df.columns = ['Neighbourhoods', 'Latitude', 'Longitude', 'VenueName', 'VenueLatitude', 'VenueLongitude', 'VenueCategory']\n",
    "\n",
    "print(venues_df.shape)\n",
    "venues_df.head(20)"
   ]
  },
  {
   "cell_type": "code",
   "execution_count": 15,
   "metadata": {},
   "outputs": [
    {
     "data": {
      "text/html": [
       "<div>\n",
       "<style scoped>\n",
       "    .dataframe tbody tr th:only-of-type {\n",
       "        vertical-align: middle;\n",
       "    }\n",
       "\n",
       "    .dataframe tbody tr th {\n",
       "        vertical-align: top;\n",
       "    }\n",
       "\n",
       "    .dataframe thead th {\n",
       "        text-align: right;\n",
       "    }\n",
       "</style>\n",
       "<table border=\"1\" class=\"dataframe\">\n",
       "  <thead>\n",
       "    <tr style=\"text-align: right;\">\n",
       "      <th></th>\n",
       "      <th>Latitude</th>\n",
       "      <th>Longitude</th>\n",
       "      <th>VenueName</th>\n",
       "      <th>VenueLatitude</th>\n",
       "      <th>VenueLongitude</th>\n",
       "      <th>VenueCategory</th>\n",
       "    </tr>\n",
       "    <tr>\n",
       "      <th>Neighbourhoods</th>\n",
       "      <th></th>\n",
       "      <th></th>\n",
       "      <th></th>\n",
       "      <th></th>\n",
       "      <th></th>\n",
       "      <th></th>\n",
       "    </tr>\n",
       "  </thead>\n",
       "  <tbody>\n",
       "    <tr>\n",
       "      <th>North Vancouver East Central</th>\n",
       "      <td>10</td>\n",
       "      <td>10</td>\n",
       "      <td>10</td>\n",
       "      <td>10</td>\n",
       "      <td>10</td>\n",
       "      <td>10</td>\n",
       "    </tr>\n",
       "    <tr>\n",
       "      <th>North Vancouver Inner East</th>\n",
       "      <td>2</td>\n",
       "      <td>2</td>\n",
       "      <td>2</td>\n",
       "      <td>2</td>\n",
       "      <td>2</td>\n",
       "      <td>2</td>\n",
       "    </tr>\n",
       "    <tr>\n",
       "      <th>North Vancouver North Central</th>\n",
       "      <td>10</td>\n",
       "      <td>10</td>\n",
       "      <td>10</td>\n",
       "      <td>10</td>\n",
       "      <td>10</td>\n",
       "      <td>10</td>\n",
       "    </tr>\n",
       "    <tr>\n",
       "      <th>North Vancouver Northwest</th>\n",
       "      <td>33</td>\n",
       "      <td>33</td>\n",
       "      <td>33</td>\n",
       "      <td>33</td>\n",
       "      <td>33</td>\n",
       "      <td>33</td>\n",
       "    </tr>\n",
       "    <tr>\n",
       "      <th>North Vancouver Northwest Central</th>\n",
       "      <td>18</td>\n",
       "      <td>18</td>\n",
       "      <td>18</td>\n",
       "      <td>18</td>\n",
       "      <td>18</td>\n",
       "      <td>18</td>\n",
       "    </tr>\n",
       "    <tr>\n",
       "      <th>North Vancouver Outer East</th>\n",
       "      <td>10</td>\n",
       "      <td>10</td>\n",
       "      <td>10</td>\n",
       "      <td>10</td>\n",
       "      <td>10</td>\n",
       "      <td>10</td>\n",
       "    </tr>\n",
       "    <tr>\n",
       "      <th>North Vancouver South Central</th>\n",
       "      <td>100</td>\n",
       "      <td>100</td>\n",
       "      <td>100</td>\n",
       "      <td>100</td>\n",
       "      <td>100</td>\n",
       "      <td>100</td>\n",
       "    </tr>\n",
       "    <tr>\n",
       "      <th>North Vancouver Southwest</th>\n",
       "      <td>100</td>\n",
       "      <td>100</td>\n",
       "      <td>100</td>\n",
       "      <td>100</td>\n",
       "      <td>100</td>\n",
       "      <td>100</td>\n",
       "    </tr>\n",
       "    <tr>\n",
       "      <th>North Vancouver Southwest Central</th>\n",
       "      <td>100</td>\n",
       "      <td>100</td>\n",
       "      <td>100</td>\n",
       "      <td>100</td>\n",
       "      <td>100</td>\n",
       "      <td>100</td>\n",
       "    </tr>\n",
       "    <tr>\n",
       "      <th>Vancouver (Bentall Centre)</th>\n",
       "      <td>100</td>\n",
       "      <td>100</td>\n",
       "      <td>100</td>\n",
       "      <td>100</td>\n",
       "      <td>100</td>\n",
       "      <td>100</td>\n",
       "    </tr>\n",
       "    <tr>\n",
       "      <th>Vancouver (Central Kitsilano)</th>\n",
       "      <td>100</td>\n",
       "      <td>100</td>\n",
       "      <td>100</td>\n",
       "      <td>100</td>\n",
       "      <td>100</td>\n",
       "      <td>100</td>\n",
       "    </tr>\n",
       "    <tr>\n",
       "      <th>Vancouver (Chaldecutt / South University Endowment Lands)</th>\n",
       "      <td>46</td>\n",
       "      <td>46</td>\n",
       "      <td>46</td>\n",
       "      <td>46</td>\n",
       "      <td>46</td>\n",
       "      <td>46</td>\n",
       "    </tr>\n",
       "    <tr>\n",
       "      <th>Vancouver (Dunbar-Southlands / Musqueam)</th>\n",
       "      <td>34</td>\n",
       "      <td>34</td>\n",
       "      <td>34</td>\n",
       "      <td>34</td>\n",
       "      <td>34</td>\n",
       "      <td>34</td>\n",
       "    </tr>\n",
       "    <tr>\n",
       "      <th>Vancouver (East Fairview / South Cambie)</th>\n",
       "      <td>100</td>\n",
       "      <td>100</td>\n",
       "      <td>100</td>\n",
       "      <td>100</td>\n",
       "      <td>100</td>\n",
       "      <td>100</td>\n",
       "    </tr>\n",
       "    <tr>\n",
       "      <th>Vancouver (East Mount Pleasant)</th>\n",
       "      <td>100</td>\n",
       "      <td>100</td>\n",
       "      <td>100</td>\n",
       "      <td>100</td>\n",
       "      <td>100</td>\n",
       "      <td>100</td>\n",
       "    </tr>\n",
       "    <tr>\n",
       "      <th>Vancouver (Killarney)</th>\n",
       "      <td>61</td>\n",
       "      <td>61</td>\n",
       "      <td>61</td>\n",
       "      <td>61</td>\n",
       "      <td>61</td>\n",
       "      <td>61</td>\n",
       "    </tr>\n",
       "    <tr>\n",
       "      <th>Vancouver (NE Downtown / Harbour Centre / Gastown / Yaletown)</th>\n",
       "      <td>100</td>\n",
       "      <td>100</td>\n",
       "      <td>100</td>\n",
       "      <td>100</td>\n",
       "      <td>100</td>\n",
       "      <td>100</td>\n",
       "    </tr>\n",
       "    <tr>\n",
       "      <th>Vancouver (NW Arbutus Ridge)</th>\n",
       "      <td>86</td>\n",
       "      <td>86</td>\n",
       "      <td>86</td>\n",
       "      <td>86</td>\n",
       "      <td>86</td>\n",
       "      <td>86</td>\n",
       "    </tr>\n",
       "    <tr>\n",
       "      <th>Vancouver (NW Shaughnessy / East Kitsilano / Quilchena)</th>\n",
       "      <td>100</td>\n",
       "      <td>100</td>\n",
       "      <td>100</td>\n",
       "      <td>100</td>\n",
       "      <td>100</td>\n",
       "      <td>100</td>\n",
       "    </tr>\n",
       "    <tr>\n",
       "      <th>Vancouver (North Grandview-Woodlands)</th>\n",
       "      <td>100</td>\n",
       "      <td>100</td>\n",
       "      <td>100</td>\n",
       "      <td>100</td>\n",
       "      <td>100</td>\n",
       "      <td>100</td>\n",
       "    </tr>\n",
       "    <tr>\n",
       "      <th>Vancouver (North Hastings-Sunrise)</th>\n",
       "      <td>94</td>\n",
       "      <td>94</td>\n",
       "      <td>94</td>\n",
       "      <td>94</td>\n",
       "      <td>94</td>\n",
       "      <td>94</td>\n",
       "    </tr>\n",
       "    <tr>\n",
       "      <th>Vancouver (North West End / Stanley Park)</th>\n",
       "      <td>100</td>\n",
       "      <td>100</td>\n",
       "      <td>100</td>\n",
       "      <td>100</td>\n",
       "      <td>100</td>\n",
       "      <td>100</td>\n",
       "    </tr>\n",
       "    <tr>\n",
       "      <th>Vancouver (Pacific Centre)</th>\n",
       "      <td>100</td>\n",
       "      <td>100</td>\n",
       "      <td>100</td>\n",
       "      <td>100</td>\n",
       "      <td>100</td>\n",
       "      <td>100</td>\n",
       "    </tr>\n",
       "    <tr>\n",
       "      <th>Vancouver (SE Kensington / Victoria-Fraserview)</th>\n",
       "      <td>100</td>\n",
       "      <td>100</td>\n",
       "      <td>100</td>\n",
       "      <td>100</td>\n",
       "      <td>100</td>\n",
       "      <td>100</td>\n",
       "    </tr>\n",
       "    <tr>\n",
       "      <th>Vancouver (SE Kerrisdale / SW Oakridge / West Marpole)</th>\n",
       "      <td>100</td>\n",
       "      <td>100</td>\n",
       "      <td>100</td>\n",
       "      <td>100</td>\n",
       "      <td>100</td>\n",
       "      <td>100</td>\n",
       "    </tr>\n",
       "    <tr>\n",
       "      <th>Vancouver (SE Oakridge / East Marpole / South Sunset)</th>\n",
       "      <td>99</td>\n",
       "      <td>99</td>\n",
       "      <td>99</td>\n",
       "      <td>99</td>\n",
       "      <td>99</td>\n",
       "      <td>99</td>\n",
       "    </tr>\n",
       "    <tr>\n",
       "      <th>Vancouver (SE Riley Park-Little Mountain / SW Kensington / NE Oakridge / North Sunset)</th>\n",
       "      <td>100</td>\n",
       "      <td>100</td>\n",
       "      <td>100</td>\n",
       "      <td>100</td>\n",
       "      <td>100</td>\n",
       "      <td>100</td>\n",
       "    </tr>\n",
       "    <tr>\n",
       "      <th>Vancouver (SW Downtown)</th>\n",
       "      <td>100</td>\n",
       "      <td>100</td>\n",
       "      <td>100</td>\n",
       "      <td>100</td>\n",
       "      <td>100</td>\n",
       "      <td>100</td>\n",
       "    </tr>\n",
       "    <tr>\n",
       "      <th>Vancouver (South Grandview-Woodlands / NE Kensington)</th>\n",
       "      <td>100</td>\n",
       "      <td>100</td>\n",
       "      <td>100</td>\n",
       "      <td>100</td>\n",
       "      <td>100</td>\n",
       "      <td>100</td>\n",
       "    </tr>\n",
       "    <tr>\n",
       "      <th>Vancouver (South Hastings-Sunrise / North Renfrew-Collingwood)</th>\n",
       "      <td>72</td>\n",
       "      <td>72</td>\n",
       "      <td>72</td>\n",
       "      <td>72</td>\n",
       "      <td>72</td>\n",
       "      <td>72</td>\n",
       "    </tr>\n",
       "    <tr>\n",
       "      <th>Vancouver (South Renfrew-Collingwood)</th>\n",
       "      <td>100</td>\n",
       "      <td>100</td>\n",
       "      <td>100</td>\n",
       "      <td>100</td>\n",
       "      <td>100</td>\n",
       "      <td>100</td>\n",
       "    </tr>\n",
       "    <tr>\n",
       "      <th>Vancouver (South Shaughnessy / NW Oakridge / NE Kerrisdale / SE Arbutus Ridge)</th>\n",
       "      <td>82</td>\n",
       "      <td>82</td>\n",
       "      <td>82</td>\n",
       "      <td>82</td>\n",
       "      <td>82</td>\n",
       "      <td>82</td>\n",
       "    </tr>\n",
       "    <tr>\n",
       "      <th>Vancouver (South West End)</th>\n",
       "      <td>100</td>\n",
       "      <td>100</td>\n",
       "      <td>100</td>\n",
       "      <td>100</td>\n",
       "      <td>100</td>\n",
       "      <td>100</td>\n",
       "    </tr>\n",
       "    <tr>\n",
       "      <th>Vancouver (Strathcona / Chinatown / Downtown Eastside)</th>\n",
       "      <td>100</td>\n",
       "      <td>100</td>\n",
       "      <td>100</td>\n",
       "      <td>100</td>\n",
       "      <td>100</td>\n",
       "      <td>100</td>\n",
       "    </tr>\n",
       "    <tr>\n",
       "      <th>Vancouver (Waterfront / Coal Harbour / Canada Place)</th>\n",
       "      <td>100</td>\n",
       "      <td>100</td>\n",
       "      <td>100</td>\n",
       "      <td>100</td>\n",
       "      <td>100</td>\n",
       "      <td>100</td>\n",
       "    </tr>\n",
       "    <tr>\n",
       "      <th>Vancouver (West Fairview / Granville Island / NE Shaughnessy)</th>\n",
       "      <td>100</td>\n",
       "      <td>100</td>\n",
       "      <td>100</td>\n",
       "      <td>100</td>\n",
       "      <td>100</td>\n",
       "      <td>100</td>\n",
       "    </tr>\n",
       "    <tr>\n",
       "      <th>Vancouver (West Kensington / NE Riley Park-Little Mountain)</th>\n",
       "      <td>100</td>\n",
       "      <td>100</td>\n",
       "      <td>100</td>\n",
       "      <td>100</td>\n",
       "      <td>100</td>\n",
       "      <td>100</td>\n",
       "    </tr>\n",
       "    <tr>\n",
       "      <th>Vancouver (West Kitsilano / Jericho)</th>\n",
       "      <td>94</td>\n",
       "      <td>94</td>\n",
       "      <td>94</td>\n",
       "      <td>94</td>\n",
       "      <td>94</td>\n",
       "      <td>94</td>\n",
       "    </tr>\n",
       "    <tr>\n",
       "      <th>Vancouver (West Mount Pleasant / West Riley Park-Little Mountain)</th>\n",
       "      <td>100</td>\n",
       "      <td>100</td>\n",
       "      <td>100</td>\n",
       "      <td>100</td>\n",
       "      <td>100</td>\n",
       "      <td>100</td>\n",
       "    </tr>\n",
       "    <tr>\n",
       "      <th>West Vancouver North</th>\n",
       "      <td>7</td>\n",
       "      <td>7</td>\n",
       "      <td>7</td>\n",
       "      <td>7</td>\n",
       "      <td>7</td>\n",
       "      <td>7</td>\n",
       "    </tr>\n",
       "    <tr>\n",
       "      <th>West Vancouver South</th>\n",
       "      <td>25</td>\n",
       "      <td>25</td>\n",
       "      <td>25</td>\n",
       "      <td>25</td>\n",
       "      <td>25</td>\n",
       "      <td>25</td>\n",
       "    </tr>\n",
       "    <tr>\n",
       "      <th>West Vancouver Southeast</th>\n",
       "      <td>100</td>\n",
       "      <td>100</td>\n",
       "      <td>100</td>\n",
       "      <td>100</td>\n",
       "      <td>100</td>\n",
       "      <td>100</td>\n",
       "    </tr>\n",
       "    <tr>\n",
       "      <th>West Vancouver West</th>\n",
       "      <td>42</td>\n",
       "      <td>42</td>\n",
       "      <td>42</td>\n",
       "      <td>42</td>\n",
       "      <td>42</td>\n",
       "      <td>42</td>\n",
       "    </tr>\n",
       "  </tbody>\n",
       "</table>\n",
       "</div>"
      ],
      "text/plain": [
       "                                                    Latitude  Longitude  \\\n",
       "Neighbourhoods                                                            \n",
       "North Vancouver East Central                              10         10   \n",
       "North Vancouver Inner East                                 2          2   \n",
       "North Vancouver North Central                             10         10   \n",
       "North Vancouver Northwest                                 33         33   \n",
       "North Vancouver Northwest Central                         18         18   \n",
       "North Vancouver Outer East                                10         10   \n",
       "North Vancouver South Central                            100        100   \n",
       "North Vancouver Southwest                                100        100   \n",
       "North Vancouver Southwest Central                        100        100   \n",
       "Vancouver (Bentall Centre)                               100        100   \n",
       "Vancouver (Central Kitsilano)                            100        100   \n",
       "Vancouver (Chaldecutt / South University Endowm...        46         46   \n",
       "Vancouver (Dunbar-Southlands / Musqueam)                  34         34   \n",
       "Vancouver (East Fairview / South Cambie)                 100        100   \n",
       "Vancouver (East Mount Pleasant)                          100        100   \n",
       "Vancouver (Killarney)                                     61         61   \n",
       "Vancouver (NE Downtown / Harbour Centre / Gasto...       100        100   \n",
       "Vancouver (NW Arbutus Ridge)                              86         86   \n",
       "Vancouver (NW Shaughnessy / East Kitsilano / Qu...       100        100   \n",
       "Vancouver (North Grandview-Woodlands)                    100        100   \n",
       "Vancouver (North Hastings-Sunrise)                        94         94   \n",
       "Vancouver (North West End / Stanley Park)                100        100   \n",
       "Vancouver (Pacific Centre)                               100        100   \n",
       "Vancouver (SE Kensington / Victoria-Fraserview)          100        100   \n",
       "Vancouver (SE Kerrisdale / SW Oakridge / West M...       100        100   \n",
       "Vancouver (SE Oakridge / East Marpole / South S...        99         99   \n",
       "Vancouver (SE Riley Park-Little Mountain / SW K...       100        100   \n",
       "Vancouver (SW Downtown)                                  100        100   \n",
       "Vancouver (South Grandview-Woodlands / NE Kensi...       100        100   \n",
       "Vancouver (South Hastings-Sunrise / North Renfr...        72         72   \n",
       "Vancouver (South Renfrew-Collingwood)                    100        100   \n",
       "Vancouver (South Shaughnessy / NW Oakridge / NE...        82         82   \n",
       "Vancouver (South West End)                               100        100   \n",
       "Vancouver (Strathcona / Chinatown / Downtown Ea...       100        100   \n",
       "Vancouver (Waterfront / Coal Harbour / Canada P...       100        100   \n",
       "Vancouver (West Fairview / Granville Island / N...       100        100   \n",
       "Vancouver (West Kensington / NE Riley Park-Litt...       100        100   \n",
       "Vancouver (West Kitsilano / Jericho)                      94         94   \n",
       "Vancouver (West Mount Pleasant / West Riley Par...       100        100   \n",
       "West Vancouver North                                       7          7   \n",
       "West Vancouver South                                      25         25   \n",
       "West Vancouver Southeast                                 100        100   \n",
       "West Vancouver West                                       42         42   \n",
       "\n",
       "                                                    VenueName  VenueLatitude  \\\n",
       "Neighbourhoods                                                                 \n",
       "North Vancouver East Central                               10             10   \n",
       "North Vancouver Inner East                                  2              2   \n",
       "North Vancouver North Central                              10             10   \n",
       "North Vancouver Northwest                                  33             33   \n",
       "North Vancouver Northwest Central                          18             18   \n",
       "North Vancouver Outer East                                 10             10   \n",
       "North Vancouver South Central                             100            100   \n",
       "North Vancouver Southwest                                 100            100   \n",
       "North Vancouver Southwest Central                         100            100   \n",
       "Vancouver (Bentall Centre)                                100            100   \n",
       "Vancouver (Central Kitsilano)                             100            100   \n",
       "Vancouver (Chaldecutt / South University Endowm...         46             46   \n",
       "Vancouver (Dunbar-Southlands / Musqueam)                   34             34   \n",
       "Vancouver (East Fairview / South Cambie)                  100            100   \n",
       "Vancouver (East Mount Pleasant)                           100            100   \n",
       "Vancouver (Killarney)                                      61             61   \n",
       "Vancouver (NE Downtown / Harbour Centre / Gasto...        100            100   \n",
       "Vancouver (NW Arbutus Ridge)                               86             86   \n",
       "Vancouver (NW Shaughnessy / East Kitsilano / Qu...        100            100   \n",
       "Vancouver (North Grandview-Woodlands)                     100            100   \n",
       "Vancouver (North Hastings-Sunrise)                         94             94   \n",
       "Vancouver (North West End / Stanley Park)                 100            100   \n",
       "Vancouver (Pacific Centre)                                100            100   \n",
       "Vancouver (SE Kensington / Victoria-Fraserview)           100            100   \n",
       "Vancouver (SE Kerrisdale / SW Oakridge / West M...        100            100   \n",
       "Vancouver (SE Oakridge / East Marpole / South S...         99             99   \n",
       "Vancouver (SE Riley Park-Little Mountain / SW K...        100            100   \n",
       "Vancouver (SW Downtown)                                   100            100   \n",
       "Vancouver (South Grandview-Woodlands / NE Kensi...        100            100   \n",
       "Vancouver (South Hastings-Sunrise / North Renfr...         72             72   \n",
       "Vancouver (South Renfrew-Collingwood)                     100            100   \n",
       "Vancouver (South Shaughnessy / NW Oakridge / NE...         82             82   \n",
       "Vancouver (South West End)                                100            100   \n",
       "Vancouver (Strathcona / Chinatown / Downtown Ea...        100            100   \n",
       "Vancouver (Waterfront / Coal Harbour / Canada P...        100            100   \n",
       "Vancouver (West Fairview / Granville Island / N...        100            100   \n",
       "Vancouver (West Kensington / NE Riley Park-Litt...        100            100   \n",
       "Vancouver (West Kitsilano / Jericho)                       94             94   \n",
       "Vancouver (West Mount Pleasant / West Riley Par...        100            100   \n",
       "West Vancouver North                                        7              7   \n",
       "West Vancouver South                                       25             25   \n",
       "West Vancouver Southeast                                  100            100   \n",
       "West Vancouver West                                        42             42   \n",
       "\n",
       "                                                    VenueLongitude  \\\n",
       "Neighbourhoods                                                       \n",
       "North Vancouver East Central                                    10   \n",
       "North Vancouver Inner East                                       2   \n",
       "North Vancouver North Central                                   10   \n",
       "North Vancouver Northwest                                       33   \n",
       "North Vancouver Northwest Central                               18   \n",
       "North Vancouver Outer East                                      10   \n",
       "North Vancouver South Central                                  100   \n",
       "North Vancouver Southwest                                      100   \n",
       "North Vancouver Southwest Central                              100   \n",
       "Vancouver (Bentall Centre)                                     100   \n",
       "Vancouver (Central Kitsilano)                                  100   \n",
       "Vancouver (Chaldecutt / South University Endowm...              46   \n",
       "Vancouver (Dunbar-Southlands / Musqueam)                        34   \n",
       "Vancouver (East Fairview / South Cambie)                       100   \n",
       "Vancouver (East Mount Pleasant)                                100   \n",
       "Vancouver (Killarney)                                           61   \n",
       "Vancouver (NE Downtown / Harbour Centre / Gasto...             100   \n",
       "Vancouver (NW Arbutus Ridge)                                    86   \n",
       "Vancouver (NW Shaughnessy / East Kitsilano / Qu...             100   \n",
       "Vancouver (North Grandview-Woodlands)                          100   \n",
       "Vancouver (North Hastings-Sunrise)                              94   \n",
       "Vancouver (North West End / Stanley Park)                      100   \n",
       "Vancouver (Pacific Centre)                                     100   \n",
       "Vancouver (SE Kensington / Victoria-Fraserview)                100   \n",
       "Vancouver (SE Kerrisdale / SW Oakridge / West M...             100   \n",
       "Vancouver (SE Oakridge / East Marpole / South S...              99   \n",
       "Vancouver (SE Riley Park-Little Mountain / SW K...             100   \n",
       "Vancouver (SW Downtown)                                        100   \n",
       "Vancouver (South Grandview-Woodlands / NE Kensi...             100   \n",
       "Vancouver (South Hastings-Sunrise / North Renfr...              72   \n",
       "Vancouver (South Renfrew-Collingwood)                          100   \n",
       "Vancouver (South Shaughnessy / NW Oakridge / NE...              82   \n",
       "Vancouver (South West End)                                     100   \n",
       "Vancouver (Strathcona / Chinatown / Downtown Ea...             100   \n",
       "Vancouver (Waterfront / Coal Harbour / Canada P...             100   \n",
       "Vancouver (West Fairview / Granville Island / N...             100   \n",
       "Vancouver (West Kensington / NE Riley Park-Litt...             100   \n",
       "Vancouver (West Kitsilano / Jericho)                            94   \n",
       "Vancouver (West Mount Pleasant / West Riley Par...             100   \n",
       "West Vancouver North                                             7   \n",
       "West Vancouver South                                            25   \n",
       "West Vancouver Southeast                                       100   \n",
       "West Vancouver West                                             42   \n",
       "\n",
       "                                                    VenueCategory  \n",
       "Neighbourhoods                                                     \n",
       "North Vancouver East Central                                   10  \n",
       "North Vancouver Inner East                                      2  \n",
       "North Vancouver North Central                                  10  \n",
       "North Vancouver Northwest                                      33  \n",
       "North Vancouver Northwest Central                              18  \n",
       "North Vancouver Outer East                                     10  \n",
       "North Vancouver South Central                                 100  \n",
       "North Vancouver Southwest                                     100  \n",
       "North Vancouver Southwest Central                             100  \n",
       "Vancouver (Bentall Centre)                                    100  \n",
       "Vancouver (Central Kitsilano)                                 100  \n",
       "Vancouver (Chaldecutt / South University Endowm...             46  \n",
       "Vancouver (Dunbar-Southlands / Musqueam)                       34  \n",
       "Vancouver (East Fairview / South Cambie)                      100  \n",
       "Vancouver (East Mount Pleasant)                               100  \n",
       "Vancouver (Killarney)                                          61  \n",
       "Vancouver (NE Downtown / Harbour Centre / Gasto...            100  \n",
       "Vancouver (NW Arbutus Ridge)                                   86  \n",
       "Vancouver (NW Shaughnessy / East Kitsilano / Qu...            100  \n",
       "Vancouver (North Grandview-Woodlands)                         100  \n",
       "Vancouver (North Hastings-Sunrise)                             94  \n",
       "Vancouver (North West End / Stanley Park)                     100  \n",
       "Vancouver (Pacific Centre)                                    100  \n",
       "Vancouver (SE Kensington / Victoria-Fraserview)               100  \n",
       "Vancouver (SE Kerrisdale / SW Oakridge / West M...            100  \n",
       "Vancouver (SE Oakridge / East Marpole / South S...             99  \n",
       "Vancouver (SE Riley Park-Little Mountain / SW K...            100  \n",
       "Vancouver (SW Downtown)                                       100  \n",
       "Vancouver (South Grandview-Woodlands / NE Kensi...            100  \n",
       "Vancouver (South Hastings-Sunrise / North Renfr...             72  \n",
       "Vancouver (South Renfrew-Collingwood)                         100  \n",
       "Vancouver (South Shaughnessy / NW Oakridge / NE...             82  \n",
       "Vancouver (South West End)                                    100  \n",
       "Vancouver (Strathcona / Chinatown / Downtown Ea...            100  \n",
       "Vancouver (Waterfront / Coal Harbour / Canada P...            100  \n",
       "Vancouver (West Fairview / Granville Island / N...            100  \n",
       "Vancouver (West Kensington / NE Riley Park-Litt...            100  \n",
       "Vancouver (West Kitsilano / Jericho)                           94  \n",
       "Vancouver (West Mount Pleasant / West Riley Par...            100  \n",
       "West Vancouver North                                            7  \n",
       "West Vancouver South                                           25  \n",
       "West Vancouver Southeast                                      100  \n",
       "West Vancouver West                                            42  "
      ]
     },
     "execution_count": 15,
     "metadata": {},
     "output_type": "execute_result"
    }
   ],
   "source": [
    "venues_df.groupby([\"Neighbourhoods\"]).count()"
   ]
  },
  {
   "cell_type": "code",
   "execution_count": 16,
   "metadata": {},
   "outputs": [
    {
     "name": "stdout",
     "output_type": "stream",
     "text": [
      "There are 249 uniques categories.\n"
     ]
    }
   ],
   "source": [
    "print('There are {} uniques categories.'.format(len(venues_df['VenueCategory'].unique())))"
   ]
  },
  {
   "cell_type": "code",
   "execution_count": 17,
   "metadata": {},
   "outputs": [],
   "source": [
    "# Filter subdistrict\n",
    "lowvenue_neighbourhood = venues_df.groupby('Neighbourhoods').VenueName.count() < 10\n",
    "lowvenue_neighbourhood = list(lowvenue_neighbourhood[lowvenue_neighbourhood].index)\n",
    "\n",
    "# duplicate df\n",
    "van_venues = venues_df\n",
    "\n",
    "# Exclude the subdistricts\n",
    "for i in lowvenue_neighbourhood:\n",
    "    van_venues = van_venues[van_venues.Neighbourhoods != i]"
   ]
  },
  {
   "cell_type": "code",
   "execution_count": 18,
   "metadata": {},
   "outputs": [
    {
     "data": {
      "text/html": [
       "<div>\n",
       "<style scoped>\n",
       "    .dataframe tbody tr th:only-of-type {\n",
       "        vertical-align: middle;\n",
       "    }\n",
       "\n",
       "    .dataframe tbody tr th {\n",
       "        vertical-align: top;\n",
       "    }\n",
       "\n",
       "    .dataframe thead th {\n",
       "        text-align: right;\n",
       "    }\n",
       "</style>\n",
       "<table border=\"1\" class=\"dataframe\">\n",
       "  <thead>\n",
       "    <tr style=\"text-align: right;\">\n",
       "      <th></th>\n",
       "      <th>Latitude</th>\n",
       "      <th>Longitude</th>\n",
       "      <th>VenueName</th>\n",
       "      <th>VenueLatitude</th>\n",
       "      <th>VenueLongitude</th>\n",
       "      <th>VenueCategory</th>\n",
       "    </tr>\n",
       "    <tr>\n",
       "      <th>Neighbourhoods</th>\n",
       "      <th></th>\n",
       "      <th></th>\n",
       "      <th></th>\n",
       "      <th></th>\n",
       "      <th></th>\n",
       "      <th></th>\n",
       "    </tr>\n",
       "  </thead>\n",
       "  <tbody>\n",
       "    <tr>\n",
       "      <th>North Vancouver East Central</th>\n",
       "      <td>10</td>\n",
       "      <td>10</td>\n",
       "      <td>10</td>\n",
       "      <td>10</td>\n",
       "      <td>10</td>\n",
       "      <td>10</td>\n",
       "    </tr>\n",
       "    <tr>\n",
       "      <th>North Vancouver North Central</th>\n",
       "      <td>10</td>\n",
       "      <td>10</td>\n",
       "      <td>10</td>\n",
       "      <td>10</td>\n",
       "      <td>10</td>\n",
       "      <td>10</td>\n",
       "    </tr>\n",
       "    <tr>\n",
       "      <th>North Vancouver Northwest</th>\n",
       "      <td>33</td>\n",
       "      <td>33</td>\n",
       "      <td>33</td>\n",
       "      <td>33</td>\n",
       "      <td>33</td>\n",
       "      <td>33</td>\n",
       "    </tr>\n",
       "    <tr>\n",
       "      <th>North Vancouver Northwest Central</th>\n",
       "      <td>18</td>\n",
       "      <td>18</td>\n",
       "      <td>18</td>\n",
       "      <td>18</td>\n",
       "      <td>18</td>\n",
       "      <td>18</td>\n",
       "    </tr>\n",
       "    <tr>\n",
       "      <th>North Vancouver Outer East</th>\n",
       "      <td>10</td>\n",
       "      <td>10</td>\n",
       "      <td>10</td>\n",
       "      <td>10</td>\n",
       "      <td>10</td>\n",
       "      <td>10</td>\n",
       "    </tr>\n",
       "    <tr>\n",
       "      <th>North Vancouver South Central</th>\n",
       "      <td>100</td>\n",
       "      <td>100</td>\n",
       "      <td>100</td>\n",
       "      <td>100</td>\n",
       "      <td>100</td>\n",
       "      <td>100</td>\n",
       "    </tr>\n",
       "    <tr>\n",
       "      <th>North Vancouver Southwest</th>\n",
       "      <td>100</td>\n",
       "      <td>100</td>\n",
       "      <td>100</td>\n",
       "      <td>100</td>\n",
       "      <td>100</td>\n",
       "      <td>100</td>\n",
       "    </tr>\n",
       "    <tr>\n",
       "      <th>North Vancouver Southwest Central</th>\n",
       "      <td>100</td>\n",
       "      <td>100</td>\n",
       "      <td>100</td>\n",
       "      <td>100</td>\n",
       "      <td>100</td>\n",
       "      <td>100</td>\n",
       "    </tr>\n",
       "    <tr>\n",
       "      <th>Vancouver (Bentall Centre)</th>\n",
       "      <td>100</td>\n",
       "      <td>100</td>\n",
       "      <td>100</td>\n",
       "      <td>100</td>\n",
       "      <td>100</td>\n",
       "      <td>100</td>\n",
       "    </tr>\n",
       "    <tr>\n",
       "      <th>Vancouver (Central Kitsilano)</th>\n",
       "      <td>100</td>\n",
       "      <td>100</td>\n",
       "      <td>100</td>\n",
       "      <td>100</td>\n",
       "      <td>100</td>\n",
       "      <td>100</td>\n",
       "    </tr>\n",
       "    <tr>\n",
       "      <th>Vancouver (Chaldecutt / South University Endowment Lands)</th>\n",
       "      <td>46</td>\n",
       "      <td>46</td>\n",
       "      <td>46</td>\n",
       "      <td>46</td>\n",
       "      <td>46</td>\n",
       "      <td>46</td>\n",
       "    </tr>\n",
       "    <tr>\n",
       "      <th>Vancouver (Dunbar-Southlands / Musqueam)</th>\n",
       "      <td>34</td>\n",
       "      <td>34</td>\n",
       "      <td>34</td>\n",
       "      <td>34</td>\n",
       "      <td>34</td>\n",
       "      <td>34</td>\n",
       "    </tr>\n",
       "    <tr>\n",
       "      <th>Vancouver (East Fairview / South Cambie)</th>\n",
       "      <td>100</td>\n",
       "      <td>100</td>\n",
       "      <td>100</td>\n",
       "      <td>100</td>\n",
       "      <td>100</td>\n",
       "      <td>100</td>\n",
       "    </tr>\n",
       "    <tr>\n",
       "      <th>Vancouver (East Mount Pleasant)</th>\n",
       "      <td>100</td>\n",
       "      <td>100</td>\n",
       "      <td>100</td>\n",
       "      <td>100</td>\n",
       "      <td>100</td>\n",
       "      <td>100</td>\n",
       "    </tr>\n",
       "    <tr>\n",
       "      <th>Vancouver (Killarney)</th>\n",
       "      <td>61</td>\n",
       "      <td>61</td>\n",
       "      <td>61</td>\n",
       "      <td>61</td>\n",
       "      <td>61</td>\n",
       "      <td>61</td>\n",
       "    </tr>\n",
       "    <tr>\n",
       "      <th>Vancouver (NE Downtown / Harbour Centre / Gastown / Yaletown)</th>\n",
       "      <td>100</td>\n",
       "      <td>100</td>\n",
       "      <td>100</td>\n",
       "      <td>100</td>\n",
       "      <td>100</td>\n",
       "      <td>100</td>\n",
       "    </tr>\n",
       "    <tr>\n",
       "      <th>Vancouver (NW Arbutus Ridge)</th>\n",
       "      <td>86</td>\n",
       "      <td>86</td>\n",
       "      <td>86</td>\n",
       "      <td>86</td>\n",
       "      <td>86</td>\n",
       "      <td>86</td>\n",
       "    </tr>\n",
       "    <tr>\n",
       "      <th>Vancouver (NW Shaughnessy / East Kitsilano / Quilchena)</th>\n",
       "      <td>100</td>\n",
       "      <td>100</td>\n",
       "      <td>100</td>\n",
       "      <td>100</td>\n",
       "      <td>100</td>\n",
       "      <td>100</td>\n",
       "    </tr>\n",
       "    <tr>\n",
       "      <th>Vancouver (North Grandview-Woodlands)</th>\n",
       "      <td>100</td>\n",
       "      <td>100</td>\n",
       "      <td>100</td>\n",
       "      <td>100</td>\n",
       "      <td>100</td>\n",
       "      <td>100</td>\n",
       "    </tr>\n",
       "    <tr>\n",
       "      <th>Vancouver (North Hastings-Sunrise)</th>\n",
       "      <td>94</td>\n",
       "      <td>94</td>\n",
       "      <td>94</td>\n",
       "      <td>94</td>\n",
       "      <td>94</td>\n",
       "      <td>94</td>\n",
       "    </tr>\n",
       "    <tr>\n",
       "      <th>Vancouver (North West End / Stanley Park)</th>\n",
       "      <td>100</td>\n",
       "      <td>100</td>\n",
       "      <td>100</td>\n",
       "      <td>100</td>\n",
       "      <td>100</td>\n",
       "      <td>100</td>\n",
       "    </tr>\n",
       "    <tr>\n",
       "      <th>Vancouver (Pacific Centre)</th>\n",
       "      <td>100</td>\n",
       "      <td>100</td>\n",
       "      <td>100</td>\n",
       "      <td>100</td>\n",
       "      <td>100</td>\n",
       "      <td>100</td>\n",
       "    </tr>\n",
       "    <tr>\n",
       "      <th>Vancouver (SE Kensington / Victoria-Fraserview)</th>\n",
       "      <td>100</td>\n",
       "      <td>100</td>\n",
       "      <td>100</td>\n",
       "      <td>100</td>\n",
       "      <td>100</td>\n",
       "      <td>100</td>\n",
       "    </tr>\n",
       "    <tr>\n",
       "      <th>Vancouver (SE Kerrisdale / SW Oakridge / West Marpole)</th>\n",
       "      <td>100</td>\n",
       "      <td>100</td>\n",
       "      <td>100</td>\n",
       "      <td>100</td>\n",
       "      <td>100</td>\n",
       "      <td>100</td>\n",
       "    </tr>\n",
       "    <tr>\n",
       "      <th>Vancouver (SE Oakridge / East Marpole / South Sunset)</th>\n",
       "      <td>99</td>\n",
       "      <td>99</td>\n",
       "      <td>99</td>\n",
       "      <td>99</td>\n",
       "      <td>99</td>\n",
       "      <td>99</td>\n",
       "    </tr>\n",
       "    <tr>\n",
       "      <th>Vancouver (SE Riley Park-Little Mountain / SW Kensington / NE Oakridge / North Sunset)</th>\n",
       "      <td>100</td>\n",
       "      <td>100</td>\n",
       "      <td>100</td>\n",
       "      <td>100</td>\n",
       "      <td>100</td>\n",
       "      <td>100</td>\n",
       "    </tr>\n",
       "    <tr>\n",
       "      <th>Vancouver (SW Downtown)</th>\n",
       "      <td>100</td>\n",
       "      <td>100</td>\n",
       "      <td>100</td>\n",
       "      <td>100</td>\n",
       "      <td>100</td>\n",
       "      <td>100</td>\n",
       "    </tr>\n",
       "    <tr>\n",
       "      <th>Vancouver (South Grandview-Woodlands / NE Kensington)</th>\n",
       "      <td>100</td>\n",
       "      <td>100</td>\n",
       "      <td>100</td>\n",
       "      <td>100</td>\n",
       "      <td>100</td>\n",
       "      <td>100</td>\n",
       "    </tr>\n",
       "    <tr>\n",
       "      <th>Vancouver (South Hastings-Sunrise / North Renfrew-Collingwood)</th>\n",
       "      <td>72</td>\n",
       "      <td>72</td>\n",
       "      <td>72</td>\n",
       "      <td>72</td>\n",
       "      <td>72</td>\n",
       "      <td>72</td>\n",
       "    </tr>\n",
       "    <tr>\n",
       "      <th>Vancouver (South Renfrew-Collingwood)</th>\n",
       "      <td>100</td>\n",
       "      <td>100</td>\n",
       "      <td>100</td>\n",
       "      <td>100</td>\n",
       "      <td>100</td>\n",
       "      <td>100</td>\n",
       "    </tr>\n",
       "    <tr>\n",
       "      <th>Vancouver (South Shaughnessy / NW Oakridge / NE Kerrisdale / SE Arbutus Ridge)</th>\n",
       "      <td>82</td>\n",
       "      <td>82</td>\n",
       "      <td>82</td>\n",
       "      <td>82</td>\n",
       "      <td>82</td>\n",
       "      <td>82</td>\n",
       "    </tr>\n",
       "    <tr>\n",
       "      <th>Vancouver (South West End)</th>\n",
       "      <td>100</td>\n",
       "      <td>100</td>\n",
       "      <td>100</td>\n",
       "      <td>100</td>\n",
       "      <td>100</td>\n",
       "      <td>100</td>\n",
       "    </tr>\n",
       "    <tr>\n",
       "      <th>Vancouver (Strathcona / Chinatown / Downtown Eastside)</th>\n",
       "      <td>100</td>\n",
       "      <td>100</td>\n",
       "      <td>100</td>\n",
       "      <td>100</td>\n",
       "      <td>100</td>\n",
       "      <td>100</td>\n",
       "    </tr>\n",
       "    <tr>\n",
       "      <th>Vancouver (Waterfront / Coal Harbour / Canada Place)</th>\n",
       "      <td>100</td>\n",
       "      <td>100</td>\n",
       "      <td>100</td>\n",
       "      <td>100</td>\n",
       "      <td>100</td>\n",
       "      <td>100</td>\n",
       "    </tr>\n",
       "    <tr>\n",
       "      <th>Vancouver (West Fairview / Granville Island / NE Shaughnessy)</th>\n",
       "      <td>100</td>\n",
       "      <td>100</td>\n",
       "      <td>100</td>\n",
       "      <td>100</td>\n",
       "      <td>100</td>\n",
       "      <td>100</td>\n",
       "    </tr>\n",
       "    <tr>\n",
       "      <th>Vancouver (West Kensington / NE Riley Park-Little Mountain)</th>\n",
       "      <td>100</td>\n",
       "      <td>100</td>\n",
       "      <td>100</td>\n",
       "      <td>100</td>\n",
       "      <td>100</td>\n",
       "      <td>100</td>\n",
       "    </tr>\n",
       "    <tr>\n",
       "      <th>Vancouver (West Kitsilano / Jericho)</th>\n",
       "      <td>94</td>\n",
       "      <td>94</td>\n",
       "      <td>94</td>\n",
       "      <td>94</td>\n",
       "      <td>94</td>\n",
       "      <td>94</td>\n",
       "    </tr>\n",
       "    <tr>\n",
       "      <th>Vancouver (West Mount Pleasant / West Riley Park-Little Mountain)</th>\n",
       "      <td>100</td>\n",
       "      <td>100</td>\n",
       "      <td>100</td>\n",
       "      <td>100</td>\n",
       "      <td>100</td>\n",
       "      <td>100</td>\n",
       "    </tr>\n",
       "    <tr>\n",
       "      <th>West Vancouver South</th>\n",
       "      <td>25</td>\n",
       "      <td>25</td>\n",
       "      <td>25</td>\n",
       "      <td>25</td>\n",
       "      <td>25</td>\n",
       "      <td>25</td>\n",
       "    </tr>\n",
       "    <tr>\n",
       "      <th>West Vancouver Southeast</th>\n",
       "      <td>100</td>\n",
       "      <td>100</td>\n",
       "      <td>100</td>\n",
       "      <td>100</td>\n",
       "      <td>100</td>\n",
       "      <td>100</td>\n",
       "    </tr>\n",
       "    <tr>\n",
       "      <th>West Vancouver West</th>\n",
       "      <td>42</td>\n",
       "      <td>42</td>\n",
       "      <td>42</td>\n",
       "      <td>42</td>\n",
       "      <td>42</td>\n",
       "      <td>42</td>\n",
       "    </tr>\n",
       "  </tbody>\n",
       "</table>\n",
       "</div>"
      ],
      "text/plain": [
       "                                                    Latitude  Longitude  \\\n",
       "Neighbourhoods                                                            \n",
       "North Vancouver East Central                              10         10   \n",
       "North Vancouver North Central                             10         10   \n",
       "North Vancouver Northwest                                 33         33   \n",
       "North Vancouver Northwest Central                         18         18   \n",
       "North Vancouver Outer East                                10         10   \n",
       "North Vancouver South Central                            100        100   \n",
       "North Vancouver Southwest                                100        100   \n",
       "North Vancouver Southwest Central                        100        100   \n",
       "Vancouver (Bentall Centre)                               100        100   \n",
       "Vancouver (Central Kitsilano)                            100        100   \n",
       "Vancouver (Chaldecutt / South University Endowm...        46         46   \n",
       "Vancouver (Dunbar-Southlands / Musqueam)                  34         34   \n",
       "Vancouver (East Fairview / South Cambie)                 100        100   \n",
       "Vancouver (East Mount Pleasant)                          100        100   \n",
       "Vancouver (Killarney)                                     61         61   \n",
       "Vancouver (NE Downtown / Harbour Centre / Gasto...       100        100   \n",
       "Vancouver (NW Arbutus Ridge)                              86         86   \n",
       "Vancouver (NW Shaughnessy / East Kitsilano / Qu...       100        100   \n",
       "Vancouver (North Grandview-Woodlands)                    100        100   \n",
       "Vancouver (North Hastings-Sunrise)                        94         94   \n",
       "Vancouver (North West End / Stanley Park)                100        100   \n",
       "Vancouver (Pacific Centre)                               100        100   \n",
       "Vancouver (SE Kensington / Victoria-Fraserview)          100        100   \n",
       "Vancouver (SE Kerrisdale / SW Oakridge / West M...       100        100   \n",
       "Vancouver (SE Oakridge / East Marpole / South S...        99         99   \n",
       "Vancouver (SE Riley Park-Little Mountain / SW K...       100        100   \n",
       "Vancouver (SW Downtown)                                  100        100   \n",
       "Vancouver (South Grandview-Woodlands / NE Kensi...       100        100   \n",
       "Vancouver (South Hastings-Sunrise / North Renfr...        72         72   \n",
       "Vancouver (South Renfrew-Collingwood)                    100        100   \n",
       "Vancouver (South Shaughnessy / NW Oakridge / NE...        82         82   \n",
       "Vancouver (South West End)                               100        100   \n",
       "Vancouver (Strathcona / Chinatown / Downtown Ea...       100        100   \n",
       "Vancouver (Waterfront / Coal Harbour / Canada P...       100        100   \n",
       "Vancouver (West Fairview / Granville Island / N...       100        100   \n",
       "Vancouver (West Kensington / NE Riley Park-Litt...       100        100   \n",
       "Vancouver (West Kitsilano / Jericho)                      94         94   \n",
       "Vancouver (West Mount Pleasant / West Riley Par...       100        100   \n",
       "West Vancouver South                                      25         25   \n",
       "West Vancouver Southeast                                 100        100   \n",
       "West Vancouver West                                       42         42   \n",
       "\n",
       "                                                    VenueName  VenueLatitude  \\\n",
       "Neighbourhoods                                                                 \n",
       "North Vancouver East Central                               10             10   \n",
       "North Vancouver North Central                              10             10   \n",
       "North Vancouver Northwest                                  33             33   \n",
       "North Vancouver Northwest Central                          18             18   \n",
       "North Vancouver Outer East                                 10             10   \n",
       "North Vancouver South Central                             100            100   \n",
       "North Vancouver Southwest                                 100            100   \n",
       "North Vancouver Southwest Central                         100            100   \n",
       "Vancouver (Bentall Centre)                                100            100   \n",
       "Vancouver (Central Kitsilano)                             100            100   \n",
       "Vancouver (Chaldecutt / South University Endowm...         46             46   \n",
       "Vancouver (Dunbar-Southlands / Musqueam)                   34             34   \n",
       "Vancouver (East Fairview / South Cambie)                  100            100   \n",
       "Vancouver (East Mount Pleasant)                           100            100   \n",
       "Vancouver (Killarney)                                      61             61   \n",
       "Vancouver (NE Downtown / Harbour Centre / Gasto...        100            100   \n",
       "Vancouver (NW Arbutus Ridge)                               86             86   \n",
       "Vancouver (NW Shaughnessy / East Kitsilano / Qu...        100            100   \n",
       "Vancouver (North Grandview-Woodlands)                     100            100   \n",
       "Vancouver (North Hastings-Sunrise)                         94             94   \n",
       "Vancouver (North West End / Stanley Park)                 100            100   \n",
       "Vancouver (Pacific Centre)                                100            100   \n",
       "Vancouver (SE Kensington / Victoria-Fraserview)           100            100   \n",
       "Vancouver (SE Kerrisdale / SW Oakridge / West M...        100            100   \n",
       "Vancouver (SE Oakridge / East Marpole / South S...         99             99   \n",
       "Vancouver (SE Riley Park-Little Mountain / SW K...        100            100   \n",
       "Vancouver (SW Downtown)                                   100            100   \n",
       "Vancouver (South Grandview-Woodlands / NE Kensi...        100            100   \n",
       "Vancouver (South Hastings-Sunrise / North Renfr...         72             72   \n",
       "Vancouver (South Renfrew-Collingwood)                     100            100   \n",
       "Vancouver (South Shaughnessy / NW Oakridge / NE...         82             82   \n",
       "Vancouver (South West End)                                100            100   \n",
       "Vancouver (Strathcona / Chinatown / Downtown Ea...        100            100   \n",
       "Vancouver (Waterfront / Coal Harbour / Canada P...        100            100   \n",
       "Vancouver (West Fairview / Granville Island / N...        100            100   \n",
       "Vancouver (West Kensington / NE Riley Park-Litt...        100            100   \n",
       "Vancouver (West Kitsilano / Jericho)                       94             94   \n",
       "Vancouver (West Mount Pleasant / West Riley Par...        100            100   \n",
       "West Vancouver South                                       25             25   \n",
       "West Vancouver Southeast                                  100            100   \n",
       "West Vancouver West                                        42             42   \n",
       "\n",
       "                                                    VenueLongitude  \\\n",
       "Neighbourhoods                                                       \n",
       "North Vancouver East Central                                    10   \n",
       "North Vancouver North Central                                   10   \n",
       "North Vancouver Northwest                                       33   \n",
       "North Vancouver Northwest Central                               18   \n",
       "North Vancouver Outer East                                      10   \n",
       "North Vancouver South Central                                  100   \n",
       "North Vancouver Southwest                                      100   \n",
       "North Vancouver Southwest Central                              100   \n",
       "Vancouver (Bentall Centre)                                     100   \n",
       "Vancouver (Central Kitsilano)                                  100   \n",
       "Vancouver (Chaldecutt / South University Endowm...              46   \n",
       "Vancouver (Dunbar-Southlands / Musqueam)                        34   \n",
       "Vancouver (East Fairview / South Cambie)                       100   \n",
       "Vancouver (East Mount Pleasant)                                100   \n",
       "Vancouver (Killarney)                                           61   \n",
       "Vancouver (NE Downtown / Harbour Centre / Gasto...             100   \n",
       "Vancouver (NW Arbutus Ridge)                                    86   \n",
       "Vancouver (NW Shaughnessy / East Kitsilano / Qu...             100   \n",
       "Vancouver (North Grandview-Woodlands)                          100   \n",
       "Vancouver (North Hastings-Sunrise)                              94   \n",
       "Vancouver (North West End / Stanley Park)                      100   \n",
       "Vancouver (Pacific Centre)                                     100   \n",
       "Vancouver (SE Kensington / Victoria-Fraserview)                100   \n",
       "Vancouver (SE Kerrisdale / SW Oakridge / West M...             100   \n",
       "Vancouver (SE Oakridge / East Marpole / South S...              99   \n",
       "Vancouver (SE Riley Park-Little Mountain / SW K...             100   \n",
       "Vancouver (SW Downtown)                                        100   \n",
       "Vancouver (South Grandview-Woodlands / NE Kensi...             100   \n",
       "Vancouver (South Hastings-Sunrise / North Renfr...              72   \n",
       "Vancouver (South Renfrew-Collingwood)                          100   \n",
       "Vancouver (South Shaughnessy / NW Oakridge / NE...              82   \n",
       "Vancouver (South West End)                                     100   \n",
       "Vancouver (Strathcona / Chinatown / Downtown Ea...             100   \n",
       "Vancouver (Waterfront / Coal Harbour / Canada P...             100   \n",
       "Vancouver (West Fairview / Granville Island / N...             100   \n",
       "Vancouver (West Kensington / NE Riley Park-Litt...             100   \n",
       "Vancouver (West Kitsilano / Jericho)                            94   \n",
       "Vancouver (West Mount Pleasant / West Riley Par...             100   \n",
       "West Vancouver South                                            25   \n",
       "West Vancouver Southeast                                       100   \n",
       "West Vancouver West                                             42   \n",
       "\n",
       "                                                    VenueCategory  \n",
       "Neighbourhoods                                                     \n",
       "North Vancouver East Central                                   10  \n",
       "North Vancouver North Central                                  10  \n",
       "North Vancouver Northwest                                      33  \n",
       "North Vancouver Northwest Central                              18  \n",
       "North Vancouver Outer East                                     10  \n",
       "North Vancouver South Central                                 100  \n",
       "North Vancouver Southwest                                     100  \n",
       "North Vancouver Southwest Central                             100  \n",
       "Vancouver (Bentall Centre)                                    100  \n",
       "Vancouver (Central Kitsilano)                                 100  \n",
       "Vancouver (Chaldecutt / South University Endowm...             46  \n",
       "Vancouver (Dunbar-Southlands / Musqueam)                       34  \n",
       "Vancouver (East Fairview / South Cambie)                      100  \n",
       "Vancouver (East Mount Pleasant)                               100  \n",
       "Vancouver (Killarney)                                          61  \n",
       "Vancouver (NE Downtown / Harbour Centre / Gasto...            100  \n",
       "Vancouver (NW Arbutus Ridge)                                   86  \n",
       "Vancouver (NW Shaughnessy / East Kitsilano / Qu...            100  \n",
       "Vancouver (North Grandview-Woodlands)                         100  \n",
       "Vancouver (North Hastings-Sunrise)                             94  \n",
       "Vancouver (North West End / Stanley Park)                     100  \n",
       "Vancouver (Pacific Centre)                                    100  \n",
       "Vancouver (SE Kensington / Victoria-Fraserview)               100  \n",
       "Vancouver (SE Kerrisdale / SW Oakridge / West M...            100  \n",
       "Vancouver (SE Oakridge / East Marpole / South S...             99  \n",
       "Vancouver (SE Riley Park-Little Mountain / SW K...            100  \n",
       "Vancouver (SW Downtown)                                       100  \n",
       "Vancouver (South Grandview-Woodlands / NE Kensi...            100  \n",
       "Vancouver (South Hastings-Sunrise / North Renfr...             72  \n",
       "Vancouver (South Renfrew-Collingwood)                         100  \n",
       "Vancouver (South Shaughnessy / NW Oakridge / NE...             82  \n",
       "Vancouver (South West End)                                    100  \n",
       "Vancouver (Strathcona / Chinatown / Downtown Ea...            100  \n",
       "Vancouver (Waterfront / Coal Harbour / Canada P...            100  \n",
       "Vancouver (West Fairview / Granville Island / N...            100  \n",
       "Vancouver (West Kensington / NE Riley Park-Litt...            100  \n",
       "Vancouver (West Kitsilano / Jericho)                           94  \n",
       "Vancouver (West Mount Pleasant / West Riley Par...            100  \n",
       "West Vancouver South                                           25  \n",
       "West Vancouver Southeast                                      100  \n",
       "West Vancouver West                                            42  "
      ]
     },
     "execution_count": 18,
     "metadata": {},
     "output_type": "execute_result"
    }
   ],
   "source": [
    "\n",
    "van_venues.groupby('Neighbourhoods').count()"
   ]
  },
  {
   "cell_type": "code",
   "execution_count": 19,
   "metadata": {},
   "outputs": [
    {
     "data": {
      "text/plain": [
       "array(['Fair', 'Theme Park Ride / Attraction', 'Farm',\n",
       "       'Middle Eastern Restaurant', 'Park', 'Hot Dog Joint',\n",
       "       'Vietnamese Restaurant', 'Mexican Restaurant', 'Coffee Shop',\n",
       "       'Breakfast Spot', 'Grocery Store', 'Indian Restaurant',\n",
       "       'Food Truck', 'Hockey Arena', 'Café', 'Bakery', 'Theme Park',\n",
       "       'Soccer Field', 'Hobby Shop', 'Dessert Shop', 'Brewery',\n",
       "       'Sushi Restaurant', 'Racetrack', 'Southern / Soul Food Restaurant',\n",
       "       'Motorcycle Shop', 'French Restaurant', 'Beer Garden', 'Theater',\n",
       "       'Amphitheater', 'Deli / Bodega', 'Latin American Restaurant',\n",
       "       'Thai Restaurant', 'Greek Restaurant', 'Japanese Restaurant',\n",
       "       'Event Space', 'Seafood Restaurant', 'BBQ Joint',\n",
       "       'Fried Chicken Joint', 'Chinese Restaurant', 'Liquor Store',\n",
       "       'Asian Restaurant', 'Bank', 'Thrift / Vintage Store', 'Restaurant',\n",
       "       'Pub', 'Sandwich Place', 'Convenience Store',\n",
       "       'American Restaurant', 'Pool', 'Beach'], dtype=object)"
      ]
     },
     "execution_count": 19,
     "metadata": {},
     "output_type": "execute_result"
    }
   ],
   "source": [
    "van_venues['VenueCategory'].unique()[:50]"
   ]
  },
  {
   "cell_type": "markdown",
   "metadata": {},
   "source": [
    "## Analysis\n",
    "### Applying one-hot encoding to the dataframe."
   ]
  },
  {
   "cell_type": "code",
   "execution_count": 20,
   "metadata": {},
   "outputs": [
    {
     "name": "stdout",
     "output_type": "stream",
     "text": [
      "(3325, 250)\n"
     ]
    },
    {
     "data": {
      "text/html": [
       "<div>\n",
       "<style scoped>\n",
       "    .dataframe tbody tr th:only-of-type {\n",
       "        vertical-align: middle;\n",
       "    }\n",
       "\n",
       "    .dataframe tbody tr th {\n",
       "        vertical-align: top;\n",
       "    }\n",
       "\n",
       "    .dataframe thead th {\n",
       "        text-align: right;\n",
       "    }\n",
       "</style>\n",
       "<table border=\"1\" class=\"dataframe\">\n",
       "  <thead>\n",
       "    <tr style=\"text-align: right;\">\n",
       "      <th></th>\n",
       "      <th>Neighbourhoods</th>\n",
       "      <th>Accessories Store</th>\n",
       "      <th>American Restaurant</th>\n",
       "      <th>Amphitheater</th>\n",
       "      <th>Aquarium</th>\n",
       "      <th>Art Gallery</th>\n",
       "      <th>Arts &amp; Crafts Store</th>\n",
       "      <th>Asian Restaurant</th>\n",
       "      <th>Athletics &amp; Sports</th>\n",
       "      <th>Auto Dealership</th>\n",
       "      <th>...</th>\n",
       "      <th>Tree</th>\n",
       "      <th>Vegetarian / Vegan Restaurant</th>\n",
       "      <th>Video Store</th>\n",
       "      <th>Vietnamese Restaurant</th>\n",
       "      <th>Volleyball Court</th>\n",
       "      <th>Water Park</th>\n",
       "      <th>Waterfront</th>\n",
       "      <th>Wine Shop</th>\n",
       "      <th>Women's Store</th>\n",
       "      <th>Yoga Studio</th>\n",
       "    </tr>\n",
       "  </thead>\n",
       "  <tbody>\n",
       "    <tr>\n",
       "      <th>0</th>\n",
       "      <td>Vancouver (North Hastings-Sunrise)</td>\n",
       "      <td>0</td>\n",
       "      <td>0</td>\n",
       "      <td>0</td>\n",
       "      <td>0</td>\n",
       "      <td>0</td>\n",
       "      <td>0</td>\n",
       "      <td>0</td>\n",
       "      <td>0</td>\n",
       "      <td>0</td>\n",
       "      <td>...</td>\n",
       "      <td>0</td>\n",
       "      <td>0</td>\n",
       "      <td>0</td>\n",
       "      <td>0</td>\n",
       "      <td>0</td>\n",
       "      <td>0</td>\n",
       "      <td>0</td>\n",
       "      <td>0</td>\n",
       "      <td>0</td>\n",
       "      <td>0</td>\n",
       "    </tr>\n",
       "    <tr>\n",
       "      <th>1</th>\n",
       "      <td>Vancouver (North Hastings-Sunrise)</td>\n",
       "      <td>0</td>\n",
       "      <td>0</td>\n",
       "      <td>0</td>\n",
       "      <td>0</td>\n",
       "      <td>0</td>\n",
       "      <td>0</td>\n",
       "      <td>0</td>\n",
       "      <td>0</td>\n",
       "      <td>0</td>\n",
       "      <td>...</td>\n",
       "      <td>0</td>\n",
       "      <td>0</td>\n",
       "      <td>0</td>\n",
       "      <td>0</td>\n",
       "      <td>0</td>\n",
       "      <td>0</td>\n",
       "      <td>0</td>\n",
       "      <td>0</td>\n",
       "      <td>0</td>\n",
       "      <td>0</td>\n",
       "    </tr>\n",
       "    <tr>\n",
       "      <th>2</th>\n",
       "      <td>Vancouver (North Hastings-Sunrise)</td>\n",
       "      <td>0</td>\n",
       "      <td>0</td>\n",
       "      <td>0</td>\n",
       "      <td>0</td>\n",
       "      <td>0</td>\n",
       "      <td>0</td>\n",
       "      <td>0</td>\n",
       "      <td>0</td>\n",
       "      <td>0</td>\n",
       "      <td>...</td>\n",
       "      <td>0</td>\n",
       "      <td>0</td>\n",
       "      <td>0</td>\n",
       "      <td>0</td>\n",
       "      <td>0</td>\n",
       "      <td>0</td>\n",
       "      <td>0</td>\n",
       "      <td>0</td>\n",
       "      <td>0</td>\n",
       "      <td>0</td>\n",
       "    </tr>\n",
       "    <tr>\n",
       "      <th>3</th>\n",
       "      <td>Vancouver (North Hastings-Sunrise)</td>\n",
       "      <td>0</td>\n",
       "      <td>0</td>\n",
       "      <td>0</td>\n",
       "      <td>0</td>\n",
       "      <td>0</td>\n",
       "      <td>0</td>\n",
       "      <td>0</td>\n",
       "      <td>0</td>\n",
       "      <td>0</td>\n",
       "      <td>...</td>\n",
       "      <td>0</td>\n",
       "      <td>0</td>\n",
       "      <td>0</td>\n",
       "      <td>0</td>\n",
       "      <td>0</td>\n",
       "      <td>0</td>\n",
       "      <td>0</td>\n",
       "      <td>0</td>\n",
       "      <td>0</td>\n",
       "      <td>0</td>\n",
       "    </tr>\n",
       "    <tr>\n",
       "      <th>4</th>\n",
       "      <td>Vancouver (North Hastings-Sunrise)</td>\n",
       "      <td>0</td>\n",
       "      <td>0</td>\n",
       "      <td>0</td>\n",
       "      <td>0</td>\n",
       "      <td>0</td>\n",
       "      <td>0</td>\n",
       "      <td>0</td>\n",
       "      <td>0</td>\n",
       "      <td>0</td>\n",
       "      <td>...</td>\n",
       "      <td>0</td>\n",
       "      <td>0</td>\n",
       "      <td>0</td>\n",
       "      <td>0</td>\n",
       "      <td>0</td>\n",
       "      <td>0</td>\n",
       "      <td>0</td>\n",
       "      <td>0</td>\n",
       "      <td>0</td>\n",
       "      <td>0</td>\n",
       "    </tr>\n",
       "  </tbody>\n",
       "</table>\n",
       "<p>5 rows × 250 columns</p>\n",
       "</div>"
      ],
      "text/plain": [
       "                       Neighbourhoods  Accessories Store  American Restaurant  \\\n",
       "0  Vancouver (North Hastings-Sunrise)                  0                    0   \n",
       "1  Vancouver (North Hastings-Sunrise)                  0                    0   \n",
       "2  Vancouver (North Hastings-Sunrise)                  0                    0   \n",
       "3  Vancouver (North Hastings-Sunrise)                  0                    0   \n",
       "4  Vancouver (North Hastings-Sunrise)                  0                    0   \n",
       "\n",
       "   Amphitheater  Aquarium  Art Gallery  Arts & Crafts Store  Asian Restaurant  \\\n",
       "0             0         0            0                    0                 0   \n",
       "1             0         0            0                    0                 0   \n",
       "2             0         0            0                    0                 0   \n",
       "3             0         0            0                    0                 0   \n",
       "4             0         0            0                    0                 0   \n",
       "\n",
       "   Athletics & Sports  Auto Dealership  ...  Tree  \\\n",
       "0                   0                0  ...     0   \n",
       "1                   0                0  ...     0   \n",
       "2                   0                0  ...     0   \n",
       "3                   0                0  ...     0   \n",
       "4                   0                0  ...     0   \n",
       "\n",
       "   Vegetarian / Vegan Restaurant  Video Store  Vietnamese Restaurant  \\\n",
       "0                              0            0                      0   \n",
       "1                              0            0                      0   \n",
       "2                              0            0                      0   \n",
       "3                              0            0                      0   \n",
       "4                              0            0                      0   \n",
       "\n",
       "   Volleyball Court  Water Park  Waterfront  Wine Shop  Women's Store  \\\n",
       "0                 0           0           0          0              0   \n",
       "1                 0           0           0          0              0   \n",
       "2                 0           0           0          0              0   \n",
       "3                 0           0           0          0              0   \n",
       "4                 0           0           0          0              0   \n",
       "\n",
       "   Yoga Studio  \n",
       "0            0  \n",
       "1            0  \n",
       "2            0  \n",
       "3            0  \n",
       "4            0  \n",
       "\n",
       "[5 rows x 250 columns]"
      ]
     },
     "execution_count": 20,
     "metadata": {},
     "output_type": "execute_result"
    }
   ],
   "source": [
    "# one hot encoding\n",
    "van_onehot = pd.get_dummies(venues_df[['VenueCategory']], prefix=\"\", prefix_sep=\"\")\n",
    "\n",
    "# add neighbourhood column back to dataframe\n",
    "van_onehot['Neighbourhoods'] = venues_df['Neighbourhoods'] \n",
    "\n",
    "# move neighbourhood column to the first column\n",
    "fixed_columns = [van_onehot.columns[-1]] + list(van_onehot.columns[:-1])\n",
    "van_onehot = van_onehot[fixed_columns]\n",
    "\n",
    "# checking the shape\n",
    "print(van_onehot.shape)\n",
    "van_onehot.head()"
   ]
  },
  {
   "cell_type": "code",
   "execution_count": 21,
   "metadata": {},
   "outputs": [
    {
     "name": "stdout",
     "output_type": "stream",
     "text": [
      "(43, 250)\n"
     ]
    },
    {
     "data": {
      "text/html": [
       "<div>\n",
       "<style scoped>\n",
       "    .dataframe tbody tr th:only-of-type {\n",
       "        vertical-align: middle;\n",
       "    }\n",
       "\n",
       "    .dataframe tbody tr th {\n",
       "        vertical-align: top;\n",
       "    }\n",
       "\n",
       "    .dataframe thead th {\n",
       "        text-align: right;\n",
       "    }\n",
       "</style>\n",
       "<table border=\"1\" class=\"dataframe\">\n",
       "  <thead>\n",
       "    <tr style=\"text-align: right;\">\n",
       "      <th></th>\n",
       "      <th>Neighbourhoods</th>\n",
       "      <th>Accessories Store</th>\n",
       "      <th>American Restaurant</th>\n",
       "      <th>Amphitheater</th>\n",
       "      <th>Aquarium</th>\n",
       "      <th>Art Gallery</th>\n",
       "      <th>Arts &amp; Crafts Store</th>\n",
       "      <th>Asian Restaurant</th>\n",
       "      <th>Athletics &amp; Sports</th>\n",
       "      <th>Auto Dealership</th>\n",
       "      <th>...</th>\n",
       "      <th>Tree</th>\n",
       "      <th>Vegetarian / Vegan Restaurant</th>\n",
       "      <th>Video Store</th>\n",
       "      <th>Vietnamese Restaurant</th>\n",
       "      <th>Volleyball Court</th>\n",
       "      <th>Water Park</th>\n",
       "      <th>Waterfront</th>\n",
       "      <th>Wine Shop</th>\n",
       "      <th>Women's Store</th>\n",
       "      <th>Yoga Studio</th>\n",
       "    </tr>\n",
       "  </thead>\n",
       "  <tbody>\n",
       "    <tr>\n",
       "      <th>0</th>\n",
       "      <td>North Vancouver East Central</td>\n",
       "      <td>0.000000</td>\n",
       "      <td>0.000000</td>\n",
       "      <td>0.000000</td>\n",
       "      <td>0.00</td>\n",
       "      <td>0.000000</td>\n",
       "      <td>0.000000</td>\n",
       "      <td>0.000000</td>\n",
       "      <td>0.00</td>\n",
       "      <td>0.00</td>\n",
       "      <td>...</td>\n",
       "      <td>0.000000</td>\n",
       "      <td>0.000000</td>\n",
       "      <td>0.000000</td>\n",
       "      <td>0.000000</td>\n",
       "      <td>0.000000</td>\n",
       "      <td>0.00</td>\n",
       "      <td>0.00</td>\n",
       "      <td>0.00</td>\n",
       "      <td>0.00</td>\n",
       "      <td>0.000000</td>\n",
       "    </tr>\n",
       "    <tr>\n",
       "      <th>1</th>\n",
       "      <td>North Vancouver Inner East</td>\n",
       "      <td>0.000000</td>\n",
       "      <td>0.000000</td>\n",
       "      <td>0.000000</td>\n",
       "      <td>0.00</td>\n",
       "      <td>0.000000</td>\n",
       "      <td>0.000000</td>\n",
       "      <td>0.000000</td>\n",
       "      <td>0.00</td>\n",
       "      <td>0.00</td>\n",
       "      <td>...</td>\n",
       "      <td>0.000000</td>\n",
       "      <td>0.000000</td>\n",
       "      <td>0.000000</td>\n",
       "      <td>0.000000</td>\n",
       "      <td>0.000000</td>\n",
       "      <td>0.00</td>\n",
       "      <td>0.00</td>\n",
       "      <td>0.00</td>\n",
       "      <td>0.00</td>\n",
       "      <td>0.000000</td>\n",
       "    </tr>\n",
       "    <tr>\n",
       "      <th>2</th>\n",
       "      <td>North Vancouver North Central</td>\n",
       "      <td>0.000000</td>\n",
       "      <td>0.000000</td>\n",
       "      <td>0.000000</td>\n",
       "      <td>0.00</td>\n",
       "      <td>0.000000</td>\n",
       "      <td>0.000000</td>\n",
       "      <td>0.000000</td>\n",
       "      <td>0.00</td>\n",
       "      <td>0.00</td>\n",
       "      <td>...</td>\n",
       "      <td>0.000000</td>\n",
       "      <td>0.000000</td>\n",
       "      <td>0.000000</td>\n",
       "      <td>0.000000</td>\n",
       "      <td>0.000000</td>\n",
       "      <td>0.00</td>\n",
       "      <td>0.00</td>\n",
       "      <td>0.00</td>\n",
       "      <td>0.00</td>\n",
       "      <td>0.000000</td>\n",
       "    </tr>\n",
       "    <tr>\n",
       "      <th>3</th>\n",
       "      <td>North Vancouver Northwest</td>\n",
       "      <td>0.000000</td>\n",
       "      <td>0.000000</td>\n",
       "      <td>0.000000</td>\n",
       "      <td>0.00</td>\n",
       "      <td>0.030303</td>\n",
       "      <td>0.000000</td>\n",
       "      <td>0.000000</td>\n",
       "      <td>0.00</td>\n",
       "      <td>0.00</td>\n",
       "      <td>...</td>\n",
       "      <td>0.000000</td>\n",
       "      <td>0.000000</td>\n",
       "      <td>0.000000</td>\n",
       "      <td>0.000000</td>\n",
       "      <td>0.000000</td>\n",
       "      <td>0.00</td>\n",
       "      <td>0.00</td>\n",
       "      <td>0.00</td>\n",
       "      <td>0.00</td>\n",
       "      <td>0.000000</td>\n",
       "    </tr>\n",
       "    <tr>\n",
       "      <th>4</th>\n",
       "      <td>North Vancouver Northwest Central</td>\n",
       "      <td>0.000000</td>\n",
       "      <td>0.000000</td>\n",
       "      <td>0.000000</td>\n",
       "      <td>0.00</td>\n",
       "      <td>0.000000</td>\n",
       "      <td>0.000000</td>\n",
       "      <td>0.000000</td>\n",
       "      <td>0.00</td>\n",
       "      <td>0.00</td>\n",
       "      <td>...</td>\n",
       "      <td>0.000000</td>\n",
       "      <td>0.000000</td>\n",
       "      <td>0.000000</td>\n",
       "      <td>0.000000</td>\n",
       "      <td>0.000000</td>\n",
       "      <td>0.00</td>\n",
       "      <td>0.00</td>\n",
       "      <td>0.00</td>\n",
       "      <td>0.00</td>\n",
       "      <td>0.000000</td>\n",
       "    </tr>\n",
       "    <tr>\n",
       "      <th>5</th>\n",
       "      <td>North Vancouver Outer East</td>\n",
       "      <td>0.000000</td>\n",
       "      <td>0.000000</td>\n",
       "      <td>0.000000</td>\n",
       "      <td>0.00</td>\n",
       "      <td>0.000000</td>\n",
       "      <td>0.000000</td>\n",
       "      <td>0.000000</td>\n",
       "      <td>0.00</td>\n",
       "      <td>0.00</td>\n",
       "      <td>...</td>\n",
       "      <td>0.000000</td>\n",
       "      <td>0.000000</td>\n",
       "      <td>0.000000</td>\n",
       "      <td>0.000000</td>\n",
       "      <td>0.000000</td>\n",
       "      <td>0.00</td>\n",
       "      <td>0.00</td>\n",
       "      <td>0.00</td>\n",
       "      <td>0.00</td>\n",
       "      <td>0.000000</td>\n",
       "    </tr>\n",
       "    <tr>\n",
       "      <th>6</th>\n",
       "      <td>North Vancouver South Central</td>\n",
       "      <td>0.000000</td>\n",
       "      <td>0.000000</td>\n",
       "      <td>0.000000</td>\n",
       "      <td>0.00</td>\n",
       "      <td>0.000000</td>\n",
       "      <td>0.000000</td>\n",
       "      <td>0.010000</td>\n",
       "      <td>0.01</td>\n",
       "      <td>0.00</td>\n",
       "      <td>...</td>\n",
       "      <td>0.000000</td>\n",
       "      <td>0.010000</td>\n",
       "      <td>0.000000</td>\n",
       "      <td>0.010000</td>\n",
       "      <td>0.000000</td>\n",
       "      <td>0.00</td>\n",
       "      <td>0.00</td>\n",
       "      <td>0.00</td>\n",
       "      <td>0.00</td>\n",
       "      <td>0.000000</td>\n",
       "    </tr>\n",
       "    <tr>\n",
       "      <th>7</th>\n",
       "      <td>North Vancouver Southwest</td>\n",
       "      <td>0.000000</td>\n",
       "      <td>0.010000</td>\n",
       "      <td>0.000000</td>\n",
       "      <td>0.00</td>\n",
       "      <td>0.000000</td>\n",
       "      <td>0.000000</td>\n",
       "      <td>0.010000</td>\n",
       "      <td>0.00</td>\n",
       "      <td>0.00</td>\n",
       "      <td>...</td>\n",
       "      <td>0.000000</td>\n",
       "      <td>0.010000</td>\n",
       "      <td>0.000000</td>\n",
       "      <td>0.010000</td>\n",
       "      <td>0.000000</td>\n",
       "      <td>0.00</td>\n",
       "      <td>0.00</td>\n",
       "      <td>0.01</td>\n",
       "      <td>0.01</td>\n",
       "      <td>0.000000</td>\n",
       "    </tr>\n",
       "    <tr>\n",
       "      <th>8</th>\n",
       "      <td>North Vancouver Southwest Central</td>\n",
       "      <td>0.000000</td>\n",
       "      <td>0.010000</td>\n",
       "      <td>0.000000</td>\n",
       "      <td>0.00</td>\n",
       "      <td>0.000000</td>\n",
       "      <td>0.000000</td>\n",
       "      <td>0.010000</td>\n",
       "      <td>0.00</td>\n",
       "      <td>0.00</td>\n",
       "      <td>...</td>\n",
       "      <td>0.000000</td>\n",
       "      <td>0.020000</td>\n",
       "      <td>0.000000</td>\n",
       "      <td>0.000000</td>\n",
       "      <td>0.000000</td>\n",
       "      <td>0.00</td>\n",
       "      <td>0.00</td>\n",
       "      <td>0.01</td>\n",
       "      <td>0.00</td>\n",
       "      <td>0.000000</td>\n",
       "    </tr>\n",
       "    <tr>\n",
       "      <th>9</th>\n",
       "      <td>Vancouver (Bentall Centre)</td>\n",
       "      <td>0.010000</td>\n",
       "      <td>0.020000</td>\n",
       "      <td>0.000000</td>\n",
       "      <td>0.01</td>\n",
       "      <td>0.010000</td>\n",
       "      <td>0.000000</td>\n",
       "      <td>0.000000</td>\n",
       "      <td>0.00</td>\n",
       "      <td>0.00</td>\n",
       "      <td>...</td>\n",
       "      <td>0.000000</td>\n",
       "      <td>0.010000</td>\n",
       "      <td>0.000000</td>\n",
       "      <td>0.010000</td>\n",
       "      <td>0.000000</td>\n",
       "      <td>0.00</td>\n",
       "      <td>0.01</td>\n",
       "      <td>0.00</td>\n",
       "      <td>0.00</td>\n",
       "      <td>0.010000</td>\n",
       "    </tr>\n",
       "    <tr>\n",
       "      <th>10</th>\n",
       "      <td>Vancouver (Central Kitsilano)</td>\n",
       "      <td>0.000000</td>\n",
       "      <td>0.010000</td>\n",
       "      <td>0.000000</td>\n",
       "      <td>0.00</td>\n",
       "      <td>0.000000</td>\n",
       "      <td>0.000000</td>\n",
       "      <td>0.010000</td>\n",
       "      <td>0.00</td>\n",
       "      <td>0.00</td>\n",
       "      <td>...</td>\n",
       "      <td>0.000000</td>\n",
       "      <td>0.000000</td>\n",
       "      <td>0.000000</td>\n",
       "      <td>0.010000</td>\n",
       "      <td>0.000000</td>\n",
       "      <td>0.00</td>\n",
       "      <td>0.00</td>\n",
       "      <td>0.00</td>\n",
       "      <td>0.00</td>\n",
       "      <td>0.040000</td>\n",
       "    </tr>\n",
       "    <tr>\n",
       "      <th>11</th>\n",
       "      <td>Vancouver (Chaldecutt / South University Endow...</td>\n",
       "      <td>0.000000</td>\n",
       "      <td>0.000000</td>\n",
       "      <td>0.000000</td>\n",
       "      <td>0.00</td>\n",
       "      <td>0.000000</td>\n",
       "      <td>0.000000</td>\n",
       "      <td>0.000000</td>\n",
       "      <td>0.00</td>\n",
       "      <td>0.00</td>\n",
       "      <td>...</td>\n",
       "      <td>0.000000</td>\n",
       "      <td>0.000000</td>\n",
       "      <td>0.000000</td>\n",
       "      <td>0.043478</td>\n",
       "      <td>0.000000</td>\n",
       "      <td>0.00</td>\n",
       "      <td>0.00</td>\n",
       "      <td>0.00</td>\n",
       "      <td>0.00</td>\n",
       "      <td>0.000000</td>\n",
       "    </tr>\n",
       "    <tr>\n",
       "      <th>12</th>\n",
       "      <td>Vancouver (Dunbar-Southlands / Musqueam)</td>\n",
       "      <td>0.000000</td>\n",
       "      <td>0.000000</td>\n",
       "      <td>0.000000</td>\n",
       "      <td>0.00</td>\n",
       "      <td>0.000000</td>\n",
       "      <td>0.000000</td>\n",
       "      <td>0.000000</td>\n",
       "      <td>0.00</td>\n",
       "      <td>0.00</td>\n",
       "      <td>...</td>\n",
       "      <td>0.000000</td>\n",
       "      <td>0.000000</td>\n",
       "      <td>0.000000</td>\n",
       "      <td>0.000000</td>\n",
       "      <td>0.000000</td>\n",
       "      <td>0.00</td>\n",
       "      <td>0.00</td>\n",
       "      <td>0.00</td>\n",
       "      <td>0.00</td>\n",
       "      <td>0.000000</td>\n",
       "    </tr>\n",
       "    <tr>\n",
       "      <th>13</th>\n",
       "      <td>Vancouver (East Fairview / South Cambie)</td>\n",
       "      <td>0.000000</td>\n",
       "      <td>0.010000</td>\n",
       "      <td>0.000000</td>\n",
       "      <td>0.00</td>\n",
       "      <td>0.000000</td>\n",
       "      <td>0.010000</td>\n",
       "      <td>0.000000</td>\n",
       "      <td>0.00</td>\n",
       "      <td>0.00</td>\n",
       "      <td>...</td>\n",
       "      <td>0.000000</td>\n",
       "      <td>0.030000</td>\n",
       "      <td>0.000000</td>\n",
       "      <td>0.050000</td>\n",
       "      <td>0.000000</td>\n",
       "      <td>0.00</td>\n",
       "      <td>0.00</td>\n",
       "      <td>0.00</td>\n",
       "      <td>0.01</td>\n",
       "      <td>0.000000</td>\n",
       "    </tr>\n",
       "    <tr>\n",
       "      <th>14</th>\n",
       "      <td>Vancouver (East Mount Pleasant)</td>\n",
       "      <td>0.000000</td>\n",
       "      <td>0.000000</td>\n",
       "      <td>0.000000</td>\n",
       "      <td>0.00</td>\n",
       "      <td>0.020000</td>\n",
       "      <td>0.000000</td>\n",
       "      <td>0.000000</td>\n",
       "      <td>0.00</td>\n",
       "      <td>0.01</td>\n",
       "      <td>...</td>\n",
       "      <td>0.000000</td>\n",
       "      <td>0.030000</td>\n",
       "      <td>0.000000</td>\n",
       "      <td>0.040000</td>\n",
       "      <td>0.000000</td>\n",
       "      <td>0.00</td>\n",
       "      <td>0.00</td>\n",
       "      <td>0.00</td>\n",
       "      <td>0.00</td>\n",
       "      <td>0.020000</td>\n",
       "    </tr>\n",
       "    <tr>\n",
       "      <th>15</th>\n",
       "      <td>Vancouver (Killarney)</td>\n",
       "      <td>0.000000</td>\n",
       "      <td>0.000000</td>\n",
       "      <td>0.000000</td>\n",
       "      <td>0.00</td>\n",
       "      <td>0.000000</td>\n",
       "      <td>0.000000</td>\n",
       "      <td>0.032787</td>\n",
       "      <td>0.00</td>\n",
       "      <td>0.00</td>\n",
       "      <td>...</td>\n",
       "      <td>0.000000</td>\n",
       "      <td>0.000000</td>\n",
       "      <td>0.032787</td>\n",
       "      <td>0.016393</td>\n",
       "      <td>0.000000</td>\n",
       "      <td>0.00</td>\n",
       "      <td>0.00</td>\n",
       "      <td>0.00</td>\n",
       "      <td>0.00</td>\n",
       "      <td>0.000000</td>\n",
       "    </tr>\n",
       "    <tr>\n",
       "      <th>16</th>\n",
       "      <td>Vancouver (NE Downtown / Harbour Centre / Gast...</td>\n",
       "      <td>0.010000</td>\n",
       "      <td>0.000000</td>\n",
       "      <td>0.000000</td>\n",
       "      <td>0.00</td>\n",
       "      <td>0.010000</td>\n",
       "      <td>0.000000</td>\n",
       "      <td>0.000000</td>\n",
       "      <td>0.00</td>\n",
       "      <td>0.00</td>\n",
       "      <td>...</td>\n",
       "      <td>0.000000</td>\n",
       "      <td>0.020000</td>\n",
       "      <td>0.000000</td>\n",
       "      <td>0.010000</td>\n",
       "      <td>0.000000</td>\n",
       "      <td>0.00</td>\n",
       "      <td>0.00</td>\n",
       "      <td>0.00</td>\n",
       "      <td>0.00</td>\n",
       "      <td>0.010000</td>\n",
       "    </tr>\n",
       "    <tr>\n",
       "      <th>17</th>\n",
       "      <td>Vancouver (NW Arbutus Ridge)</td>\n",
       "      <td>0.000000</td>\n",
       "      <td>0.000000</td>\n",
       "      <td>0.000000</td>\n",
       "      <td>0.00</td>\n",
       "      <td>0.000000</td>\n",
       "      <td>0.000000</td>\n",
       "      <td>0.011628</td>\n",
       "      <td>0.00</td>\n",
       "      <td>0.00</td>\n",
       "      <td>...</td>\n",
       "      <td>0.000000</td>\n",
       "      <td>0.000000</td>\n",
       "      <td>0.000000</td>\n",
       "      <td>0.023256</td>\n",
       "      <td>0.000000</td>\n",
       "      <td>0.00</td>\n",
       "      <td>0.00</td>\n",
       "      <td>0.00</td>\n",
       "      <td>0.00</td>\n",
       "      <td>0.011628</td>\n",
       "    </tr>\n",
       "    <tr>\n",
       "      <th>18</th>\n",
       "      <td>Vancouver (NW Shaughnessy / East Kitsilano / Q...</td>\n",
       "      <td>0.000000</td>\n",
       "      <td>0.010000</td>\n",
       "      <td>0.000000</td>\n",
       "      <td>0.00</td>\n",
       "      <td>0.000000</td>\n",
       "      <td>0.000000</td>\n",
       "      <td>0.010000</td>\n",
       "      <td>0.00</td>\n",
       "      <td>0.00</td>\n",
       "      <td>...</td>\n",
       "      <td>0.000000</td>\n",
       "      <td>0.010000</td>\n",
       "      <td>0.000000</td>\n",
       "      <td>0.000000</td>\n",
       "      <td>0.000000</td>\n",
       "      <td>0.01</td>\n",
       "      <td>0.00</td>\n",
       "      <td>0.00</td>\n",
       "      <td>0.00</td>\n",
       "      <td>0.030000</td>\n",
       "    </tr>\n",
       "    <tr>\n",
       "      <th>19</th>\n",
       "      <td>Vancouver (North Grandview-Woodlands)</td>\n",
       "      <td>0.000000</td>\n",
       "      <td>0.000000</td>\n",
       "      <td>0.000000</td>\n",
       "      <td>0.00</td>\n",
       "      <td>0.000000</td>\n",
       "      <td>0.000000</td>\n",
       "      <td>0.000000</td>\n",
       "      <td>0.01</td>\n",
       "      <td>0.00</td>\n",
       "      <td>...</td>\n",
       "      <td>0.000000</td>\n",
       "      <td>0.030000</td>\n",
       "      <td>0.000000</td>\n",
       "      <td>0.020000</td>\n",
       "      <td>0.000000</td>\n",
       "      <td>0.00</td>\n",
       "      <td>0.00</td>\n",
       "      <td>0.01</td>\n",
       "      <td>0.00</td>\n",
       "      <td>0.000000</td>\n",
       "    </tr>\n",
       "    <tr>\n",
       "      <th>20</th>\n",
       "      <td>Vancouver (North Hastings-Sunrise)</td>\n",
       "      <td>0.000000</td>\n",
       "      <td>0.010638</td>\n",
       "      <td>0.010638</td>\n",
       "      <td>0.00</td>\n",
       "      <td>0.000000</td>\n",
       "      <td>0.000000</td>\n",
       "      <td>0.021277</td>\n",
       "      <td>0.00</td>\n",
       "      <td>0.00</td>\n",
       "      <td>...</td>\n",
       "      <td>0.000000</td>\n",
       "      <td>0.000000</td>\n",
       "      <td>0.000000</td>\n",
       "      <td>0.085106</td>\n",
       "      <td>0.000000</td>\n",
       "      <td>0.00</td>\n",
       "      <td>0.00</td>\n",
       "      <td>0.00</td>\n",
       "      <td>0.00</td>\n",
       "      <td>0.000000</td>\n",
       "    </tr>\n",
       "    <tr>\n",
       "      <th>21</th>\n",
       "      <td>Vancouver (North West End / Stanley Park)</td>\n",
       "      <td>0.000000</td>\n",
       "      <td>0.020000</td>\n",
       "      <td>0.000000</td>\n",
       "      <td>0.02</td>\n",
       "      <td>0.010000</td>\n",
       "      <td>0.000000</td>\n",
       "      <td>0.010000</td>\n",
       "      <td>0.00</td>\n",
       "      <td>0.00</td>\n",
       "      <td>...</td>\n",
       "      <td>0.010000</td>\n",
       "      <td>0.000000</td>\n",
       "      <td>0.000000</td>\n",
       "      <td>0.010000</td>\n",
       "      <td>0.000000</td>\n",
       "      <td>0.01</td>\n",
       "      <td>0.01</td>\n",
       "      <td>0.00</td>\n",
       "      <td>0.00</td>\n",
       "      <td>0.000000</td>\n",
       "    </tr>\n",
       "    <tr>\n",
       "      <th>22</th>\n",
       "      <td>Vancouver (Pacific Centre)</td>\n",
       "      <td>0.010000</td>\n",
       "      <td>0.010000</td>\n",
       "      <td>0.000000</td>\n",
       "      <td>0.00</td>\n",
       "      <td>0.010000</td>\n",
       "      <td>0.000000</td>\n",
       "      <td>0.000000</td>\n",
       "      <td>0.00</td>\n",
       "      <td>0.00</td>\n",
       "      <td>...</td>\n",
       "      <td>0.000000</td>\n",
       "      <td>0.010000</td>\n",
       "      <td>0.000000</td>\n",
       "      <td>0.010000</td>\n",
       "      <td>0.000000</td>\n",
       "      <td>0.00</td>\n",
       "      <td>0.00</td>\n",
       "      <td>0.00</td>\n",
       "      <td>0.00</td>\n",
       "      <td>0.010000</td>\n",
       "    </tr>\n",
       "    <tr>\n",
       "      <th>23</th>\n",
       "      <td>Vancouver (SE Kensington / Victoria-Fraserview)</td>\n",
       "      <td>0.000000</td>\n",
       "      <td>0.000000</td>\n",
       "      <td>0.000000</td>\n",
       "      <td>0.00</td>\n",
       "      <td>0.000000</td>\n",
       "      <td>0.000000</td>\n",
       "      <td>0.040000</td>\n",
       "      <td>0.00</td>\n",
       "      <td>0.00</td>\n",
       "      <td>...</td>\n",
       "      <td>0.000000</td>\n",
       "      <td>0.010000</td>\n",
       "      <td>0.000000</td>\n",
       "      <td>0.070000</td>\n",
       "      <td>0.000000</td>\n",
       "      <td>0.00</td>\n",
       "      <td>0.00</td>\n",
       "      <td>0.00</td>\n",
       "      <td>0.00</td>\n",
       "      <td>0.000000</td>\n",
       "    </tr>\n",
       "    <tr>\n",
       "      <th>24</th>\n",
       "      <td>Vancouver (SE Kerrisdale / SW Oakridge / West ...</td>\n",
       "      <td>0.020000</td>\n",
       "      <td>0.020000</td>\n",
       "      <td>0.000000</td>\n",
       "      <td>0.00</td>\n",
       "      <td>0.000000</td>\n",
       "      <td>0.000000</td>\n",
       "      <td>0.000000</td>\n",
       "      <td>0.00</td>\n",
       "      <td>0.00</td>\n",
       "      <td>...</td>\n",
       "      <td>0.000000</td>\n",
       "      <td>0.000000</td>\n",
       "      <td>0.000000</td>\n",
       "      <td>0.030000</td>\n",
       "      <td>0.000000</td>\n",
       "      <td>0.00</td>\n",
       "      <td>0.00</td>\n",
       "      <td>0.00</td>\n",
       "      <td>0.01</td>\n",
       "      <td>0.000000</td>\n",
       "    </tr>\n",
       "    <tr>\n",
       "      <th>25</th>\n",
       "      <td>Vancouver (SE Oakridge / East Marpole / South ...</td>\n",
       "      <td>0.000000</td>\n",
       "      <td>0.010101</td>\n",
       "      <td>0.000000</td>\n",
       "      <td>0.00</td>\n",
       "      <td>0.000000</td>\n",
       "      <td>0.000000</td>\n",
       "      <td>0.010101</td>\n",
       "      <td>0.00</td>\n",
       "      <td>0.00</td>\n",
       "      <td>...</td>\n",
       "      <td>0.000000</td>\n",
       "      <td>0.000000</td>\n",
       "      <td>0.000000</td>\n",
       "      <td>0.020202</td>\n",
       "      <td>0.010101</td>\n",
       "      <td>0.00</td>\n",
       "      <td>0.00</td>\n",
       "      <td>0.00</td>\n",
       "      <td>0.00</td>\n",
       "      <td>0.000000</td>\n",
       "    </tr>\n",
       "    <tr>\n",
       "      <th>26</th>\n",
       "      <td>Vancouver (SE Riley Park-Little Mountain / SW ...</td>\n",
       "      <td>0.000000</td>\n",
       "      <td>0.000000</td>\n",
       "      <td>0.000000</td>\n",
       "      <td>0.00</td>\n",
       "      <td>0.000000</td>\n",
       "      <td>0.010000</td>\n",
       "      <td>0.010000</td>\n",
       "      <td>0.01</td>\n",
       "      <td>0.00</td>\n",
       "      <td>...</td>\n",
       "      <td>0.000000</td>\n",
       "      <td>0.020000</td>\n",
       "      <td>0.000000</td>\n",
       "      <td>0.060000</td>\n",
       "      <td>0.000000</td>\n",
       "      <td>0.00</td>\n",
       "      <td>0.00</td>\n",
       "      <td>0.00</td>\n",
       "      <td>0.00</td>\n",
       "      <td>0.000000</td>\n",
       "    </tr>\n",
       "    <tr>\n",
       "      <th>27</th>\n",
       "      <td>Vancouver (SW Downtown)</td>\n",
       "      <td>0.000000</td>\n",
       "      <td>0.000000</td>\n",
       "      <td>0.000000</td>\n",
       "      <td>0.00</td>\n",
       "      <td>0.010000</td>\n",
       "      <td>0.000000</td>\n",
       "      <td>0.000000</td>\n",
       "      <td>0.00</td>\n",
       "      <td>0.00</td>\n",
       "      <td>...</td>\n",
       "      <td>0.000000</td>\n",
       "      <td>0.000000</td>\n",
       "      <td>0.000000</td>\n",
       "      <td>0.000000</td>\n",
       "      <td>0.000000</td>\n",
       "      <td>0.01</td>\n",
       "      <td>0.00</td>\n",
       "      <td>0.01</td>\n",
       "      <td>0.00</td>\n",
       "      <td>0.010000</td>\n",
       "    </tr>\n",
       "    <tr>\n",
       "      <th>28</th>\n",
       "      <td>Vancouver (South Grandview-Woodlands / NE Kens...</td>\n",
       "      <td>0.000000</td>\n",
       "      <td>0.020000</td>\n",
       "      <td>0.000000</td>\n",
       "      <td>0.00</td>\n",
       "      <td>0.000000</td>\n",
       "      <td>0.000000</td>\n",
       "      <td>0.010000</td>\n",
       "      <td>0.00</td>\n",
       "      <td>0.00</td>\n",
       "      <td>...</td>\n",
       "      <td>0.000000</td>\n",
       "      <td>0.060000</td>\n",
       "      <td>0.000000</td>\n",
       "      <td>0.080000</td>\n",
       "      <td>0.000000</td>\n",
       "      <td>0.00</td>\n",
       "      <td>0.00</td>\n",
       "      <td>0.01</td>\n",
       "      <td>0.00</td>\n",
       "      <td>0.010000</td>\n",
       "    </tr>\n",
       "    <tr>\n",
       "      <th>29</th>\n",
       "      <td>Vancouver (South Hastings-Sunrise / North Renf...</td>\n",
       "      <td>0.000000</td>\n",
       "      <td>0.013889</td>\n",
       "      <td>0.000000</td>\n",
       "      <td>0.00</td>\n",
       "      <td>0.000000</td>\n",
       "      <td>0.013889</td>\n",
       "      <td>0.000000</td>\n",
       "      <td>0.00</td>\n",
       "      <td>0.00</td>\n",
       "      <td>...</td>\n",
       "      <td>0.000000</td>\n",
       "      <td>0.000000</td>\n",
       "      <td>0.000000</td>\n",
       "      <td>0.027778</td>\n",
       "      <td>0.000000</td>\n",
       "      <td>0.00</td>\n",
       "      <td>0.00</td>\n",
       "      <td>0.00</td>\n",
       "      <td>0.00</td>\n",
       "      <td>0.000000</td>\n",
       "    </tr>\n",
       "    <tr>\n",
       "      <th>30</th>\n",
       "      <td>Vancouver (South Renfrew-Collingwood)</td>\n",
       "      <td>0.000000</td>\n",
       "      <td>0.010000</td>\n",
       "      <td>0.000000</td>\n",
       "      <td>0.00</td>\n",
       "      <td>0.000000</td>\n",
       "      <td>0.000000</td>\n",
       "      <td>0.060000</td>\n",
       "      <td>0.00</td>\n",
       "      <td>0.00</td>\n",
       "      <td>...</td>\n",
       "      <td>0.000000</td>\n",
       "      <td>0.020000</td>\n",
       "      <td>0.000000</td>\n",
       "      <td>0.070000</td>\n",
       "      <td>0.000000</td>\n",
       "      <td>0.00</td>\n",
       "      <td>0.00</td>\n",
       "      <td>0.00</td>\n",
       "      <td>0.00</td>\n",
       "      <td>0.000000</td>\n",
       "    </tr>\n",
       "    <tr>\n",
       "      <th>31</th>\n",
       "      <td>Vancouver (South Shaughnessy / NW Oakridge / N...</td>\n",
       "      <td>0.012195</td>\n",
       "      <td>0.000000</td>\n",
       "      <td>0.000000</td>\n",
       "      <td>0.00</td>\n",
       "      <td>0.000000</td>\n",
       "      <td>0.000000</td>\n",
       "      <td>0.024390</td>\n",
       "      <td>0.00</td>\n",
       "      <td>0.00</td>\n",
       "      <td>...</td>\n",
       "      <td>0.000000</td>\n",
       "      <td>0.000000</td>\n",
       "      <td>0.000000</td>\n",
       "      <td>0.024390</td>\n",
       "      <td>0.000000</td>\n",
       "      <td>0.00</td>\n",
       "      <td>0.00</td>\n",
       "      <td>0.00</td>\n",
       "      <td>0.00</td>\n",
       "      <td>0.000000</td>\n",
       "    </tr>\n",
       "    <tr>\n",
       "      <th>32</th>\n",
       "      <td>Vancouver (South West End)</td>\n",
       "      <td>0.000000</td>\n",
       "      <td>0.000000</td>\n",
       "      <td>0.000000</td>\n",
       "      <td>0.00</td>\n",
       "      <td>0.010000</td>\n",
       "      <td>0.000000</td>\n",
       "      <td>0.010000</td>\n",
       "      <td>0.00</td>\n",
       "      <td>0.00</td>\n",
       "      <td>...</td>\n",
       "      <td>0.000000</td>\n",
       "      <td>0.000000</td>\n",
       "      <td>0.000000</td>\n",
       "      <td>0.000000</td>\n",
       "      <td>0.000000</td>\n",
       "      <td>0.00</td>\n",
       "      <td>0.00</td>\n",
       "      <td>0.01</td>\n",
       "      <td>0.00</td>\n",
       "      <td>0.010000</td>\n",
       "    </tr>\n",
       "    <tr>\n",
       "      <th>33</th>\n",
       "      <td>Vancouver (Strathcona / Chinatown / Downtown E...</td>\n",
       "      <td>0.010000</td>\n",
       "      <td>0.000000</td>\n",
       "      <td>0.000000</td>\n",
       "      <td>0.00</td>\n",
       "      <td>0.000000</td>\n",
       "      <td>0.000000</td>\n",
       "      <td>0.010000</td>\n",
       "      <td>0.00</td>\n",
       "      <td>0.00</td>\n",
       "      <td>...</td>\n",
       "      <td>0.000000</td>\n",
       "      <td>0.010000</td>\n",
       "      <td>0.000000</td>\n",
       "      <td>0.000000</td>\n",
       "      <td>0.000000</td>\n",
       "      <td>0.00</td>\n",
       "      <td>0.00</td>\n",
       "      <td>0.00</td>\n",
       "      <td>0.00</td>\n",
       "      <td>0.000000</td>\n",
       "    </tr>\n",
       "    <tr>\n",
       "      <th>34</th>\n",
       "      <td>Vancouver (Waterfront / Coal Harbour / Canada ...</td>\n",
       "      <td>0.010000</td>\n",
       "      <td>0.020000</td>\n",
       "      <td>0.000000</td>\n",
       "      <td>0.00</td>\n",
       "      <td>0.010000</td>\n",
       "      <td>0.000000</td>\n",
       "      <td>0.000000</td>\n",
       "      <td>0.00</td>\n",
       "      <td>0.00</td>\n",
       "      <td>...</td>\n",
       "      <td>0.000000</td>\n",
       "      <td>0.020000</td>\n",
       "      <td>0.000000</td>\n",
       "      <td>0.010000</td>\n",
       "      <td>0.000000</td>\n",
       "      <td>0.00</td>\n",
       "      <td>0.00</td>\n",
       "      <td>0.00</td>\n",
       "      <td>0.00</td>\n",
       "      <td>0.010000</td>\n",
       "    </tr>\n",
       "    <tr>\n",
       "      <th>35</th>\n",
       "      <td>Vancouver (West Fairview / Granville Island / ...</td>\n",
       "      <td>0.000000</td>\n",
       "      <td>0.010000</td>\n",
       "      <td>0.000000</td>\n",
       "      <td>0.00</td>\n",
       "      <td>0.000000</td>\n",
       "      <td>0.000000</td>\n",
       "      <td>0.000000</td>\n",
       "      <td>0.00</td>\n",
       "      <td>0.00</td>\n",
       "      <td>...</td>\n",
       "      <td>0.000000</td>\n",
       "      <td>0.010000</td>\n",
       "      <td>0.000000</td>\n",
       "      <td>0.000000</td>\n",
       "      <td>0.000000</td>\n",
       "      <td>0.01</td>\n",
       "      <td>0.00</td>\n",
       "      <td>0.00</td>\n",
       "      <td>0.00</td>\n",
       "      <td>0.010000</td>\n",
       "    </tr>\n",
       "    <tr>\n",
       "      <th>36</th>\n",
       "      <td>Vancouver (West Kensington / NE Riley Park-Lit...</td>\n",
       "      <td>0.000000</td>\n",
       "      <td>0.010000</td>\n",
       "      <td>0.000000</td>\n",
       "      <td>0.00</td>\n",
       "      <td>0.000000</td>\n",
       "      <td>0.010000</td>\n",
       "      <td>0.000000</td>\n",
       "      <td>0.00</td>\n",
       "      <td>0.00</td>\n",
       "      <td>...</td>\n",
       "      <td>0.000000</td>\n",
       "      <td>0.050000</td>\n",
       "      <td>0.000000</td>\n",
       "      <td>0.110000</td>\n",
       "      <td>0.000000</td>\n",
       "      <td>0.00</td>\n",
       "      <td>0.00</td>\n",
       "      <td>0.00</td>\n",
       "      <td>0.00</td>\n",
       "      <td>0.020000</td>\n",
       "    </tr>\n",
       "    <tr>\n",
       "      <th>37</th>\n",
       "      <td>Vancouver (West Kitsilano / Jericho)</td>\n",
       "      <td>0.000000</td>\n",
       "      <td>0.000000</td>\n",
       "      <td>0.000000</td>\n",
       "      <td>0.00</td>\n",
       "      <td>0.000000</td>\n",
       "      <td>0.000000</td>\n",
       "      <td>0.010638</td>\n",
       "      <td>0.00</td>\n",
       "      <td>0.00</td>\n",
       "      <td>...</td>\n",
       "      <td>0.000000</td>\n",
       "      <td>0.031915</td>\n",
       "      <td>0.000000</td>\n",
       "      <td>0.021277</td>\n",
       "      <td>0.000000</td>\n",
       "      <td>0.00</td>\n",
       "      <td>0.00</td>\n",
       "      <td>0.00</td>\n",
       "      <td>0.00</td>\n",
       "      <td>0.010638</td>\n",
       "    </tr>\n",
       "    <tr>\n",
       "      <th>38</th>\n",
       "      <td>Vancouver (West Mount Pleasant / West Riley Pa...</td>\n",
       "      <td>0.000000</td>\n",
       "      <td>0.000000</td>\n",
       "      <td>0.000000</td>\n",
       "      <td>0.00</td>\n",
       "      <td>0.010000</td>\n",
       "      <td>0.010000</td>\n",
       "      <td>0.000000</td>\n",
       "      <td>0.00</td>\n",
       "      <td>0.00</td>\n",
       "      <td>...</td>\n",
       "      <td>0.000000</td>\n",
       "      <td>0.020000</td>\n",
       "      <td>0.000000</td>\n",
       "      <td>0.050000</td>\n",
       "      <td>0.000000</td>\n",
       "      <td>0.00</td>\n",
       "      <td>0.00</td>\n",
       "      <td>0.00</td>\n",
       "      <td>0.00</td>\n",
       "      <td>0.020000</td>\n",
       "    </tr>\n",
       "    <tr>\n",
       "      <th>39</th>\n",
       "      <td>West Vancouver North</td>\n",
       "      <td>0.000000</td>\n",
       "      <td>0.000000</td>\n",
       "      <td>0.000000</td>\n",
       "      <td>0.00</td>\n",
       "      <td>0.000000</td>\n",
       "      <td>0.000000</td>\n",
       "      <td>0.000000</td>\n",
       "      <td>0.00</td>\n",
       "      <td>0.00</td>\n",
       "      <td>...</td>\n",
       "      <td>0.142857</td>\n",
       "      <td>0.000000</td>\n",
       "      <td>0.000000</td>\n",
       "      <td>0.000000</td>\n",
       "      <td>0.000000</td>\n",
       "      <td>0.00</td>\n",
       "      <td>0.00</td>\n",
       "      <td>0.00</td>\n",
       "      <td>0.00</td>\n",
       "      <td>0.000000</td>\n",
       "    </tr>\n",
       "    <tr>\n",
       "      <th>40</th>\n",
       "      <td>West Vancouver South</td>\n",
       "      <td>0.000000</td>\n",
       "      <td>0.040000</td>\n",
       "      <td>0.000000</td>\n",
       "      <td>0.00</td>\n",
       "      <td>0.000000</td>\n",
       "      <td>0.000000</td>\n",
       "      <td>0.000000</td>\n",
       "      <td>0.00</td>\n",
       "      <td>0.00</td>\n",
       "      <td>...</td>\n",
       "      <td>0.000000</td>\n",
       "      <td>0.000000</td>\n",
       "      <td>0.000000</td>\n",
       "      <td>0.040000</td>\n",
       "      <td>0.000000</td>\n",
       "      <td>0.00</td>\n",
       "      <td>0.00</td>\n",
       "      <td>0.00</td>\n",
       "      <td>0.00</td>\n",
       "      <td>0.000000</td>\n",
       "    </tr>\n",
       "    <tr>\n",
       "      <th>41</th>\n",
       "      <td>West Vancouver Southeast</td>\n",
       "      <td>0.000000</td>\n",
       "      <td>0.020000</td>\n",
       "      <td>0.000000</td>\n",
       "      <td>0.00</td>\n",
       "      <td>0.000000</td>\n",
       "      <td>0.010000</td>\n",
       "      <td>0.010000</td>\n",
       "      <td>0.00</td>\n",
       "      <td>0.00</td>\n",
       "      <td>...</td>\n",
       "      <td>0.000000</td>\n",
       "      <td>0.000000</td>\n",
       "      <td>0.000000</td>\n",
       "      <td>0.010000</td>\n",
       "      <td>0.000000</td>\n",
       "      <td>0.00</td>\n",
       "      <td>0.00</td>\n",
       "      <td>0.00</td>\n",
       "      <td>0.01</td>\n",
       "      <td>0.000000</td>\n",
       "    </tr>\n",
       "    <tr>\n",
       "      <th>42</th>\n",
       "      <td>West Vancouver West</td>\n",
       "      <td>0.000000</td>\n",
       "      <td>0.000000</td>\n",
       "      <td>0.000000</td>\n",
       "      <td>0.00</td>\n",
       "      <td>0.000000</td>\n",
       "      <td>0.000000</td>\n",
       "      <td>0.000000</td>\n",
       "      <td>0.00</td>\n",
       "      <td>0.00</td>\n",
       "      <td>...</td>\n",
       "      <td>0.000000</td>\n",
       "      <td>0.000000</td>\n",
       "      <td>0.000000</td>\n",
       "      <td>0.000000</td>\n",
       "      <td>0.000000</td>\n",
       "      <td>0.00</td>\n",
       "      <td>0.00</td>\n",
       "      <td>0.00</td>\n",
       "      <td>0.00</td>\n",
       "      <td>0.000000</td>\n",
       "    </tr>\n",
       "  </tbody>\n",
       "</table>\n",
       "<p>43 rows × 250 columns</p>\n",
       "</div>"
      ],
      "text/plain": [
       "                                       Neighbourhoods  Accessories Store  \\\n",
       "0                        North Vancouver East Central           0.000000   \n",
       "1                          North Vancouver Inner East           0.000000   \n",
       "2                       North Vancouver North Central           0.000000   \n",
       "3                           North Vancouver Northwest           0.000000   \n",
       "4                   North Vancouver Northwest Central           0.000000   \n",
       "5                          North Vancouver Outer East           0.000000   \n",
       "6                       North Vancouver South Central           0.000000   \n",
       "7                           North Vancouver Southwest           0.000000   \n",
       "8                   North Vancouver Southwest Central           0.000000   \n",
       "9                          Vancouver (Bentall Centre)           0.010000   \n",
       "10                      Vancouver (Central Kitsilano)           0.000000   \n",
       "11  Vancouver (Chaldecutt / South University Endow...           0.000000   \n",
       "12           Vancouver (Dunbar-Southlands / Musqueam)           0.000000   \n",
       "13           Vancouver (East Fairview / South Cambie)           0.000000   \n",
       "14                    Vancouver (East Mount Pleasant)           0.000000   \n",
       "15                              Vancouver (Killarney)           0.000000   \n",
       "16  Vancouver (NE Downtown / Harbour Centre / Gast...           0.010000   \n",
       "17                       Vancouver (NW Arbutus Ridge)           0.000000   \n",
       "18  Vancouver (NW Shaughnessy / East Kitsilano / Q...           0.000000   \n",
       "19              Vancouver (North Grandview-Woodlands)           0.000000   \n",
       "20                 Vancouver (North Hastings-Sunrise)           0.000000   \n",
       "21          Vancouver (North West End / Stanley Park)           0.000000   \n",
       "22                         Vancouver (Pacific Centre)           0.010000   \n",
       "23    Vancouver (SE Kensington / Victoria-Fraserview)           0.000000   \n",
       "24  Vancouver (SE Kerrisdale / SW Oakridge / West ...           0.020000   \n",
       "25  Vancouver (SE Oakridge / East Marpole / South ...           0.000000   \n",
       "26  Vancouver (SE Riley Park-Little Mountain / SW ...           0.000000   \n",
       "27                            Vancouver (SW Downtown)           0.000000   \n",
       "28  Vancouver (South Grandview-Woodlands / NE Kens...           0.000000   \n",
       "29  Vancouver (South Hastings-Sunrise / North Renf...           0.000000   \n",
       "30              Vancouver (South Renfrew-Collingwood)           0.000000   \n",
       "31  Vancouver (South Shaughnessy / NW Oakridge / N...           0.012195   \n",
       "32                         Vancouver (South West End)           0.000000   \n",
       "33  Vancouver (Strathcona / Chinatown / Downtown E...           0.010000   \n",
       "34  Vancouver (Waterfront / Coal Harbour / Canada ...           0.010000   \n",
       "35  Vancouver (West Fairview / Granville Island / ...           0.000000   \n",
       "36  Vancouver (West Kensington / NE Riley Park-Lit...           0.000000   \n",
       "37               Vancouver (West Kitsilano / Jericho)           0.000000   \n",
       "38  Vancouver (West Mount Pleasant / West Riley Pa...           0.000000   \n",
       "39                               West Vancouver North           0.000000   \n",
       "40                               West Vancouver South           0.000000   \n",
       "41                           West Vancouver Southeast           0.000000   \n",
       "42                                West Vancouver West           0.000000   \n",
       "\n",
       "    American Restaurant  Amphitheater  Aquarium  Art Gallery  \\\n",
       "0              0.000000      0.000000      0.00     0.000000   \n",
       "1              0.000000      0.000000      0.00     0.000000   \n",
       "2              0.000000      0.000000      0.00     0.000000   \n",
       "3              0.000000      0.000000      0.00     0.030303   \n",
       "4              0.000000      0.000000      0.00     0.000000   \n",
       "5              0.000000      0.000000      0.00     0.000000   \n",
       "6              0.000000      0.000000      0.00     0.000000   \n",
       "7              0.010000      0.000000      0.00     0.000000   \n",
       "8              0.010000      0.000000      0.00     0.000000   \n",
       "9              0.020000      0.000000      0.01     0.010000   \n",
       "10             0.010000      0.000000      0.00     0.000000   \n",
       "11             0.000000      0.000000      0.00     0.000000   \n",
       "12             0.000000      0.000000      0.00     0.000000   \n",
       "13             0.010000      0.000000      0.00     0.000000   \n",
       "14             0.000000      0.000000      0.00     0.020000   \n",
       "15             0.000000      0.000000      0.00     0.000000   \n",
       "16             0.000000      0.000000      0.00     0.010000   \n",
       "17             0.000000      0.000000      0.00     0.000000   \n",
       "18             0.010000      0.000000      0.00     0.000000   \n",
       "19             0.000000      0.000000      0.00     0.000000   \n",
       "20             0.010638      0.010638      0.00     0.000000   \n",
       "21             0.020000      0.000000      0.02     0.010000   \n",
       "22             0.010000      0.000000      0.00     0.010000   \n",
       "23             0.000000      0.000000      0.00     0.000000   \n",
       "24             0.020000      0.000000      0.00     0.000000   \n",
       "25             0.010101      0.000000      0.00     0.000000   \n",
       "26             0.000000      0.000000      0.00     0.000000   \n",
       "27             0.000000      0.000000      0.00     0.010000   \n",
       "28             0.020000      0.000000      0.00     0.000000   \n",
       "29             0.013889      0.000000      0.00     0.000000   \n",
       "30             0.010000      0.000000      0.00     0.000000   \n",
       "31             0.000000      0.000000      0.00     0.000000   \n",
       "32             0.000000      0.000000      0.00     0.010000   \n",
       "33             0.000000      0.000000      0.00     0.000000   \n",
       "34             0.020000      0.000000      0.00     0.010000   \n",
       "35             0.010000      0.000000      0.00     0.000000   \n",
       "36             0.010000      0.000000      0.00     0.000000   \n",
       "37             0.000000      0.000000      0.00     0.000000   \n",
       "38             0.000000      0.000000      0.00     0.010000   \n",
       "39             0.000000      0.000000      0.00     0.000000   \n",
       "40             0.040000      0.000000      0.00     0.000000   \n",
       "41             0.020000      0.000000      0.00     0.000000   \n",
       "42             0.000000      0.000000      0.00     0.000000   \n",
       "\n",
       "    Arts & Crafts Store  Asian Restaurant  Athletics & Sports  \\\n",
       "0              0.000000          0.000000                0.00   \n",
       "1              0.000000          0.000000                0.00   \n",
       "2              0.000000          0.000000                0.00   \n",
       "3              0.000000          0.000000                0.00   \n",
       "4              0.000000          0.000000                0.00   \n",
       "5              0.000000          0.000000                0.00   \n",
       "6              0.000000          0.010000                0.01   \n",
       "7              0.000000          0.010000                0.00   \n",
       "8              0.000000          0.010000                0.00   \n",
       "9              0.000000          0.000000                0.00   \n",
       "10             0.000000          0.010000                0.00   \n",
       "11             0.000000          0.000000                0.00   \n",
       "12             0.000000          0.000000                0.00   \n",
       "13             0.010000          0.000000                0.00   \n",
       "14             0.000000          0.000000                0.00   \n",
       "15             0.000000          0.032787                0.00   \n",
       "16             0.000000          0.000000                0.00   \n",
       "17             0.000000          0.011628                0.00   \n",
       "18             0.000000          0.010000                0.00   \n",
       "19             0.000000          0.000000                0.01   \n",
       "20             0.000000          0.021277                0.00   \n",
       "21             0.000000          0.010000                0.00   \n",
       "22             0.000000          0.000000                0.00   \n",
       "23             0.000000          0.040000                0.00   \n",
       "24             0.000000          0.000000                0.00   \n",
       "25             0.000000          0.010101                0.00   \n",
       "26             0.010000          0.010000                0.01   \n",
       "27             0.000000          0.000000                0.00   \n",
       "28             0.000000          0.010000                0.00   \n",
       "29             0.013889          0.000000                0.00   \n",
       "30             0.000000          0.060000                0.00   \n",
       "31             0.000000          0.024390                0.00   \n",
       "32             0.000000          0.010000                0.00   \n",
       "33             0.000000          0.010000                0.00   \n",
       "34             0.000000          0.000000                0.00   \n",
       "35             0.000000          0.000000                0.00   \n",
       "36             0.010000          0.000000                0.00   \n",
       "37             0.000000          0.010638                0.00   \n",
       "38             0.010000          0.000000                0.00   \n",
       "39             0.000000          0.000000                0.00   \n",
       "40             0.000000          0.000000                0.00   \n",
       "41             0.010000          0.010000                0.00   \n",
       "42             0.000000          0.000000                0.00   \n",
       "\n",
       "    Auto Dealership  ...      Tree  Vegetarian / Vegan Restaurant  \\\n",
       "0              0.00  ...  0.000000                       0.000000   \n",
       "1              0.00  ...  0.000000                       0.000000   \n",
       "2              0.00  ...  0.000000                       0.000000   \n",
       "3              0.00  ...  0.000000                       0.000000   \n",
       "4              0.00  ...  0.000000                       0.000000   \n",
       "5              0.00  ...  0.000000                       0.000000   \n",
       "6              0.00  ...  0.000000                       0.010000   \n",
       "7              0.00  ...  0.000000                       0.010000   \n",
       "8              0.00  ...  0.000000                       0.020000   \n",
       "9              0.00  ...  0.000000                       0.010000   \n",
       "10             0.00  ...  0.000000                       0.000000   \n",
       "11             0.00  ...  0.000000                       0.000000   \n",
       "12             0.00  ...  0.000000                       0.000000   \n",
       "13             0.00  ...  0.000000                       0.030000   \n",
       "14             0.01  ...  0.000000                       0.030000   \n",
       "15             0.00  ...  0.000000                       0.000000   \n",
       "16             0.00  ...  0.000000                       0.020000   \n",
       "17             0.00  ...  0.000000                       0.000000   \n",
       "18             0.00  ...  0.000000                       0.010000   \n",
       "19             0.00  ...  0.000000                       0.030000   \n",
       "20             0.00  ...  0.000000                       0.000000   \n",
       "21             0.00  ...  0.010000                       0.000000   \n",
       "22             0.00  ...  0.000000                       0.010000   \n",
       "23             0.00  ...  0.000000                       0.010000   \n",
       "24             0.00  ...  0.000000                       0.000000   \n",
       "25             0.00  ...  0.000000                       0.000000   \n",
       "26             0.00  ...  0.000000                       0.020000   \n",
       "27             0.00  ...  0.000000                       0.000000   \n",
       "28             0.00  ...  0.000000                       0.060000   \n",
       "29             0.00  ...  0.000000                       0.000000   \n",
       "30             0.00  ...  0.000000                       0.020000   \n",
       "31             0.00  ...  0.000000                       0.000000   \n",
       "32             0.00  ...  0.000000                       0.000000   \n",
       "33             0.00  ...  0.000000                       0.010000   \n",
       "34             0.00  ...  0.000000                       0.020000   \n",
       "35             0.00  ...  0.000000                       0.010000   \n",
       "36             0.00  ...  0.000000                       0.050000   \n",
       "37             0.00  ...  0.000000                       0.031915   \n",
       "38             0.00  ...  0.000000                       0.020000   \n",
       "39             0.00  ...  0.142857                       0.000000   \n",
       "40             0.00  ...  0.000000                       0.000000   \n",
       "41             0.00  ...  0.000000                       0.000000   \n",
       "42             0.00  ...  0.000000                       0.000000   \n",
       "\n",
       "    Video Store  Vietnamese Restaurant  Volleyball Court  Water Park  \\\n",
       "0      0.000000               0.000000          0.000000        0.00   \n",
       "1      0.000000               0.000000          0.000000        0.00   \n",
       "2      0.000000               0.000000          0.000000        0.00   \n",
       "3      0.000000               0.000000          0.000000        0.00   \n",
       "4      0.000000               0.000000          0.000000        0.00   \n",
       "5      0.000000               0.000000          0.000000        0.00   \n",
       "6      0.000000               0.010000          0.000000        0.00   \n",
       "7      0.000000               0.010000          0.000000        0.00   \n",
       "8      0.000000               0.000000          0.000000        0.00   \n",
       "9      0.000000               0.010000          0.000000        0.00   \n",
       "10     0.000000               0.010000          0.000000        0.00   \n",
       "11     0.000000               0.043478          0.000000        0.00   \n",
       "12     0.000000               0.000000          0.000000        0.00   \n",
       "13     0.000000               0.050000          0.000000        0.00   \n",
       "14     0.000000               0.040000          0.000000        0.00   \n",
       "15     0.032787               0.016393          0.000000        0.00   \n",
       "16     0.000000               0.010000          0.000000        0.00   \n",
       "17     0.000000               0.023256          0.000000        0.00   \n",
       "18     0.000000               0.000000          0.000000        0.01   \n",
       "19     0.000000               0.020000          0.000000        0.00   \n",
       "20     0.000000               0.085106          0.000000        0.00   \n",
       "21     0.000000               0.010000          0.000000        0.01   \n",
       "22     0.000000               0.010000          0.000000        0.00   \n",
       "23     0.000000               0.070000          0.000000        0.00   \n",
       "24     0.000000               0.030000          0.000000        0.00   \n",
       "25     0.000000               0.020202          0.010101        0.00   \n",
       "26     0.000000               0.060000          0.000000        0.00   \n",
       "27     0.000000               0.000000          0.000000        0.01   \n",
       "28     0.000000               0.080000          0.000000        0.00   \n",
       "29     0.000000               0.027778          0.000000        0.00   \n",
       "30     0.000000               0.070000          0.000000        0.00   \n",
       "31     0.000000               0.024390          0.000000        0.00   \n",
       "32     0.000000               0.000000          0.000000        0.00   \n",
       "33     0.000000               0.000000          0.000000        0.00   \n",
       "34     0.000000               0.010000          0.000000        0.00   \n",
       "35     0.000000               0.000000          0.000000        0.01   \n",
       "36     0.000000               0.110000          0.000000        0.00   \n",
       "37     0.000000               0.021277          0.000000        0.00   \n",
       "38     0.000000               0.050000          0.000000        0.00   \n",
       "39     0.000000               0.000000          0.000000        0.00   \n",
       "40     0.000000               0.040000          0.000000        0.00   \n",
       "41     0.000000               0.010000          0.000000        0.00   \n",
       "42     0.000000               0.000000          0.000000        0.00   \n",
       "\n",
       "    Waterfront  Wine Shop  Women's Store  Yoga Studio  \n",
       "0         0.00       0.00           0.00     0.000000  \n",
       "1         0.00       0.00           0.00     0.000000  \n",
       "2         0.00       0.00           0.00     0.000000  \n",
       "3         0.00       0.00           0.00     0.000000  \n",
       "4         0.00       0.00           0.00     0.000000  \n",
       "5         0.00       0.00           0.00     0.000000  \n",
       "6         0.00       0.00           0.00     0.000000  \n",
       "7         0.00       0.01           0.01     0.000000  \n",
       "8         0.00       0.01           0.00     0.000000  \n",
       "9         0.01       0.00           0.00     0.010000  \n",
       "10        0.00       0.00           0.00     0.040000  \n",
       "11        0.00       0.00           0.00     0.000000  \n",
       "12        0.00       0.00           0.00     0.000000  \n",
       "13        0.00       0.00           0.01     0.000000  \n",
       "14        0.00       0.00           0.00     0.020000  \n",
       "15        0.00       0.00           0.00     0.000000  \n",
       "16        0.00       0.00           0.00     0.010000  \n",
       "17        0.00       0.00           0.00     0.011628  \n",
       "18        0.00       0.00           0.00     0.030000  \n",
       "19        0.00       0.01           0.00     0.000000  \n",
       "20        0.00       0.00           0.00     0.000000  \n",
       "21        0.01       0.00           0.00     0.000000  \n",
       "22        0.00       0.00           0.00     0.010000  \n",
       "23        0.00       0.00           0.00     0.000000  \n",
       "24        0.00       0.00           0.01     0.000000  \n",
       "25        0.00       0.00           0.00     0.000000  \n",
       "26        0.00       0.00           0.00     0.000000  \n",
       "27        0.00       0.01           0.00     0.010000  \n",
       "28        0.00       0.01           0.00     0.010000  \n",
       "29        0.00       0.00           0.00     0.000000  \n",
       "30        0.00       0.00           0.00     0.000000  \n",
       "31        0.00       0.00           0.00     0.000000  \n",
       "32        0.00       0.01           0.00     0.010000  \n",
       "33        0.00       0.00           0.00     0.000000  \n",
       "34        0.00       0.00           0.00     0.010000  \n",
       "35        0.00       0.00           0.00     0.010000  \n",
       "36        0.00       0.00           0.00     0.020000  \n",
       "37        0.00       0.00           0.00     0.010638  \n",
       "38        0.00       0.00           0.00     0.020000  \n",
       "39        0.00       0.00           0.00     0.000000  \n",
       "40        0.00       0.00           0.00     0.000000  \n",
       "41        0.00       0.00           0.01     0.000000  \n",
       "42        0.00       0.00           0.00     0.000000  \n",
       "\n",
       "[43 rows x 250 columns]"
      ]
     },
     "execution_count": 21,
     "metadata": {},
     "output_type": "execute_result"
    }
   ],
   "source": [
    "# grouping the encoded dataframe\n",
    "van_grouped = van_onehot.groupby([\"Neighbourhoods\"]).mean().reset_index()\n",
    "\n",
    "print(van_grouped.shape)\n",
    "van_grouped\n"
   ]
  },
  {
   "cell_type": "code",
   "execution_count": 22,
   "metadata": {
    "scrolled": false
   },
   "outputs": [
    {
     "name": "stdout",
     "output_type": "stream",
     "text": [
      "----North Vancouver East Central----\n",
      "            venue  freq\n",
      "0           Trail   0.3\n",
      "1            Lake   0.2\n",
      "2            Park   0.2\n",
      "3     Coffee Shop   0.1\n",
      "4  Scenic Lookout   0.1\n",
      "\n",
      "\n",
      "----North Vancouver Inner East----\n",
      "                venue  freq\n",
      "0            Ski Area   0.5\n",
      "1               Trail   0.5\n",
      "2   Accessories Store   0.0\n",
      "3        Outlet Store   0.0\n",
      "4  Persian Restaurant   0.0\n",
      "\n",
      "\n",
      "----North Vancouver North Central----\n",
      "            venue  freq\n",
      "0           Trail   0.3\n",
      "1            Park   0.2\n",
      "2            Lake   0.1\n",
      "3  Scenic Lookout   0.1\n",
      "4     Coffee Shop   0.1\n",
      "\n",
      "\n",
      "----North Vancouver Northwest----\n",
      "            venue  freq\n",
      "0           Trail  0.27\n",
      "1  Scenic Lookout  0.12\n",
      "2   Ski Chairlift  0.09\n",
      "3      Ski Chalet  0.06\n",
      "4     Coffee Shop  0.06\n",
      "\n",
      "\n",
      "----North Vancouver Northwest Central----\n",
      "                  venue  freq\n",
      "0                  Park  0.17\n",
      "1                 Trail  0.17\n",
      "2           Coffee Shop  0.11\n",
      "3      Business Service  0.06\n",
      "4  Gym / Fitness Center  0.06\n",
      "\n",
      "\n",
      "----North Vancouver Outer East----\n",
      "                   venue  freq\n",
      "0                  Trail   0.3\n",
      "1               Ski Area   0.1\n",
      "2         Scenic Lookout   0.1\n",
      "3              Ski Lodge   0.1\n",
      "4  Outdoors & Recreation   0.1\n",
      "\n",
      "\n",
      "----North Vancouver South Central----\n",
      "               venue  freq\n",
      "0               Café  0.06\n",
      "1   Sushi Restaurant  0.05\n",
      "2        Coffee Shop  0.05\n",
      "3  Indian Restaurant  0.04\n",
      "4     Breakfast Spot  0.04\n",
      "\n",
      "\n",
      "----North Vancouver Southwest----\n",
      "                  venue  freq\n",
      "0           Coffee Shop  0.14\n",
      "1                  Bank  0.05\n",
      "2  Fast Food Restaurant  0.04\n",
      "3          Burger Joint  0.04\n",
      "4         Grocery Store  0.04\n",
      "\n",
      "\n",
      "----North Vancouver Southwest Central----\n",
      "              venue  freq\n",
      "0  Sushi Restaurant  0.06\n",
      "1       Coffee Shop  0.05\n",
      "2              Café  0.04\n",
      "3        Restaurant  0.04\n",
      "4           Brewery  0.04\n",
      "\n",
      "\n",
      "----Vancouver (Bentall Centre)----\n",
      "            venue  freq\n",
      "0           Hotel  0.10\n",
      "1     Coffee Shop  0.06\n",
      "2    Dessert Shop  0.05\n",
      "3      Restaurant  0.04\n",
      "4  Sandwich Place  0.04\n",
      "\n",
      "\n",
      "----Vancouver (Central Kitsilano)----\n",
      "         venue  freq\n",
      "0  Coffee Shop  0.09\n",
      "1       Bakery  0.06\n",
      "2         Café  0.05\n",
      "3  Yoga Studio  0.04\n",
      "4   Restaurant  0.04\n",
      "\n",
      "\n",
      "----Vancouver (Chaldecutt / South University Endowment Lands)----\n",
      "              venue  freq\n",
      "0  Sushi Restaurant  0.13\n",
      "1       Coffee Shop  0.09\n",
      "2              Bank  0.09\n",
      "3              Park  0.07\n",
      "4        Restaurant  0.04\n",
      "\n",
      "\n",
      "----Vancouver (Dunbar-Southlands / Musqueam)----\n",
      "           venue  freq\n",
      "0    Golf Course  0.12\n",
      "1  Grocery Store  0.09\n",
      "2   Liquor Store  0.06\n",
      "3           Park  0.06\n",
      "4            Gym  0.06\n",
      "\n",
      "\n",
      "----Vancouver (East Fairview / South Cambie)----\n",
      "                   venue  freq\n",
      "0                   Café  0.06\n",
      "1  Vietnamese Restaurant  0.05\n",
      "2            Coffee Shop  0.05\n",
      "3    Japanese Restaurant  0.04\n",
      "4                 Garden  0.04\n",
      "\n",
      "\n",
      "----Vancouver (East Mount Pleasant)----\n",
      "               venue  freq\n",
      "0            Brewery  0.09\n",
      "1        Coffee Shop  0.07\n",
      "2             Bakery  0.06\n",
      "3  Indian Restaurant  0.04\n",
      "4   Sushi Restaurant  0.04\n",
      "\n",
      "\n",
      "----Vancouver (Killarney)----\n",
      "          venue  freq\n",
      "0   Coffee Shop  0.10\n",
      "1          Park  0.07\n",
      "2      Bus Stop  0.05\n",
      "3   Golf Course  0.05\n",
      "4  Burger Joint  0.03\n",
      "\n",
      "\n",
      "----Vancouver (NE Downtown / Harbour Centre / Gastown / Yaletown)----\n",
      "            venue  freq\n",
      "0           Hotel  0.09\n",
      "1      Restaurant  0.06\n",
      "2          Bakery  0.04\n",
      "3    Dessert Shop  0.04\n",
      "4  Sandwich Place  0.03\n",
      "\n",
      "\n",
      "----Vancouver (NW Arbutus Ridge)----\n",
      "              venue  freq\n",
      "0       Coffee Shop  0.13\n",
      "1  Sushi Restaurant  0.07\n",
      "2    Sandwich Place  0.05\n",
      "3              Bank  0.03\n",
      "4          Pharmacy  0.03\n",
      "\n",
      "\n",
      "----Vancouver (NW Shaughnessy / East Kitsilano / Quilchena)----\n",
      "                venue  freq\n",
      "0         Coffee Shop  0.10\n",
      "1              Bakery  0.06\n",
      "2                Café  0.05\n",
      "3                Park  0.05\n",
      "4  Seafood Restaurant  0.04\n",
      "\n",
      "\n",
      "----Vancouver (North Grandview-Woodlands)----\n",
      "                venue  freq\n",
      "0             Brewery  0.10\n",
      "1         Coffee Shop  0.10\n",
      "2                Café  0.07\n",
      "3         Pizza Place  0.05\n",
      "4  Italian Restaurant  0.05\n",
      "\n",
      "\n",
      "----Vancouver (North Hastings-Sunrise)----\n",
      "                   venue  freq\n",
      "0  Vietnamese Restaurant  0.09\n",
      "1                   Café  0.07\n",
      "2            Coffee Shop  0.07\n",
      "3                   Park  0.06\n",
      "4                 Bakery  0.04\n",
      "\n",
      "\n",
      "----Vancouver (North West End / Stanley Park)----\n",
      "                venue  freq\n",
      "0         Coffee Shop  0.06\n",
      "1  Seafood Restaurant  0.04\n",
      "2    Sculpture Garden  0.04\n",
      "3      Scenic Lookout  0.04\n",
      "4                Park  0.04\n",
      "\n",
      "\n",
      "----Vancouver (Pacific Centre)----\n",
      "            venue  freq\n",
      "0           Hotel  0.12\n",
      "1      Restaurant  0.05\n",
      "2    Dessert Shop  0.05\n",
      "3  Sandwich Place  0.04\n",
      "4     Coffee Shop  0.04\n",
      "\n",
      "\n",
      "----Vancouver (SE Kensington / Victoria-Fraserview)----\n",
      "                   venue  freq\n",
      "0     Chinese Restaurant  0.11\n",
      "1  Vietnamese Restaurant  0.07\n",
      "2            Coffee Shop  0.06\n",
      "3    Japanese Restaurant  0.06\n",
      "4         Sandwich Place  0.04\n",
      "\n",
      "\n",
      "----Vancouver (SE Kerrisdale / SW Oakridge / West Marpole)----\n",
      "              venue  freq\n",
      "0    Clothing Store  0.06\n",
      "1       Coffee Shop  0.05\n",
      "2  Sushi Restaurant  0.04\n",
      "3              Bank  0.04\n",
      "4    Sandwich Place  0.04\n",
      "\n",
      "\n",
      "----Vancouver (SE Oakridge / East Marpole / South Sunset)----\n",
      "                  venue  freq\n",
      "0    Chinese Restaurant  0.08\n",
      "1        Sandwich Place  0.06\n",
      "2  Fast Food Restaurant  0.06\n",
      "3     Indian Restaurant  0.05\n",
      "4           Coffee Shop  0.05\n",
      "\n",
      "\n",
      "----Vancouver (SE Riley Park-Little Mountain / SW Kensington / NE Oakridge / North Sunset)----\n",
      "                   venue  freq\n",
      "0     Chinese Restaurant  0.09\n",
      "1            Coffee Shop  0.08\n",
      "2  Vietnamese Restaurant  0.06\n",
      "3                   Café  0.05\n",
      "4            Pizza Place  0.03\n",
      "\n",
      "\n",
      "----Vancouver (SW Downtown)----\n",
      "                venue  freq\n",
      "0               Hotel  0.09\n",
      "1  Seafood Restaurant  0.07\n",
      "2              Bakery  0.06\n",
      "3  Italian Restaurant  0.04\n",
      "4          Restaurant  0.04\n",
      "\n",
      "\n",
      "----Vancouver (South Grandview-Woodlands / NE Kensington)----\n",
      "                           venue  freq\n",
      "0          Vietnamese Restaurant  0.08\n",
      "1  Vegetarian / Vegan Restaurant  0.06\n",
      "2             Mexican Restaurant  0.05\n",
      "3                    Pizza Place  0.05\n",
      "4                           Café  0.05\n",
      "\n",
      "\n",
      "----Vancouver (South Hastings-Sunrise / North Renfrew-Collingwood)----\n",
      "           venue  freq\n",
      "0    Coffee Shop  0.08\n",
      "1           Park  0.07\n",
      "2       Bus Stop  0.06\n",
      "3    Pizza Place  0.06\n",
      "4  Grocery Store  0.04\n",
      "\n",
      "\n",
      "----Vancouver (South Renfrew-Collingwood)----\n",
      "                   venue  freq\n",
      "0     Chinese Restaurant  0.10\n",
      "1            Coffee Shop  0.07\n",
      "2  Vietnamese Restaurant  0.07\n",
      "3       Asian Restaurant  0.06\n",
      "4            Pizza Place  0.05\n",
      "\n",
      "\n",
      "----Vancouver (South Shaughnessy / NW Oakridge / NE Kerrisdale / SE Arbutus Ridge)----\n",
      "                venue  freq\n",
      "0         Coffee Shop  0.12\n",
      "1      Sandwich Place  0.06\n",
      "2            Tea Room  0.05\n",
      "3    Sushi Restaurant  0.05\n",
      "4  Chinese Restaurant  0.04\n",
      "\n",
      "\n",
      "----Vancouver (South West End)----\n",
      "                 venue  freq\n",
      "0                Hotel  0.12\n",
      "1         Dessert Shop  0.05\n",
      "2  Japanese Restaurant  0.04\n",
      "3           Restaurant  0.04\n",
      "4                 Park  0.04\n",
      "\n",
      "\n",
      "----Vancouver (Strathcona / Chinatown / Downtown Eastside)----\n",
      "            venue  freq\n",
      "0         Brewery  0.14\n",
      "1            Café  0.06\n",
      "2     Coffee Shop  0.05\n",
      "3            Park  0.03\n",
      "4  Breakfast Spot  0.03\n",
      "\n",
      "\n",
      "----Vancouver (Waterfront / Coal Harbour / Canada Place)----\n",
      "            venue  freq\n",
      "0           Hotel  0.10\n",
      "1      Restaurant  0.06\n",
      "2    Dessert Shop  0.05\n",
      "3  Sandwich Place  0.04\n",
      "4            Café  0.04\n",
      "\n",
      "\n",
      "----Vancouver (West Fairview / Granville Island / NE Shaughnessy)----\n",
      "                 venue  freq\n",
      "0          Coffee Shop  0.08\n",
      "1                 Park  0.08\n",
      "2                 Café  0.06\n",
      "3               Bakery  0.06\n",
      "4  Japanese Restaurant  0.04\n",
      "\n",
      "\n",
      "----Vancouver (West Kensington / NE Riley Park-Little Mountain)----\n",
      "                           venue  freq\n",
      "0          Vietnamese Restaurant  0.11\n",
      "1                    Coffee Shop  0.07\n",
      "2  Vegetarian / Vegan Restaurant  0.05\n",
      "3                           Park  0.05\n",
      "4                           Café  0.05\n",
      "\n",
      "\n",
      "----Vancouver (West Kitsilano / Jericho)----\n",
      "                 venue  freq\n",
      "0          Coffee Shop  0.09\n",
      "1     Sushi Restaurant  0.07\n",
      "2  Japanese Restaurant  0.04\n",
      "3               Bakery  0.04\n",
      "4                 Café  0.04\n",
      "\n",
      "\n",
      "----Vancouver (West Mount Pleasant / West Riley Park-Little Mountain)----\n"
     ]
    },
    {
     "name": "stdout",
     "output_type": "stream",
     "text": [
      "                   venue  freq\n",
      "0            Coffee Shop  0.09\n",
      "1                   Café  0.06\n",
      "2  Vietnamese Restaurant  0.05\n",
      "3       Sushi Restaurant  0.04\n",
      "4                 Bakery  0.04\n",
      "\n",
      "\n",
      "----West Vancouver North----\n",
      "            venue  freq\n",
      "0            Lake  0.29\n",
      "1       Ski Lodge  0.14\n",
      "2        Ski Area  0.14\n",
      "3  Scenic Lookout  0.14\n",
      "4           Trail  0.14\n",
      "\n",
      "\n",
      "----West Vancouver South----\n",
      "              venue  freq\n",
      "0       Coffee Shop  0.12\n",
      "1            Bakery  0.08\n",
      "2         Gastropub  0.04\n",
      "3  Sushi Restaurant  0.04\n",
      "4          Building  0.04\n",
      "\n",
      "\n",
      "----West Vancouver Southeast----\n",
      "            venue  freq\n",
      "0     Coffee Shop  0.11\n",
      "1            Bank  0.04\n",
      "2  Clothing Store  0.04\n",
      "3           Hotel  0.04\n",
      "4   Grocery Store  0.04\n",
      "\n",
      "\n",
      "----West Vancouver West----\n",
      "              venue  freq\n",
      "0       Coffee Shop  0.12\n",
      "1     Boat or Ferry  0.10\n",
      "2   Harbor / Marina  0.10\n",
      "3             Trail  0.07\n",
      "4  Sushi Restaurant  0.05\n",
      "\n",
      "\n"
     ]
    }
   ],
   "source": [
    "# printing 5 most common venues for every neighbourhood\n",
    "\n",
    "num_top_venues = 5\n",
    "\n",
    "for hood in van_grouped['Neighbourhoods']:\n",
    "    print(\"----\"+hood+\"----\")\n",
    "    temp = van_grouped[van_grouped['Neighbourhoods'] == hood].T.reset_index()\n",
    "    temp.columns = ['venue','freq']\n",
    "    temp = temp.iloc[1:]\n",
    "    temp['freq'] = temp['freq'].astype(float)\n",
    "    temp = temp.round({'freq': 2})\n",
    "    print(temp.sort_values('freq', ascending=False).reset_index(drop=True).head(num_top_venues))\n",
    "    print('\\n')"
   ]
  },
  {
   "cell_type": "code",
   "execution_count": 23,
   "metadata": {},
   "outputs": [],
   "source": [
    "# returning most common venues\n",
    "\n",
    "def return_most_common_venues(row, num_top_venues):\n",
    "    row_categories = row.iloc[1:]\n",
    "    row_categories_sorted = row_categories.sort_values(ascending=False)\n",
    "    \n",
    "    return row_categories_sorted.index.values[0:num_top_venues]"
   ]
  },
  {
   "cell_type": "code",
   "execution_count": 24,
   "metadata": {},
   "outputs": [
    {
     "data": {
      "text/html": [
       "<div>\n",
       "<style scoped>\n",
       "    .dataframe tbody tr th:only-of-type {\n",
       "        vertical-align: middle;\n",
       "    }\n",
       "\n",
       "    .dataframe tbody tr th {\n",
       "        vertical-align: top;\n",
       "    }\n",
       "\n",
       "    .dataframe thead th {\n",
       "        text-align: right;\n",
       "    }\n",
       "</style>\n",
       "<table border=\"1\" class=\"dataframe\">\n",
       "  <thead>\n",
       "    <tr style=\"text-align: right;\">\n",
       "      <th></th>\n",
       "      <th>Neighbourhoods</th>\n",
       "      <th>1st Most Common Venue</th>\n",
       "      <th>2nd Most Common Venue</th>\n",
       "      <th>3rd Most Common Venue</th>\n",
       "      <th>4th Most Common Venue</th>\n",
       "      <th>5th Most Common Venue</th>\n",
       "      <th>6th Most Common Venue</th>\n",
       "      <th>7th Most Common Venue</th>\n",
       "      <th>8th Most Common Venue</th>\n",
       "      <th>9th Most Common Venue</th>\n",
       "      <th>10th Most Common Venue</th>\n",
       "    </tr>\n",
       "  </thead>\n",
       "  <tbody>\n",
       "    <tr>\n",
       "      <th>0</th>\n",
       "      <td>North Vancouver East Central</td>\n",
       "      <td>Trail</td>\n",
       "      <td>Park</td>\n",
       "      <td>Lake</td>\n",
       "      <td>Mountain</td>\n",
       "      <td>Coffee Shop</td>\n",
       "      <td>Scenic Lookout</td>\n",
       "      <td>French Restaurant</td>\n",
       "      <td>Fried Chicken Joint</td>\n",
       "      <td>Food Truck</td>\n",
       "      <td>Filipino Restaurant</td>\n",
       "    </tr>\n",
       "    <tr>\n",
       "      <th>1</th>\n",
       "      <td>North Vancouver Inner East</td>\n",
       "      <td>Ski Area</td>\n",
       "      <td>Trail</td>\n",
       "      <td>Yoga Studio</td>\n",
       "      <td>Food &amp; Drink Shop</td>\n",
       "      <td>Financial or Legal Service</td>\n",
       "      <td>Fish &amp; Chips Shop</td>\n",
       "      <td>Flower Shop</td>\n",
       "      <td>Food</td>\n",
       "      <td>Food Court</td>\n",
       "      <td>Field</td>\n",
       "    </tr>\n",
       "    <tr>\n",
       "      <th>2</th>\n",
       "      <td>North Vancouver North Central</td>\n",
       "      <td>Trail</td>\n",
       "      <td>Park</td>\n",
       "      <td>Scenic Lookout</td>\n",
       "      <td>Coffee Shop</td>\n",
       "      <td>Mountain</td>\n",
       "      <td>Lake</td>\n",
       "      <td>Convenience Store</td>\n",
       "      <td>Food Court</td>\n",
       "      <td>Fish &amp; Chips Shop</td>\n",
       "      <td>Flower Shop</td>\n",
       "    </tr>\n",
       "    <tr>\n",
       "      <th>3</th>\n",
       "      <td>North Vancouver Northwest</td>\n",
       "      <td>Trail</td>\n",
       "      <td>Scenic Lookout</td>\n",
       "      <td>Ski Chairlift</td>\n",
       "      <td>Coffee Shop</td>\n",
       "      <td>Mountain</td>\n",
       "      <td>Ski Chalet</td>\n",
       "      <td>Restaurant</td>\n",
       "      <td>Fast Food Restaurant</td>\n",
       "      <td>Dessert Shop</td>\n",
       "      <td>Sporting Goods Shop</td>\n",
       "    </tr>\n",
       "    <tr>\n",
       "      <th>4</th>\n",
       "      <td>North Vancouver Northwest Central</td>\n",
       "      <td>Trail</td>\n",
       "      <td>Park</td>\n",
       "      <td>Coffee Shop</td>\n",
       "      <td>Convenience Store</td>\n",
       "      <td>Chinese Restaurant</td>\n",
       "      <td>Shopping Mall</td>\n",
       "      <td>Grocery Store</td>\n",
       "      <td>Bar</td>\n",
       "      <td>Gym / Fitness Center</td>\n",
       "      <td>Sandwich Place</td>\n",
       "    </tr>\n",
       "  </tbody>\n",
       "</table>\n",
       "</div>"
      ],
      "text/plain": [
       "                      Neighbourhoods 1st Most Common Venue  \\\n",
       "0       North Vancouver East Central                 Trail   \n",
       "1         North Vancouver Inner East              Ski Area   \n",
       "2      North Vancouver North Central                 Trail   \n",
       "3          North Vancouver Northwest                 Trail   \n",
       "4  North Vancouver Northwest Central                 Trail   \n",
       "\n",
       "  2nd Most Common Venue 3rd Most Common Venue 4th Most Common Venue  \\\n",
       "0                  Park                  Lake              Mountain   \n",
       "1                 Trail           Yoga Studio     Food & Drink Shop   \n",
       "2                  Park        Scenic Lookout           Coffee Shop   \n",
       "3        Scenic Lookout         Ski Chairlift           Coffee Shop   \n",
       "4                  Park           Coffee Shop     Convenience Store   \n",
       "\n",
       "        5th Most Common Venue 6th Most Common Venue 7th Most Common Venue  \\\n",
       "0                 Coffee Shop        Scenic Lookout     French Restaurant   \n",
       "1  Financial or Legal Service     Fish & Chips Shop           Flower Shop   \n",
       "2                    Mountain                  Lake     Convenience Store   \n",
       "3                    Mountain            Ski Chalet            Restaurant   \n",
       "4          Chinese Restaurant         Shopping Mall         Grocery Store   \n",
       "\n",
       "  8th Most Common Venue 9th Most Common Venue 10th Most Common Venue  \n",
       "0   Fried Chicken Joint            Food Truck    Filipino Restaurant  \n",
       "1                  Food            Food Court                  Field  \n",
       "2            Food Court     Fish & Chips Shop            Flower Shop  \n",
       "3  Fast Food Restaurant          Dessert Shop    Sporting Goods Shop  \n",
       "4                   Bar  Gym / Fitness Center         Sandwich Place  "
      ]
     },
     "execution_count": 24,
     "metadata": {},
     "output_type": "execute_result"
    }
   ],
   "source": [
    "# Creating a new dataframe that will display the top 10 venues for each neighbourhood\n",
    "num_top_venues = 10\n",
    "\n",
    "indicators = ['st', 'nd', 'rd']\n",
    "\n",
    "# create columns according to number of top venues\n",
    "columns = ['Neighbourhoods']\n",
    "for ind in np.arange(num_top_venues):\n",
    "    try:\n",
    "        columns.append('{}{} Most Common Venue'.format(ind+1, indicators[ind]))\n",
    "    except:\n",
    "        columns.append('{}th Most Common Venue'.format(ind+1))\n",
    "\n",
    "# create a new dataframe\n",
    "neighbourhoods_venues_sorted = pd.DataFrame(columns=columns)\n",
    "neighbourhoods_venues_sorted['Neighbourhoods'] = van_grouped['Neighbourhoods']\n",
    "\n",
    "for ind in np.arange(van_grouped.shape[0]):\n",
    "    neighbourhoods_venues_sorted.iloc[ind, 1:] = return_most_common_venues(van_grouped.iloc[ind, :], num_top_venues)\n",
    "\n",
    "neighbourhoods_venues_sorted.head()"
   ]
  },
  {
   "cell_type": "code",
   "execution_count": 25,
   "metadata": {},
   "outputs": [
    {
     "data": {
      "text/plain": [
       "20"
      ]
     },
     "execution_count": 25,
     "metadata": {},
     "output_type": "execute_result"
    }
   ],
   "source": [
    "len(van_grouped[van_grouped[\"Pub\"] > 0])"
   ]
  },
  {
   "cell_type": "code",
   "execution_count": 26,
   "metadata": {},
   "outputs": [
    {
     "data": {
      "text/html": [
       "<div>\n",
       "<style scoped>\n",
       "    .dataframe tbody tr th:only-of-type {\n",
       "        vertical-align: middle;\n",
       "    }\n",
       "\n",
       "    .dataframe tbody tr th {\n",
       "        vertical-align: top;\n",
       "    }\n",
       "\n",
       "    .dataframe thead th {\n",
       "        text-align: right;\n",
       "    }\n",
       "</style>\n",
       "<table border=\"1\" class=\"dataframe\">\n",
       "  <thead>\n",
       "    <tr style=\"text-align: right;\">\n",
       "      <th></th>\n",
       "      <th>Neighbourhoods</th>\n",
       "      <th>Pub</th>\n",
       "    </tr>\n",
       "  </thead>\n",
       "  <tbody>\n",
       "    <tr>\n",
       "      <th>0</th>\n",
       "      <td>North Vancouver East Central</td>\n",
       "      <td>0.0</td>\n",
       "    </tr>\n",
       "    <tr>\n",
       "      <th>1</th>\n",
       "      <td>North Vancouver Inner East</td>\n",
       "      <td>0.0</td>\n",
       "    </tr>\n",
       "    <tr>\n",
       "      <th>2</th>\n",
       "      <td>North Vancouver North Central</td>\n",
       "      <td>0.0</td>\n",
       "    </tr>\n",
       "    <tr>\n",
       "      <th>3</th>\n",
       "      <td>North Vancouver Northwest</td>\n",
       "      <td>0.0</td>\n",
       "    </tr>\n",
       "    <tr>\n",
       "      <th>4</th>\n",
       "      <td>North Vancouver Northwest Central</td>\n",
       "      <td>0.0</td>\n",
       "    </tr>\n",
       "  </tbody>\n",
       "</table>\n",
       "</div>"
      ],
      "text/plain": [
       "                      Neighbourhoods  Pub\n",
       "0       North Vancouver East Central  0.0\n",
       "1         North Vancouver Inner East  0.0\n",
       "2      North Vancouver North Central  0.0\n",
       "3          North Vancouver Northwest  0.0\n",
       "4  North Vancouver Northwest Central  0.0"
      ]
     },
     "execution_count": 26,
     "metadata": {},
     "output_type": "execute_result"
    }
   ],
   "source": [
    "van_place = van_grouped[[\"Neighbourhoods\",\"Pub\"]]\n",
    "van_place.head()"
   ]
  },
  {
   "cell_type": "markdown",
   "metadata": {},
   "source": [
    "## Cluster Neighbourhoods"
   ]
  },
  {
   "cell_type": "code",
   "execution_count": 27,
   "metadata": {},
   "outputs": [
    {
     "data": {
      "text/plain": [
       "array([2, 1, 2, 4, 2, 4, 0, 0, 0, 3])"
      ]
     },
     "execution_count": 27,
     "metadata": {},
     "output_type": "execute_result"
    }
   ],
   "source": [
    "# set number of clusters\n",
    "kclusters = 5\n",
    "\n",
    "van_clustering = van_grouped.drop([\"Neighbourhoods\"], 1)\n",
    "\n",
    "# run k-means clustering\n",
    "kmeans = KMeans(n_clusters=kclusters, random_state=0).fit(van_clustering)\n",
    "\n",
    "# check cluster labels generated for each row in the dataframe\n",
    "kmeans.labels_[0:10]"
   ]
  },
  {
   "cell_type": "code",
   "execution_count": 28,
   "metadata": {
    "scrolled": true
   },
   "outputs": [
    {
     "data": {
      "text/html": [
       "<div>\n",
       "<style scoped>\n",
       "    .dataframe tbody tr th:only-of-type {\n",
       "        vertical-align: middle;\n",
       "    }\n",
       "\n",
       "    .dataframe tbody tr th {\n",
       "        vertical-align: top;\n",
       "    }\n",
       "\n",
       "    .dataframe thead th {\n",
       "        text-align: right;\n",
       "    }\n",
       "</style>\n",
       "<table border=\"1\" class=\"dataframe\">\n",
       "  <thead>\n",
       "    <tr style=\"text-align: right;\">\n",
       "      <th></th>\n",
       "      <th>CountryCode</th>\n",
       "      <th>FSA</th>\n",
       "      <th>Neighbourhoods</th>\n",
       "      <th>Province</th>\n",
       "      <th>Latitude</th>\n",
       "      <th>Longitude</th>\n",
       "      <th>Cluster Labels</th>\n",
       "      <th>1st Most Common Venue</th>\n",
       "      <th>2nd Most Common Venue</th>\n",
       "      <th>3rd Most Common Venue</th>\n",
       "      <th>4th Most Common Venue</th>\n",
       "      <th>5th Most Common Venue</th>\n",
       "      <th>6th Most Common Venue</th>\n",
       "      <th>7th Most Common Venue</th>\n",
       "      <th>8th Most Common Venue</th>\n",
       "      <th>9th Most Common Venue</th>\n",
       "      <th>10th Most Common Venue</th>\n",
       "    </tr>\n",
       "  </thead>\n",
       "  <tbody>\n",
       "    <tr>\n",
       "      <th>0</th>\n",
       "      <td>CA</td>\n",
       "      <td>V5K</td>\n",
       "      <td>Vancouver (North Hastings-Sunrise)</td>\n",
       "      <td>British Columbia</td>\n",
       "      <td>49.2807</td>\n",
       "      <td>-123.0397</td>\n",
       "      <td>1.0</td>\n",
       "      <td>Vietnamese Restaurant</td>\n",
       "      <td>Café</td>\n",
       "      <td>Coffee Shop</td>\n",
       "      <td>Park</td>\n",
       "      <td>Bakery</td>\n",
       "      <td>French Restaurant</td>\n",
       "      <td>Chinese Restaurant</td>\n",
       "      <td>Pub</td>\n",
       "      <td>Brewery</td>\n",
       "      <td>Sushi Restaurant</td>\n",
       "    </tr>\n",
       "    <tr>\n",
       "      <th>1</th>\n",
       "      <td>CA</td>\n",
       "      <td>V5L</td>\n",
       "      <td>Vancouver (North Grandview-Woodlands)</td>\n",
       "      <td>British Columbia</td>\n",
       "      <td>49.2795</td>\n",
       "      <td>-123.0667</td>\n",
       "      <td>1.0</td>\n",
       "      <td>Coffee Shop</td>\n",
       "      <td>Brewery</td>\n",
       "      <td>Café</td>\n",
       "      <td>Pizza Place</td>\n",
       "      <td>Sushi Restaurant</td>\n",
       "      <td>Italian Restaurant</td>\n",
       "      <td>Indian Restaurant</td>\n",
       "      <td>Grocery Store</td>\n",
       "      <td>Ice Cream Shop</td>\n",
       "      <td>Vegetarian / Vegan Restaurant</td>\n",
       "    </tr>\n",
       "    <tr>\n",
       "      <th>2</th>\n",
       "      <td>CA</td>\n",
       "      <td>V5M</td>\n",
       "      <td>Vancouver (South Hastings-Sunrise / North Renf...</td>\n",
       "      <td>British Columbia</td>\n",
       "      <td>49.2600</td>\n",
       "      <td>-123.0398</td>\n",
       "      <td>1.0</td>\n",
       "      <td>Coffee Shop</td>\n",
       "      <td>Park</td>\n",
       "      <td>Bus Stop</td>\n",
       "      <td>Pizza Place</td>\n",
       "      <td>Grocery Store</td>\n",
       "      <td>Convenience Store</td>\n",
       "      <td>Burger Joint</td>\n",
       "      <td>Bus Station</td>\n",
       "      <td>Pet Store</td>\n",
       "      <td>Metro Station</td>\n",
       "    </tr>\n",
       "    <tr>\n",
       "      <th>3</th>\n",
       "      <td>CA</td>\n",
       "      <td>V5N</td>\n",
       "      <td>Vancouver (South Grandview-Woodlands / NE Kens...</td>\n",
       "      <td>British Columbia</td>\n",
       "      <td>49.2551</td>\n",
       "      <td>-123.0667</td>\n",
       "      <td>1.0</td>\n",
       "      <td>Vietnamese Restaurant</td>\n",
       "      <td>Vegetarian / Vegan Restaurant</td>\n",
       "      <td>Coffee Shop</td>\n",
       "      <td>Pizza Place</td>\n",
       "      <td>Italian Restaurant</td>\n",
       "      <td>Café</td>\n",
       "      <td>Mexican Restaurant</td>\n",
       "      <td>Indian Restaurant</td>\n",
       "      <td>Japanese Restaurant</td>\n",
       "      <td>Bakery</td>\n",
       "    </tr>\n",
       "    <tr>\n",
       "      <th>4</th>\n",
       "      <td>CA</td>\n",
       "      <td>V5P</td>\n",
       "      <td>Vancouver (SE Kensington / Victoria-Fraserview)</td>\n",
       "      <td>British Columbia</td>\n",
       "      <td>49.2220</td>\n",
       "      <td>-123.0683</td>\n",
       "      <td>1.0</td>\n",
       "      <td>Chinese Restaurant</td>\n",
       "      <td>Vietnamese Restaurant</td>\n",
       "      <td>Japanese Restaurant</td>\n",
       "      <td>Coffee Shop</td>\n",
       "      <td>Sandwich Place</td>\n",
       "      <td>Asian Restaurant</td>\n",
       "      <td>Gas Station</td>\n",
       "      <td>Bank</td>\n",
       "      <td>Bakery</td>\n",
       "      <td>Cantonese Restaurant</td>\n",
       "    </tr>\n",
       "    <tr>\n",
       "      <th>5</th>\n",
       "      <td>CA</td>\n",
       "      <td>V5R</td>\n",
       "      <td>Vancouver (South Renfrew-Collingwood)</td>\n",
       "      <td>British Columbia</td>\n",
       "      <td>49.2397</td>\n",
       "      <td>-123.0407</td>\n",
       "      <td>1.0</td>\n",
       "      <td>Chinese Restaurant</td>\n",
       "      <td>Coffee Shop</td>\n",
       "      <td>Vietnamese Restaurant</td>\n",
       "      <td>Asian Restaurant</td>\n",
       "      <td>Pizza Place</td>\n",
       "      <td>Japanese Restaurant</td>\n",
       "      <td>Park</td>\n",
       "      <td>Café</td>\n",
       "      <td>Sushi Restaurant</td>\n",
       "      <td>Convenience Store</td>\n",
       "    </tr>\n",
       "    <tr>\n",
       "      <th>6</th>\n",
       "      <td>CA</td>\n",
       "      <td>V5S</td>\n",
       "      <td>Vancouver (Killarney)</td>\n",
       "      <td>British Columbia</td>\n",
       "      <td>49.2175</td>\n",
       "      <td>-123.0380</td>\n",
       "      <td>1.0</td>\n",
       "      <td>Coffee Shop</td>\n",
       "      <td>Park</td>\n",
       "      <td>Golf Course</td>\n",
       "      <td>Bus Stop</td>\n",
       "      <td>Convenience Store</td>\n",
       "      <td>Sandwich Place</td>\n",
       "      <td>Chinese Restaurant</td>\n",
       "      <td>Café</td>\n",
       "      <td>Burger Joint</td>\n",
       "      <td>Bubble Tea Shop</td>\n",
       "    </tr>\n",
       "    <tr>\n",
       "      <th>7</th>\n",
       "      <td>CA</td>\n",
       "      <td>V5T</td>\n",
       "      <td>Vancouver (East Mount Pleasant)</td>\n",
       "      <td>British Columbia</td>\n",
       "      <td>49.2620</td>\n",
       "      <td>-123.0923</td>\n",
       "      <td>1.0</td>\n",
       "      <td>Brewery</td>\n",
       "      <td>Coffee Shop</td>\n",
       "      <td>Bakery</td>\n",
       "      <td>Vietnamese Restaurant</td>\n",
       "      <td>Sushi Restaurant</td>\n",
       "      <td>Indian Restaurant</td>\n",
       "      <td>Café</td>\n",
       "      <td>Vegetarian / Vegan Restaurant</td>\n",
       "      <td>Italian Restaurant</td>\n",
       "      <td>Yoga Studio</td>\n",
       "    </tr>\n",
       "    <tr>\n",
       "      <th>8</th>\n",
       "      <td>CA</td>\n",
       "      <td>V5V</td>\n",
       "      <td>Vancouver (West Kensington / NE Riley Park-Lit...</td>\n",
       "      <td>British Columbia</td>\n",
       "      <td>49.2480</td>\n",
       "      <td>-123.0913</td>\n",
       "      <td>1.0</td>\n",
       "      <td>Vietnamese Restaurant</td>\n",
       "      <td>Coffee Shop</td>\n",
       "      <td>Park</td>\n",
       "      <td>Café</td>\n",
       "      <td>Vegetarian / Vegan Restaurant</td>\n",
       "      <td>Sushi Restaurant</td>\n",
       "      <td>Bakery</td>\n",
       "      <td>Ice Cream Shop</td>\n",
       "      <td>Seafood Restaurant</td>\n",
       "      <td>Indian Restaurant</td>\n",
       "    </tr>\n",
       "    <tr>\n",
       "      <th>9</th>\n",
       "      <td>CA</td>\n",
       "      <td>V5W</td>\n",
       "      <td>Vancouver (SE Riley Park-Little Mountain / SW ...</td>\n",
       "      <td>British Columbia</td>\n",
       "      <td>49.2327</td>\n",
       "      <td>-123.0917</td>\n",
       "      <td>1.0</td>\n",
       "      <td>Chinese Restaurant</td>\n",
       "      <td>Coffee Shop</td>\n",
       "      <td>Vietnamese Restaurant</td>\n",
       "      <td>Café</td>\n",
       "      <td>Japanese Restaurant</td>\n",
       "      <td>Park</td>\n",
       "      <td>Pizza Place</td>\n",
       "      <td>Garden</td>\n",
       "      <td>Farmers Market</td>\n",
       "      <td>Tea Room</td>\n",
       "    </tr>\n",
       "    <tr>\n",
       "      <th>10</th>\n",
       "      <td>CA</td>\n",
       "      <td>V5X</td>\n",
       "      <td>Vancouver (SE Oakridge / East Marpole / South ...</td>\n",
       "      <td>British Columbia</td>\n",
       "      <td>49.2156</td>\n",
       "      <td>-123.0979</td>\n",
       "      <td>1.0</td>\n",
       "      <td>Chinese Restaurant</td>\n",
       "      <td>Fast Food Restaurant</td>\n",
       "      <td>Sandwich Place</td>\n",
       "      <td>Coffee Shop</td>\n",
       "      <td>Indian Restaurant</td>\n",
       "      <td>Pharmacy</td>\n",
       "      <td>Bus Stop</td>\n",
       "      <td>Bank</td>\n",
       "      <td>Gas Station</td>\n",
       "      <td>Restaurant</td>\n",
       "    </tr>\n",
       "    <tr>\n",
       "      <th>11</th>\n",
       "      <td>CA</td>\n",
       "      <td>V5Y</td>\n",
       "      <td>Vancouver (West Mount Pleasant / West Riley Pa...</td>\n",
       "      <td>British Columbia</td>\n",
       "      <td>49.2492</td>\n",
       "      <td>-123.1104</td>\n",
       "      <td>1.0</td>\n",
       "      <td>Coffee Shop</td>\n",
       "      <td>Café</td>\n",
       "      <td>Vietnamese Restaurant</td>\n",
       "      <td>Bakery</td>\n",
       "      <td>Sushi Restaurant</td>\n",
       "      <td>Brewery</td>\n",
       "      <td>Tea Room</td>\n",
       "      <td>Japanese Restaurant</td>\n",
       "      <td>Indian Restaurant</td>\n",
       "      <td>Garden</td>\n",
       "    </tr>\n",
       "    <tr>\n",
       "      <th>12</th>\n",
       "      <td>CA</td>\n",
       "      <td>V5Z</td>\n",
       "      <td>Vancouver (East Fairview / South Cambie)</td>\n",
       "      <td>British Columbia</td>\n",
       "      <td>49.2475</td>\n",
       "      <td>-123.1210</td>\n",
       "      <td>1.0</td>\n",
       "      <td>Café</td>\n",
       "      <td>Vietnamese Restaurant</td>\n",
       "      <td>Coffee Shop</td>\n",
       "      <td>Sushi Restaurant</td>\n",
       "      <td>Garden</td>\n",
       "      <td>Furniture / Home Store</td>\n",
       "      <td>Japanese Restaurant</td>\n",
       "      <td>Bakery</td>\n",
       "      <td>Restaurant</td>\n",
       "      <td>Vegetarian / Vegan Restaurant</td>\n",
       "    </tr>\n",
       "    <tr>\n",
       "      <th>13</th>\n",
       "      <td>CA</td>\n",
       "      <td>V6A</td>\n",
       "      <td>Vancouver (Strathcona / Chinatown / Downtown E...</td>\n",
       "      <td>British Columbia</td>\n",
       "      <td>49.2779</td>\n",
       "      <td>-123.0908</td>\n",
       "      <td>1.0</td>\n",
       "      <td>Brewery</td>\n",
       "      <td>Café</td>\n",
       "      <td>Coffee Shop</td>\n",
       "      <td>Ice Cream Shop</td>\n",
       "      <td>Breakfast Spot</td>\n",
       "      <td>Italian Restaurant</td>\n",
       "      <td>Bakery</td>\n",
       "      <td>Park</td>\n",
       "      <td>Restaurant</td>\n",
       "      <td>Sushi Restaurant</td>\n",
       "    </tr>\n",
       "    <tr>\n",
       "      <th>14</th>\n",
       "      <td>CA</td>\n",
       "      <td>V6B</td>\n",
       "      <td>Vancouver (NE Downtown / Harbour Centre / Gast...</td>\n",
       "      <td>British Columbia</td>\n",
       "      <td>49.2788</td>\n",
       "      <td>-123.1139</td>\n",
       "      <td>4.0</td>\n",
       "      <td>Hotel</td>\n",
       "      <td>Restaurant</td>\n",
       "      <td>Bakery</td>\n",
       "      <td>Dessert Shop</td>\n",
       "      <td>Sandwich Place</td>\n",
       "      <td>Coffee Shop</td>\n",
       "      <td>Park</td>\n",
       "      <td>Japanese Restaurant</td>\n",
       "      <td>Breakfast Spot</td>\n",
       "      <td>Taco Place</td>\n",
       "    </tr>\n",
       "    <tr>\n",
       "      <th>15</th>\n",
       "      <td>CA</td>\n",
       "      <td>V6C</td>\n",
       "      <td>Vancouver (Waterfront / Coal Harbour / Canada ...</td>\n",
       "      <td>British Columbia</td>\n",
       "      <td>49.2866</td>\n",
       "      <td>-123.1158</td>\n",
       "      <td>4.0</td>\n",
       "      <td>Hotel</td>\n",
       "      <td>Restaurant</td>\n",
       "      <td>Dessert Shop</td>\n",
       "      <td>Café</td>\n",
       "      <td>Sandwich Place</td>\n",
       "      <td>Breakfast Spot</td>\n",
       "      <td>Coffee Shop</td>\n",
       "      <td>Plaza</td>\n",
       "      <td>Concert Hall</td>\n",
       "      <td>Gym</td>\n",
       "    </tr>\n",
       "    <tr>\n",
       "      <th>16</th>\n",
       "      <td>CA</td>\n",
       "      <td>V6E</td>\n",
       "      <td>Vancouver (South West End)</td>\n",
       "      <td>British Columbia</td>\n",
       "      <td>49.2833</td>\n",
       "      <td>-123.1298</td>\n",
       "      <td>4.0</td>\n",
       "      <td>Hotel</td>\n",
       "      <td>Dessert Shop</td>\n",
       "      <td>Bakery</td>\n",
       "      <td>Restaurant</td>\n",
       "      <td>Japanese Restaurant</td>\n",
       "      <td>Park</td>\n",
       "      <td>Seafood Restaurant</td>\n",
       "      <td>Sandwich Place</td>\n",
       "      <td>Ramen Restaurant</td>\n",
       "      <td>Coffee Shop</td>\n",
       "    </tr>\n",
       "    <tr>\n",
       "      <th>17</th>\n",
       "      <td>CA</td>\n",
       "      <td>V6G</td>\n",
       "      <td>Vancouver (North West End / Stanley Park)</td>\n",
       "      <td>British Columbia</td>\n",
       "      <td>49.2990</td>\n",
       "      <td>-123.1408</td>\n",
       "      <td>4.0</td>\n",
       "      <td>Coffee Shop</td>\n",
       "      <td>Scenic Lookout</td>\n",
       "      <td>Seafood Restaurant</td>\n",
       "      <td>Park</td>\n",
       "      <td>Sculpture Garden</td>\n",
       "      <td>Restaurant</td>\n",
       "      <td>Ramen Restaurant</td>\n",
       "      <td>Trail</td>\n",
       "      <td>Beach</td>\n",
       "      <td>Hotel</td>\n",
       "    </tr>\n",
       "    <tr>\n",
       "      <th>18</th>\n",
       "      <td>CA</td>\n",
       "      <td>V6H</td>\n",
       "      <td>Vancouver (West Fairview / Granville Island / ...</td>\n",
       "      <td>British Columbia</td>\n",
       "      <td>49.2559</td>\n",
       "      <td>-123.1322</td>\n",
       "      <td>1.0</td>\n",
       "      <td>Park</td>\n",
       "      <td>Coffee Shop</td>\n",
       "      <td>Café</td>\n",
       "      <td>Bakery</td>\n",
       "      <td>Japanese Restaurant</td>\n",
       "      <td>Indian Restaurant</td>\n",
       "      <td>Seafood Restaurant</td>\n",
       "      <td>Grocery Store</td>\n",
       "      <td>Burger Joint</td>\n",
       "      <td>Italian Restaurant</td>\n",
       "    </tr>\n",
       "    <tr>\n",
       "      <th>19</th>\n",
       "      <td>CA</td>\n",
       "      <td>V6J</td>\n",
       "      <td>Vancouver (NW Shaughnessy / East Kitsilano / Q...</td>\n",
       "      <td>British Columbia</td>\n",
       "      <td>49.2603</td>\n",
       "      <td>-123.1460</td>\n",
       "      <td>1.0</td>\n",
       "      <td>Coffee Shop</td>\n",
       "      <td>Bakery</td>\n",
       "      <td>Park</td>\n",
       "      <td>Café</td>\n",
       "      <td>Seafood Restaurant</td>\n",
       "      <td>Japanese Restaurant</td>\n",
       "      <td>Yoga Studio</td>\n",
       "      <td>Pizza Place</td>\n",
       "      <td>Dessert Shop</td>\n",
       "      <td>Restaurant</td>\n",
       "    </tr>\n",
       "    <tr>\n",
       "      <th>20</th>\n",
       "      <td>CA</td>\n",
       "      <td>V6K</td>\n",
       "      <td>Vancouver (Central Kitsilano)</td>\n",
       "      <td>British Columbia</td>\n",
       "      <td>49.2646</td>\n",
       "      <td>-123.1648</td>\n",
       "      <td>1.0</td>\n",
       "      <td>Coffee Shop</td>\n",
       "      <td>Bakery</td>\n",
       "      <td>Café</td>\n",
       "      <td>Yoga Studio</td>\n",
       "      <td>Restaurant</td>\n",
       "      <td>Dessert Shop</td>\n",
       "      <td>Sushi Restaurant</td>\n",
       "      <td>Beach</td>\n",
       "      <td>French Restaurant</td>\n",
       "      <td>Park</td>\n",
       "    </tr>\n",
       "    <tr>\n",
       "      <th>21</th>\n",
       "      <td>CA</td>\n",
       "      <td>V6L</td>\n",
       "      <td>Vancouver (NW Arbutus Ridge)</td>\n",
       "      <td>British Columbia</td>\n",
       "      <td>49.2497</td>\n",
       "      <td>-123.1660</td>\n",
       "      <td>1.0</td>\n",
       "      <td>Coffee Shop</td>\n",
       "      <td>Sushi Restaurant</td>\n",
       "      <td>Sandwich Place</td>\n",
       "      <td>Italian Restaurant</td>\n",
       "      <td>Bank</td>\n",
       "      <td>Dessert Shop</td>\n",
       "      <td>Tea Room</td>\n",
       "      <td>Park</td>\n",
       "      <td>Pharmacy</td>\n",
       "      <td>Diner</td>\n",
       "    </tr>\n",
       "    <tr>\n",
       "      <th>22</th>\n",
       "      <td>CA</td>\n",
       "      <td>V6M</td>\n",
       "      <td>Vancouver (South Shaughnessy / NW Oakridge / N...</td>\n",
       "      <td>British Columbia</td>\n",
       "      <td>49.2344</td>\n",
       "      <td>-123.1451</td>\n",
       "      <td>1.0</td>\n",
       "      <td>Coffee Shop</td>\n",
       "      <td>Sandwich Place</td>\n",
       "      <td>Sushi Restaurant</td>\n",
       "      <td>Tea Room</td>\n",
       "      <td>Chinese Restaurant</td>\n",
       "      <td>Pharmacy</td>\n",
       "      <td>Garden</td>\n",
       "      <td>Jewelry Store</td>\n",
       "      <td>Café</td>\n",
       "      <td>Convenience Store</td>\n",
       "    </tr>\n",
       "    <tr>\n",
       "      <th>23</th>\n",
       "      <td>CA</td>\n",
       "      <td>V6N</td>\n",
       "      <td>Vancouver (Dunbar-Southlands / Musqueam)</td>\n",
       "      <td>British Columbia</td>\n",
       "      <td>49.2302</td>\n",
       "      <td>-123.1890</td>\n",
       "      <td>1.0</td>\n",
       "      <td>Golf Course</td>\n",
       "      <td>Grocery Store</td>\n",
       "      <td>Gym</td>\n",
       "      <td>Bakery</td>\n",
       "      <td>Liquor Store</td>\n",
       "      <td>Coffee Shop</td>\n",
       "      <td>Park</td>\n",
       "      <td>Café</td>\n",
       "      <td>Sushi Restaurant</td>\n",
       "      <td>Garden Center</td>\n",
       "    </tr>\n",
       "    <tr>\n",
       "      <th>24</th>\n",
       "      <td>CA</td>\n",
       "      <td>V6P</td>\n",
       "      <td>Vancouver (SE Kerrisdale / SW Oakridge / West ...</td>\n",
       "      <td>British Columbia</td>\n",
       "      <td>49.2151</td>\n",
       "      <td>-123.1396</td>\n",
       "      <td>1.0</td>\n",
       "      <td>Clothing Store</td>\n",
       "      <td>Coffee Shop</td>\n",
       "      <td>Bank</td>\n",
       "      <td>Sandwich Place</td>\n",
       "      <td>Sushi Restaurant</td>\n",
       "      <td>Shoe Store</td>\n",
       "      <td>Sporting Goods Shop</td>\n",
       "      <td>Café</td>\n",
       "      <td>Vietnamese Restaurant</td>\n",
       "      <td>Chinese Restaurant</td>\n",
       "    </tr>\n",
       "    <tr>\n",
       "      <th>25</th>\n",
       "      <td>CA</td>\n",
       "      <td>V6R</td>\n",
       "      <td>Vancouver (West Kitsilano / Jericho)</td>\n",
       "      <td>British Columbia</td>\n",
       "      <td>49.2666</td>\n",
       "      <td>-123.1976</td>\n",
       "      <td>1.0</td>\n",
       "      <td>Coffee Shop</td>\n",
       "      <td>Sushi Restaurant</td>\n",
       "      <td>Bakery</td>\n",
       "      <td>Café</td>\n",
       "      <td>Japanese Restaurant</td>\n",
       "      <td>Park</td>\n",
       "      <td>Middle Eastern Restaurant</td>\n",
       "      <td>Bank</td>\n",
       "      <td>Beach</td>\n",
       "      <td>Vegetarian / Vegan Restaurant</td>\n",
       "    </tr>\n",
       "    <tr>\n",
       "      <th>26</th>\n",
       "      <td>CA</td>\n",
       "      <td>V6S</td>\n",
       "      <td>Vancouver (Chaldecutt / South University Endow...</td>\n",
       "      <td>British Columbia</td>\n",
       "      <td>49.2491</td>\n",
       "      <td>-123.2088</td>\n",
       "      <td>1.0</td>\n",
       "      <td>Sushi Restaurant</td>\n",
       "      <td>Coffee Shop</td>\n",
       "      <td>Bank</td>\n",
       "      <td>Park</td>\n",
       "      <td>Bakery</td>\n",
       "      <td>Sandwich Place</td>\n",
       "      <td>Restaurant</td>\n",
       "      <td>Vietnamese Restaurant</td>\n",
       "      <td>Sculpture Garden</td>\n",
       "      <td>Cosmetics Shop</td>\n",
       "    </tr>\n",
       "    <tr>\n",
       "      <th>27</th>\n",
       "      <td>CA</td>\n",
       "      <td>V6T</td>\n",
       "      <td>Vancouver (UBC)</td>\n",
       "      <td>British Columbia</td>\n",
       "      <td>49.4635</td>\n",
       "      <td>-122.8220</td>\n",
       "      <td>NaN</td>\n",
       "      <td>NaN</td>\n",
       "      <td>NaN</td>\n",
       "      <td>NaN</td>\n",
       "      <td>NaN</td>\n",
       "      <td>NaN</td>\n",
       "      <td>NaN</td>\n",
       "      <td>NaN</td>\n",
       "      <td>NaN</td>\n",
       "      <td>NaN</td>\n",
       "      <td>NaN</td>\n",
       "    </tr>\n",
       "    <tr>\n",
       "      <th>28</th>\n",
       "      <td>CA</td>\n",
       "      <td>V6Z</td>\n",
       "      <td>Vancouver (SW Downtown)</td>\n",
       "      <td>British Columbia</td>\n",
       "      <td>49.2767</td>\n",
       "      <td>-123.1300</td>\n",
       "      <td>4.0</td>\n",
       "      <td>Hotel</td>\n",
       "      <td>Seafood Restaurant</td>\n",
       "      <td>Bakery</td>\n",
       "      <td>Restaurant</td>\n",
       "      <td>Park</td>\n",
       "      <td>Dessert Shop</td>\n",
       "      <td>Italian Restaurant</td>\n",
       "      <td>Trail</td>\n",
       "      <td>Coffee Shop</td>\n",
       "      <td>French Restaurant</td>\n",
       "    </tr>\n",
       "    <tr>\n",
       "      <th>29</th>\n",
       "      <td>CA</td>\n",
       "      <td>V7G</td>\n",
       "      <td>North Vancouver Outer East</td>\n",
       "      <td>British Columbia</td>\n",
       "      <td>49.3678</td>\n",
       "      <td>-122.9278</td>\n",
       "      <td>5.0</td>\n",
       "      <td>Trail</td>\n",
       "      <td>Ski Chairlift</td>\n",
       "      <td>Ski Lodge</td>\n",
       "      <td>Outdoors &amp; Recreation</td>\n",
       "      <td>Restaurant</td>\n",
       "      <td>Cafeteria</td>\n",
       "      <td>Ski Area</td>\n",
       "      <td>Scenic Lookout</td>\n",
       "      <td>Filipino Restaurant</td>\n",
       "      <td>Financial or Legal Service</td>\n",
       "    </tr>\n",
       "    <tr>\n",
       "      <th>31</th>\n",
       "      <td>CA</td>\n",
       "      <td>V7J</td>\n",
       "      <td>North Vancouver East Central</td>\n",
       "      <td>British Columbia</td>\n",
       "      <td>49.3622</td>\n",
       "      <td>-123.0178</td>\n",
       "      <td>3.0</td>\n",
       "      <td>Trail</td>\n",
       "      <td>Park</td>\n",
       "      <td>Lake</td>\n",
       "      <td>Mountain</td>\n",
       "      <td>Coffee Shop</td>\n",
       "      <td>Scenic Lookout</td>\n",
       "      <td>French Restaurant</td>\n",
       "      <td>Fried Chicken Joint</td>\n",
       "      <td>Food Truck</td>\n",
       "      <td>Filipino Restaurant</td>\n",
       "    </tr>\n",
       "    <tr>\n",
       "      <th>32</th>\n",
       "      <td>CA</td>\n",
       "      <td>V7K</td>\n",
       "      <td>North Vancouver North Central</td>\n",
       "      <td>British Columbia</td>\n",
       "      <td>49.3597</td>\n",
       "      <td>-123.0377</td>\n",
       "      <td>3.0</td>\n",
       "      <td>Trail</td>\n",
       "      <td>Park</td>\n",
       "      <td>Scenic Lookout</td>\n",
       "      <td>Coffee Shop</td>\n",
       "      <td>Mountain</td>\n",
       "      <td>Lake</td>\n",
       "      <td>Convenience Store</td>\n",
       "      <td>Food Court</td>\n",
       "      <td>Fish &amp; Chips Shop</td>\n",
       "      <td>Flower Shop</td>\n",
       "    </tr>\n",
       "    <tr>\n",
       "      <th>33</th>\n",
       "      <td>CA</td>\n",
       "      <td>V7L</td>\n",
       "      <td>North Vancouver South Central</td>\n",
       "      <td>British Columbia</td>\n",
       "      <td>49.3160</td>\n",
       "      <td>-123.0576</td>\n",
       "      <td>1.0</td>\n",
       "      <td>Café</td>\n",
       "      <td>Coffee Shop</td>\n",
       "      <td>Sushi Restaurant</td>\n",
       "      <td>Indian Restaurant</td>\n",
       "      <td>Breakfast Spot</td>\n",
       "      <td>Gastropub</td>\n",
       "      <td>Ice Cream Shop</td>\n",
       "      <td>Gym / Fitness Center</td>\n",
       "      <td>Brewery</td>\n",
       "      <td>Sandwich Place</td>\n",
       "    </tr>\n",
       "    <tr>\n",
       "      <th>34</th>\n",
       "      <td>CA</td>\n",
       "      <td>V7M</td>\n",
       "      <td>North Vancouver Southwest Central</td>\n",
       "      <td>British Columbia</td>\n",
       "      <td>49.3222</td>\n",
       "      <td>-123.0834</td>\n",
       "      <td>1.0</td>\n",
       "      <td>Sushi Restaurant</td>\n",
       "      <td>Coffee Shop</td>\n",
       "      <td>Park</td>\n",
       "      <td>Gastropub</td>\n",
       "      <td>Café</td>\n",
       "      <td>Restaurant</td>\n",
       "      <td>Grocery Store</td>\n",
       "      <td>Brewery</td>\n",
       "      <td>Breakfast Spot</td>\n",
       "      <td>Ice Cream Shop</td>\n",
       "    </tr>\n",
       "    <tr>\n",
       "      <th>35</th>\n",
       "      <td>CA</td>\n",
       "      <td>V7N</td>\n",
       "      <td>North Vancouver Northwest Central</td>\n",
       "      <td>British Columbia</td>\n",
       "      <td>49.3500</td>\n",
       "      <td>-123.0679</td>\n",
       "      <td>3.0</td>\n",
       "      <td>Trail</td>\n",
       "      <td>Park</td>\n",
       "      <td>Coffee Shop</td>\n",
       "      <td>Convenience Store</td>\n",
       "      <td>Chinese Restaurant</td>\n",
       "      <td>Shopping Mall</td>\n",
       "      <td>Grocery Store</td>\n",
       "      <td>Bar</td>\n",
       "      <td>Gym / Fitness Center</td>\n",
       "      <td>Sandwich Place</td>\n",
       "    </tr>\n",
       "    <tr>\n",
       "      <th>36</th>\n",
       "      <td>CA</td>\n",
       "      <td>V7P</td>\n",
       "      <td>North Vancouver Southwest</td>\n",
       "      <td>British Columbia</td>\n",
       "      <td>49.3220</td>\n",
       "      <td>-123.1149</td>\n",
       "      <td>1.0</td>\n",
       "      <td>Coffee Shop</td>\n",
       "      <td>Bank</td>\n",
       "      <td>Burger Joint</td>\n",
       "      <td>Fast Food Restaurant</td>\n",
       "      <td>Grocery Store</td>\n",
       "      <td>Department Store</td>\n",
       "      <td>Pharmacy</td>\n",
       "      <td>Sandwich Place</td>\n",
       "      <td>Restaurant</td>\n",
       "      <td>Liquor Store</td>\n",
       "    </tr>\n",
       "    <tr>\n",
       "      <th>37</th>\n",
       "      <td>CA</td>\n",
       "      <td>V7R</td>\n",
       "      <td>North Vancouver Northwest</td>\n",
       "      <td>British Columbia</td>\n",
       "      <td>49.3775</td>\n",
       "      <td>-123.0862</td>\n",
       "      <td>5.0</td>\n",
       "      <td>Trail</td>\n",
       "      <td>Scenic Lookout</td>\n",
       "      <td>Ski Chairlift</td>\n",
       "      <td>Coffee Shop</td>\n",
       "      <td>Mountain</td>\n",
       "      <td>Ski Chalet</td>\n",
       "      <td>Restaurant</td>\n",
       "      <td>Fast Food Restaurant</td>\n",
       "      <td>Dessert Shop</td>\n",
       "      <td>Sporting Goods Shop</td>\n",
       "    </tr>\n",
       "    <tr>\n",
       "      <th>39</th>\n",
       "      <td>CA</td>\n",
       "      <td>V7T</td>\n",
       "      <td>West Vancouver Southeast</td>\n",
       "      <td>British Columbia</td>\n",
       "      <td>49.3322</td>\n",
       "      <td>-123.1417</td>\n",
       "      <td>1.0</td>\n",
       "      <td>Coffee Shop</td>\n",
       "      <td>Hotel</td>\n",
       "      <td>Clothing Store</td>\n",
       "      <td>Grocery Store</td>\n",
       "      <td>Bank</td>\n",
       "      <td>Italian Restaurant</td>\n",
       "      <td>Park</td>\n",
       "      <td>Restaurant</td>\n",
       "      <td>Department Store</td>\n",
       "      <td>Fast Food Restaurant</td>\n",
       "    </tr>\n",
       "    <tr>\n",
       "      <th>40</th>\n",
       "      <td>CA</td>\n",
       "      <td>V7V</td>\n",
       "      <td>West Vancouver South</td>\n",
       "      <td>British Columbia</td>\n",
       "      <td>49.3397</td>\n",
       "      <td>-123.1912</td>\n",
       "      <td>1.0</td>\n",
       "      <td>Coffee Shop</td>\n",
       "      <td>Bakery</td>\n",
       "      <td>Gastropub</td>\n",
       "      <td>Park</td>\n",
       "      <td>Flower Shop</td>\n",
       "      <td>Building</td>\n",
       "      <td>Skating Rink</td>\n",
       "      <td>Grocery Store</td>\n",
       "      <td>Surf Spot</td>\n",
       "      <td>Sushi Restaurant</td>\n",
       "    </tr>\n",
       "    <tr>\n",
       "      <th>41</th>\n",
       "      <td>CA</td>\n",
       "      <td>V7W</td>\n",
       "      <td>West Vancouver West</td>\n",
       "      <td>British Columbia</td>\n",
       "      <td>49.3615</td>\n",
       "      <td>-123.2627</td>\n",
       "      <td>1.0</td>\n",
       "      <td>Coffee Shop</td>\n",
       "      <td>Boat or Ferry</td>\n",
       "      <td>Harbor / Marina</td>\n",
       "      <td>Trail</td>\n",
       "      <td>Playground</td>\n",
       "      <td>Sandwich Place</td>\n",
       "      <td>Italian Restaurant</td>\n",
       "      <td>Sushi Restaurant</td>\n",
       "      <td>Café</td>\n",
       "      <td>Golf Course</td>\n",
       "    </tr>\n",
       "    <tr>\n",
       "      <th>42</th>\n",
       "      <td>CA</td>\n",
       "      <td>V7X</td>\n",
       "      <td>Vancouver (Bentall Centre)</td>\n",
       "      <td>British Columbia</td>\n",
       "      <td>49.2935</td>\n",
       "      <td>-123.1162</td>\n",
       "      <td>4.0</td>\n",
       "      <td>Hotel</td>\n",
       "      <td>Coffee Shop</td>\n",
       "      <td>Dessert Shop</td>\n",
       "      <td>Sandwich Place</td>\n",
       "      <td>Restaurant</td>\n",
       "      <td>Café</td>\n",
       "      <td>Plaza</td>\n",
       "      <td>Park</td>\n",
       "      <td>Ramen Restaurant</td>\n",
       "      <td>Bookstore</td>\n",
       "    </tr>\n",
       "    <tr>\n",
       "      <th>43</th>\n",
       "      <td>CA</td>\n",
       "      <td>V7Y</td>\n",
       "      <td>Vancouver (Pacific Centre)</td>\n",
       "      <td>British Columbia</td>\n",
       "      <td>49.2819</td>\n",
       "      <td>-123.1190</td>\n",
       "      <td>4.0</td>\n",
       "      <td>Hotel</td>\n",
       "      <td>Restaurant</td>\n",
       "      <td>Dessert Shop</td>\n",
       "      <td>Sandwich Place</td>\n",
       "      <td>Bakery</td>\n",
       "      <td>Coffee Shop</td>\n",
       "      <td>Italian Restaurant</td>\n",
       "      <td>Japanese Restaurant</td>\n",
       "      <td>Café</td>\n",
       "      <td>Ice Cream Shop</td>\n",
       "    </tr>\n",
       "  </tbody>\n",
       "</table>\n",
       "</div>"
      ],
      "text/plain": [
       "   CountryCode  FSA                                     Neighbourhoods  \\\n",
       "0           CA  V5K                 Vancouver (North Hastings-Sunrise)   \n",
       "1           CA  V5L              Vancouver (North Grandview-Woodlands)   \n",
       "2           CA  V5M  Vancouver (South Hastings-Sunrise / North Renf...   \n",
       "3           CA  V5N  Vancouver (South Grandview-Woodlands / NE Kens...   \n",
       "4           CA  V5P    Vancouver (SE Kensington / Victoria-Fraserview)   \n",
       "5           CA  V5R              Vancouver (South Renfrew-Collingwood)   \n",
       "6           CA  V5S                              Vancouver (Killarney)   \n",
       "7           CA  V5T                    Vancouver (East Mount Pleasant)   \n",
       "8           CA  V5V  Vancouver (West Kensington / NE Riley Park-Lit...   \n",
       "9           CA  V5W  Vancouver (SE Riley Park-Little Mountain / SW ...   \n",
       "10          CA  V5X  Vancouver (SE Oakridge / East Marpole / South ...   \n",
       "11          CA  V5Y  Vancouver (West Mount Pleasant / West Riley Pa...   \n",
       "12          CA  V5Z           Vancouver (East Fairview / South Cambie)   \n",
       "13          CA  V6A  Vancouver (Strathcona / Chinatown / Downtown E...   \n",
       "14          CA  V6B  Vancouver (NE Downtown / Harbour Centre / Gast...   \n",
       "15          CA  V6C  Vancouver (Waterfront / Coal Harbour / Canada ...   \n",
       "16          CA  V6E                         Vancouver (South West End)   \n",
       "17          CA  V6G          Vancouver (North West End / Stanley Park)   \n",
       "18          CA  V6H  Vancouver (West Fairview / Granville Island / ...   \n",
       "19          CA  V6J  Vancouver (NW Shaughnessy / East Kitsilano / Q...   \n",
       "20          CA  V6K                      Vancouver (Central Kitsilano)   \n",
       "21          CA  V6L                       Vancouver (NW Arbutus Ridge)   \n",
       "22          CA  V6M  Vancouver (South Shaughnessy / NW Oakridge / N...   \n",
       "23          CA  V6N           Vancouver (Dunbar-Southlands / Musqueam)   \n",
       "24          CA  V6P  Vancouver (SE Kerrisdale / SW Oakridge / West ...   \n",
       "25          CA  V6R               Vancouver (West Kitsilano / Jericho)   \n",
       "26          CA  V6S  Vancouver (Chaldecutt / South University Endow...   \n",
       "27          CA  V6T                                    Vancouver (UBC)   \n",
       "28          CA  V6Z                            Vancouver (SW Downtown)   \n",
       "29          CA  V7G                         North Vancouver Outer East   \n",
       "31          CA  V7J                       North Vancouver East Central   \n",
       "32          CA  V7K                      North Vancouver North Central   \n",
       "33          CA  V7L                      North Vancouver South Central   \n",
       "34          CA  V7M                  North Vancouver Southwest Central   \n",
       "35          CA  V7N                  North Vancouver Northwest Central   \n",
       "36          CA  V7P                          North Vancouver Southwest   \n",
       "37          CA  V7R                          North Vancouver Northwest   \n",
       "39          CA  V7T                           West Vancouver Southeast   \n",
       "40          CA  V7V                               West Vancouver South   \n",
       "41          CA  V7W                                West Vancouver West   \n",
       "42          CA  V7X                         Vancouver (Bentall Centre)   \n",
       "43          CA  V7Y                         Vancouver (Pacific Centre)   \n",
       "\n",
       "            Province  Latitude  Longitude  Cluster Labels  \\\n",
       "0   British Columbia   49.2807  -123.0397             1.0   \n",
       "1   British Columbia   49.2795  -123.0667             1.0   \n",
       "2   British Columbia   49.2600  -123.0398             1.0   \n",
       "3   British Columbia   49.2551  -123.0667             1.0   \n",
       "4   British Columbia   49.2220  -123.0683             1.0   \n",
       "5   British Columbia   49.2397  -123.0407             1.0   \n",
       "6   British Columbia   49.2175  -123.0380             1.0   \n",
       "7   British Columbia   49.2620  -123.0923             1.0   \n",
       "8   British Columbia   49.2480  -123.0913             1.0   \n",
       "9   British Columbia   49.2327  -123.0917             1.0   \n",
       "10  British Columbia   49.2156  -123.0979             1.0   \n",
       "11  British Columbia   49.2492  -123.1104             1.0   \n",
       "12  British Columbia   49.2475  -123.1210             1.0   \n",
       "13  British Columbia   49.2779  -123.0908             1.0   \n",
       "14  British Columbia   49.2788  -123.1139             4.0   \n",
       "15  British Columbia   49.2866  -123.1158             4.0   \n",
       "16  British Columbia   49.2833  -123.1298             4.0   \n",
       "17  British Columbia   49.2990  -123.1408             4.0   \n",
       "18  British Columbia   49.2559  -123.1322             1.0   \n",
       "19  British Columbia   49.2603  -123.1460             1.0   \n",
       "20  British Columbia   49.2646  -123.1648             1.0   \n",
       "21  British Columbia   49.2497  -123.1660             1.0   \n",
       "22  British Columbia   49.2344  -123.1451             1.0   \n",
       "23  British Columbia   49.2302  -123.1890             1.0   \n",
       "24  British Columbia   49.2151  -123.1396             1.0   \n",
       "25  British Columbia   49.2666  -123.1976             1.0   \n",
       "26  British Columbia   49.2491  -123.2088             1.0   \n",
       "27  British Columbia   49.4635  -122.8220             NaN   \n",
       "28  British Columbia   49.2767  -123.1300             4.0   \n",
       "29  British Columbia   49.3678  -122.9278             5.0   \n",
       "31  British Columbia   49.3622  -123.0178             3.0   \n",
       "32  British Columbia   49.3597  -123.0377             3.0   \n",
       "33  British Columbia   49.3160  -123.0576             1.0   \n",
       "34  British Columbia   49.3222  -123.0834             1.0   \n",
       "35  British Columbia   49.3500  -123.0679             3.0   \n",
       "36  British Columbia   49.3220  -123.1149             1.0   \n",
       "37  British Columbia   49.3775  -123.0862             5.0   \n",
       "39  British Columbia   49.3322  -123.1417             1.0   \n",
       "40  British Columbia   49.3397  -123.1912             1.0   \n",
       "41  British Columbia   49.3615  -123.2627             1.0   \n",
       "42  British Columbia   49.2935  -123.1162             4.0   \n",
       "43  British Columbia   49.2819  -123.1190             4.0   \n",
       "\n",
       "    1st Most Common Venue          2nd Most Common Venue  \\\n",
       "0   Vietnamese Restaurant                           Café   \n",
       "1             Coffee Shop                        Brewery   \n",
       "2             Coffee Shop                           Park   \n",
       "3   Vietnamese Restaurant  Vegetarian / Vegan Restaurant   \n",
       "4      Chinese Restaurant          Vietnamese Restaurant   \n",
       "5      Chinese Restaurant                    Coffee Shop   \n",
       "6             Coffee Shop                           Park   \n",
       "7                 Brewery                    Coffee Shop   \n",
       "8   Vietnamese Restaurant                    Coffee Shop   \n",
       "9      Chinese Restaurant                    Coffee Shop   \n",
       "10     Chinese Restaurant           Fast Food Restaurant   \n",
       "11            Coffee Shop                           Café   \n",
       "12                   Café          Vietnamese Restaurant   \n",
       "13                Brewery                           Café   \n",
       "14                  Hotel                     Restaurant   \n",
       "15                  Hotel                     Restaurant   \n",
       "16                  Hotel                   Dessert Shop   \n",
       "17            Coffee Shop                 Scenic Lookout   \n",
       "18                   Park                    Coffee Shop   \n",
       "19            Coffee Shop                         Bakery   \n",
       "20            Coffee Shop                         Bakery   \n",
       "21            Coffee Shop               Sushi Restaurant   \n",
       "22            Coffee Shop                 Sandwich Place   \n",
       "23            Golf Course                  Grocery Store   \n",
       "24         Clothing Store                    Coffee Shop   \n",
       "25            Coffee Shop               Sushi Restaurant   \n",
       "26       Sushi Restaurant                    Coffee Shop   \n",
       "27                    NaN                            NaN   \n",
       "28                  Hotel             Seafood Restaurant   \n",
       "29                  Trail                  Ski Chairlift   \n",
       "31                  Trail                           Park   \n",
       "32                  Trail                           Park   \n",
       "33                   Café                    Coffee Shop   \n",
       "34       Sushi Restaurant                    Coffee Shop   \n",
       "35                  Trail                           Park   \n",
       "36            Coffee Shop                           Bank   \n",
       "37                  Trail                 Scenic Lookout   \n",
       "39            Coffee Shop                          Hotel   \n",
       "40            Coffee Shop                         Bakery   \n",
       "41            Coffee Shop                  Boat or Ferry   \n",
       "42                  Hotel                    Coffee Shop   \n",
       "43                  Hotel                     Restaurant   \n",
       "\n",
       "    3rd Most Common Venue  4th Most Common Venue  \\\n",
       "0             Coffee Shop                   Park   \n",
       "1                    Café            Pizza Place   \n",
       "2                Bus Stop            Pizza Place   \n",
       "3             Coffee Shop            Pizza Place   \n",
       "4     Japanese Restaurant            Coffee Shop   \n",
       "5   Vietnamese Restaurant       Asian Restaurant   \n",
       "6             Golf Course               Bus Stop   \n",
       "7                  Bakery  Vietnamese Restaurant   \n",
       "8                    Park                   Café   \n",
       "9   Vietnamese Restaurant                   Café   \n",
       "10         Sandwich Place            Coffee Shop   \n",
       "11  Vietnamese Restaurant                 Bakery   \n",
       "12            Coffee Shop       Sushi Restaurant   \n",
       "13            Coffee Shop         Ice Cream Shop   \n",
       "14                 Bakery           Dessert Shop   \n",
       "15           Dessert Shop                   Café   \n",
       "16                 Bakery             Restaurant   \n",
       "17     Seafood Restaurant                   Park   \n",
       "18                   Café                 Bakery   \n",
       "19                   Park                   Café   \n",
       "20                   Café            Yoga Studio   \n",
       "21         Sandwich Place     Italian Restaurant   \n",
       "22       Sushi Restaurant               Tea Room   \n",
       "23                    Gym                 Bakery   \n",
       "24                   Bank         Sandwich Place   \n",
       "25                 Bakery                   Café   \n",
       "26                   Bank                   Park   \n",
       "27                    NaN                    NaN   \n",
       "28                 Bakery             Restaurant   \n",
       "29              Ski Lodge  Outdoors & Recreation   \n",
       "31                   Lake               Mountain   \n",
       "32         Scenic Lookout            Coffee Shop   \n",
       "33       Sushi Restaurant      Indian Restaurant   \n",
       "34                   Park              Gastropub   \n",
       "35            Coffee Shop      Convenience Store   \n",
       "36           Burger Joint   Fast Food Restaurant   \n",
       "37          Ski Chairlift            Coffee Shop   \n",
       "39         Clothing Store          Grocery Store   \n",
       "40              Gastropub                   Park   \n",
       "41        Harbor / Marina                  Trail   \n",
       "42           Dessert Shop         Sandwich Place   \n",
       "43           Dessert Shop         Sandwich Place   \n",
       "\n",
       "            5th Most Common Venue   6th Most Common Venue  \\\n",
       "0                          Bakery       French Restaurant   \n",
       "1                Sushi Restaurant      Italian Restaurant   \n",
       "2                   Grocery Store       Convenience Store   \n",
       "3              Italian Restaurant                    Café   \n",
       "4                  Sandwich Place        Asian Restaurant   \n",
       "5                     Pizza Place     Japanese Restaurant   \n",
       "6               Convenience Store          Sandwich Place   \n",
       "7                Sushi Restaurant       Indian Restaurant   \n",
       "8   Vegetarian / Vegan Restaurant        Sushi Restaurant   \n",
       "9             Japanese Restaurant                    Park   \n",
       "10              Indian Restaurant                Pharmacy   \n",
       "11               Sushi Restaurant                 Brewery   \n",
       "12                         Garden  Furniture / Home Store   \n",
       "13                 Breakfast Spot      Italian Restaurant   \n",
       "14                 Sandwich Place             Coffee Shop   \n",
       "15                 Sandwich Place          Breakfast Spot   \n",
       "16            Japanese Restaurant                    Park   \n",
       "17               Sculpture Garden              Restaurant   \n",
       "18            Japanese Restaurant       Indian Restaurant   \n",
       "19             Seafood Restaurant     Japanese Restaurant   \n",
       "20                     Restaurant            Dessert Shop   \n",
       "21                           Bank            Dessert Shop   \n",
       "22             Chinese Restaurant                Pharmacy   \n",
       "23                   Liquor Store             Coffee Shop   \n",
       "24               Sushi Restaurant              Shoe Store   \n",
       "25            Japanese Restaurant                    Park   \n",
       "26                         Bakery          Sandwich Place   \n",
       "27                            NaN                     NaN   \n",
       "28                           Park            Dessert Shop   \n",
       "29                     Restaurant               Cafeteria   \n",
       "31                    Coffee Shop          Scenic Lookout   \n",
       "32                       Mountain                    Lake   \n",
       "33                 Breakfast Spot               Gastropub   \n",
       "34                           Café              Restaurant   \n",
       "35             Chinese Restaurant           Shopping Mall   \n",
       "36                  Grocery Store        Department Store   \n",
       "37                       Mountain              Ski Chalet   \n",
       "39                           Bank      Italian Restaurant   \n",
       "40                    Flower Shop                Building   \n",
       "41                     Playground          Sandwich Place   \n",
       "42                     Restaurant                    Café   \n",
       "43                         Bakery             Coffee Shop   \n",
       "\n",
       "        7th Most Common Venue          8th Most Common Venue  \\\n",
       "0          Chinese Restaurant                            Pub   \n",
       "1           Indian Restaurant                  Grocery Store   \n",
       "2                Burger Joint                    Bus Station   \n",
       "3          Mexican Restaurant              Indian Restaurant   \n",
       "4                 Gas Station                           Bank   \n",
       "5                        Park                           Café   \n",
       "6          Chinese Restaurant                           Café   \n",
       "7                        Café  Vegetarian / Vegan Restaurant   \n",
       "8                      Bakery                 Ice Cream Shop   \n",
       "9                 Pizza Place                         Garden   \n",
       "10                   Bus Stop                           Bank   \n",
       "11                   Tea Room            Japanese Restaurant   \n",
       "12        Japanese Restaurant                         Bakery   \n",
       "13                     Bakery                           Park   \n",
       "14                       Park            Japanese Restaurant   \n",
       "15                Coffee Shop                          Plaza   \n",
       "16         Seafood Restaurant                 Sandwich Place   \n",
       "17           Ramen Restaurant                          Trail   \n",
       "18         Seafood Restaurant                  Grocery Store   \n",
       "19                Yoga Studio                    Pizza Place   \n",
       "20           Sushi Restaurant                          Beach   \n",
       "21                   Tea Room                           Park   \n",
       "22                     Garden                  Jewelry Store   \n",
       "23                       Park                           Café   \n",
       "24        Sporting Goods Shop                           Café   \n",
       "25  Middle Eastern Restaurant                           Bank   \n",
       "26                 Restaurant          Vietnamese Restaurant   \n",
       "27                        NaN                            NaN   \n",
       "28         Italian Restaurant                          Trail   \n",
       "29                   Ski Area                 Scenic Lookout   \n",
       "31          French Restaurant            Fried Chicken Joint   \n",
       "32          Convenience Store                     Food Court   \n",
       "33             Ice Cream Shop           Gym / Fitness Center   \n",
       "34              Grocery Store                        Brewery   \n",
       "35              Grocery Store                            Bar   \n",
       "36                   Pharmacy                 Sandwich Place   \n",
       "37                 Restaurant           Fast Food Restaurant   \n",
       "39                       Park                     Restaurant   \n",
       "40               Skating Rink                  Grocery Store   \n",
       "41         Italian Restaurant               Sushi Restaurant   \n",
       "42                      Plaza                           Park   \n",
       "43         Italian Restaurant            Japanese Restaurant   \n",
       "\n",
       "    9th Most Common Venue         10th Most Common Venue  \n",
       "0                 Brewery               Sushi Restaurant  \n",
       "1          Ice Cream Shop  Vegetarian / Vegan Restaurant  \n",
       "2               Pet Store                  Metro Station  \n",
       "3     Japanese Restaurant                         Bakery  \n",
       "4                  Bakery           Cantonese Restaurant  \n",
       "5        Sushi Restaurant              Convenience Store  \n",
       "6            Burger Joint                Bubble Tea Shop  \n",
       "7      Italian Restaurant                    Yoga Studio  \n",
       "8      Seafood Restaurant              Indian Restaurant  \n",
       "9          Farmers Market                       Tea Room  \n",
       "10            Gas Station                     Restaurant  \n",
       "11      Indian Restaurant                         Garden  \n",
       "12             Restaurant  Vegetarian / Vegan Restaurant  \n",
       "13             Restaurant               Sushi Restaurant  \n",
       "14         Breakfast Spot                     Taco Place  \n",
       "15           Concert Hall                            Gym  \n",
       "16       Ramen Restaurant                    Coffee Shop  \n",
       "17                  Beach                          Hotel  \n",
       "18           Burger Joint             Italian Restaurant  \n",
       "19           Dessert Shop                     Restaurant  \n",
       "20      French Restaurant                           Park  \n",
       "21               Pharmacy                          Diner  \n",
       "22                   Café              Convenience Store  \n",
       "23       Sushi Restaurant                  Garden Center  \n",
       "24  Vietnamese Restaurant             Chinese Restaurant  \n",
       "25                  Beach  Vegetarian / Vegan Restaurant  \n",
       "26       Sculpture Garden                 Cosmetics Shop  \n",
       "27                    NaN                            NaN  \n",
       "28            Coffee Shop              French Restaurant  \n",
       "29    Filipino Restaurant     Financial or Legal Service  \n",
       "31             Food Truck            Filipino Restaurant  \n",
       "32      Fish & Chips Shop                    Flower Shop  \n",
       "33                Brewery                 Sandwich Place  \n",
       "34         Breakfast Spot                 Ice Cream Shop  \n",
       "35   Gym / Fitness Center                 Sandwich Place  \n",
       "36             Restaurant                   Liquor Store  \n",
       "37           Dessert Shop            Sporting Goods Shop  \n",
       "39       Department Store           Fast Food Restaurant  \n",
       "40              Surf Spot               Sushi Restaurant  \n",
       "41                   Café                    Golf Course  \n",
       "42       Ramen Restaurant                      Bookstore  \n",
       "43                   Café                 Ice Cream Shop  "
      ]
     },
     "execution_count": 28,
     "metadata": {},
     "output_type": "execute_result"
    }
   ],
   "source": [
    "neighbourhoods_venues_sorted.insert(0, 'Cluster Labels', kmeans.labels_)\n",
    "\n",
    "van_merged = data\n",
    "\n",
    "# drop NA from the excluded subdistrict\n",
    "for i in lowvenue_neighbourhood:\n",
    "    van_merged = van_merged[van_merged.Neighbourhoods != i]\n",
    "\n",
    "# merge df to add latitude/longitude for each subdistrict\n",
    "van_merged = van_merged.join(neighbourhoods_venues_sorted.set_index('Neighbourhoods'), on='Neighbourhoods')\n",
    "\n",
    "# Shift label to start from index 1\n",
    "van_merged['Cluster Labels'] = van_merged['Cluster Labels'] + 1\n",
    "\n",
    "van_merged"
   ]
  },
  {
   "cell_type": "code",
   "execution_count": 29,
   "metadata": {},
   "outputs": [
    {
     "data": {
      "text/plain": [
       "CountryCode                object\n",
       "FSA                        object\n",
       "Neighbourhoods             object\n",
       "Province                   object\n",
       "Latitude                  float64\n",
       "Longitude                 float64\n",
       "Cluster Labels            float64\n",
       "1st Most Common Venue      object\n",
       "2nd Most Common Venue      object\n",
       "3rd Most Common Venue      object\n",
       "4th Most Common Venue      object\n",
       "5th Most Common Venue      object\n",
       "6th Most Common Venue      object\n",
       "7th Most Common Venue      object\n",
       "8th Most Common Venue      object\n",
       "9th Most Common Venue      object\n",
       "10th Most Common Venue     object\n",
       "dtype: object"
      ]
     },
     "execution_count": 29,
     "metadata": {},
     "output_type": "execute_result"
    }
   ],
   "source": [
    "van_merged.dtypes"
   ]
  },
  {
   "cell_type": "markdown",
   "metadata": {},
   "source": [
    "<b> Comment: <b> Cluster Labels is a float. For the clustering to work properly, it needs to be modified to an integer. To do so, I will first check if there is a NaN value in the dataframe. After eliminating it, Cluster Labels will be changed to integer data type."
   ]
  },
  {
   "cell_type": "code",
   "execution_count": 30,
   "metadata": {},
   "outputs": [
    {
     "data": {
      "text/html": [
       "<div>\n",
       "<style scoped>\n",
       "    .dataframe tbody tr th:only-of-type {\n",
       "        vertical-align: middle;\n",
       "    }\n",
       "\n",
       "    .dataframe tbody tr th {\n",
       "        vertical-align: top;\n",
       "    }\n",
       "\n",
       "    .dataframe thead th {\n",
       "        text-align: right;\n",
       "    }\n",
       "</style>\n",
       "<table border=\"1\" class=\"dataframe\">\n",
       "  <thead>\n",
       "    <tr style=\"text-align: right;\">\n",
       "      <th></th>\n",
       "      <th>CountryCode</th>\n",
       "      <th>FSA</th>\n",
       "      <th>Neighbourhoods</th>\n",
       "      <th>Province</th>\n",
       "      <th>Latitude</th>\n",
       "      <th>Longitude</th>\n",
       "      <th>Cluster Labels</th>\n",
       "      <th>1st Most Common Venue</th>\n",
       "      <th>2nd Most Common Venue</th>\n",
       "      <th>3rd Most Common Venue</th>\n",
       "      <th>4th Most Common Venue</th>\n",
       "      <th>5th Most Common Venue</th>\n",
       "      <th>6th Most Common Venue</th>\n",
       "      <th>7th Most Common Venue</th>\n",
       "      <th>8th Most Common Venue</th>\n",
       "      <th>9th Most Common Venue</th>\n",
       "      <th>10th Most Common Venue</th>\n",
       "    </tr>\n",
       "  </thead>\n",
       "  <tbody>\n",
       "    <tr>\n",
       "      <th>0</th>\n",
       "      <td>False</td>\n",
       "      <td>False</td>\n",
       "      <td>False</td>\n",
       "      <td>False</td>\n",
       "      <td>False</td>\n",
       "      <td>False</td>\n",
       "      <td>False</td>\n",
       "      <td>False</td>\n",
       "      <td>False</td>\n",
       "      <td>False</td>\n",
       "      <td>False</td>\n",
       "      <td>False</td>\n",
       "      <td>False</td>\n",
       "      <td>False</td>\n",
       "      <td>False</td>\n",
       "      <td>False</td>\n",
       "      <td>False</td>\n",
       "    </tr>\n",
       "    <tr>\n",
       "      <th>1</th>\n",
       "      <td>False</td>\n",
       "      <td>False</td>\n",
       "      <td>False</td>\n",
       "      <td>False</td>\n",
       "      <td>False</td>\n",
       "      <td>False</td>\n",
       "      <td>False</td>\n",
       "      <td>False</td>\n",
       "      <td>False</td>\n",
       "      <td>False</td>\n",
       "      <td>False</td>\n",
       "      <td>False</td>\n",
       "      <td>False</td>\n",
       "      <td>False</td>\n",
       "      <td>False</td>\n",
       "      <td>False</td>\n",
       "      <td>False</td>\n",
       "    </tr>\n",
       "    <tr>\n",
       "      <th>2</th>\n",
       "      <td>False</td>\n",
       "      <td>False</td>\n",
       "      <td>False</td>\n",
       "      <td>False</td>\n",
       "      <td>False</td>\n",
       "      <td>False</td>\n",
       "      <td>False</td>\n",
       "      <td>False</td>\n",
       "      <td>False</td>\n",
       "      <td>False</td>\n",
       "      <td>False</td>\n",
       "      <td>False</td>\n",
       "      <td>False</td>\n",
       "      <td>False</td>\n",
       "      <td>False</td>\n",
       "      <td>False</td>\n",
       "      <td>False</td>\n",
       "    </tr>\n",
       "    <tr>\n",
       "      <th>3</th>\n",
       "      <td>False</td>\n",
       "      <td>False</td>\n",
       "      <td>False</td>\n",
       "      <td>False</td>\n",
       "      <td>False</td>\n",
       "      <td>False</td>\n",
       "      <td>False</td>\n",
       "      <td>False</td>\n",
       "      <td>False</td>\n",
       "      <td>False</td>\n",
       "      <td>False</td>\n",
       "      <td>False</td>\n",
       "      <td>False</td>\n",
       "      <td>False</td>\n",
       "      <td>False</td>\n",
       "      <td>False</td>\n",
       "      <td>False</td>\n",
       "    </tr>\n",
       "    <tr>\n",
       "      <th>4</th>\n",
       "      <td>False</td>\n",
       "      <td>False</td>\n",
       "      <td>False</td>\n",
       "      <td>False</td>\n",
       "      <td>False</td>\n",
       "      <td>False</td>\n",
       "      <td>False</td>\n",
       "      <td>False</td>\n",
       "      <td>False</td>\n",
       "      <td>False</td>\n",
       "      <td>False</td>\n",
       "      <td>False</td>\n",
       "      <td>False</td>\n",
       "      <td>False</td>\n",
       "      <td>False</td>\n",
       "      <td>False</td>\n",
       "      <td>False</td>\n",
       "    </tr>\n",
       "    <tr>\n",
       "      <th>5</th>\n",
       "      <td>False</td>\n",
       "      <td>False</td>\n",
       "      <td>False</td>\n",
       "      <td>False</td>\n",
       "      <td>False</td>\n",
       "      <td>False</td>\n",
       "      <td>False</td>\n",
       "      <td>False</td>\n",
       "      <td>False</td>\n",
       "      <td>False</td>\n",
       "      <td>False</td>\n",
       "      <td>False</td>\n",
       "      <td>False</td>\n",
       "      <td>False</td>\n",
       "      <td>False</td>\n",
       "      <td>False</td>\n",
       "      <td>False</td>\n",
       "    </tr>\n",
       "    <tr>\n",
       "      <th>6</th>\n",
       "      <td>False</td>\n",
       "      <td>False</td>\n",
       "      <td>False</td>\n",
       "      <td>False</td>\n",
       "      <td>False</td>\n",
       "      <td>False</td>\n",
       "      <td>False</td>\n",
       "      <td>False</td>\n",
       "      <td>False</td>\n",
       "      <td>False</td>\n",
       "      <td>False</td>\n",
       "      <td>False</td>\n",
       "      <td>False</td>\n",
       "      <td>False</td>\n",
       "      <td>False</td>\n",
       "      <td>False</td>\n",
       "      <td>False</td>\n",
       "    </tr>\n",
       "    <tr>\n",
       "      <th>7</th>\n",
       "      <td>False</td>\n",
       "      <td>False</td>\n",
       "      <td>False</td>\n",
       "      <td>False</td>\n",
       "      <td>False</td>\n",
       "      <td>False</td>\n",
       "      <td>False</td>\n",
       "      <td>False</td>\n",
       "      <td>False</td>\n",
       "      <td>False</td>\n",
       "      <td>False</td>\n",
       "      <td>False</td>\n",
       "      <td>False</td>\n",
       "      <td>False</td>\n",
       "      <td>False</td>\n",
       "      <td>False</td>\n",
       "      <td>False</td>\n",
       "    </tr>\n",
       "    <tr>\n",
       "      <th>8</th>\n",
       "      <td>False</td>\n",
       "      <td>False</td>\n",
       "      <td>False</td>\n",
       "      <td>False</td>\n",
       "      <td>False</td>\n",
       "      <td>False</td>\n",
       "      <td>False</td>\n",
       "      <td>False</td>\n",
       "      <td>False</td>\n",
       "      <td>False</td>\n",
       "      <td>False</td>\n",
       "      <td>False</td>\n",
       "      <td>False</td>\n",
       "      <td>False</td>\n",
       "      <td>False</td>\n",
       "      <td>False</td>\n",
       "      <td>False</td>\n",
       "    </tr>\n",
       "    <tr>\n",
       "      <th>9</th>\n",
       "      <td>False</td>\n",
       "      <td>False</td>\n",
       "      <td>False</td>\n",
       "      <td>False</td>\n",
       "      <td>False</td>\n",
       "      <td>False</td>\n",
       "      <td>False</td>\n",
       "      <td>False</td>\n",
       "      <td>False</td>\n",
       "      <td>False</td>\n",
       "      <td>False</td>\n",
       "      <td>False</td>\n",
       "      <td>False</td>\n",
       "      <td>False</td>\n",
       "      <td>False</td>\n",
       "      <td>False</td>\n",
       "      <td>False</td>\n",
       "    </tr>\n",
       "    <tr>\n",
       "      <th>10</th>\n",
       "      <td>False</td>\n",
       "      <td>False</td>\n",
       "      <td>False</td>\n",
       "      <td>False</td>\n",
       "      <td>False</td>\n",
       "      <td>False</td>\n",
       "      <td>False</td>\n",
       "      <td>False</td>\n",
       "      <td>False</td>\n",
       "      <td>False</td>\n",
       "      <td>False</td>\n",
       "      <td>False</td>\n",
       "      <td>False</td>\n",
       "      <td>False</td>\n",
       "      <td>False</td>\n",
       "      <td>False</td>\n",
       "      <td>False</td>\n",
       "    </tr>\n",
       "    <tr>\n",
       "      <th>11</th>\n",
       "      <td>False</td>\n",
       "      <td>False</td>\n",
       "      <td>False</td>\n",
       "      <td>False</td>\n",
       "      <td>False</td>\n",
       "      <td>False</td>\n",
       "      <td>False</td>\n",
       "      <td>False</td>\n",
       "      <td>False</td>\n",
       "      <td>False</td>\n",
       "      <td>False</td>\n",
       "      <td>False</td>\n",
       "      <td>False</td>\n",
       "      <td>False</td>\n",
       "      <td>False</td>\n",
       "      <td>False</td>\n",
       "      <td>False</td>\n",
       "    </tr>\n",
       "    <tr>\n",
       "      <th>12</th>\n",
       "      <td>False</td>\n",
       "      <td>False</td>\n",
       "      <td>False</td>\n",
       "      <td>False</td>\n",
       "      <td>False</td>\n",
       "      <td>False</td>\n",
       "      <td>False</td>\n",
       "      <td>False</td>\n",
       "      <td>False</td>\n",
       "      <td>False</td>\n",
       "      <td>False</td>\n",
       "      <td>False</td>\n",
       "      <td>False</td>\n",
       "      <td>False</td>\n",
       "      <td>False</td>\n",
       "      <td>False</td>\n",
       "      <td>False</td>\n",
       "    </tr>\n",
       "    <tr>\n",
       "      <th>13</th>\n",
       "      <td>False</td>\n",
       "      <td>False</td>\n",
       "      <td>False</td>\n",
       "      <td>False</td>\n",
       "      <td>False</td>\n",
       "      <td>False</td>\n",
       "      <td>False</td>\n",
       "      <td>False</td>\n",
       "      <td>False</td>\n",
       "      <td>False</td>\n",
       "      <td>False</td>\n",
       "      <td>False</td>\n",
       "      <td>False</td>\n",
       "      <td>False</td>\n",
       "      <td>False</td>\n",
       "      <td>False</td>\n",
       "      <td>False</td>\n",
       "    </tr>\n",
       "    <tr>\n",
       "      <th>14</th>\n",
       "      <td>False</td>\n",
       "      <td>False</td>\n",
       "      <td>False</td>\n",
       "      <td>False</td>\n",
       "      <td>False</td>\n",
       "      <td>False</td>\n",
       "      <td>False</td>\n",
       "      <td>False</td>\n",
       "      <td>False</td>\n",
       "      <td>False</td>\n",
       "      <td>False</td>\n",
       "      <td>False</td>\n",
       "      <td>False</td>\n",
       "      <td>False</td>\n",
       "      <td>False</td>\n",
       "      <td>False</td>\n",
       "      <td>False</td>\n",
       "    </tr>\n",
       "    <tr>\n",
       "      <th>15</th>\n",
       "      <td>False</td>\n",
       "      <td>False</td>\n",
       "      <td>False</td>\n",
       "      <td>False</td>\n",
       "      <td>False</td>\n",
       "      <td>False</td>\n",
       "      <td>False</td>\n",
       "      <td>False</td>\n",
       "      <td>False</td>\n",
       "      <td>False</td>\n",
       "      <td>False</td>\n",
       "      <td>False</td>\n",
       "      <td>False</td>\n",
       "      <td>False</td>\n",
       "      <td>False</td>\n",
       "      <td>False</td>\n",
       "      <td>False</td>\n",
       "    </tr>\n",
       "    <tr>\n",
       "      <th>16</th>\n",
       "      <td>False</td>\n",
       "      <td>False</td>\n",
       "      <td>False</td>\n",
       "      <td>False</td>\n",
       "      <td>False</td>\n",
       "      <td>False</td>\n",
       "      <td>False</td>\n",
       "      <td>False</td>\n",
       "      <td>False</td>\n",
       "      <td>False</td>\n",
       "      <td>False</td>\n",
       "      <td>False</td>\n",
       "      <td>False</td>\n",
       "      <td>False</td>\n",
       "      <td>False</td>\n",
       "      <td>False</td>\n",
       "      <td>False</td>\n",
       "    </tr>\n",
       "    <tr>\n",
       "      <th>17</th>\n",
       "      <td>False</td>\n",
       "      <td>False</td>\n",
       "      <td>False</td>\n",
       "      <td>False</td>\n",
       "      <td>False</td>\n",
       "      <td>False</td>\n",
       "      <td>False</td>\n",
       "      <td>False</td>\n",
       "      <td>False</td>\n",
       "      <td>False</td>\n",
       "      <td>False</td>\n",
       "      <td>False</td>\n",
       "      <td>False</td>\n",
       "      <td>False</td>\n",
       "      <td>False</td>\n",
       "      <td>False</td>\n",
       "      <td>False</td>\n",
       "    </tr>\n",
       "    <tr>\n",
       "      <th>18</th>\n",
       "      <td>False</td>\n",
       "      <td>False</td>\n",
       "      <td>False</td>\n",
       "      <td>False</td>\n",
       "      <td>False</td>\n",
       "      <td>False</td>\n",
       "      <td>False</td>\n",
       "      <td>False</td>\n",
       "      <td>False</td>\n",
       "      <td>False</td>\n",
       "      <td>False</td>\n",
       "      <td>False</td>\n",
       "      <td>False</td>\n",
       "      <td>False</td>\n",
       "      <td>False</td>\n",
       "      <td>False</td>\n",
       "      <td>False</td>\n",
       "    </tr>\n",
       "    <tr>\n",
       "      <th>19</th>\n",
       "      <td>False</td>\n",
       "      <td>False</td>\n",
       "      <td>False</td>\n",
       "      <td>False</td>\n",
       "      <td>False</td>\n",
       "      <td>False</td>\n",
       "      <td>False</td>\n",
       "      <td>False</td>\n",
       "      <td>False</td>\n",
       "      <td>False</td>\n",
       "      <td>False</td>\n",
       "      <td>False</td>\n",
       "      <td>False</td>\n",
       "      <td>False</td>\n",
       "      <td>False</td>\n",
       "      <td>False</td>\n",
       "      <td>False</td>\n",
       "    </tr>\n",
       "    <tr>\n",
       "      <th>20</th>\n",
       "      <td>False</td>\n",
       "      <td>False</td>\n",
       "      <td>False</td>\n",
       "      <td>False</td>\n",
       "      <td>False</td>\n",
       "      <td>False</td>\n",
       "      <td>False</td>\n",
       "      <td>False</td>\n",
       "      <td>False</td>\n",
       "      <td>False</td>\n",
       "      <td>False</td>\n",
       "      <td>False</td>\n",
       "      <td>False</td>\n",
       "      <td>False</td>\n",
       "      <td>False</td>\n",
       "      <td>False</td>\n",
       "      <td>False</td>\n",
       "    </tr>\n",
       "    <tr>\n",
       "      <th>21</th>\n",
       "      <td>False</td>\n",
       "      <td>False</td>\n",
       "      <td>False</td>\n",
       "      <td>False</td>\n",
       "      <td>False</td>\n",
       "      <td>False</td>\n",
       "      <td>False</td>\n",
       "      <td>False</td>\n",
       "      <td>False</td>\n",
       "      <td>False</td>\n",
       "      <td>False</td>\n",
       "      <td>False</td>\n",
       "      <td>False</td>\n",
       "      <td>False</td>\n",
       "      <td>False</td>\n",
       "      <td>False</td>\n",
       "      <td>False</td>\n",
       "    </tr>\n",
       "    <tr>\n",
       "      <th>22</th>\n",
       "      <td>False</td>\n",
       "      <td>False</td>\n",
       "      <td>False</td>\n",
       "      <td>False</td>\n",
       "      <td>False</td>\n",
       "      <td>False</td>\n",
       "      <td>False</td>\n",
       "      <td>False</td>\n",
       "      <td>False</td>\n",
       "      <td>False</td>\n",
       "      <td>False</td>\n",
       "      <td>False</td>\n",
       "      <td>False</td>\n",
       "      <td>False</td>\n",
       "      <td>False</td>\n",
       "      <td>False</td>\n",
       "      <td>False</td>\n",
       "    </tr>\n",
       "    <tr>\n",
       "      <th>23</th>\n",
       "      <td>False</td>\n",
       "      <td>False</td>\n",
       "      <td>False</td>\n",
       "      <td>False</td>\n",
       "      <td>False</td>\n",
       "      <td>False</td>\n",
       "      <td>False</td>\n",
       "      <td>False</td>\n",
       "      <td>False</td>\n",
       "      <td>False</td>\n",
       "      <td>False</td>\n",
       "      <td>False</td>\n",
       "      <td>False</td>\n",
       "      <td>False</td>\n",
       "      <td>False</td>\n",
       "      <td>False</td>\n",
       "      <td>False</td>\n",
       "    </tr>\n",
       "    <tr>\n",
       "      <th>24</th>\n",
       "      <td>False</td>\n",
       "      <td>False</td>\n",
       "      <td>False</td>\n",
       "      <td>False</td>\n",
       "      <td>False</td>\n",
       "      <td>False</td>\n",
       "      <td>False</td>\n",
       "      <td>False</td>\n",
       "      <td>False</td>\n",
       "      <td>False</td>\n",
       "      <td>False</td>\n",
       "      <td>False</td>\n",
       "      <td>False</td>\n",
       "      <td>False</td>\n",
       "      <td>False</td>\n",
       "      <td>False</td>\n",
       "      <td>False</td>\n",
       "    </tr>\n",
       "    <tr>\n",
       "      <th>25</th>\n",
       "      <td>False</td>\n",
       "      <td>False</td>\n",
       "      <td>False</td>\n",
       "      <td>False</td>\n",
       "      <td>False</td>\n",
       "      <td>False</td>\n",
       "      <td>False</td>\n",
       "      <td>False</td>\n",
       "      <td>False</td>\n",
       "      <td>False</td>\n",
       "      <td>False</td>\n",
       "      <td>False</td>\n",
       "      <td>False</td>\n",
       "      <td>False</td>\n",
       "      <td>False</td>\n",
       "      <td>False</td>\n",
       "      <td>False</td>\n",
       "    </tr>\n",
       "    <tr>\n",
       "      <th>26</th>\n",
       "      <td>False</td>\n",
       "      <td>False</td>\n",
       "      <td>False</td>\n",
       "      <td>False</td>\n",
       "      <td>False</td>\n",
       "      <td>False</td>\n",
       "      <td>False</td>\n",
       "      <td>False</td>\n",
       "      <td>False</td>\n",
       "      <td>False</td>\n",
       "      <td>False</td>\n",
       "      <td>False</td>\n",
       "      <td>False</td>\n",
       "      <td>False</td>\n",
       "      <td>False</td>\n",
       "      <td>False</td>\n",
       "      <td>False</td>\n",
       "    </tr>\n",
       "    <tr>\n",
       "      <th>27</th>\n",
       "      <td>False</td>\n",
       "      <td>False</td>\n",
       "      <td>False</td>\n",
       "      <td>False</td>\n",
       "      <td>False</td>\n",
       "      <td>False</td>\n",
       "      <td>True</td>\n",
       "      <td>True</td>\n",
       "      <td>True</td>\n",
       "      <td>True</td>\n",
       "      <td>True</td>\n",
       "      <td>True</td>\n",
       "      <td>True</td>\n",
       "      <td>True</td>\n",
       "      <td>True</td>\n",
       "      <td>True</td>\n",
       "      <td>True</td>\n",
       "    </tr>\n",
       "    <tr>\n",
       "      <th>28</th>\n",
       "      <td>False</td>\n",
       "      <td>False</td>\n",
       "      <td>False</td>\n",
       "      <td>False</td>\n",
       "      <td>False</td>\n",
       "      <td>False</td>\n",
       "      <td>False</td>\n",
       "      <td>False</td>\n",
       "      <td>False</td>\n",
       "      <td>False</td>\n",
       "      <td>False</td>\n",
       "      <td>False</td>\n",
       "      <td>False</td>\n",
       "      <td>False</td>\n",
       "      <td>False</td>\n",
       "      <td>False</td>\n",
       "      <td>False</td>\n",
       "    </tr>\n",
       "    <tr>\n",
       "      <th>29</th>\n",
       "      <td>False</td>\n",
       "      <td>False</td>\n",
       "      <td>False</td>\n",
       "      <td>False</td>\n",
       "      <td>False</td>\n",
       "      <td>False</td>\n",
       "      <td>False</td>\n",
       "      <td>False</td>\n",
       "      <td>False</td>\n",
       "      <td>False</td>\n",
       "      <td>False</td>\n",
       "      <td>False</td>\n",
       "      <td>False</td>\n",
       "      <td>False</td>\n",
       "      <td>False</td>\n",
       "      <td>False</td>\n",
       "      <td>False</td>\n",
       "    </tr>\n",
       "    <tr>\n",
       "      <th>31</th>\n",
       "      <td>False</td>\n",
       "      <td>False</td>\n",
       "      <td>False</td>\n",
       "      <td>False</td>\n",
       "      <td>False</td>\n",
       "      <td>False</td>\n",
       "      <td>False</td>\n",
       "      <td>False</td>\n",
       "      <td>False</td>\n",
       "      <td>False</td>\n",
       "      <td>False</td>\n",
       "      <td>False</td>\n",
       "      <td>False</td>\n",
       "      <td>False</td>\n",
       "      <td>False</td>\n",
       "      <td>False</td>\n",
       "      <td>False</td>\n",
       "    </tr>\n",
       "    <tr>\n",
       "      <th>32</th>\n",
       "      <td>False</td>\n",
       "      <td>False</td>\n",
       "      <td>False</td>\n",
       "      <td>False</td>\n",
       "      <td>False</td>\n",
       "      <td>False</td>\n",
       "      <td>False</td>\n",
       "      <td>False</td>\n",
       "      <td>False</td>\n",
       "      <td>False</td>\n",
       "      <td>False</td>\n",
       "      <td>False</td>\n",
       "      <td>False</td>\n",
       "      <td>False</td>\n",
       "      <td>False</td>\n",
       "      <td>False</td>\n",
       "      <td>False</td>\n",
       "    </tr>\n",
       "    <tr>\n",
       "      <th>33</th>\n",
       "      <td>False</td>\n",
       "      <td>False</td>\n",
       "      <td>False</td>\n",
       "      <td>False</td>\n",
       "      <td>False</td>\n",
       "      <td>False</td>\n",
       "      <td>False</td>\n",
       "      <td>False</td>\n",
       "      <td>False</td>\n",
       "      <td>False</td>\n",
       "      <td>False</td>\n",
       "      <td>False</td>\n",
       "      <td>False</td>\n",
       "      <td>False</td>\n",
       "      <td>False</td>\n",
       "      <td>False</td>\n",
       "      <td>False</td>\n",
       "    </tr>\n",
       "    <tr>\n",
       "      <th>34</th>\n",
       "      <td>False</td>\n",
       "      <td>False</td>\n",
       "      <td>False</td>\n",
       "      <td>False</td>\n",
       "      <td>False</td>\n",
       "      <td>False</td>\n",
       "      <td>False</td>\n",
       "      <td>False</td>\n",
       "      <td>False</td>\n",
       "      <td>False</td>\n",
       "      <td>False</td>\n",
       "      <td>False</td>\n",
       "      <td>False</td>\n",
       "      <td>False</td>\n",
       "      <td>False</td>\n",
       "      <td>False</td>\n",
       "      <td>False</td>\n",
       "    </tr>\n",
       "    <tr>\n",
       "      <th>35</th>\n",
       "      <td>False</td>\n",
       "      <td>False</td>\n",
       "      <td>False</td>\n",
       "      <td>False</td>\n",
       "      <td>False</td>\n",
       "      <td>False</td>\n",
       "      <td>False</td>\n",
       "      <td>False</td>\n",
       "      <td>False</td>\n",
       "      <td>False</td>\n",
       "      <td>False</td>\n",
       "      <td>False</td>\n",
       "      <td>False</td>\n",
       "      <td>False</td>\n",
       "      <td>False</td>\n",
       "      <td>False</td>\n",
       "      <td>False</td>\n",
       "    </tr>\n",
       "    <tr>\n",
       "      <th>36</th>\n",
       "      <td>False</td>\n",
       "      <td>False</td>\n",
       "      <td>False</td>\n",
       "      <td>False</td>\n",
       "      <td>False</td>\n",
       "      <td>False</td>\n",
       "      <td>False</td>\n",
       "      <td>False</td>\n",
       "      <td>False</td>\n",
       "      <td>False</td>\n",
       "      <td>False</td>\n",
       "      <td>False</td>\n",
       "      <td>False</td>\n",
       "      <td>False</td>\n",
       "      <td>False</td>\n",
       "      <td>False</td>\n",
       "      <td>False</td>\n",
       "    </tr>\n",
       "    <tr>\n",
       "      <th>37</th>\n",
       "      <td>False</td>\n",
       "      <td>False</td>\n",
       "      <td>False</td>\n",
       "      <td>False</td>\n",
       "      <td>False</td>\n",
       "      <td>False</td>\n",
       "      <td>False</td>\n",
       "      <td>False</td>\n",
       "      <td>False</td>\n",
       "      <td>False</td>\n",
       "      <td>False</td>\n",
       "      <td>False</td>\n",
       "      <td>False</td>\n",
       "      <td>False</td>\n",
       "      <td>False</td>\n",
       "      <td>False</td>\n",
       "      <td>False</td>\n",
       "    </tr>\n",
       "    <tr>\n",
       "      <th>39</th>\n",
       "      <td>False</td>\n",
       "      <td>False</td>\n",
       "      <td>False</td>\n",
       "      <td>False</td>\n",
       "      <td>False</td>\n",
       "      <td>False</td>\n",
       "      <td>False</td>\n",
       "      <td>False</td>\n",
       "      <td>False</td>\n",
       "      <td>False</td>\n",
       "      <td>False</td>\n",
       "      <td>False</td>\n",
       "      <td>False</td>\n",
       "      <td>False</td>\n",
       "      <td>False</td>\n",
       "      <td>False</td>\n",
       "      <td>False</td>\n",
       "    </tr>\n",
       "    <tr>\n",
       "      <th>40</th>\n",
       "      <td>False</td>\n",
       "      <td>False</td>\n",
       "      <td>False</td>\n",
       "      <td>False</td>\n",
       "      <td>False</td>\n",
       "      <td>False</td>\n",
       "      <td>False</td>\n",
       "      <td>False</td>\n",
       "      <td>False</td>\n",
       "      <td>False</td>\n",
       "      <td>False</td>\n",
       "      <td>False</td>\n",
       "      <td>False</td>\n",
       "      <td>False</td>\n",
       "      <td>False</td>\n",
       "      <td>False</td>\n",
       "      <td>False</td>\n",
       "    </tr>\n",
       "    <tr>\n",
       "      <th>41</th>\n",
       "      <td>False</td>\n",
       "      <td>False</td>\n",
       "      <td>False</td>\n",
       "      <td>False</td>\n",
       "      <td>False</td>\n",
       "      <td>False</td>\n",
       "      <td>False</td>\n",
       "      <td>False</td>\n",
       "      <td>False</td>\n",
       "      <td>False</td>\n",
       "      <td>False</td>\n",
       "      <td>False</td>\n",
       "      <td>False</td>\n",
       "      <td>False</td>\n",
       "      <td>False</td>\n",
       "      <td>False</td>\n",
       "      <td>False</td>\n",
       "    </tr>\n",
       "    <tr>\n",
       "      <th>42</th>\n",
       "      <td>False</td>\n",
       "      <td>False</td>\n",
       "      <td>False</td>\n",
       "      <td>False</td>\n",
       "      <td>False</td>\n",
       "      <td>False</td>\n",
       "      <td>False</td>\n",
       "      <td>False</td>\n",
       "      <td>False</td>\n",
       "      <td>False</td>\n",
       "      <td>False</td>\n",
       "      <td>False</td>\n",
       "      <td>False</td>\n",
       "      <td>False</td>\n",
       "      <td>False</td>\n",
       "      <td>False</td>\n",
       "      <td>False</td>\n",
       "    </tr>\n",
       "    <tr>\n",
       "      <th>43</th>\n",
       "      <td>False</td>\n",
       "      <td>False</td>\n",
       "      <td>False</td>\n",
       "      <td>False</td>\n",
       "      <td>False</td>\n",
       "      <td>False</td>\n",
       "      <td>False</td>\n",
       "      <td>False</td>\n",
       "      <td>False</td>\n",
       "      <td>False</td>\n",
       "      <td>False</td>\n",
       "      <td>False</td>\n",
       "      <td>False</td>\n",
       "      <td>False</td>\n",
       "      <td>False</td>\n",
       "      <td>False</td>\n",
       "      <td>False</td>\n",
       "    </tr>\n",
       "  </tbody>\n",
       "</table>\n",
       "</div>"
      ],
      "text/plain": [
       "    CountryCode    FSA  Neighbourhoods  Province  Latitude  Longitude  \\\n",
       "0         False  False           False     False     False      False   \n",
       "1         False  False           False     False     False      False   \n",
       "2         False  False           False     False     False      False   \n",
       "3         False  False           False     False     False      False   \n",
       "4         False  False           False     False     False      False   \n",
       "5         False  False           False     False     False      False   \n",
       "6         False  False           False     False     False      False   \n",
       "7         False  False           False     False     False      False   \n",
       "8         False  False           False     False     False      False   \n",
       "9         False  False           False     False     False      False   \n",
       "10        False  False           False     False     False      False   \n",
       "11        False  False           False     False     False      False   \n",
       "12        False  False           False     False     False      False   \n",
       "13        False  False           False     False     False      False   \n",
       "14        False  False           False     False     False      False   \n",
       "15        False  False           False     False     False      False   \n",
       "16        False  False           False     False     False      False   \n",
       "17        False  False           False     False     False      False   \n",
       "18        False  False           False     False     False      False   \n",
       "19        False  False           False     False     False      False   \n",
       "20        False  False           False     False     False      False   \n",
       "21        False  False           False     False     False      False   \n",
       "22        False  False           False     False     False      False   \n",
       "23        False  False           False     False     False      False   \n",
       "24        False  False           False     False     False      False   \n",
       "25        False  False           False     False     False      False   \n",
       "26        False  False           False     False     False      False   \n",
       "27        False  False           False     False     False      False   \n",
       "28        False  False           False     False     False      False   \n",
       "29        False  False           False     False     False      False   \n",
       "31        False  False           False     False     False      False   \n",
       "32        False  False           False     False     False      False   \n",
       "33        False  False           False     False     False      False   \n",
       "34        False  False           False     False     False      False   \n",
       "35        False  False           False     False     False      False   \n",
       "36        False  False           False     False     False      False   \n",
       "37        False  False           False     False     False      False   \n",
       "39        False  False           False     False     False      False   \n",
       "40        False  False           False     False     False      False   \n",
       "41        False  False           False     False     False      False   \n",
       "42        False  False           False     False     False      False   \n",
       "43        False  False           False     False     False      False   \n",
       "\n",
       "    Cluster Labels  1st Most Common Venue  2nd Most Common Venue  \\\n",
       "0            False                  False                  False   \n",
       "1            False                  False                  False   \n",
       "2            False                  False                  False   \n",
       "3            False                  False                  False   \n",
       "4            False                  False                  False   \n",
       "5            False                  False                  False   \n",
       "6            False                  False                  False   \n",
       "7            False                  False                  False   \n",
       "8            False                  False                  False   \n",
       "9            False                  False                  False   \n",
       "10           False                  False                  False   \n",
       "11           False                  False                  False   \n",
       "12           False                  False                  False   \n",
       "13           False                  False                  False   \n",
       "14           False                  False                  False   \n",
       "15           False                  False                  False   \n",
       "16           False                  False                  False   \n",
       "17           False                  False                  False   \n",
       "18           False                  False                  False   \n",
       "19           False                  False                  False   \n",
       "20           False                  False                  False   \n",
       "21           False                  False                  False   \n",
       "22           False                  False                  False   \n",
       "23           False                  False                  False   \n",
       "24           False                  False                  False   \n",
       "25           False                  False                  False   \n",
       "26           False                  False                  False   \n",
       "27            True                   True                   True   \n",
       "28           False                  False                  False   \n",
       "29           False                  False                  False   \n",
       "31           False                  False                  False   \n",
       "32           False                  False                  False   \n",
       "33           False                  False                  False   \n",
       "34           False                  False                  False   \n",
       "35           False                  False                  False   \n",
       "36           False                  False                  False   \n",
       "37           False                  False                  False   \n",
       "39           False                  False                  False   \n",
       "40           False                  False                  False   \n",
       "41           False                  False                  False   \n",
       "42           False                  False                  False   \n",
       "43           False                  False                  False   \n",
       "\n",
       "    3rd Most Common Venue  4th Most Common Venue  5th Most Common Venue  \\\n",
       "0                   False                  False                  False   \n",
       "1                   False                  False                  False   \n",
       "2                   False                  False                  False   \n",
       "3                   False                  False                  False   \n",
       "4                   False                  False                  False   \n",
       "5                   False                  False                  False   \n",
       "6                   False                  False                  False   \n",
       "7                   False                  False                  False   \n",
       "8                   False                  False                  False   \n",
       "9                   False                  False                  False   \n",
       "10                  False                  False                  False   \n",
       "11                  False                  False                  False   \n",
       "12                  False                  False                  False   \n",
       "13                  False                  False                  False   \n",
       "14                  False                  False                  False   \n",
       "15                  False                  False                  False   \n",
       "16                  False                  False                  False   \n",
       "17                  False                  False                  False   \n",
       "18                  False                  False                  False   \n",
       "19                  False                  False                  False   \n",
       "20                  False                  False                  False   \n",
       "21                  False                  False                  False   \n",
       "22                  False                  False                  False   \n",
       "23                  False                  False                  False   \n",
       "24                  False                  False                  False   \n",
       "25                  False                  False                  False   \n",
       "26                  False                  False                  False   \n",
       "27                   True                   True                   True   \n",
       "28                  False                  False                  False   \n",
       "29                  False                  False                  False   \n",
       "31                  False                  False                  False   \n",
       "32                  False                  False                  False   \n",
       "33                  False                  False                  False   \n",
       "34                  False                  False                  False   \n",
       "35                  False                  False                  False   \n",
       "36                  False                  False                  False   \n",
       "37                  False                  False                  False   \n",
       "39                  False                  False                  False   \n",
       "40                  False                  False                  False   \n",
       "41                  False                  False                  False   \n",
       "42                  False                  False                  False   \n",
       "43                  False                  False                  False   \n",
       "\n",
       "    6th Most Common Venue  7th Most Common Venue  8th Most Common Venue  \\\n",
       "0                   False                  False                  False   \n",
       "1                   False                  False                  False   \n",
       "2                   False                  False                  False   \n",
       "3                   False                  False                  False   \n",
       "4                   False                  False                  False   \n",
       "5                   False                  False                  False   \n",
       "6                   False                  False                  False   \n",
       "7                   False                  False                  False   \n",
       "8                   False                  False                  False   \n",
       "9                   False                  False                  False   \n",
       "10                  False                  False                  False   \n",
       "11                  False                  False                  False   \n",
       "12                  False                  False                  False   \n",
       "13                  False                  False                  False   \n",
       "14                  False                  False                  False   \n",
       "15                  False                  False                  False   \n",
       "16                  False                  False                  False   \n",
       "17                  False                  False                  False   \n",
       "18                  False                  False                  False   \n",
       "19                  False                  False                  False   \n",
       "20                  False                  False                  False   \n",
       "21                  False                  False                  False   \n",
       "22                  False                  False                  False   \n",
       "23                  False                  False                  False   \n",
       "24                  False                  False                  False   \n",
       "25                  False                  False                  False   \n",
       "26                  False                  False                  False   \n",
       "27                   True                   True                   True   \n",
       "28                  False                  False                  False   \n",
       "29                  False                  False                  False   \n",
       "31                  False                  False                  False   \n",
       "32                  False                  False                  False   \n",
       "33                  False                  False                  False   \n",
       "34                  False                  False                  False   \n",
       "35                  False                  False                  False   \n",
       "36                  False                  False                  False   \n",
       "37                  False                  False                  False   \n",
       "39                  False                  False                  False   \n",
       "40                  False                  False                  False   \n",
       "41                  False                  False                  False   \n",
       "42                  False                  False                  False   \n",
       "43                  False                  False                  False   \n",
       "\n",
       "    9th Most Common Venue  10th Most Common Venue  \n",
       "0                   False                   False  \n",
       "1                   False                   False  \n",
       "2                   False                   False  \n",
       "3                   False                   False  \n",
       "4                   False                   False  \n",
       "5                   False                   False  \n",
       "6                   False                   False  \n",
       "7                   False                   False  \n",
       "8                   False                   False  \n",
       "9                   False                   False  \n",
       "10                  False                   False  \n",
       "11                  False                   False  \n",
       "12                  False                   False  \n",
       "13                  False                   False  \n",
       "14                  False                   False  \n",
       "15                  False                   False  \n",
       "16                  False                   False  \n",
       "17                  False                   False  \n",
       "18                  False                   False  \n",
       "19                  False                   False  \n",
       "20                  False                   False  \n",
       "21                  False                   False  \n",
       "22                  False                   False  \n",
       "23                  False                   False  \n",
       "24                  False                   False  \n",
       "25                  False                   False  \n",
       "26                  False                   False  \n",
       "27                   True                    True  \n",
       "28                  False                   False  \n",
       "29                  False                   False  \n",
       "31                  False                   False  \n",
       "32                  False                   False  \n",
       "33                  False                   False  \n",
       "34                  False                   False  \n",
       "35                  False                   False  \n",
       "36                  False                   False  \n",
       "37                  False                   False  \n",
       "39                  False                   False  \n",
       "40                  False                   False  \n",
       "41                  False                   False  \n",
       "42                  False                   False  \n",
       "43                  False                   False  "
      ]
     },
     "execution_count": 30,
     "metadata": {},
     "output_type": "execute_result"
    }
   ],
   "source": [
    "van_merged.isnull()"
   ]
  },
  {
   "cell_type": "code",
   "execution_count": 31,
   "metadata": {},
   "outputs": [],
   "source": [
    "van_merged = van_merged[van_merged['Cluster Labels'].notna()]"
   ]
  },
  {
   "cell_type": "markdown",
   "metadata": {},
   "source": [
    "<b> Comment:<b> As seen above, the analysis did not provide any results for most common venues for FSA = V6T, Neighbourhood = \tVancouver (UBC). This postal code relates to the University of British Columbia - it should be excluded from the analysis."
   ]
  },
  {
   "cell_type": "code",
   "execution_count": 32,
   "metadata": {},
   "outputs": [
    {
     "name": "stderr",
     "output_type": "stream",
     "text": [
      "C:\\Users\\48500\\Anaconda3\\lib\\site-packages\\ipykernel_launcher.py:1: SettingWithCopyWarning: \n",
      "A value is trying to be set on a copy of a slice from a DataFrame.\n",
      "Try using .loc[row_indexer,col_indexer] = value instead\n",
      "\n",
      "See the caveats in the documentation: http://pandas.pydata.org/pandas-docs/stable/indexing.html#indexing-view-versus-copy\n",
      "  \"\"\"Entry point for launching an IPython kernel.\n"
     ]
    }
   ],
   "source": [
    "van_merged['Cluster Labels'] =van_merged['Cluster Labels'].astype(int)"
   ]
  },
  {
   "cell_type": "code",
   "execution_count": 33,
   "metadata": {},
   "outputs": [
    {
     "data": {
      "text/plain": [
       "CountryCode                object\n",
       "FSA                        object\n",
       "Neighbourhoods             object\n",
       "Province                   object\n",
       "Latitude                  float64\n",
       "Longitude                 float64\n",
       "Cluster Labels              int32\n",
       "1st Most Common Venue      object\n",
       "2nd Most Common Venue      object\n",
       "3rd Most Common Venue      object\n",
       "4th Most Common Venue      object\n",
       "5th Most Common Venue      object\n",
       "6th Most Common Venue      object\n",
       "7th Most Common Venue      object\n",
       "8th Most Common Venue      object\n",
       "9th Most Common Venue      object\n",
       "10th Most Common Venue     object\n",
       "dtype: object"
      ]
     },
     "execution_count": 33,
     "metadata": {},
     "output_type": "execute_result"
    }
   ],
   "source": [
    "van_merged.reset_index()\n",
    "van_merged.dtypes"
   ]
  },
  {
   "cell_type": "code",
   "execution_count": 34,
   "metadata": {},
   "outputs": [
    {
     "data": {
      "text/html": [
       "<div>\n",
       "<style scoped>\n",
       "    .dataframe tbody tr th:only-of-type {\n",
       "        vertical-align: middle;\n",
       "    }\n",
       "\n",
       "    .dataframe tbody tr th {\n",
       "        vertical-align: top;\n",
       "    }\n",
       "\n",
       "    .dataframe thead th {\n",
       "        text-align: right;\n",
       "    }\n",
       "</style>\n",
       "<table border=\"1\" class=\"dataframe\">\n",
       "  <thead>\n",
       "    <tr style=\"text-align: right;\">\n",
       "      <th></th>\n",
       "      <th>CountryCode</th>\n",
       "      <th>FSA</th>\n",
       "      <th>Neighbourhoods</th>\n",
       "      <th>Province</th>\n",
       "      <th>Latitude</th>\n",
       "      <th>Longitude</th>\n",
       "      <th>Cluster Labels</th>\n",
       "      <th>1st Most Common Venue</th>\n",
       "      <th>2nd Most Common Venue</th>\n",
       "      <th>3rd Most Common Venue</th>\n",
       "      <th>4th Most Common Venue</th>\n",
       "      <th>5th Most Common Venue</th>\n",
       "      <th>6th Most Common Venue</th>\n",
       "      <th>7th Most Common Venue</th>\n",
       "      <th>8th Most Common Venue</th>\n",
       "      <th>9th Most Common Venue</th>\n",
       "      <th>10th Most Common Venue</th>\n",
       "    </tr>\n",
       "  </thead>\n",
       "  <tbody>\n",
       "    <tr>\n",
       "      <th>0</th>\n",
       "      <td>CA</td>\n",
       "      <td>V5K</td>\n",
       "      <td>Vancouver (North Hastings-Sunrise)</td>\n",
       "      <td>British Columbia</td>\n",
       "      <td>49.2807</td>\n",
       "      <td>-123.0397</td>\n",
       "      <td>1</td>\n",
       "      <td>Vietnamese Restaurant</td>\n",
       "      <td>Café</td>\n",
       "      <td>Coffee Shop</td>\n",
       "      <td>Park</td>\n",
       "      <td>Bakery</td>\n",
       "      <td>French Restaurant</td>\n",
       "      <td>Chinese Restaurant</td>\n",
       "      <td>Pub</td>\n",
       "      <td>Brewery</td>\n",
       "      <td>Sushi Restaurant</td>\n",
       "    </tr>\n",
       "    <tr>\n",
       "      <th>1</th>\n",
       "      <td>CA</td>\n",
       "      <td>V5L</td>\n",
       "      <td>Vancouver (North Grandview-Woodlands)</td>\n",
       "      <td>British Columbia</td>\n",
       "      <td>49.2795</td>\n",
       "      <td>-123.0667</td>\n",
       "      <td>1</td>\n",
       "      <td>Coffee Shop</td>\n",
       "      <td>Brewery</td>\n",
       "      <td>Café</td>\n",
       "      <td>Pizza Place</td>\n",
       "      <td>Sushi Restaurant</td>\n",
       "      <td>Italian Restaurant</td>\n",
       "      <td>Indian Restaurant</td>\n",
       "      <td>Grocery Store</td>\n",
       "      <td>Ice Cream Shop</td>\n",
       "      <td>Vegetarian / Vegan Restaurant</td>\n",
       "    </tr>\n",
       "    <tr>\n",
       "      <th>2</th>\n",
       "      <td>CA</td>\n",
       "      <td>V5M</td>\n",
       "      <td>Vancouver (South Hastings-Sunrise / North Renf...</td>\n",
       "      <td>British Columbia</td>\n",
       "      <td>49.2600</td>\n",
       "      <td>-123.0398</td>\n",
       "      <td>1</td>\n",
       "      <td>Coffee Shop</td>\n",
       "      <td>Park</td>\n",
       "      <td>Bus Stop</td>\n",
       "      <td>Pizza Place</td>\n",
       "      <td>Grocery Store</td>\n",
       "      <td>Convenience Store</td>\n",
       "      <td>Burger Joint</td>\n",
       "      <td>Bus Station</td>\n",
       "      <td>Pet Store</td>\n",
       "      <td>Metro Station</td>\n",
       "    </tr>\n",
       "    <tr>\n",
       "      <th>3</th>\n",
       "      <td>CA</td>\n",
       "      <td>V5N</td>\n",
       "      <td>Vancouver (South Grandview-Woodlands / NE Kens...</td>\n",
       "      <td>British Columbia</td>\n",
       "      <td>49.2551</td>\n",
       "      <td>-123.0667</td>\n",
       "      <td>1</td>\n",
       "      <td>Vietnamese Restaurant</td>\n",
       "      <td>Vegetarian / Vegan Restaurant</td>\n",
       "      <td>Coffee Shop</td>\n",
       "      <td>Pizza Place</td>\n",
       "      <td>Italian Restaurant</td>\n",
       "      <td>Café</td>\n",
       "      <td>Mexican Restaurant</td>\n",
       "      <td>Indian Restaurant</td>\n",
       "      <td>Japanese Restaurant</td>\n",
       "      <td>Bakery</td>\n",
       "    </tr>\n",
       "    <tr>\n",
       "      <th>4</th>\n",
       "      <td>CA</td>\n",
       "      <td>V5P</td>\n",
       "      <td>Vancouver (SE Kensington / Victoria-Fraserview)</td>\n",
       "      <td>British Columbia</td>\n",
       "      <td>49.2220</td>\n",
       "      <td>-123.0683</td>\n",
       "      <td>1</td>\n",
       "      <td>Chinese Restaurant</td>\n",
       "      <td>Vietnamese Restaurant</td>\n",
       "      <td>Japanese Restaurant</td>\n",
       "      <td>Coffee Shop</td>\n",
       "      <td>Sandwich Place</td>\n",
       "      <td>Asian Restaurant</td>\n",
       "      <td>Gas Station</td>\n",
       "      <td>Bank</td>\n",
       "      <td>Bakery</td>\n",
       "      <td>Cantonese Restaurant</td>\n",
       "    </tr>\n",
       "    <tr>\n",
       "      <th>5</th>\n",
       "      <td>CA</td>\n",
       "      <td>V5R</td>\n",
       "      <td>Vancouver (South Renfrew-Collingwood)</td>\n",
       "      <td>British Columbia</td>\n",
       "      <td>49.2397</td>\n",
       "      <td>-123.0407</td>\n",
       "      <td>1</td>\n",
       "      <td>Chinese Restaurant</td>\n",
       "      <td>Coffee Shop</td>\n",
       "      <td>Vietnamese Restaurant</td>\n",
       "      <td>Asian Restaurant</td>\n",
       "      <td>Pizza Place</td>\n",
       "      <td>Japanese Restaurant</td>\n",
       "      <td>Park</td>\n",
       "      <td>Café</td>\n",
       "      <td>Sushi Restaurant</td>\n",
       "      <td>Convenience Store</td>\n",
       "    </tr>\n",
       "    <tr>\n",
       "      <th>6</th>\n",
       "      <td>CA</td>\n",
       "      <td>V5S</td>\n",
       "      <td>Vancouver (Killarney)</td>\n",
       "      <td>British Columbia</td>\n",
       "      <td>49.2175</td>\n",
       "      <td>-123.0380</td>\n",
       "      <td>1</td>\n",
       "      <td>Coffee Shop</td>\n",
       "      <td>Park</td>\n",
       "      <td>Golf Course</td>\n",
       "      <td>Bus Stop</td>\n",
       "      <td>Convenience Store</td>\n",
       "      <td>Sandwich Place</td>\n",
       "      <td>Chinese Restaurant</td>\n",
       "      <td>Café</td>\n",
       "      <td>Burger Joint</td>\n",
       "      <td>Bubble Tea Shop</td>\n",
       "    </tr>\n",
       "    <tr>\n",
       "      <th>7</th>\n",
       "      <td>CA</td>\n",
       "      <td>V5T</td>\n",
       "      <td>Vancouver (East Mount Pleasant)</td>\n",
       "      <td>British Columbia</td>\n",
       "      <td>49.2620</td>\n",
       "      <td>-123.0923</td>\n",
       "      <td>1</td>\n",
       "      <td>Brewery</td>\n",
       "      <td>Coffee Shop</td>\n",
       "      <td>Bakery</td>\n",
       "      <td>Vietnamese Restaurant</td>\n",
       "      <td>Sushi Restaurant</td>\n",
       "      <td>Indian Restaurant</td>\n",
       "      <td>Café</td>\n",
       "      <td>Vegetarian / Vegan Restaurant</td>\n",
       "      <td>Italian Restaurant</td>\n",
       "      <td>Yoga Studio</td>\n",
       "    </tr>\n",
       "    <tr>\n",
       "      <th>8</th>\n",
       "      <td>CA</td>\n",
       "      <td>V5V</td>\n",
       "      <td>Vancouver (West Kensington / NE Riley Park-Lit...</td>\n",
       "      <td>British Columbia</td>\n",
       "      <td>49.2480</td>\n",
       "      <td>-123.0913</td>\n",
       "      <td>1</td>\n",
       "      <td>Vietnamese Restaurant</td>\n",
       "      <td>Coffee Shop</td>\n",
       "      <td>Park</td>\n",
       "      <td>Café</td>\n",
       "      <td>Vegetarian / Vegan Restaurant</td>\n",
       "      <td>Sushi Restaurant</td>\n",
       "      <td>Bakery</td>\n",
       "      <td>Ice Cream Shop</td>\n",
       "      <td>Seafood Restaurant</td>\n",
       "      <td>Indian Restaurant</td>\n",
       "    </tr>\n",
       "    <tr>\n",
       "      <th>9</th>\n",
       "      <td>CA</td>\n",
       "      <td>V5W</td>\n",
       "      <td>Vancouver (SE Riley Park-Little Mountain / SW ...</td>\n",
       "      <td>British Columbia</td>\n",
       "      <td>49.2327</td>\n",
       "      <td>-123.0917</td>\n",
       "      <td>1</td>\n",
       "      <td>Chinese Restaurant</td>\n",
       "      <td>Coffee Shop</td>\n",
       "      <td>Vietnamese Restaurant</td>\n",
       "      <td>Café</td>\n",
       "      <td>Japanese Restaurant</td>\n",
       "      <td>Park</td>\n",
       "      <td>Pizza Place</td>\n",
       "      <td>Garden</td>\n",
       "      <td>Farmers Market</td>\n",
       "      <td>Tea Room</td>\n",
       "    </tr>\n",
       "    <tr>\n",
       "      <th>10</th>\n",
       "      <td>CA</td>\n",
       "      <td>V5X</td>\n",
       "      <td>Vancouver (SE Oakridge / East Marpole / South ...</td>\n",
       "      <td>British Columbia</td>\n",
       "      <td>49.2156</td>\n",
       "      <td>-123.0979</td>\n",
       "      <td>1</td>\n",
       "      <td>Chinese Restaurant</td>\n",
       "      <td>Fast Food Restaurant</td>\n",
       "      <td>Sandwich Place</td>\n",
       "      <td>Coffee Shop</td>\n",
       "      <td>Indian Restaurant</td>\n",
       "      <td>Pharmacy</td>\n",
       "      <td>Bus Stop</td>\n",
       "      <td>Bank</td>\n",
       "      <td>Gas Station</td>\n",
       "      <td>Restaurant</td>\n",
       "    </tr>\n",
       "    <tr>\n",
       "      <th>11</th>\n",
       "      <td>CA</td>\n",
       "      <td>V5Y</td>\n",
       "      <td>Vancouver (West Mount Pleasant / West Riley Pa...</td>\n",
       "      <td>British Columbia</td>\n",
       "      <td>49.2492</td>\n",
       "      <td>-123.1104</td>\n",
       "      <td>1</td>\n",
       "      <td>Coffee Shop</td>\n",
       "      <td>Café</td>\n",
       "      <td>Vietnamese Restaurant</td>\n",
       "      <td>Bakery</td>\n",
       "      <td>Sushi Restaurant</td>\n",
       "      <td>Brewery</td>\n",
       "      <td>Tea Room</td>\n",
       "      <td>Japanese Restaurant</td>\n",
       "      <td>Indian Restaurant</td>\n",
       "      <td>Garden</td>\n",
       "    </tr>\n",
       "    <tr>\n",
       "      <th>12</th>\n",
       "      <td>CA</td>\n",
       "      <td>V5Z</td>\n",
       "      <td>Vancouver (East Fairview / South Cambie)</td>\n",
       "      <td>British Columbia</td>\n",
       "      <td>49.2475</td>\n",
       "      <td>-123.1210</td>\n",
       "      <td>1</td>\n",
       "      <td>Café</td>\n",
       "      <td>Vietnamese Restaurant</td>\n",
       "      <td>Coffee Shop</td>\n",
       "      <td>Sushi Restaurant</td>\n",
       "      <td>Garden</td>\n",
       "      <td>Furniture / Home Store</td>\n",
       "      <td>Japanese Restaurant</td>\n",
       "      <td>Bakery</td>\n",
       "      <td>Restaurant</td>\n",
       "      <td>Vegetarian / Vegan Restaurant</td>\n",
       "    </tr>\n",
       "    <tr>\n",
       "      <th>13</th>\n",
       "      <td>CA</td>\n",
       "      <td>V6A</td>\n",
       "      <td>Vancouver (Strathcona / Chinatown / Downtown E...</td>\n",
       "      <td>British Columbia</td>\n",
       "      <td>49.2779</td>\n",
       "      <td>-123.0908</td>\n",
       "      <td>1</td>\n",
       "      <td>Brewery</td>\n",
       "      <td>Café</td>\n",
       "      <td>Coffee Shop</td>\n",
       "      <td>Ice Cream Shop</td>\n",
       "      <td>Breakfast Spot</td>\n",
       "      <td>Italian Restaurant</td>\n",
       "      <td>Bakery</td>\n",
       "      <td>Park</td>\n",
       "      <td>Restaurant</td>\n",
       "      <td>Sushi Restaurant</td>\n",
       "    </tr>\n",
       "    <tr>\n",
       "      <th>14</th>\n",
       "      <td>CA</td>\n",
       "      <td>V6B</td>\n",
       "      <td>Vancouver (NE Downtown / Harbour Centre / Gast...</td>\n",
       "      <td>British Columbia</td>\n",
       "      <td>49.2788</td>\n",
       "      <td>-123.1139</td>\n",
       "      <td>4</td>\n",
       "      <td>Hotel</td>\n",
       "      <td>Restaurant</td>\n",
       "      <td>Bakery</td>\n",
       "      <td>Dessert Shop</td>\n",
       "      <td>Sandwich Place</td>\n",
       "      <td>Coffee Shop</td>\n",
       "      <td>Park</td>\n",
       "      <td>Japanese Restaurant</td>\n",
       "      <td>Breakfast Spot</td>\n",
       "      <td>Taco Place</td>\n",
       "    </tr>\n",
       "    <tr>\n",
       "      <th>15</th>\n",
       "      <td>CA</td>\n",
       "      <td>V6C</td>\n",
       "      <td>Vancouver (Waterfront / Coal Harbour / Canada ...</td>\n",
       "      <td>British Columbia</td>\n",
       "      <td>49.2866</td>\n",
       "      <td>-123.1158</td>\n",
       "      <td>4</td>\n",
       "      <td>Hotel</td>\n",
       "      <td>Restaurant</td>\n",
       "      <td>Dessert Shop</td>\n",
       "      <td>Café</td>\n",
       "      <td>Sandwich Place</td>\n",
       "      <td>Breakfast Spot</td>\n",
       "      <td>Coffee Shop</td>\n",
       "      <td>Plaza</td>\n",
       "      <td>Concert Hall</td>\n",
       "      <td>Gym</td>\n",
       "    </tr>\n",
       "    <tr>\n",
       "      <th>16</th>\n",
       "      <td>CA</td>\n",
       "      <td>V6E</td>\n",
       "      <td>Vancouver (South West End)</td>\n",
       "      <td>British Columbia</td>\n",
       "      <td>49.2833</td>\n",
       "      <td>-123.1298</td>\n",
       "      <td>4</td>\n",
       "      <td>Hotel</td>\n",
       "      <td>Dessert Shop</td>\n",
       "      <td>Bakery</td>\n",
       "      <td>Restaurant</td>\n",
       "      <td>Japanese Restaurant</td>\n",
       "      <td>Park</td>\n",
       "      <td>Seafood Restaurant</td>\n",
       "      <td>Sandwich Place</td>\n",
       "      <td>Ramen Restaurant</td>\n",
       "      <td>Coffee Shop</td>\n",
       "    </tr>\n",
       "    <tr>\n",
       "      <th>17</th>\n",
       "      <td>CA</td>\n",
       "      <td>V6G</td>\n",
       "      <td>Vancouver (North West End / Stanley Park)</td>\n",
       "      <td>British Columbia</td>\n",
       "      <td>49.2990</td>\n",
       "      <td>-123.1408</td>\n",
       "      <td>4</td>\n",
       "      <td>Coffee Shop</td>\n",
       "      <td>Scenic Lookout</td>\n",
       "      <td>Seafood Restaurant</td>\n",
       "      <td>Park</td>\n",
       "      <td>Sculpture Garden</td>\n",
       "      <td>Restaurant</td>\n",
       "      <td>Ramen Restaurant</td>\n",
       "      <td>Trail</td>\n",
       "      <td>Beach</td>\n",
       "      <td>Hotel</td>\n",
       "    </tr>\n",
       "    <tr>\n",
       "      <th>18</th>\n",
       "      <td>CA</td>\n",
       "      <td>V6H</td>\n",
       "      <td>Vancouver (West Fairview / Granville Island / ...</td>\n",
       "      <td>British Columbia</td>\n",
       "      <td>49.2559</td>\n",
       "      <td>-123.1322</td>\n",
       "      <td>1</td>\n",
       "      <td>Park</td>\n",
       "      <td>Coffee Shop</td>\n",
       "      <td>Café</td>\n",
       "      <td>Bakery</td>\n",
       "      <td>Japanese Restaurant</td>\n",
       "      <td>Indian Restaurant</td>\n",
       "      <td>Seafood Restaurant</td>\n",
       "      <td>Grocery Store</td>\n",
       "      <td>Burger Joint</td>\n",
       "      <td>Italian Restaurant</td>\n",
       "    </tr>\n",
       "    <tr>\n",
       "      <th>19</th>\n",
       "      <td>CA</td>\n",
       "      <td>V6J</td>\n",
       "      <td>Vancouver (NW Shaughnessy / East Kitsilano / Q...</td>\n",
       "      <td>British Columbia</td>\n",
       "      <td>49.2603</td>\n",
       "      <td>-123.1460</td>\n",
       "      <td>1</td>\n",
       "      <td>Coffee Shop</td>\n",
       "      <td>Bakery</td>\n",
       "      <td>Park</td>\n",
       "      <td>Café</td>\n",
       "      <td>Seafood Restaurant</td>\n",
       "      <td>Japanese Restaurant</td>\n",
       "      <td>Yoga Studio</td>\n",
       "      <td>Pizza Place</td>\n",
       "      <td>Dessert Shop</td>\n",
       "      <td>Restaurant</td>\n",
       "    </tr>\n",
       "    <tr>\n",
       "      <th>20</th>\n",
       "      <td>CA</td>\n",
       "      <td>V6K</td>\n",
       "      <td>Vancouver (Central Kitsilano)</td>\n",
       "      <td>British Columbia</td>\n",
       "      <td>49.2646</td>\n",
       "      <td>-123.1648</td>\n",
       "      <td>1</td>\n",
       "      <td>Coffee Shop</td>\n",
       "      <td>Bakery</td>\n",
       "      <td>Café</td>\n",
       "      <td>Yoga Studio</td>\n",
       "      <td>Restaurant</td>\n",
       "      <td>Dessert Shop</td>\n",
       "      <td>Sushi Restaurant</td>\n",
       "      <td>Beach</td>\n",
       "      <td>French Restaurant</td>\n",
       "      <td>Park</td>\n",
       "    </tr>\n",
       "    <tr>\n",
       "      <th>21</th>\n",
       "      <td>CA</td>\n",
       "      <td>V6L</td>\n",
       "      <td>Vancouver (NW Arbutus Ridge)</td>\n",
       "      <td>British Columbia</td>\n",
       "      <td>49.2497</td>\n",
       "      <td>-123.1660</td>\n",
       "      <td>1</td>\n",
       "      <td>Coffee Shop</td>\n",
       "      <td>Sushi Restaurant</td>\n",
       "      <td>Sandwich Place</td>\n",
       "      <td>Italian Restaurant</td>\n",
       "      <td>Bank</td>\n",
       "      <td>Dessert Shop</td>\n",
       "      <td>Tea Room</td>\n",
       "      <td>Park</td>\n",
       "      <td>Pharmacy</td>\n",
       "      <td>Diner</td>\n",
       "    </tr>\n",
       "    <tr>\n",
       "      <th>22</th>\n",
       "      <td>CA</td>\n",
       "      <td>V6M</td>\n",
       "      <td>Vancouver (South Shaughnessy / NW Oakridge / N...</td>\n",
       "      <td>British Columbia</td>\n",
       "      <td>49.2344</td>\n",
       "      <td>-123.1451</td>\n",
       "      <td>1</td>\n",
       "      <td>Coffee Shop</td>\n",
       "      <td>Sandwich Place</td>\n",
       "      <td>Sushi Restaurant</td>\n",
       "      <td>Tea Room</td>\n",
       "      <td>Chinese Restaurant</td>\n",
       "      <td>Pharmacy</td>\n",
       "      <td>Garden</td>\n",
       "      <td>Jewelry Store</td>\n",
       "      <td>Café</td>\n",
       "      <td>Convenience Store</td>\n",
       "    </tr>\n",
       "    <tr>\n",
       "      <th>23</th>\n",
       "      <td>CA</td>\n",
       "      <td>V6N</td>\n",
       "      <td>Vancouver (Dunbar-Southlands / Musqueam)</td>\n",
       "      <td>British Columbia</td>\n",
       "      <td>49.2302</td>\n",
       "      <td>-123.1890</td>\n",
       "      <td>1</td>\n",
       "      <td>Golf Course</td>\n",
       "      <td>Grocery Store</td>\n",
       "      <td>Gym</td>\n",
       "      <td>Bakery</td>\n",
       "      <td>Liquor Store</td>\n",
       "      <td>Coffee Shop</td>\n",
       "      <td>Park</td>\n",
       "      <td>Café</td>\n",
       "      <td>Sushi Restaurant</td>\n",
       "      <td>Garden Center</td>\n",
       "    </tr>\n",
       "    <tr>\n",
       "      <th>24</th>\n",
       "      <td>CA</td>\n",
       "      <td>V6P</td>\n",
       "      <td>Vancouver (SE Kerrisdale / SW Oakridge / West ...</td>\n",
       "      <td>British Columbia</td>\n",
       "      <td>49.2151</td>\n",
       "      <td>-123.1396</td>\n",
       "      <td>1</td>\n",
       "      <td>Clothing Store</td>\n",
       "      <td>Coffee Shop</td>\n",
       "      <td>Bank</td>\n",
       "      <td>Sandwich Place</td>\n",
       "      <td>Sushi Restaurant</td>\n",
       "      <td>Shoe Store</td>\n",
       "      <td>Sporting Goods Shop</td>\n",
       "      <td>Café</td>\n",
       "      <td>Vietnamese Restaurant</td>\n",
       "      <td>Chinese Restaurant</td>\n",
       "    </tr>\n",
       "    <tr>\n",
       "      <th>25</th>\n",
       "      <td>CA</td>\n",
       "      <td>V6R</td>\n",
       "      <td>Vancouver (West Kitsilano / Jericho)</td>\n",
       "      <td>British Columbia</td>\n",
       "      <td>49.2666</td>\n",
       "      <td>-123.1976</td>\n",
       "      <td>1</td>\n",
       "      <td>Coffee Shop</td>\n",
       "      <td>Sushi Restaurant</td>\n",
       "      <td>Bakery</td>\n",
       "      <td>Café</td>\n",
       "      <td>Japanese Restaurant</td>\n",
       "      <td>Park</td>\n",
       "      <td>Middle Eastern Restaurant</td>\n",
       "      <td>Bank</td>\n",
       "      <td>Beach</td>\n",
       "      <td>Vegetarian / Vegan Restaurant</td>\n",
       "    </tr>\n",
       "    <tr>\n",
       "      <th>26</th>\n",
       "      <td>CA</td>\n",
       "      <td>V6S</td>\n",
       "      <td>Vancouver (Chaldecutt / South University Endow...</td>\n",
       "      <td>British Columbia</td>\n",
       "      <td>49.2491</td>\n",
       "      <td>-123.2088</td>\n",
       "      <td>1</td>\n",
       "      <td>Sushi Restaurant</td>\n",
       "      <td>Coffee Shop</td>\n",
       "      <td>Bank</td>\n",
       "      <td>Park</td>\n",
       "      <td>Bakery</td>\n",
       "      <td>Sandwich Place</td>\n",
       "      <td>Restaurant</td>\n",
       "      <td>Vietnamese Restaurant</td>\n",
       "      <td>Sculpture Garden</td>\n",
       "      <td>Cosmetics Shop</td>\n",
       "    </tr>\n",
       "    <tr>\n",
       "      <th>28</th>\n",
       "      <td>CA</td>\n",
       "      <td>V6Z</td>\n",
       "      <td>Vancouver (SW Downtown)</td>\n",
       "      <td>British Columbia</td>\n",
       "      <td>49.2767</td>\n",
       "      <td>-123.1300</td>\n",
       "      <td>4</td>\n",
       "      <td>Hotel</td>\n",
       "      <td>Seafood Restaurant</td>\n",
       "      <td>Bakery</td>\n",
       "      <td>Restaurant</td>\n",
       "      <td>Park</td>\n",
       "      <td>Dessert Shop</td>\n",
       "      <td>Italian Restaurant</td>\n",
       "      <td>Trail</td>\n",
       "      <td>Coffee Shop</td>\n",
       "      <td>French Restaurant</td>\n",
       "    </tr>\n",
       "    <tr>\n",
       "      <th>29</th>\n",
       "      <td>CA</td>\n",
       "      <td>V7G</td>\n",
       "      <td>North Vancouver Outer East</td>\n",
       "      <td>British Columbia</td>\n",
       "      <td>49.3678</td>\n",
       "      <td>-122.9278</td>\n",
       "      <td>5</td>\n",
       "      <td>Trail</td>\n",
       "      <td>Ski Chairlift</td>\n",
       "      <td>Ski Lodge</td>\n",
       "      <td>Outdoors &amp; Recreation</td>\n",
       "      <td>Restaurant</td>\n",
       "      <td>Cafeteria</td>\n",
       "      <td>Ski Area</td>\n",
       "      <td>Scenic Lookout</td>\n",
       "      <td>Filipino Restaurant</td>\n",
       "      <td>Financial or Legal Service</td>\n",
       "    </tr>\n",
       "    <tr>\n",
       "      <th>31</th>\n",
       "      <td>CA</td>\n",
       "      <td>V7J</td>\n",
       "      <td>North Vancouver East Central</td>\n",
       "      <td>British Columbia</td>\n",
       "      <td>49.3622</td>\n",
       "      <td>-123.0178</td>\n",
       "      <td>3</td>\n",
       "      <td>Trail</td>\n",
       "      <td>Park</td>\n",
       "      <td>Lake</td>\n",
       "      <td>Mountain</td>\n",
       "      <td>Coffee Shop</td>\n",
       "      <td>Scenic Lookout</td>\n",
       "      <td>French Restaurant</td>\n",
       "      <td>Fried Chicken Joint</td>\n",
       "      <td>Food Truck</td>\n",
       "      <td>Filipino Restaurant</td>\n",
       "    </tr>\n",
       "    <tr>\n",
       "      <th>32</th>\n",
       "      <td>CA</td>\n",
       "      <td>V7K</td>\n",
       "      <td>North Vancouver North Central</td>\n",
       "      <td>British Columbia</td>\n",
       "      <td>49.3597</td>\n",
       "      <td>-123.0377</td>\n",
       "      <td>3</td>\n",
       "      <td>Trail</td>\n",
       "      <td>Park</td>\n",
       "      <td>Scenic Lookout</td>\n",
       "      <td>Coffee Shop</td>\n",
       "      <td>Mountain</td>\n",
       "      <td>Lake</td>\n",
       "      <td>Convenience Store</td>\n",
       "      <td>Food Court</td>\n",
       "      <td>Fish &amp; Chips Shop</td>\n",
       "      <td>Flower Shop</td>\n",
       "    </tr>\n",
       "    <tr>\n",
       "      <th>33</th>\n",
       "      <td>CA</td>\n",
       "      <td>V7L</td>\n",
       "      <td>North Vancouver South Central</td>\n",
       "      <td>British Columbia</td>\n",
       "      <td>49.3160</td>\n",
       "      <td>-123.0576</td>\n",
       "      <td>1</td>\n",
       "      <td>Café</td>\n",
       "      <td>Coffee Shop</td>\n",
       "      <td>Sushi Restaurant</td>\n",
       "      <td>Indian Restaurant</td>\n",
       "      <td>Breakfast Spot</td>\n",
       "      <td>Gastropub</td>\n",
       "      <td>Ice Cream Shop</td>\n",
       "      <td>Gym / Fitness Center</td>\n",
       "      <td>Brewery</td>\n",
       "      <td>Sandwich Place</td>\n",
       "    </tr>\n",
       "    <tr>\n",
       "      <th>34</th>\n",
       "      <td>CA</td>\n",
       "      <td>V7M</td>\n",
       "      <td>North Vancouver Southwest Central</td>\n",
       "      <td>British Columbia</td>\n",
       "      <td>49.3222</td>\n",
       "      <td>-123.0834</td>\n",
       "      <td>1</td>\n",
       "      <td>Sushi Restaurant</td>\n",
       "      <td>Coffee Shop</td>\n",
       "      <td>Park</td>\n",
       "      <td>Gastropub</td>\n",
       "      <td>Café</td>\n",
       "      <td>Restaurant</td>\n",
       "      <td>Grocery Store</td>\n",
       "      <td>Brewery</td>\n",
       "      <td>Breakfast Spot</td>\n",
       "      <td>Ice Cream Shop</td>\n",
       "    </tr>\n",
       "    <tr>\n",
       "      <th>35</th>\n",
       "      <td>CA</td>\n",
       "      <td>V7N</td>\n",
       "      <td>North Vancouver Northwest Central</td>\n",
       "      <td>British Columbia</td>\n",
       "      <td>49.3500</td>\n",
       "      <td>-123.0679</td>\n",
       "      <td>3</td>\n",
       "      <td>Trail</td>\n",
       "      <td>Park</td>\n",
       "      <td>Coffee Shop</td>\n",
       "      <td>Convenience Store</td>\n",
       "      <td>Chinese Restaurant</td>\n",
       "      <td>Shopping Mall</td>\n",
       "      <td>Grocery Store</td>\n",
       "      <td>Bar</td>\n",
       "      <td>Gym / Fitness Center</td>\n",
       "      <td>Sandwich Place</td>\n",
       "    </tr>\n",
       "    <tr>\n",
       "      <th>36</th>\n",
       "      <td>CA</td>\n",
       "      <td>V7P</td>\n",
       "      <td>North Vancouver Southwest</td>\n",
       "      <td>British Columbia</td>\n",
       "      <td>49.3220</td>\n",
       "      <td>-123.1149</td>\n",
       "      <td>1</td>\n",
       "      <td>Coffee Shop</td>\n",
       "      <td>Bank</td>\n",
       "      <td>Burger Joint</td>\n",
       "      <td>Fast Food Restaurant</td>\n",
       "      <td>Grocery Store</td>\n",
       "      <td>Department Store</td>\n",
       "      <td>Pharmacy</td>\n",
       "      <td>Sandwich Place</td>\n",
       "      <td>Restaurant</td>\n",
       "      <td>Liquor Store</td>\n",
       "    </tr>\n",
       "    <tr>\n",
       "      <th>37</th>\n",
       "      <td>CA</td>\n",
       "      <td>V7R</td>\n",
       "      <td>North Vancouver Northwest</td>\n",
       "      <td>British Columbia</td>\n",
       "      <td>49.3775</td>\n",
       "      <td>-123.0862</td>\n",
       "      <td>5</td>\n",
       "      <td>Trail</td>\n",
       "      <td>Scenic Lookout</td>\n",
       "      <td>Ski Chairlift</td>\n",
       "      <td>Coffee Shop</td>\n",
       "      <td>Mountain</td>\n",
       "      <td>Ski Chalet</td>\n",
       "      <td>Restaurant</td>\n",
       "      <td>Fast Food Restaurant</td>\n",
       "      <td>Dessert Shop</td>\n",
       "      <td>Sporting Goods Shop</td>\n",
       "    </tr>\n",
       "    <tr>\n",
       "      <th>39</th>\n",
       "      <td>CA</td>\n",
       "      <td>V7T</td>\n",
       "      <td>West Vancouver Southeast</td>\n",
       "      <td>British Columbia</td>\n",
       "      <td>49.3322</td>\n",
       "      <td>-123.1417</td>\n",
       "      <td>1</td>\n",
       "      <td>Coffee Shop</td>\n",
       "      <td>Hotel</td>\n",
       "      <td>Clothing Store</td>\n",
       "      <td>Grocery Store</td>\n",
       "      <td>Bank</td>\n",
       "      <td>Italian Restaurant</td>\n",
       "      <td>Park</td>\n",
       "      <td>Restaurant</td>\n",
       "      <td>Department Store</td>\n",
       "      <td>Fast Food Restaurant</td>\n",
       "    </tr>\n",
       "    <tr>\n",
       "      <th>40</th>\n",
       "      <td>CA</td>\n",
       "      <td>V7V</td>\n",
       "      <td>West Vancouver South</td>\n",
       "      <td>British Columbia</td>\n",
       "      <td>49.3397</td>\n",
       "      <td>-123.1912</td>\n",
       "      <td>1</td>\n",
       "      <td>Coffee Shop</td>\n",
       "      <td>Bakery</td>\n",
       "      <td>Gastropub</td>\n",
       "      <td>Park</td>\n",
       "      <td>Flower Shop</td>\n",
       "      <td>Building</td>\n",
       "      <td>Skating Rink</td>\n",
       "      <td>Grocery Store</td>\n",
       "      <td>Surf Spot</td>\n",
       "      <td>Sushi Restaurant</td>\n",
       "    </tr>\n",
       "    <tr>\n",
       "      <th>41</th>\n",
       "      <td>CA</td>\n",
       "      <td>V7W</td>\n",
       "      <td>West Vancouver West</td>\n",
       "      <td>British Columbia</td>\n",
       "      <td>49.3615</td>\n",
       "      <td>-123.2627</td>\n",
       "      <td>1</td>\n",
       "      <td>Coffee Shop</td>\n",
       "      <td>Boat or Ferry</td>\n",
       "      <td>Harbor / Marina</td>\n",
       "      <td>Trail</td>\n",
       "      <td>Playground</td>\n",
       "      <td>Sandwich Place</td>\n",
       "      <td>Italian Restaurant</td>\n",
       "      <td>Sushi Restaurant</td>\n",
       "      <td>Café</td>\n",
       "      <td>Golf Course</td>\n",
       "    </tr>\n",
       "    <tr>\n",
       "      <th>42</th>\n",
       "      <td>CA</td>\n",
       "      <td>V7X</td>\n",
       "      <td>Vancouver (Bentall Centre)</td>\n",
       "      <td>British Columbia</td>\n",
       "      <td>49.2935</td>\n",
       "      <td>-123.1162</td>\n",
       "      <td>4</td>\n",
       "      <td>Hotel</td>\n",
       "      <td>Coffee Shop</td>\n",
       "      <td>Dessert Shop</td>\n",
       "      <td>Sandwich Place</td>\n",
       "      <td>Restaurant</td>\n",
       "      <td>Café</td>\n",
       "      <td>Plaza</td>\n",
       "      <td>Park</td>\n",
       "      <td>Ramen Restaurant</td>\n",
       "      <td>Bookstore</td>\n",
       "    </tr>\n",
       "    <tr>\n",
       "      <th>43</th>\n",
       "      <td>CA</td>\n",
       "      <td>V7Y</td>\n",
       "      <td>Vancouver (Pacific Centre)</td>\n",
       "      <td>British Columbia</td>\n",
       "      <td>49.2819</td>\n",
       "      <td>-123.1190</td>\n",
       "      <td>4</td>\n",
       "      <td>Hotel</td>\n",
       "      <td>Restaurant</td>\n",
       "      <td>Dessert Shop</td>\n",
       "      <td>Sandwich Place</td>\n",
       "      <td>Bakery</td>\n",
       "      <td>Coffee Shop</td>\n",
       "      <td>Italian Restaurant</td>\n",
       "      <td>Japanese Restaurant</td>\n",
       "      <td>Café</td>\n",
       "      <td>Ice Cream Shop</td>\n",
       "    </tr>\n",
       "  </tbody>\n",
       "</table>\n",
       "</div>"
      ],
      "text/plain": [
       "   CountryCode  FSA                                     Neighbourhoods  \\\n",
       "0           CA  V5K                 Vancouver (North Hastings-Sunrise)   \n",
       "1           CA  V5L              Vancouver (North Grandview-Woodlands)   \n",
       "2           CA  V5M  Vancouver (South Hastings-Sunrise / North Renf...   \n",
       "3           CA  V5N  Vancouver (South Grandview-Woodlands / NE Kens...   \n",
       "4           CA  V5P    Vancouver (SE Kensington / Victoria-Fraserview)   \n",
       "5           CA  V5R              Vancouver (South Renfrew-Collingwood)   \n",
       "6           CA  V5S                              Vancouver (Killarney)   \n",
       "7           CA  V5T                    Vancouver (East Mount Pleasant)   \n",
       "8           CA  V5V  Vancouver (West Kensington / NE Riley Park-Lit...   \n",
       "9           CA  V5W  Vancouver (SE Riley Park-Little Mountain / SW ...   \n",
       "10          CA  V5X  Vancouver (SE Oakridge / East Marpole / South ...   \n",
       "11          CA  V5Y  Vancouver (West Mount Pleasant / West Riley Pa...   \n",
       "12          CA  V5Z           Vancouver (East Fairview / South Cambie)   \n",
       "13          CA  V6A  Vancouver (Strathcona / Chinatown / Downtown E...   \n",
       "14          CA  V6B  Vancouver (NE Downtown / Harbour Centre / Gast...   \n",
       "15          CA  V6C  Vancouver (Waterfront / Coal Harbour / Canada ...   \n",
       "16          CA  V6E                         Vancouver (South West End)   \n",
       "17          CA  V6G          Vancouver (North West End / Stanley Park)   \n",
       "18          CA  V6H  Vancouver (West Fairview / Granville Island / ...   \n",
       "19          CA  V6J  Vancouver (NW Shaughnessy / East Kitsilano / Q...   \n",
       "20          CA  V6K                      Vancouver (Central Kitsilano)   \n",
       "21          CA  V6L                       Vancouver (NW Arbutus Ridge)   \n",
       "22          CA  V6M  Vancouver (South Shaughnessy / NW Oakridge / N...   \n",
       "23          CA  V6N           Vancouver (Dunbar-Southlands / Musqueam)   \n",
       "24          CA  V6P  Vancouver (SE Kerrisdale / SW Oakridge / West ...   \n",
       "25          CA  V6R               Vancouver (West Kitsilano / Jericho)   \n",
       "26          CA  V6S  Vancouver (Chaldecutt / South University Endow...   \n",
       "28          CA  V6Z                            Vancouver (SW Downtown)   \n",
       "29          CA  V7G                         North Vancouver Outer East   \n",
       "31          CA  V7J                       North Vancouver East Central   \n",
       "32          CA  V7K                      North Vancouver North Central   \n",
       "33          CA  V7L                      North Vancouver South Central   \n",
       "34          CA  V7M                  North Vancouver Southwest Central   \n",
       "35          CA  V7N                  North Vancouver Northwest Central   \n",
       "36          CA  V7P                          North Vancouver Southwest   \n",
       "37          CA  V7R                          North Vancouver Northwest   \n",
       "39          CA  V7T                           West Vancouver Southeast   \n",
       "40          CA  V7V                               West Vancouver South   \n",
       "41          CA  V7W                                West Vancouver West   \n",
       "42          CA  V7X                         Vancouver (Bentall Centre)   \n",
       "43          CA  V7Y                         Vancouver (Pacific Centre)   \n",
       "\n",
       "            Province  Latitude  Longitude  Cluster Labels  \\\n",
       "0   British Columbia   49.2807  -123.0397               1   \n",
       "1   British Columbia   49.2795  -123.0667               1   \n",
       "2   British Columbia   49.2600  -123.0398               1   \n",
       "3   British Columbia   49.2551  -123.0667               1   \n",
       "4   British Columbia   49.2220  -123.0683               1   \n",
       "5   British Columbia   49.2397  -123.0407               1   \n",
       "6   British Columbia   49.2175  -123.0380               1   \n",
       "7   British Columbia   49.2620  -123.0923               1   \n",
       "8   British Columbia   49.2480  -123.0913               1   \n",
       "9   British Columbia   49.2327  -123.0917               1   \n",
       "10  British Columbia   49.2156  -123.0979               1   \n",
       "11  British Columbia   49.2492  -123.1104               1   \n",
       "12  British Columbia   49.2475  -123.1210               1   \n",
       "13  British Columbia   49.2779  -123.0908               1   \n",
       "14  British Columbia   49.2788  -123.1139               4   \n",
       "15  British Columbia   49.2866  -123.1158               4   \n",
       "16  British Columbia   49.2833  -123.1298               4   \n",
       "17  British Columbia   49.2990  -123.1408               4   \n",
       "18  British Columbia   49.2559  -123.1322               1   \n",
       "19  British Columbia   49.2603  -123.1460               1   \n",
       "20  British Columbia   49.2646  -123.1648               1   \n",
       "21  British Columbia   49.2497  -123.1660               1   \n",
       "22  British Columbia   49.2344  -123.1451               1   \n",
       "23  British Columbia   49.2302  -123.1890               1   \n",
       "24  British Columbia   49.2151  -123.1396               1   \n",
       "25  British Columbia   49.2666  -123.1976               1   \n",
       "26  British Columbia   49.2491  -123.2088               1   \n",
       "28  British Columbia   49.2767  -123.1300               4   \n",
       "29  British Columbia   49.3678  -122.9278               5   \n",
       "31  British Columbia   49.3622  -123.0178               3   \n",
       "32  British Columbia   49.3597  -123.0377               3   \n",
       "33  British Columbia   49.3160  -123.0576               1   \n",
       "34  British Columbia   49.3222  -123.0834               1   \n",
       "35  British Columbia   49.3500  -123.0679               3   \n",
       "36  British Columbia   49.3220  -123.1149               1   \n",
       "37  British Columbia   49.3775  -123.0862               5   \n",
       "39  British Columbia   49.3322  -123.1417               1   \n",
       "40  British Columbia   49.3397  -123.1912               1   \n",
       "41  British Columbia   49.3615  -123.2627               1   \n",
       "42  British Columbia   49.2935  -123.1162               4   \n",
       "43  British Columbia   49.2819  -123.1190               4   \n",
       "\n",
       "    1st Most Common Venue          2nd Most Common Venue  \\\n",
       "0   Vietnamese Restaurant                           Café   \n",
       "1             Coffee Shop                        Brewery   \n",
       "2             Coffee Shop                           Park   \n",
       "3   Vietnamese Restaurant  Vegetarian / Vegan Restaurant   \n",
       "4      Chinese Restaurant          Vietnamese Restaurant   \n",
       "5      Chinese Restaurant                    Coffee Shop   \n",
       "6             Coffee Shop                           Park   \n",
       "7                 Brewery                    Coffee Shop   \n",
       "8   Vietnamese Restaurant                    Coffee Shop   \n",
       "9      Chinese Restaurant                    Coffee Shop   \n",
       "10     Chinese Restaurant           Fast Food Restaurant   \n",
       "11            Coffee Shop                           Café   \n",
       "12                   Café          Vietnamese Restaurant   \n",
       "13                Brewery                           Café   \n",
       "14                  Hotel                     Restaurant   \n",
       "15                  Hotel                     Restaurant   \n",
       "16                  Hotel                   Dessert Shop   \n",
       "17            Coffee Shop                 Scenic Lookout   \n",
       "18                   Park                    Coffee Shop   \n",
       "19            Coffee Shop                         Bakery   \n",
       "20            Coffee Shop                         Bakery   \n",
       "21            Coffee Shop               Sushi Restaurant   \n",
       "22            Coffee Shop                 Sandwich Place   \n",
       "23            Golf Course                  Grocery Store   \n",
       "24         Clothing Store                    Coffee Shop   \n",
       "25            Coffee Shop               Sushi Restaurant   \n",
       "26       Sushi Restaurant                    Coffee Shop   \n",
       "28                  Hotel             Seafood Restaurant   \n",
       "29                  Trail                  Ski Chairlift   \n",
       "31                  Trail                           Park   \n",
       "32                  Trail                           Park   \n",
       "33                   Café                    Coffee Shop   \n",
       "34       Sushi Restaurant                    Coffee Shop   \n",
       "35                  Trail                           Park   \n",
       "36            Coffee Shop                           Bank   \n",
       "37                  Trail                 Scenic Lookout   \n",
       "39            Coffee Shop                          Hotel   \n",
       "40            Coffee Shop                         Bakery   \n",
       "41            Coffee Shop                  Boat or Ferry   \n",
       "42                  Hotel                    Coffee Shop   \n",
       "43                  Hotel                     Restaurant   \n",
       "\n",
       "    3rd Most Common Venue  4th Most Common Venue  \\\n",
       "0             Coffee Shop                   Park   \n",
       "1                    Café            Pizza Place   \n",
       "2                Bus Stop            Pizza Place   \n",
       "3             Coffee Shop            Pizza Place   \n",
       "4     Japanese Restaurant            Coffee Shop   \n",
       "5   Vietnamese Restaurant       Asian Restaurant   \n",
       "6             Golf Course               Bus Stop   \n",
       "7                  Bakery  Vietnamese Restaurant   \n",
       "8                    Park                   Café   \n",
       "9   Vietnamese Restaurant                   Café   \n",
       "10         Sandwich Place            Coffee Shop   \n",
       "11  Vietnamese Restaurant                 Bakery   \n",
       "12            Coffee Shop       Sushi Restaurant   \n",
       "13            Coffee Shop         Ice Cream Shop   \n",
       "14                 Bakery           Dessert Shop   \n",
       "15           Dessert Shop                   Café   \n",
       "16                 Bakery             Restaurant   \n",
       "17     Seafood Restaurant                   Park   \n",
       "18                   Café                 Bakery   \n",
       "19                   Park                   Café   \n",
       "20                   Café            Yoga Studio   \n",
       "21         Sandwich Place     Italian Restaurant   \n",
       "22       Sushi Restaurant               Tea Room   \n",
       "23                    Gym                 Bakery   \n",
       "24                   Bank         Sandwich Place   \n",
       "25                 Bakery                   Café   \n",
       "26                   Bank                   Park   \n",
       "28                 Bakery             Restaurant   \n",
       "29              Ski Lodge  Outdoors & Recreation   \n",
       "31                   Lake               Mountain   \n",
       "32         Scenic Lookout            Coffee Shop   \n",
       "33       Sushi Restaurant      Indian Restaurant   \n",
       "34                   Park              Gastropub   \n",
       "35            Coffee Shop      Convenience Store   \n",
       "36           Burger Joint   Fast Food Restaurant   \n",
       "37          Ski Chairlift            Coffee Shop   \n",
       "39         Clothing Store          Grocery Store   \n",
       "40              Gastropub                   Park   \n",
       "41        Harbor / Marina                  Trail   \n",
       "42           Dessert Shop         Sandwich Place   \n",
       "43           Dessert Shop         Sandwich Place   \n",
       "\n",
       "            5th Most Common Venue   6th Most Common Venue  \\\n",
       "0                          Bakery       French Restaurant   \n",
       "1                Sushi Restaurant      Italian Restaurant   \n",
       "2                   Grocery Store       Convenience Store   \n",
       "3              Italian Restaurant                    Café   \n",
       "4                  Sandwich Place        Asian Restaurant   \n",
       "5                     Pizza Place     Japanese Restaurant   \n",
       "6               Convenience Store          Sandwich Place   \n",
       "7                Sushi Restaurant       Indian Restaurant   \n",
       "8   Vegetarian / Vegan Restaurant        Sushi Restaurant   \n",
       "9             Japanese Restaurant                    Park   \n",
       "10              Indian Restaurant                Pharmacy   \n",
       "11               Sushi Restaurant                 Brewery   \n",
       "12                         Garden  Furniture / Home Store   \n",
       "13                 Breakfast Spot      Italian Restaurant   \n",
       "14                 Sandwich Place             Coffee Shop   \n",
       "15                 Sandwich Place          Breakfast Spot   \n",
       "16            Japanese Restaurant                    Park   \n",
       "17               Sculpture Garden              Restaurant   \n",
       "18            Japanese Restaurant       Indian Restaurant   \n",
       "19             Seafood Restaurant     Japanese Restaurant   \n",
       "20                     Restaurant            Dessert Shop   \n",
       "21                           Bank            Dessert Shop   \n",
       "22             Chinese Restaurant                Pharmacy   \n",
       "23                   Liquor Store             Coffee Shop   \n",
       "24               Sushi Restaurant              Shoe Store   \n",
       "25            Japanese Restaurant                    Park   \n",
       "26                         Bakery          Sandwich Place   \n",
       "28                           Park            Dessert Shop   \n",
       "29                     Restaurant               Cafeteria   \n",
       "31                    Coffee Shop          Scenic Lookout   \n",
       "32                       Mountain                    Lake   \n",
       "33                 Breakfast Spot               Gastropub   \n",
       "34                           Café              Restaurant   \n",
       "35             Chinese Restaurant           Shopping Mall   \n",
       "36                  Grocery Store        Department Store   \n",
       "37                       Mountain              Ski Chalet   \n",
       "39                           Bank      Italian Restaurant   \n",
       "40                    Flower Shop                Building   \n",
       "41                     Playground          Sandwich Place   \n",
       "42                     Restaurant                    Café   \n",
       "43                         Bakery             Coffee Shop   \n",
       "\n",
       "        7th Most Common Venue          8th Most Common Venue  \\\n",
       "0          Chinese Restaurant                            Pub   \n",
       "1           Indian Restaurant                  Grocery Store   \n",
       "2                Burger Joint                    Bus Station   \n",
       "3          Mexican Restaurant              Indian Restaurant   \n",
       "4                 Gas Station                           Bank   \n",
       "5                        Park                           Café   \n",
       "6          Chinese Restaurant                           Café   \n",
       "7                        Café  Vegetarian / Vegan Restaurant   \n",
       "8                      Bakery                 Ice Cream Shop   \n",
       "9                 Pizza Place                         Garden   \n",
       "10                   Bus Stop                           Bank   \n",
       "11                   Tea Room            Japanese Restaurant   \n",
       "12        Japanese Restaurant                         Bakery   \n",
       "13                     Bakery                           Park   \n",
       "14                       Park            Japanese Restaurant   \n",
       "15                Coffee Shop                          Plaza   \n",
       "16         Seafood Restaurant                 Sandwich Place   \n",
       "17           Ramen Restaurant                          Trail   \n",
       "18         Seafood Restaurant                  Grocery Store   \n",
       "19                Yoga Studio                    Pizza Place   \n",
       "20           Sushi Restaurant                          Beach   \n",
       "21                   Tea Room                           Park   \n",
       "22                     Garden                  Jewelry Store   \n",
       "23                       Park                           Café   \n",
       "24        Sporting Goods Shop                           Café   \n",
       "25  Middle Eastern Restaurant                           Bank   \n",
       "26                 Restaurant          Vietnamese Restaurant   \n",
       "28         Italian Restaurant                          Trail   \n",
       "29                   Ski Area                 Scenic Lookout   \n",
       "31          French Restaurant            Fried Chicken Joint   \n",
       "32          Convenience Store                     Food Court   \n",
       "33             Ice Cream Shop           Gym / Fitness Center   \n",
       "34              Grocery Store                        Brewery   \n",
       "35              Grocery Store                            Bar   \n",
       "36                   Pharmacy                 Sandwich Place   \n",
       "37                 Restaurant           Fast Food Restaurant   \n",
       "39                       Park                     Restaurant   \n",
       "40               Skating Rink                  Grocery Store   \n",
       "41         Italian Restaurant               Sushi Restaurant   \n",
       "42                      Plaza                           Park   \n",
       "43         Italian Restaurant            Japanese Restaurant   \n",
       "\n",
       "    9th Most Common Venue         10th Most Common Venue  \n",
       "0                 Brewery               Sushi Restaurant  \n",
       "1          Ice Cream Shop  Vegetarian / Vegan Restaurant  \n",
       "2               Pet Store                  Metro Station  \n",
       "3     Japanese Restaurant                         Bakery  \n",
       "4                  Bakery           Cantonese Restaurant  \n",
       "5        Sushi Restaurant              Convenience Store  \n",
       "6            Burger Joint                Bubble Tea Shop  \n",
       "7      Italian Restaurant                    Yoga Studio  \n",
       "8      Seafood Restaurant              Indian Restaurant  \n",
       "9          Farmers Market                       Tea Room  \n",
       "10            Gas Station                     Restaurant  \n",
       "11      Indian Restaurant                         Garden  \n",
       "12             Restaurant  Vegetarian / Vegan Restaurant  \n",
       "13             Restaurant               Sushi Restaurant  \n",
       "14         Breakfast Spot                     Taco Place  \n",
       "15           Concert Hall                            Gym  \n",
       "16       Ramen Restaurant                    Coffee Shop  \n",
       "17                  Beach                          Hotel  \n",
       "18           Burger Joint             Italian Restaurant  \n",
       "19           Dessert Shop                     Restaurant  \n",
       "20      French Restaurant                           Park  \n",
       "21               Pharmacy                          Diner  \n",
       "22                   Café              Convenience Store  \n",
       "23       Sushi Restaurant                  Garden Center  \n",
       "24  Vietnamese Restaurant             Chinese Restaurant  \n",
       "25                  Beach  Vegetarian / Vegan Restaurant  \n",
       "26       Sculpture Garden                 Cosmetics Shop  \n",
       "28            Coffee Shop              French Restaurant  \n",
       "29    Filipino Restaurant     Financial or Legal Service  \n",
       "31             Food Truck            Filipino Restaurant  \n",
       "32      Fish & Chips Shop                    Flower Shop  \n",
       "33                Brewery                 Sandwich Place  \n",
       "34         Breakfast Spot                 Ice Cream Shop  \n",
       "35   Gym / Fitness Center                 Sandwich Place  \n",
       "36             Restaurant                   Liquor Store  \n",
       "37           Dessert Shop            Sporting Goods Shop  \n",
       "39       Department Store           Fast Food Restaurant  \n",
       "40              Surf Spot               Sushi Restaurant  \n",
       "41                   Café                    Golf Course  \n",
       "42       Ramen Restaurant                      Bookstore  \n",
       "43                   Café                 Ice Cream Shop  "
      ]
     },
     "execution_count": 34,
     "metadata": {},
     "output_type": "execute_result"
    }
   ],
   "source": [
    "van_merged"
   ]
  },
  {
   "cell_type": "code",
   "execution_count": 35,
   "metadata": {
    "scrolled": true
   },
   "outputs": [
    {
     "data": {
      "text/html": [
       "<div style=\"width:100%;\"><div style=\"position:relative;width:100%;height:0;padding-bottom:60%;\"><span style=\"color:#565656\">Make this Notebook Trusted to load map: File -> Trust Notebook</span><iframe src=\"about:blank\" style=\"position:absolute;width:100%;height:100%;left:0;top:0;border:none !important;\" data-html=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 onload=\"this.contentDocument.open();this.contentDocument.write(atob(this.getAttribute('data-html')));this.contentDocument.close();\" allowfullscreen webkitallowfullscreen mozallowfullscreen></iframe></div></div>"
      ],
      "text/plain": [
       "<folium.folium.Map at 0x21f433686a0>"
      ]
     },
     "execution_count": 35,
     "metadata": {},
     "output_type": "execute_result"
    }
   ],
   "source": [
    "# create map\n",
    "map_clusters = folium.Map(location=[latitude, longitude], zoom_start=11)\n",
    "\n",
    "# set color scheme for the clusters\n",
    "x = np.arange(kclusters)\n",
    "ys = [i + x + (i*x)**2 for i in range(kclusters)]\n",
    "colors_array = cm.rainbow(np.linspace(0, 1, len(ys)))\n",
    "rainbow = [colors.rgb2hex(i) for i in colors_array]\n",
    "\n",
    "# add markers to the map\n",
    "markers_colors = []\n",
    "for lat, lon, poi, cluster in zip(van_merged['Latitude'], van_merged['Longitude'], van_merged['Neighbourhoods'], van_merged['Cluster Labels']):\n",
    "    label = folium.Popup(str(poi) + ' Cluster ' + str(cluster), parse_html=True)\n",
    "    folium.CircleMarker(\n",
    "        [lat, lon],\n",
    "        radius=5,\n",
    "        popup=label,\n",
    "        color=rainbow[cluster-1],\n",
    "        fill=True,\n",
    "        fill_color=rainbow[cluster-1],\n",
    "        fill_opacity=0.7).add_to(map_clusters)\n",
    "       \n",
    "map_clusters"
   ]
  },
  {
   "cell_type": "code",
   "execution_count": 36,
   "metadata": {},
   "outputs": [],
   "source": [
    "# save the map as HTML file\n",
    "map_clusters.save('map_clusters.html')"
   ]
  },
  {
   "cell_type": "markdown",
   "metadata": {},
   "source": [
    "## Analyzing clusters"
   ]
  },
  {
   "cell_type": "markdown",
   "metadata": {},
   "source": [
    "### Cluster 1"
   ]
  },
  {
   "cell_type": "code",
   "execution_count": 37,
   "metadata": {},
   "outputs": [
    {
     "data": {
      "text/html": [
       "<div>\n",
       "<style scoped>\n",
       "    .dataframe tbody tr th:only-of-type {\n",
       "        vertical-align: middle;\n",
       "    }\n",
       "\n",
       "    .dataframe tbody tr th {\n",
       "        vertical-align: top;\n",
       "    }\n",
       "\n",
       "    .dataframe thead th {\n",
       "        text-align: right;\n",
       "    }\n",
       "</style>\n",
       "<table border=\"1\" class=\"dataframe\">\n",
       "  <thead>\n",
       "    <tr style=\"text-align: right;\">\n",
       "      <th></th>\n",
       "      <th>Neighbourhoods</th>\n",
       "      <th>Latitude</th>\n",
       "      <th>Longitude</th>\n",
       "      <th>Cluster Labels</th>\n",
       "      <th>1st Most Common Venue</th>\n",
       "      <th>2nd Most Common Venue</th>\n",
       "      <th>3rd Most Common Venue</th>\n",
       "      <th>4th Most Common Venue</th>\n",
       "      <th>5th Most Common Venue</th>\n",
       "      <th>6th Most Common Venue</th>\n",
       "      <th>7th Most Common Venue</th>\n",
       "      <th>8th Most Common Venue</th>\n",
       "      <th>9th Most Common Venue</th>\n",
       "      <th>10th Most Common Venue</th>\n",
       "    </tr>\n",
       "  </thead>\n",
       "  <tbody>\n",
       "    <tr>\n",
       "      <th>0</th>\n",
       "      <td>Vancouver (North Hastings-Sunrise)</td>\n",
       "      <td>49.2807</td>\n",
       "      <td>-123.0397</td>\n",
       "      <td>1</td>\n",
       "      <td>Vietnamese Restaurant</td>\n",
       "      <td>Café</td>\n",
       "      <td>Coffee Shop</td>\n",
       "      <td>Park</td>\n",
       "      <td>Bakery</td>\n",
       "      <td>French Restaurant</td>\n",
       "      <td>Chinese Restaurant</td>\n",
       "      <td>Pub</td>\n",
       "      <td>Brewery</td>\n",
       "      <td>Sushi Restaurant</td>\n",
       "    </tr>\n",
       "    <tr>\n",
       "      <th>1</th>\n",
       "      <td>Vancouver (North Grandview-Woodlands)</td>\n",
       "      <td>49.2795</td>\n",
       "      <td>-123.0667</td>\n",
       "      <td>1</td>\n",
       "      <td>Coffee Shop</td>\n",
       "      <td>Brewery</td>\n",
       "      <td>Café</td>\n",
       "      <td>Pizza Place</td>\n",
       "      <td>Sushi Restaurant</td>\n",
       "      <td>Italian Restaurant</td>\n",
       "      <td>Indian Restaurant</td>\n",
       "      <td>Grocery Store</td>\n",
       "      <td>Ice Cream Shop</td>\n",
       "      <td>Vegetarian / Vegan Restaurant</td>\n",
       "    </tr>\n",
       "    <tr>\n",
       "      <th>2</th>\n",
       "      <td>Vancouver (South Hastings-Sunrise / North Renf...</td>\n",
       "      <td>49.2600</td>\n",
       "      <td>-123.0398</td>\n",
       "      <td>1</td>\n",
       "      <td>Coffee Shop</td>\n",
       "      <td>Park</td>\n",
       "      <td>Bus Stop</td>\n",
       "      <td>Pizza Place</td>\n",
       "      <td>Grocery Store</td>\n",
       "      <td>Convenience Store</td>\n",
       "      <td>Burger Joint</td>\n",
       "      <td>Bus Station</td>\n",
       "      <td>Pet Store</td>\n",
       "      <td>Metro Station</td>\n",
       "    </tr>\n",
       "    <tr>\n",
       "      <th>3</th>\n",
       "      <td>Vancouver (South Grandview-Woodlands / NE Kens...</td>\n",
       "      <td>49.2551</td>\n",
       "      <td>-123.0667</td>\n",
       "      <td>1</td>\n",
       "      <td>Vietnamese Restaurant</td>\n",
       "      <td>Vegetarian / Vegan Restaurant</td>\n",
       "      <td>Coffee Shop</td>\n",
       "      <td>Pizza Place</td>\n",
       "      <td>Italian Restaurant</td>\n",
       "      <td>Café</td>\n",
       "      <td>Mexican Restaurant</td>\n",
       "      <td>Indian Restaurant</td>\n",
       "      <td>Japanese Restaurant</td>\n",
       "      <td>Bakery</td>\n",
       "    </tr>\n",
       "    <tr>\n",
       "      <th>4</th>\n",
       "      <td>Vancouver (SE Kensington / Victoria-Fraserview)</td>\n",
       "      <td>49.2220</td>\n",
       "      <td>-123.0683</td>\n",
       "      <td>1</td>\n",
       "      <td>Chinese Restaurant</td>\n",
       "      <td>Vietnamese Restaurant</td>\n",
       "      <td>Japanese Restaurant</td>\n",
       "      <td>Coffee Shop</td>\n",
       "      <td>Sandwich Place</td>\n",
       "      <td>Asian Restaurant</td>\n",
       "      <td>Gas Station</td>\n",
       "      <td>Bank</td>\n",
       "      <td>Bakery</td>\n",
       "      <td>Cantonese Restaurant</td>\n",
       "    </tr>\n",
       "    <tr>\n",
       "      <th>5</th>\n",
       "      <td>Vancouver (South Renfrew-Collingwood)</td>\n",
       "      <td>49.2397</td>\n",
       "      <td>-123.0407</td>\n",
       "      <td>1</td>\n",
       "      <td>Chinese Restaurant</td>\n",
       "      <td>Coffee Shop</td>\n",
       "      <td>Vietnamese Restaurant</td>\n",
       "      <td>Asian Restaurant</td>\n",
       "      <td>Pizza Place</td>\n",
       "      <td>Japanese Restaurant</td>\n",
       "      <td>Park</td>\n",
       "      <td>Café</td>\n",
       "      <td>Sushi Restaurant</td>\n",
       "      <td>Convenience Store</td>\n",
       "    </tr>\n",
       "    <tr>\n",
       "      <th>6</th>\n",
       "      <td>Vancouver (Killarney)</td>\n",
       "      <td>49.2175</td>\n",
       "      <td>-123.0380</td>\n",
       "      <td>1</td>\n",
       "      <td>Coffee Shop</td>\n",
       "      <td>Park</td>\n",
       "      <td>Golf Course</td>\n",
       "      <td>Bus Stop</td>\n",
       "      <td>Convenience Store</td>\n",
       "      <td>Sandwich Place</td>\n",
       "      <td>Chinese Restaurant</td>\n",
       "      <td>Café</td>\n",
       "      <td>Burger Joint</td>\n",
       "      <td>Bubble Tea Shop</td>\n",
       "    </tr>\n",
       "    <tr>\n",
       "      <th>7</th>\n",
       "      <td>Vancouver (East Mount Pleasant)</td>\n",
       "      <td>49.2620</td>\n",
       "      <td>-123.0923</td>\n",
       "      <td>1</td>\n",
       "      <td>Brewery</td>\n",
       "      <td>Coffee Shop</td>\n",
       "      <td>Bakery</td>\n",
       "      <td>Vietnamese Restaurant</td>\n",
       "      <td>Sushi Restaurant</td>\n",
       "      <td>Indian Restaurant</td>\n",
       "      <td>Café</td>\n",
       "      <td>Vegetarian / Vegan Restaurant</td>\n",
       "      <td>Italian Restaurant</td>\n",
       "      <td>Yoga Studio</td>\n",
       "    </tr>\n",
       "    <tr>\n",
       "      <th>8</th>\n",
       "      <td>Vancouver (West Kensington / NE Riley Park-Lit...</td>\n",
       "      <td>49.2480</td>\n",
       "      <td>-123.0913</td>\n",
       "      <td>1</td>\n",
       "      <td>Vietnamese Restaurant</td>\n",
       "      <td>Coffee Shop</td>\n",
       "      <td>Park</td>\n",
       "      <td>Café</td>\n",
       "      <td>Vegetarian / Vegan Restaurant</td>\n",
       "      <td>Sushi Restaurant</td>\n",
       "      <td>Bakery</td>\n",
       "      <td>Ice Cream Shop</td>\n",
       "      <td>Seafood Restaurant</td>\n",
       "      <td>Indian Restaurant</td>\n",
       "    </tr>\n",
       "    <tr>\n",
       "      <th>9</th>\n",
       "      <td>Vancouver (SE Riley Park-Little Mountain / SW ...</td>\n",
       "      <td>49.2327</td>\n",
       "      <td>-123.0917</td>\n",
       "      <td>1</td>\n",
       "      <td>Chinese Restaurant</td>\n",
       "      <td>Coffee Shop</td>\n",
       "      <td>Vietnamese Restaurant</td>\n",
       "      <td>Café</td>\n",
       "      <td>Japanese Restaurant</td>\n",
       "      <td>Park</td>\n",
       "      <td>Pizza Place</td>\n",
       "      <td>Garden</td>\n",
       "      <td>Farmers Market</td>\n",
       "      <td>Tea Room</td>\n",
       "    </tr>\n",
       "    <tr>\n",
       "      <th>10</th>\n",
       "      <td>Vancouver (SE Oakridge / East Marpole / South ...</td>\n",
       "      <td>49.2156</td>\n",
       "      <td>-123.0979</td>\n",
       "      <td>1</td>\n",
       "      <td>Chinese Restaurant</td>\n",
       "      <td>Fast Food Restaurant</td>\n",
       "      <td>Sandwich Place</td>\n",
       "      <td>Coffee Shop</td>\n",
       "      <td>Indian Restaurant</td>\n",
       "      <td>Pharmacy</td>\n",
       "      <td>Bus Stop</td>\n",
       "      <td>Bank</td>\n",
       "      <td>Gas Station</td>\n",
       "      <td>Restaurant</td>\n",
       "    </tr>\n",
       "    <tr>\n",
       "      <th>11</th>\n",
       "      <td>Vancouver (West Mount Pleasant / West Riley Pa...</td>\n",
       "      <td>49.2492</td>\n",
       "      <td>-123.1104</td>\n",
       "      <td>1</td>\n",
       "      <td>Coffee Shop</td>\n",
       "      <td>Café</td>\n",
       "      <td>Vietnamese Restaurant</td>\n",
       "      <td>Bakery</td>\n",
       "      <td>Sushi Restaurant</td>\n",
       "      <td>Brewery</td>\n",
       "      <td>Tea Room</td>\n",
       "      <td>Japanese Restaurant</td>\n",
       "      <td>Indian Restaurant</td>\n",
       "      <td>Garden</td>\n",
       "    </tr>\n",
       "    <tr>\n",
       "      <th>12</th>\n",
       "      <td>Vancouver (East Fairview / South Cambie)</td>\n",
       "      <td>49.2475</td>\n",
       "      <td>-123.1210</td>\n",
       "      <td>1</td>\n",
       "      <td>Café</td>\n",
       "      <td>Vietnamese Restaurant</td>\n",
       "      <td>Coffee Shop</td>\n",
       "      <td>Sushi Restaurant</td>\n",
       "      <td>Garden</td>\n",
       "      <td>Furniture / Home Store</td>\n",
       "      <td>Japanese Restaurant</td>\n",
       "      <td>Bakery</td>\n",
       "      <td>Restaurant</td>\n",
       "      <td>Vegetarian / Vegan Restaurant</td>\n",
       "    </tr>\n",
       "    <tr>\n",
       "      <th>13</th>\n",
       "      <td>Vancouver (Strathcona / Chinatown / Downtown E...</td>\n",
       "      <td>49.2779</td>\n",
       "      <td>-123.0908</td>\n",
       "      <td>1</td>\n",
       "      <td>Brewery</td>\n",
       "      <td>Café</td>\n",
       "      <td>Coffee Shop</td>\n",
       "      <td>Ice Cream Shop</td>\n",
       "      <td>Breakfast Spot</td>\n",
       "      <td>Italian Restaurant</td>\n",
       "      <td>Bakery</td>\n",
       "      <td>Park</td>\n",
       "      <td>Restaurant</td>\n",
       "      <td>Sushi Restaurant</td>\n",
       "    </tr>\n",
       "    <tr>\n",
       "      <th>18</th>\n",
       "      <td>Vancouver (West Fairview / Granville Island / ...</td>\n",
       "      <td>49.2559</td>\n",
       "      <td>-123.1322</td>\n",
       "      <td>1</td>\n",
       "      <td>Park</td>\n",
       "      <td>Coffee Shop</td>\n",
       "      <td>Café</td>\n",
       "      <td>Bakery</td>\n",
       "      <td>Japanese Restaurant</td>\n",
       "      <td>Indian Restaurant</td>\n",
       "      <td>Seafood Restaurant</td>\n",
       "      <td>Grocery Store</td>\n",
       "      <td>Burger Joint</td>\n",
       "      <td>Italian Restaurant</td>\n",
       "    </tr>\n",
       "    <tr>\n",
       "      <th>19</th>\n",
       "      <td>Vancouver (NW Shaughnessy / East Kitsilano / Q...</td>\n",
       "      <td>49.2603</td>\n",
       "      <td>-123.1460</td>\n",
       "      <td>1</td>\n",
       "      <td>Coffee Shop</td>\n",
       "      <td>Bakery</td>\n",
       "      <td>Park</td>\n",
       "      <td>Café</td>\n",
       "      <td>Seafood Restaurant</td>\n",
       "      <td>Japanese Restaurant</td>\n",
       "      <td>Yoga Studio</td>\n",
       "      <td>Pizza Place</td>\n",
       "      <td>Dessert Shop</td>\n",
       "      <td>Restaurant</td>\n",
       "    </tr>\n",
       "    <tr>\n",
       "      <th>20</th>\n",
       "      <td>Vancouver (Central Kitsilano)</td>\n",
       "      <td>49.2646</td>\n",
       "      <td>-123.1648</td>\n",
       "      <td>1</td>\n",
       "      <td>Coffee Shop</td>\n",
       "      <td>Bakery</td>\n",
       "      <td>Café</td>\n",
       "      <td>Yoga Studio</td>\n",
       "      <td>Restaurant</td>\n",
       "      <td>Dessert Shop</td>\n",
       "      <td>Sushi Restaurant</td>\n",
       "      <td>Beach</td>\n",
       "      <td>French Restaurant</td>\n",
       "      <td>Park</td>\n",
       "    </tr>\n",
       "    <tr>\n",
       "      <th>21</th>\n",
       "      <td>Vancouver (NW Arbutus Ridge)</td>\n",
       "      <td>49.2497</td>\n",
       "      <td>-123.1660</td>\n",
       "      <td>1</td>\n",
       "      <td>Coffee Shop</td>\n",
       "      <td>Sushi Restaurant</td>\n",
       "      <td>Sandwich Place</td>\n",
       "      <td>Italian Restaurant</td>\n",
       "      <td>Bank</td>\n",
       "      <td>Dessert Shop</td>\n",
       "      <td>Tea Room</td>\n",
       "      <td>Park</td>\n",
       "      <td>Pharmacy</td>\n",
       "      <td>Diner</td>\n",
       "    </tr>\n",
       "    <tr>\n",
       "      <th>22</th>\n",
       "      <td>Vancouver (South Shaughnessy / NW Oakridge / N...</td>\n",
       "      <td>49.2344</td>\n",
       "      <td>-123.1451</td>\n",
       "      <td>1</td>\n",
       "      <td>Coffee Shop</td>\n",
       "      <td>Sandwich Place</td>\n",
       "      <td>Sushi Restaurant</td>\n",
       "      <td>Tea Room</td>\n",
       "      <td>Chinese Restaurant</td>\n",
       "      <td>Pharmacy</td>\n",
       "      <td>Garden</td>\n",
       "      <td>Jewelry Store</td>\n",
       "      <td>Café</td>\n",
       "      <td>Convenience Store</td>\n",
       "    </tr>\n",
       "    <tr>\n",
       "      <th>23</th>\n",
       "      <td>Vancouver (Dunbar-Southlands / Musqueam)</td>\n",
       "      <td>49.2302</td>\n",
       "      <td>-123.1890</td>\n",
       "      <td>1</td>\n",
       "      <td>Golf Course</td>\n",
       "      <td>Grocery Store</td>\n",
       "      <td>Gym</td>\n",
       "      <td>Bakery</td>\n",
       "      <td>Liquor Store</td>\n",
       "      <td>Coffee Shop</td>\n",
       "      <td>Park</td>\n",
       "      <td>Café</td>\n",
       "      <td>Sushi Restaurant</td>\n",
       "      <td>Garden Center</td>\n",
       "    </tr>\n",
       "    <tr>\n",
       "      <th>24</th>\n",
       "      <td>Vancouver (SE Kerrisdale / SW Oakridge / West ...</td>\n",
       "      <td>49.2151</td>\n",
       "      <td>-123.1396</td>\n",
       "      <td>1</td>\n",
       "      <td>Clothing Store</td>\n",
       "      <td>Coffee Shop</td>\n",
       "      <td>Bank</td>\n",
       "      <td>Sandwich Place</td>\n",
       "      <td>Sushi Restaurant</td>\n",
       "      <td>Shoe Store</td>\n",
       "      <td>Sporting Goods Shop</td>\n",
       "      <td>Café</td>\n",
       "      <td>Vietnamese Restaurant</td>\n",
       "      <td>Chinese Restaurant</td>\n",
       "    </tr>\n",
       "    <tr>\n",
       "      <th>25</th>\n",
       "      <td>Vancouver (West Kitsilano / Jericho)</td>\n",
       "      <td>49.2666</td>\n",
       "      <td>-123.1976</td>\n",
       "      <td>1</td>\n",
       "      <td>Coffee Shop</td>\n",
       "      <td>Sushi Restaurant</td>\n",
       "      <td>Bakery</td>\n",
       "      <td>Café</td>\n",
       "      <td>Japanese Restaurant</td>\n",
       "      <td>Park</td>\n",
       "      <td>Middle Eastern Restaurant</td>\n",
       "      <td>Bank</td>\n",
       "      <td>Beach</td>\n",
       "      <td>Vegetarian / Vegan Restaurant</td>\n",
       "    </tr>\n",
       "    <tr>\n",
       "      <th>26</th>\n",
       "      <td>Vancouver (Chaldecutt / South University Endow...</td>\n",
       "      <td>49.2491</td>\n",
       "      <td>-123.2088</td>\n",
       "      <td>1</td>\n",
       "      <td>Sushi Restaurant</td>\n",
       "      <td>Coffee Shop</td>\n",
       "      <td>Bank</td>\n",
       "      <td>Park</td>\n",
       "      <td>Bakery</td>\n",
       "      <td>Sandwich Place</td>\n",
       "      <td>Restaurant</td>\n",
       "      <td>Vietnamese Restaurant</td>\n",
       "      <td>Sculpture Garden</td>\n",
       "      <td>Cosmetics Shop</td>\n",
       "    </tr>\n",
       "    <tr>\n",
       "      <th>33</th>\n",
       "      <td>North Vancouver South Central</td>\n",
       "      <td>49.3160</td>\n",
       "      <td>-123.0576</td>\n",
       "      <td>1</td>\n",
       "      <td>Café</td>\n",
       "      <td>Coffee Shop</td>\n",
       "      <td>Sushi Restaurant</td>\n",
       "      <td>Indian Restaurant</td>\n",
       "      <td>Breakfast Spot</td>\n",
       "      <td>Gastropub</td>\n",
       "      <td>Ice Cream Shop</td>\n",
       "      <td>Gym / Fitness Center</td>\n",
       "      <td>Brewery</td>\n",
       "      <td>Sandwich Place</td>\n",
       "    </tr>\n",
       "    <tr>\n",
       "      <th>34</th>\n",
       "      <td>North Vancouver Southwest Central</td>\n",
       "      <td>49.3222</td>\n",
       "      <td>-123.0834</td>\n",
       "      <td>1</td>\n",
       "      <td>Sushi Restaurant</td>\n",
       "      <td>Coffee Shop</td>\n",
       "      <td>Park</td>\n",
       "      <td>Gastropub</td>\n",
       "      <td>Café</td>\n",
       "      <td>Restaurant</td>\n",
       "      <td>Grocery Store</td>\n",
       "      <td>Brewery</td>\n",
       "      <td>Breakfast Spot</td>\n",
       "      <td>Ice Cream Shop</td>\n",
       "    </tr>\n",
       "    <tr>\n",
       "      <th>36</th>\n",
       "      <td>North Vancouver Southwest</td>\n",
       "      <td>49.3220</td>\n",
       "      <td>-123.1149</td>\n",
       "      <td>1</td>\n",
       "      <td>Coffee Shop</td>\n",
       "      <td>Bank</td>\n",
       "      <td>Burger Joint</td>\n",
       "      <td>Fast Food Restaurant</td>\n",
       "      <td>Grocery Store</td>\n",
       "      <td>Department Store</td>\n",
       "      <td>Pharmacy</td>\n",
       "      <td>Sandwich Place</td>\n",
       "      <td>Restaurant</td>\n",
       "      <td>Liquor Store</td>\n",
       "    </tr>\n",
       "    <tr>\n",
       "      <th>39</th>\n",
       "      <td>West Vancouver Southeast</td>\n",
       "      <td>49.3322</td>\n",
       "      <td>-123.1417</td>\n",
       "      <td>1</td>\n",
       "      <td>Coffee Shop</td>\n",
       "      <td>Hotel</td>\n",
       "      <td>Clothing Store</td>\n",
       "      <td>Grocery Store</td>\n",
       "      <td>Bank</td>\n",
       "      <td>Italian Restaurant</td>\n",
       "      <td>Park</td>\n",
       "      <td>Restaurant</td>\n",
       "      <td>Department Store</td>\n",
       "      <td>Fast Food Restaurant</td>\n",
       "    </tr>\n",
       "    <tr>\n",
       "      <th>40</th>\n",
       "      <td>West Vancouver South</td>\n",
       "      <td>49.3397</td>\n",
       "      <td>-123.1912</td>\n",
       "      <td>1</td>\n",
       "      <td>Coffee Shop</td>\n",
       "      <td>Bakery</td>\n",
       "      <td>Gastropub</td>\n",
       "      <td>Park</td>\n",
       "      <td>Flower Shop</td>\n",
       "      <td>Building</td>\n",
       "      <td>Skating Rink</td>\n",
       "      <td>Grocery Store</td>\n",
       "      <td>Surf Spot</td>\n",
       "      <td>Sushi Restaurant</td>\n",
       "    </tr>\n",
       "    <tr>\n",
       "      <th>41</th>\n",
       "      <td>West Vancouver West</td>\n",
       "      <td>49.3615</td>\n",
       "      <td>-123.2627</td>\n",
       "      <td>1</td>\n",
       "      <td>Coffee Shop</td>\n",
       "      <td>Boat or Ferry</td>\n",
       "      <td>Harbor / Marina</td>\n",
       "      <td>Trail</td>\n",
       "      <td>Playground</td>\n",
       "      <td>Sandwich Place</td>\n",
       "      <td>Italian Restaurant</td>\n",
       "      <td>Sushi Restaurant</td>\n",
       "      <td>Café</td>\n",
       "      <td>Golf Course</td>\n",
       "    </tr>\n",
       "  </tbody>\n",
       "</table>\n",
       "</div>"
      ],
      "text/plain": [
       "                                       Neighbourhoods  Latitude  Longitude  \\\n",
       "0                  Vancouver (North Hastings-Sunrise)   49.2807  -123.0397   \n",
       "1               Vancouver (North Grandview-Woodlands)   49.2795  -123.0667   \n",
       "2   Vancouver (South Hastings-Sunrise / North Renf...   49.2600  -123.0398   \n",
       "3   Vancouver (South Grandview-Woodlands / NE Kens...   49.2551  -123.0667   \n",
       "4     Vancouver (SE Kensington / Victoria-Fraserview)   49.2220  -123.0683   \n",
       "5               Vancouver (South Renfrew-Collingwood)   49.2397  -123.0407   \n",
       "6                               Vancouver (Killarney)   49.2175  -123.0380   \n",
       "7                     Vancouver (East Mount Pleasant)   49.2620  -123.0923   \n",
       "8   Vancouver (West Kensington / NE Riley Park-Lit...   49.2480  -123.0913   \n",
       "9   Vancouver (SE Riley Park-Little Mountain / SW ...   49.2327  -123.0917   \n",
       "10  Vancouver (SE Oakridge / East Marpole / South ...   49.2156  -123.0979   \n",
       "11  Vancouver (West Mount Pleasant / West Riley Pa...   49.2492  -123.1104   \n",
       "12           Vancouver (East Fairview / South Cambie)   49.2475  -123.1210   \n",
       "13  Vancouver (Strathcona / Chinatown / Downtown E...   49.2779  -123.0908   \n",
       "18  Vancouver (West Fairview / Granville Island / ...   49.2559  -123.1322   \n",
       "19  Vancouver (NW Shaughnessy / East Kitsilano / Q...   49.2603  -123.1460   \n",
       "20                      Vancouver (Central Kitsilano)   49.2646  -123.1648   \n",
       "21                       Vancouver (NW Arbutus Ridge)   49.2497  -123.1660   \n",
       "22  Vancouver (South Shaughnessy / NW Oakridge / N...   49.2344  -123.1451   \n",
       "23           Vancouver (Dunbar-Southlands / Musqueam)   49.2302  -123.1890   \n",
       "24  Vancouver (SE Kerrisdale / SW Oakridge / West ...   49.2151  -123.1396   \n",
       "25               Vancouver (West Kitsilano / Jericho)   49.2666  -123.1976   \n",
       "26  Vancouver (Chaldecutt / South University Endow...   49.2491  -123.2088   \n",
       "33                      North Vancouver South Central   49.3160  -123.0576   \n",
       "34                  North Vancouver Southwest Central   49.3222  -123.0834   \n",
       "36                          North Vancouver Southwest   49.3220  -123.1149   \n",
       "39                           West Vancouver Southeast   49.3322  -123.1417   \n",
       "40                               West Vancouver South   49.3397  -123.1912   \n",
       "41                                West Vancouver West   49.3615  -123.2627   \n",
       "\n",
       "    Cluster Labels  1st Most Common Venue          2nd Most Common Venue  \\\n",
       "0                1  Vietnamese Restaurant                           Café   \n",
       "1                1            Coffee Shop                        Brewery   \n",
       "2                1            Coffee Shop                           Park   \n",
       "3                1  Vietnamese Restaurant  Vegetarian / Vegan Restaurant   \n",
       "4                1     Chinese Restaurant          Vietnamese Restaurant   \n",
       "5                1     Chinese Restaurant                    Coffee Shop   \n",
       "6                1            Coffee Shop                           Park   \n",
       "7                1                Brewery                    Coffee Shop   \n",
       "8                1  Vietnamese Restaurant                    Coffee Shop   \n",
       "9                1     Chinese Restaurant                    Coffee Shop   \n",
       "10               1     Chinese Restaurant           Fast Food Restaurant   \n",
       "11               1            Coffee Shop                           Café   \n",
       "12               1                   Café          Vietnamese Restaurant   \n",
       "13               1                Brewery                           Café   \n",
       "18               1                   Park                    Coffee Shop   \n",
       "19               1            Coffee Shop                         Bakery   \n",
       "20               1            Coffee Shop                         Bakery   \n",
       "21               1            Coffee Shop               Sushi Restaurant   \n",
       "22               1            Coffee Shop                 Sandwich Place   \n",
       "23               1            Golf Course                  Grocery Store   \n",
       "24               1         Clothing Store                    Coffee Shop   \n",
       "25               1            Coffee Shop               Sushi Restaurant   \n",
       "26               1       Sushi Restaurant                    Coffee Shop   \n",
       "33               1                   Café                    Coffee Shop   \n",
       "34               1       Sushi Restaurant                    Coffee Shop   \n",
       "36               1            Coffee Shop                           Bank   \n",
       "39               1            Coffee Shop                          Hotel   \n",
       "40               1            Coffee Shop                         Bakery   \n",
       "41               1            Coffee Shop                  Boat or Ferry   \n",
       "\n",
       "    3rd Most Common Venue  4th Most Common Venue  \\\n",
       "0             Coffee Shop                   Park   \n",
       "1                    Café            Pizza Place   \n",
       "2                Bus Stop            Pizza Place   \n",
       "3             Coffee Shop            Pizza Place   \n",
       "4     Japanese Restaurant            Coffee Shop   \n",
       "5   Vietnamese Restaurant       Asian Restaurant   \n",
       "6             Golf Course               Bus Stop   \n",
       "7                  Bakery  Vietnamese Restaurant   \n",
       "8                    Park                   Café   \n",
       "9   Vietnamese Restaurant                   Café   \n",
       "10         Sandwich Place            Coffee Shop   \n",
       "11  Vietnamese Restaurant                 Bakery   \n",
       "12            Coffee Shop       Sushi Restaurant   \n",
       "13            Coffee Shop         Ice Cream Shop   \n",
       "18                   Café                 Bakery   \n",
       "19                   Park                   Café   \n",
       "20                   Café            Yoga Studio   \n",
       "21         Sandwich Place     Italian Restaurant   \n",
       "22       Sushi Restaurant               Tea Room   \n",
       "23                    Gym                 Bakery   \n",
       "24                   Bank         Sandwich Place   \n",
       "25                 Bakery                   Café   \n",
       "26                   Bank                   Park   \n",
       "33       Sushi Restaurant      Indian Restaurant   \n",
       "34                   Park              Gastropub   \n",
       "36           Burger Joint   Fast Food Restaurant   \n",
       "39         Clothing Store          Grocery Store   \n",
       "40              Gastropub                   Park   \n",
       "41        Harbor / Marina                  Trail   \n",
       "\n",
       "            5th Most Common Venue   6th Most Common Venue  \\\n",
       "0                          Bakery       French Restaurant   \n",
       "1                Sushi Restaurant      Italian Restaurant   \n",
       "2                   Grocery Store       Convenience Store   \n",
       "3              Italian Restaurant                    Café   \n",
       "4                  Sandwich Place        Asian Restaurant   \n",
       "5                     Pizza Place     Japanese Restaurant   \n",
       "6               Convenience Store          Sandwich Place   \n",
       "7                Sushi Restaurant       Indian Restaurant   \n",
       "8   Vegetarian / Vegan Restaurant        Sushi Restaurant   \n",
       "9             Japanese Restaurant                    Park   \n",
       "10              Indian Restaurant                Pharmacy   \n",
       "11               Sushi Restaurant                 Brewery   \n",
       "12                         Garden  Furniture / Home Store   \n",
       "13                 Breakfast Spot      Italian Restaurant   \n",
       "18            Japanese Restaurant       Indian Restaurant   \n",
       "19             Seafood Restaurant     Japanese Restaurant   \n",
       "20                     Restaurant            Dessert Shop   \n",
       "21                           Bank            Dessert Shop   \n",
       "22             Chinese Restaurant                Pharmacy   \n",
       "23                   Liquor Store             Coffee Shop   \n",
       "24               Sushi Restaurant              Shoe Store   \n",
       "25            Japanese Restaurant                    Park   \n",
       "26                         Bakery          Sandwich Place   \n",
       "33                 Breakfast Spot               Gastropub   \n",
       "34                           Café              Restaurant   \n",
       "36                  Grocery Store        Department Store   \n",
       "39                           Bank      Italian Restaurant   \n",
       "40                    Flower Shop                Building   \n",
       "41                     Playground          Sandwich Place   \n",
       "\n",
       "        7th Most Common Venue          8th Most Common Venue  \\\n",
       "0          Chinese Restaurant                            Pub   \n",
       "1           Indian Restaurant                  Grocery Store   \n",
       "2                Burger Joint                    Bus Station   \n",
       "3          Mexican Restaurant              Indian Restaurant   \n",
       "4                 Gas Station                           Bank   \n",
       "5                        Park                           Café   \n",
       "6          Chinese Restaurant                           Café   \n",
       "7                        Café  Vegetarian / Vegan Restaurant   \n",
       "8                      Bakery                 Ice Cream Shop   \n",
       "9                 Pizza Place                         Garden   \n",
       "10                   Bus Stop                           Bank   \n",
       "11                   Tea Room            Japanese Restaurant   \n",
       "12        Japanese Restaurant                         Bakery   \n",
       "13                     Bakery                           Park   \n",
       "18         Seafood Restaurant                  Grocery Store   \n",
       "19                Yoga Studio                    Pizza Place   \n",
       "20           Sushi Restaurant                          Beach   \n",
       "21                   Tea Room                           Park   \n",
       "22                     Garden                  Jewelry Store   \n",
       "23                       Park                           Café   \n",
       "24        Sporting Goods Shop                           Café   \n",
       "25  Middle Eastern Restaurant                           Bank   \n",
       "26                 Restaurant          Vietnamese Restaurant   \n",
       "33             Ice Cream Shop           Gym / Fitness Center   \n",
       "34              Grocery Store                        Brewery   \n",
       "36                   Pharmacy                 Sandwich Place   \n",
       "39                       Park                     Restaurant   \n",
       "40               Skating Rink                  Grocery Store   \n",
       "41         Italian Restaurant               Sushi Restaurant   \n",
       "\n",
       "    9th Most Common Venue         10th Most Common Venue  \n",
       "0                 Brewery               Sushi Restaurant  \n",
       "1          Ice Cream Shop  Vegetarian / Vegan Restaurant  \n",
       "2               Pet Store                  Metro Station  \n",
       "3     Japanese Restaurant                         Bakery  \n",
       "4                  Bakery           Cantonese Restaurant  \n",
       "5        Sushi Restaurant              Convenience Store  \n",
       "6            Burger Joint                Bubble Tea Shop  \n",
       "7      Italian Restaurant                    Yoga Studio  \n",
       "8      Seafood Restaurant              Indian Restaurant  \n",
       "9          Farmers Market                       Tea Room  \n",
       "10            Gas Station                     Restaurant  \n",
       "11      Indian Restaurant                         Garden  \n",
       "12             Restaurant  Vegetarian / Vegan Restaurant  \n",
       "13             Restaurant               Sushi Restaurant  \n",
       "18           Burger Joint             Italian Restaurant  \n",
       "19           Dessert Shop                     Restaurant  \n",
       "20      French Restaurant                           Park  \n",
       "21               Pharmacy                          Diner  \n",
       "22                   Café              Convenience Store  \n",
       "23       Sushi Restaurant                  Garden Center  \n",
       "24  Vietnamese Restaurant             Chinese Restaurant  \n",
       "25                  Beach  Vegetarian / Vegan Restaurant  \n",
       "26       Sculpture Garden                 Cosmetics Shop  \n",
       "33                Brewery                 Sandwich Place  \n",
       "34         Breakfast Spot                 Ice Cream Shop  \n",
       "36             Restaurant                   Liquor Store  \n",
       "39       Department Store           Fast Food Restaurant  \n",
       "40              Surf Spot               Sushi Restaurant  \n",
       "41                   Café                    Golf Course  "
      ]
     },
     "execution_count": 37,
     "metadata": {},
     "output_type": "execute_result"
    }
   ],
   "source": [
    "\n",
    "van_merged.loc[van_merged['Cluster Labels'] == 1, van_merged.columns[[2] + list(range(4, van_merged.shape[1]))]]"
   ]
  },
  {
   "cell_type": "markdown",
   "metadata": {},
   "source": [
    "## Cluster 2"
   ]
  },
  {
   "cell_type": "code",
   "execution_count": 38,
   "metadata": {},
   "outputs": [
    {
     "data": {
      "text/html": [
       "<div>\n",
       "<style scoped>\n",
       "    .dataframe tbody tr th:only-of-type {\n",
       "        vertical-align: middle;\n",
       "    }\n",
       "\n",
       "    .dataframe tbody tr th {\n",
       "        vertical-align: top;\n",
       "    }\n",
       "\n",
       "    .dataframe thead th {\n",
       "        text-align: right;\n",
       "    }\n",
       "</style>\n",
       "<table border=\"1\" class=\"dataframe\">\n",
       "  <thead>\n",
       "    <tr style=\"text-align: right;\">\n",
       "      <th></th>\n",
       "      <th>Neighbourhoods</th>\n",
       "      <th>Latitude</th>\n",
       "      <th>Longitude</th>\n",
       "      <th>Cluster Labels</th>\n",
       "      <th>1st Most Common Venue</th>\n",
       "      <th>2nd Most Common Venue</th>\n",
       "      <th>3rd Most Common Venue</th>\n",
       "      <th>4th Most Common Venue</th>\n",
       "      <th>5th Most Common Venue</th>\n",
       "      <th>6th Most Common Venue</th>\n",
       "      <th>7th Most Common Venue</th>\n",
       "      <th>8th Most Common Venue</th>\n",
       "      <th>9th Most Common Venue</th>\n",
       "      <th>10th Most Common Venue</th>\n",
       "    </tr>\n",
       "  </thead>\n",
       "  <tbody>\n",
       "  </tbody>\n",
       "</table>\n",
       "</div>"
      ],
      "text/plain": [
       "Empty DataFrame\n",
       "Columns: [Neighbourhoods, Latitude, Longitude, Cluster Labels, 1st Most Common Venue, 2nd Most Common Venue, 3rd Most Common Venue, 4th Most Common Venue, 5th Most Common Venue, 6th Most Common Venue, 7th Most Common Venue, 8th Most Common Venue, 9th Most Common Venue, 10th Most Common Venue]\n",
       "Index: []"
      ]
     },
     "execution_count": 38,
     "metadata": {},
     "output_type": "execute_result"
    }
   ],
   "source": [
    "van_merged.loc[van_merged['Cluster Labels'] == 2, van_merged.columns[[2] + list(range(4, van_merged.shape[1]))]]"
   ]
  },
  {
   "cell_type": "markdown",
   "metadata": {},
   "source": [
    "## Cluster 3"
   ]
  },
  {
   "cell_type": "code",
   "execution_count": 39,
   "metadata": {},
   "outputs": [
    {
     "data": {
      "text/html": [
       "<div>\n",
       "<style scoped>\n",
       "    .dataframe tbody tr th:only-of-type {\n",
       "        vertical-align: middle;\n",
       "    }\n",
       "\n",
       "    .dataframe tbody tr th {\n",
       "        vertical-align: top;\n",
       "    }\n",
       "\n",
       "    .dataframe thead th {\n",
       "        text-align: right;\n",
       "    }\n",
       "</style>\n",
       "<table border=\"1\" class=\"dataframe\">\n",
       "  <thead>\n",
       "    <tr style=\"text-align: right;\">\n",
       "      <th></th>\n",
       "      <th>Neighbourhoods</th>\n",
       "      <th>Latitude</th>\n",
       "      <th>Longitude</th>\n",
       "      <th>Cluster Labels</th>\n",
       "      <th>1st Most Common Venue</th>\n",
       "      <th>2nd Most Common Venue</th>\n",
       "      <th>3rd Most Common Venue</th>\n",
       "      <th>4th Most Common Venue</th>\n",
       "      <th>5th Most Common Venue</th>\n",
       "      <th>6th Most Common Venue</th>\n",
       "      <th>7th Most Common Venue</th>\n",
       "      <th>8th Most Common Venue</th>\n",
       "      <th>9th Most Common Venue</th>\n",
       "      <th>10th Most Common Venue</th>\n",
       "    </tr>\n",
       "  </thead>\n",
       "  <tbody>\n",
       "    <tr>\n",
       "      <th>31</th>\n",
       "      <td>North Vancouver East Central</td>\n",
       "      <td>49.3622</td>\n",
       "      <td>-123.0178</td>\n",
       "      <td>3</td>\n",
       "      <td>Trail</td>\n",
       "      <td>Park</td>\n",
       "      <td>Lake</td>\n",
       "      <td>Mountain</td>\n",
       "      <td>Coffee Shop</td>\n",
       "      <td>Scenic Lookout</td>\n",
       "      <td>French Restaurant</td>\n",
       "      <td>Fried Chicken Joint</td>\n",
       "      <td>Food Truck</td>\n",
       "      <td>Filipino Restaurant</td>\n",
       "    </tr>\n",
       "    <tr>\n",
       "      <th>32</th>\n",
       "      <td>North Vancouver North Central</td>\n",
       "      <td>49.3597</td>\n",
       "      <td>-123.0377</td>\n",
       "      <td>3</td>\n",
       "      <td>Trail</td>\n",
       "      <td>Park</td>\n",
       "      <td>Scenic Lookout</td>\n",
       "      <td>Coffee Shop</td>\n",
       "      <td>Mountain</td>\n",
       "      <td>Lake</td>\n",
       "      <td>Convenience Store</td>\n",
       "      <td>Food Court</td>\n",
       "      <td>Fish &amp; Chips Shop</td>\n",
       "      <td>Flower Shop</td>\n",
       "    </tr>\n",
       "    <tr>\n",
       "      <th>35</th>\n",
       "      <td>North Vancouver Northwest Central</td>\n",
       "      <td>49.3500</td>\n",
       "      <td>-123.0679</td>\n",
       "      <td>3</td>\n",
       "      <td>Trail</td>\n",
       "      <td>Park</td>\n",
       "      <td>Coffee Shop</td>\n",
       "      <td>Convenience Store</td>\n",
       "      <td>Chinese Restaurant</td>\n",
       "      <td>Shopping Mall</td>\n",
       "      <td>Grocery Store</td>\n",
       "      <td>Bar</td>\n",
       "      <td>Gym / Fitness Center</td>\n",
       "      <td>Sandwich Place</td>\n",
       "    </tr>\n",
       "  </tbody>\n",
       "</table>\n",
       "</div>"
      ],
      "text/plain": [
       "                       Neighbourhoods  Latitude  Longitude  Cluster Labels  \\\n",
       "31       North Vancouver East Central   49.3622  -123.0178               3   \n",
       "32      North Vancouver North Central   49.3597  -123.0377               3   \n",
       "35  North Vancouver Northwest Central   49.3500  -123.0679               3   \n",
       "\n",
       "   1st Most Common Venue 2nd Most Common Venue 3rd Most Common Venue  \\\n",
       "31                 Trail                  Park                  Lake   \n",
       "32                 Trail                  Park        Scenic Lookout   \n",
       "35                 Trail                  Park           Coffee Shop   \n",
       "\n",
       "   4th Most Common Venue 5th Most Common Venue 6th Most Common Venue  \\\n",
       "31              Mountain           Coffee Shop        Scenic Lookout   \n",
       "32           Coffee Shop              Mountain                  Lake   \n",
       "35     Convenience Store    Chinese Restaurant         Shopping Mall   \n",
       "\n",
       "   7th Most Common Venue 8th Most Common Venue 9th Most Common Venue  \\\n",
       "31     French Restaurant   Fried Chicken Joint            Food Truck   \n",
       "32     Convenience Store            Food Court     Fish & Chips Shop   \n",
       "35         Grocery Store                   Bar  Gym / Fitness Center   \n",
       "\n",
       "   10th Most Common Venue  \n",
       "31    Filipino Restaurant  \n",
       "32            Flower Shop  \n",
       "35         Sandwich Place  "
      ]
     },
     "execution_count": 39,
     "metadata": {},
     "output_type": "execute_result"
    }
   ],
   "source": [
    "van_merged.loc[van_merged['Cluster Labels'] == 3, van_merged.columns[[2] + list(range(4, van_merged.shape[1]))]]"
   ]
  },
  {
   "cell_type": "markdown",
   "metadata": {},
   "source": [
    "## Cluster 4"
   ]
  },
  {
   "cell_type": "code",
   "execution_count": 40,
   "metadata": {},
   "outputs": [
    {
     "data": {
      "text/html": [
       "<div>\n",
       "<style scoped>\n",
       "    .dataframe tbody tr th:only-of-type {\n",
       "        vertical-align: middle;\n",
       "    }\n",
       "\n",
       "    .dataframe tbody tr th {\n",
       "        vertical-align: top;\n",
       "    }\n",
       "\n",
       "    .dataframe thead th {\n",
       "        text-align: right;\n",
       "    }\n",
       "</style>\n",
       "<table border=\"1\" class=\"dataframe\">\n",
       "  <thead>\n",
       "    <tr style=\"text-align: right;\">\n",
       "      <th></th>\n",
       "      <th>Neighbourhoods</th>\n",
       "      <th>Latitude</th>\n",
       "      <th>Longitude</th>\n",
       "      <th>Cluster Labels</th>\n",
       "      <th>1st Most Common Venue</th>\n",
       "      <th>2nd Most Common Venue</th>\n",
       "      <th>3rd Most Common Venue</th>\n",
       "      <th>4th Most Common Venue</th>\n",
       "      <th>5th Most Common Venue</th>\n",
       "      <th>6th Most Common Venue</th>\n",
       "      <th>7th Most Common Venue</th>\n",
       "      <th>8th Most Common Venue</th>\n",
       "      <th>9th Most Common Venue</th>\n",
       "      <th>10th Most Common Venue</th>\n",
       "    </tr>\n",
       "  </thead>\n",
       "  <tbody>\n",
       "    <tr>\n",
       "      <th>14</th>\n",
       "      <td>Vancouver (NE Downtown / Harbour Centre / Gast...</td>\n",
       "      <td>49.2788</td>\n",
       "      <td>-123.1139</td>\n",
       "      <td>4</td>\n",
       "      <td>Hotel</td>\n",
       "      <td>Restaurant</td>\n",
       "      <td>Bakery</td>\n",
       "      <td>Dessert Shop</td>\n",
       "      <td>Sandwich Place</td>\n",
       "      <td>Coffee Shop</td>\n",
       "      <td>Park</td>\n",
       "      <td>Japanese Restaurant</td>\n",
       "      <td>Breakfast Spot</td>\n",
       "      <td>Taco Place</td>\n",
       "    </tr>\n",
       "    <tr>\n",
       "      <th>15</th>\n",
       "      <td>Vancouver (Waterfront / Coal Harbour / Canada ...</td>\n",
       "      <td>49.2866</td>\n",
       "      <td>-123.1158</td>\n",
       "      <td>4</td>\n",
       "      <td>Hotel</td>\n",
       "      <td>Restaurant</td>\n",
       "      <td>Dessert Shop</td>\n",
       "      <td>Café</td>\n",
       "      <td>Sandwich Place</td>\n",
       "      <td>Breakfast Spot</td>\n",
       "      <td>Coffee Shop</td>\n",
       "      <td>Plaza</td>\n",
       "      <td>Concert Hall</td>\n",
       "      <td>Gym</td>\n",
       "    </tr>\n",
       "    <tr>\n",
       "      <th>16</th>\n",
       "      <td>Vancouver (South West End)</td>\n",
       "      <td>49.2833</td>\n",
       "      <td>-123.1298</td>\n",
       "      <td>4</td>\n",
       "      <td>Hotel</td>\n",
       "      <td>Dessert Shop</td>\n",
       "      <td>Bakery</td>\n",
       "      <td>Restaurant</td>\n",
       "      <td>Japanese Restaurant</td>\n",
       "      <td>Park</td>\n",
       "      <td>Seafood Restaurant</td>\n",
       "      <td>Sandwich Place</td>\n",
       "      <td>Ramen Restaurant</td>\n",
       "      <td>Coffee Shop</td>\n",
       "    </tr>\n",
       "    <tr>\n",
       "      <th>17</th>\n",
       "      <td>Vancouver (North West End / Stanley Park)</td>\n",
       "      <td>49.2990</td>\n",
       "      <td>-123.1408</td>\n",
       "      <td>4</td>\n",
       "      <td>Coffee Shop</td>\n",
       "      <td>Scenic Lookout</td>\n",
       "      <td>Seafood Restaurant</td>\n",
       "      <td>Park</td>\n",
       "      <td>Sculpture Garden</td>\n",
       "      <td>Restaurant</td>\n",
       "      <td>Ramen Restaurant</td>\n",
       "      <td>Trail</td>\n",
       "      <td>Beach</td>\n",
       "      <td>Hotel</td>\n",
       "    </tr>\n",
       "    <tr>\n",
       "      <th>28</th>\n",
       "      <td>Vancouver (SW Downtown)</td>\n",
       "      <td>49.2767</td>\n",
       "      <td>-123.1300</td>\n",
       "      <td>4</td>\n",
       "      <td>Hotel</td>\n",
       "      <td>Seafood Restaurant</td>\n",
       "      <td>Bakery</td>\n",
       "      <td>Restaurant</td>\n",
       "      <td>Park</td>\n",
       "      <td>Dessert Shop</td>\n",
       "      <td>Italian Restaurant</td>\n",
       "      <td>Trail</td>\n",
       "      <td>Coffee Shop</td>\n",
       "      <td>French Restaurant</td>\n",
       "    </tr>\n",
       "    <tr>\n",
       "      <th>42</th>\n",
       "      <td>Vancouver (Bentall Centre)</td>\n",
       "      <td>49.2935</td>\n",
       "      <td>-123.1162</td>\n",
       "      <td>4</td>\n",
       "      <td>Hotel</td>\n",
       "      <td>Coffee Shop</td>\n",
       "      <td>Dessert Shop</td>\n",
       "      <td>Sandwich Place</td>\n",
       "      <td>Restaurant</td>\n",
       "      <td>Café</td>\n",
       "      <td>Plaza</td>\n",
       "      <td>Park</td>\n",
       "      <td>Ramen Restaurant</td>\n",
       "      <td>Bookstore</td>\n",
       "    </tr>\n",
       "    <tr>\n",
       "      <th>43</th>\n",
       "      <td>Vancouver (Pacific Centre)</td>\n",
       "      <td>49.2819</td>\n",
       "      <td>-123.1190</td>\n",
       "      <td>4</td>\n",
       "      <td>Hotel</td>\n",
       "      <td>Restaurant</td>\n",
       "      <td>Dessert Shop</td>\n",
       "      <td>Sandwich Place</td>\n",
       "      <td>Bakery</td>\n",
       "      <td>Coffee Shop</td>\n",
       "      <td>Italian Restaurant</td>\n",
       "      <td>Japanese Restaurant</td>\n",
       "      <td>Café</td>\n",
       "      <td>Ice Cream Shop</td>\n",
       "    </tr>\n",
       "  </tbody>\n",
       "</table>\n",
       "</div>"
      ],
      "text/plain": [
       "                                       Neighbourhoods  Latitude  Longitude  \\\n",
       "14  Vancouver (NE Downtown / Harbour Centre / Gast...   49.2788  -123.1139   \n",
       "15  Vancouver (Waterfront / Coal Harbour / Canada ...   49.2866  -123.1158   \n",
       "16                         Vancouver (South West End)   49.2833  -123.1298   \n",
       "17          Vancouver (North West End / Stanley Park)   49.2990  -123.1408   \n",
       "28                            Vancouver (SW Downtown)   49.2767  -123.1300   \n",
       "42                         Vancouver (Bentall Centre)   49.2935  -123.1162   \n",
       "43                         Vancouver (Pacific Centre)   49.2819  -123.1190   \n",
       "\n",
       "    Cluster Labels 1st Most Common Venue 2nd Most Common Venue  \\\n",
       "14               4                 Hotel            Restaurant   \n",
       "15               4                 Hotel            Restaurant   \n",
       "16               4                 Hotel          Dessert Shop   \n",
       "17               4           Coffee Shop        Scenic Lookout   \n",
       "28               4                 Hotel    Seafood Restaurant   \n",
       "42               4                 Hotel           Coffee Shop   \n",
       "43               4                 Hotel            Restaurant   \n",
       "\n",
       "   3rd Most Common Venue 4th Most Common Venue 5th Most Common Venue  \\\n",
       "14                Bakery          Dessert Shop        Sandwich Place   \n",
       "15          Dessert Shop                  Café        Sandwich Place   \n",
       "16                Bakery            Restaurant   Japanese Restaurant   \n",
       "17    Seafood Restaurant                  Park      Sculpture Garden   \n",
       "28                Bakery            Restaurant                  Park   \n",
       "42          Dessert Shop        Sandwich Place            Restaurant   \n",
       "43          Dessert Shop        Sandwich Place                Bakery   \n",
       "\n",
       "   6th Most Common Venue 7th Most Common Venue 8th Most Common Venue  \\\n",
       "14           Coffee Shop                  Park   Japanese Restaurant   \n",
       "15        Breakfast Spot           Coffee Shop                 Plaza   \n",
       "16                  Park    Seafood Restaurant        Sandwich Place   \n",
       "17            Restaurant      Ramen Restaurant                 Trail   \n",
       "28          Dessert Shop    Italian Restaurant                 Trail   \n",
       "42                  Café                 Plaza                  Park   \n",
       "43           Coffee Shop    Italian Restaurant   Japanese Restaurant   \n",
       "\n",
       "   9th Most Common Venue 10th Most Common Venue  \n",
       "14        Breakfast Spot             Taco Place  \n",
       "15          Concert Hall                    Gym  \n",
       "16      Ramen Restaurant            Coffee Shop  \n",
       "17                 Beach                  Hotel  \n",
       "28           Coffee Shop      French Restaurant  \n",
       "42      Ramen Restaurant              Bookstore  \n",
       "43                  Café         Ice Cream Shop  "
      ]
     },
     "execution_count": 40,
     "metadata": {},
     "output_type": "execute_result"
    }
   ],
   "source": [
    "van_merged.loc[van_merged['Cluster Labels'] == 4, van_merged.columns[[2] + list(range(4, van_merged.shape[1]))]]"
   ]
  },
  {
   "cell_type": "code",
   "execution_count": 41,
   "metadata": {},
   "outputs": [
    {
     "data": {
      "text/html": [
       "<div>\n",
       "<style scoped>\n",
       "    .dataframe tbody tr th:only-of-type {\n",
       "        vertical-align: middle;\n",
       "    }\n",
       "\n",
       "    .dataframe tbody tr th {\n",
       "        vertical-align: top;\n",
       "    }\n",
       "\n",
       "    .dataframe thead th {\n",
       "        text-align: right;\n",
       "    }\n",
       "</style>\n",
       "<table border=\"1\" class=\"dataframe\">\n",
       "  <thead>\n",
       "    <tr style=\"text-align: right;\">\n",
       "      <th></th>\n",
       "      <th>Neighbourhoods</th>\n",
       "      <th>Latitude</th>\n",
       "      <th>Longitude</th>\n",
       "      <th>Cluster Labels</th>\n",
       "      <th>1st Most Common Venue</th>\n",
       "      <th>2nd Most Common Venue</th>\n",
       "      <th>3rd Most Common Venue</th>\n",
       "      <th>4th Most Common Venue</th>\n",
       "      <th>5th Most Common Venue</th>\n",
       "      <th>6th Most Common Venue</th>\n",
       "      <th>7th Most Common Venue</th>\n",
       "      <th>8th Most Common Venue</th>\n",
       "      <th>9th Most Common Venue</th>\n",
       "      <th>10th Most Common Venue</th>\n",
       "    </tr>\n",
       "  </thead>\n",
       "  <tbody>\n",
       "    <tr>\n",
       "      <th>29</th>\n",
       "      <td>North Vancouver Outer East</td>\n",
       "      <td>49.3678</td>\n",
       "      <td>-122.9278</td>\n",
       "      <td>5</td>\n",
       "      <td>Trail</td>\n",
       "      <td>Ski Chairlift</td>\n",
       "      <td>Ski Lodge</td>\n",
       "      <td>Outdoors &amp; Recreation</td>\n",
       "      <td>Restaurant</td>\n",
       "      <td>Cafeteria</td>\n",
       "      <td>Ski Area</td>\n",
       "      <td>Scenic Lookout</td>\n",
       "      <td>Filipino Restaurant</td>\n",
       "      <td>Financial or Legal Service</td>\n",
       "    </tr>\n",
       "    <tr>\n",
       "      <th>37</th>\n",
       "      <td>North Vancouver Northwest</td>\n",
       "      <td>49.3775</td>\n",
       "      <td>-123.0862</td>\n",
       "      <td>5</td>\n",
       "      <td>Trail</td>\n",
       "      <td>Scenic Lookout</td>\n",
       "      <td>Ski Chairlift</td>\n",
       "      <td>Coffee Shop</td>\n",
       "      <td>Mountain</td>\n",
       "      <td>Ski Chalet</td>\n",
       "      <td>Restaurant</td>\n",
       "      <td>Fast Food Restaurant</td>\n",
       "      <td>Dessert Shop</td>\n",
       "      <td>Sporting Goods Shop</td>\n",
       "    </tr>\n",
       "  </tbody>\n",
       "</table>\n",
       "</div>"
      ],
      "text/plain": [
       "                Neighbourhoods  Latitude  Longitude  Cluster Labels  \\\n",
       "29  North Vancouver Outer East   49.3678  -122.9278               5   \n",
       "37   North Vancouver Northwest   49.3775  -123.0862               5   \n",
       "\n",
       "   1st Most Common Venue 2nd Most Common Venue 3rd Most Common Venue  \\\n",
       "29                 Trail         Ski Chairlift             Ski Lodge   \n",
       "37                 Trail        Scenic Lookout         Ski Chairlift   \n",
       "\n",
       "    4th Most Common Venue 5th Most Common Venue 6th Most Common Venue  \\\n",
       "29  Outdoors & Recreation            Restaurant             Cafeteria   \n",
       "37            Coffee Shop              Mountain            Ski Chalet   \n",
       "\n",
       "   7th Most Common Venue 8th Most Common Venue 9th Most Common Venue  \\\n",
       "29              Ski Area        Scenic Lookout   Filipino Restaurant   \n",
       "37            Restaurant  Fast Food Restaurant          Dessert Shop   \n",
       "\n",
       "        10th Most Common Venue  \n",
       "29  Financial or Legal Service  \n",
       "37         Sporting Goods Shop  "
      ]
     },
     "execution_count": 41,
     "metadata": {},
     "output_type": "execute_result"
    }
   ],
   "source": [
    "van_merged.loc[van_merged['Cluster Labels'] == 5, van_merged.columns[[2] + list(range(4, van_merged.shape[1]))]]"
   ]
  },
  {
   "cell_type": "code",
   "execution_count": null,
   "metadata": {},
   "outputs": [],
   "source": []
  }
 ],
 "metadata": {
  "kernelspec": {
   "display_name": "Python 3",
   "language": "python",
   "name": "python3"
  },
  "language_info": {
   "codemirror_mode": {
    "name": "ipython",
    "version": 3
   },
   "file_extension": ".py",
   "mimetype": "text/x-python",
   "name": "python",
   "nbconvert_exporter": "python",
   "pygments_lexer": "ipython3",
   "version": "3.7.3"
  }
 },
 "nbformat": 4,
 "nbformat_minor": 2
}
